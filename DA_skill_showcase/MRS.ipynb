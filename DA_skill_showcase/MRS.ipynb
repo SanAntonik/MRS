{
 "cells": [
  {
   "attachments": {},
   "cell_type": "markdown",
   "metadata": {},
   "source": [
    "# MRS"
   ]
  },
  {
   "cell_type": "markdown",
   "metadata": {},
   "source": [
    "Here I'll work on content-based movie recommender based on the previous notebook"
   ]
  },
  {
   "cell_type": "markdown",
   "metadata": {},
   "source": [
    "data source: https://www.kaggle.com/datasets/rounakbanik/the-movies-dataset"
   ]
  },
  {
   "cell_type": "code",
   "execution_count": 1,
   "metadata": {},
   "outputs": [],
   "source": [
    "import pandas as pd\n",
    "from ast import literal_eval"
   ]
  },
  {
   "cell_type": "code",
   "execution_count": 2,
   "metadata": {},
   "outputs": [
    {
     "name": "stderr",
     "output_type": "stream",
     "text": [
      "C:\\Windows\\Temp\\ipykernel_17976\\3199233999.py:1: DtypeWarning: Columns (10) have mixed types. Specify dtype option on import or set low_memory=False.\n",
      "  df = pd.read_csv('data/movies_metadata.csv')\n"
     ]
    },
    {
     "data": {
      "text/html": [
       "<div>\n",
       "<style scoped>\n",
       "    .dataframe tbody tr th:only-of-type {\n",
       "        vertical-align: middle;\n",
       "    }\n",
       "\n",
       "    .dataframe tbody tr th {\n",
       "        vertical-align: top;\n",
       "    }\n",
       "\n",
       "    .dataframe thead th {\n",
       "        text-align: right;\n",
       "    }\n",
       "</style>\n",
       "<table border=\"1\" class=\"dataframe\">\n",
       "  <thead>\n",
       "    <tr style=\"text-align: right;\">\n",
       "      <th></th>\n",
       "      <th>0</th>\n",
       "      <th>1</th>\n",
       "      <th>2</th>\n",
       "    </tr>\n",
       "  </thead>\n",
       "  <tbody>\n",
       "    <tr>\n",
       "      <th>adult</th>\n",
       "      <td>False</td>\n",
       "      <td>False</td>\n",
       "      <td>False</td>\n",
       "    </tr>\n",
       "    <tr>\n",
       "      <th>belongs_to_collection</th>\n",
       "      <td>{'id': 10194, 'name': 'Toy Story Collection', ...</td>\n",
       "      <td>NaN</td>\n",
       "      <td>{'id': 119050, 'name': 'Grumpy Old Men Collect...</td>\n",
       "    </tr>\n",
       "    <tr>\n",
       "      <th>budget</th>\n",
       "      <td>30000000</td>\n",
       "      <td>65000000</td>\n",
       "      <td>0</td>\n",
       "    </tr>\n",
       "    <tr>\n",
       "      <th>genres</th>\n",
       "      <td>[{'id': 16, 'name': 'Animation'}, {'id': 35, '...</td>\n",
       "      <td>[{'id': 12, 'name': 'Adventure'}, {'id': 14, '...</td>\n",
       "      <td>[{'id': 10749, 'name': 'Romance'}, {'id': 35, ...</td>\n",
       "    </tr>\n",
       "    <tr>\n",
       "      <th>homepage</th>\n",
       "      <td>http://toystory.disney.com/toy-story</td>\n",
       "      <td>NaN</td>\n",
       "      <td>NaN</td>\n",
       "    </tr>\n",
       "    <tr>\n",
       "      <th>id</th>\n",
       "      <td>862</td>\n",
       "      <td>8844</td>\n",
       "      <td>15602</td>\n",
       "    </tr>\n",
       "    <tr>\n",
       "      <th>imdb_id</th>\n",
       "      <td>tt0114709</td>\n",
       "      <td>tt0113497</td>\n",
       "      <td>tt0113228</td>\n",
       "    </tr>\n",
       "    <tr>\n",
       "      <th>original_language</th>\n",
       "      <td>en</td>\n",
       "      <td>en</td>\n",
       "      <td>en</td>\n",
       "    </tr>\n",
       "    <tr>\n",
       "      <th>original_title</th>\n",
       "      <td>Toy Story</td>\n",
       "      <td>Jumanji</td>\n",
       "      <td>Grumpier Old Men</td>\n",
       "    </tr>\n",
       "    <tr>\n",
       "      <th>overview</th>\n",
       "      <td>Led by Woody, Andy's toys live happily in his ...</td>\n",
       "      <td>When siblings Judy and Peter discover an encha...</td>\n",
       "      <td>A family wedding reignites the ancient feud be...</td>\n",
       "    </tr>\n",
       "    <tr>\n",
       "      <th>popularity</th>\n",
       "      <td>21.946943</td>\n",
       "      <td>17.015539</td>\n",
       "      <td>11.7129</td>\n",
       "    </tr>\n",
       "    <tr>\n",
       "      <th>poster_path</th>\n",
       "      <td>/rhIRbceoE9lR4veEXuwCC2wARtG.jpg</td>\n",
       "      <td>/vzmL6fP7aPKNKPRTFnZmiUfciyV.jpg</td>\n",
       "      <td>/6ksm1sjKMFLbO7UY2i6G1ju9SML.jpg</td>\n",
       "    </tr>\n",
       "    <tr>\n",
       "      <th>production_companies</th>\n",
       "      <td>[{'name': 'Pixar Animation Studios', 'id': 3}]</td>\n",
       "      <td>[{'name': 'TriStar Pictures', 'id': 559}, {'na...</td>\n",
       "      <td>[{'name': 'Warner Bros.', 'id': 6194}, {'name'...</td>\n",
       "    </tr>\n",
       "    <tr>\n",
       "      <th>production_countries</th>\n",
       "      <td>[{'iso_3166_1': 'US', 'name': 'United States o...</td>\n",
       "      <td>[{'iso_3166_1': 'US', 'name': 'United States o...</td>\n",
       "      <td>[{'iso_3166_1': 'US', 'name': 'United States o...</td>\n",
       "    </tr>\n",
       "    <tr>\n",
       "      <th>release_date</th>\n",
       "      <td>1995-10-30</td>\n",
       "      <td>1995-12-15</td>\n",
       "      <td>1995-12-22</td>\n",
       "    </tr>\n",
       "    <tr>\n",
       "      <th>revenue</th>\n",
       "      <td>373554033.0</td>\n",
       "      <td>262797249.0</td>\n",
       "      <td>0.0</td>\n",
       "    </tr>\n",
       "    <tr>\n",
       "      <th>runtime</th>\n",
       "      <td>81.0</td>\n",
       "      <td>104.0</td>\n",
       "      <td>101.0</td>\n",
       "    </tr>\n",
       "    <tr>\n",
       "      <th>spoken_languages</th>\n",
       "      <td>[{'iso_639_1': 'en', 'name': 'English'}]</td>\n",
       "      <td>[{'iso_639_1': 'en', 'name': 'English'}, {'iso...</td>\n",
       "      <td>[{'iso_639_1': 'en', 'name': 'English'}]</td>\n",
       "    </tr>\n",
       "    <tr>\n",
       "      <th>status</th>\n",
       "      <td>Released</td>\n",
       "      <td>Released</td>\n",
       "      <td>Released</td>\n",
       "    </tr>\n",
       "    <tr>\n",
       "      <th>tagline</th>\n",
       "      <td>NaN</td>\n",
       "      <td>Roll the dice and unleash the excitement!</td>\n",
       "      <td>Still Yelling. Still Fighting. Still Ready for...</td>\n",
       "    </tr>\n",
       "    <tr>\n",
       "      <th>title</th>\n",
       "      <td>Toy Story</td>\n",
       "      <td>Jumanji</td>\n",
       "      <td>Grumpier Old Men</td>\n",
       "    </tr>\n",
       "    <tr>\n",
       "      <th>video</th>\n",
       "      <td>False</td>\n",
       "      <td>False</td>\n",
       "      <td>False</td>\n",
       "    </tr>\n",
       "    <tr>\n",
       "      <th>vote_average</th>\n",
       "      <td>7.7</td>\n",
       "      <td>6.9</td>\n",
       "      <td>6.5</td>\n",
       "    </tr>\n",
       "    <tr>\n",
       "      <th>vote_count</th>\n",
       "      <td>5415.0</td>\n",
       "      <td>2413.0</td>\n",
       "      <td>92.0</td>\n",
       "    </tr>\n",
       "  </tbody>\n",
       "</table>\n",
       "</div>"
      ],
      "text/plain": [
       "                                                                       0  \\\n",
       "adult                                                              False   \n",
       "belongs_to_collection  {'id': 10194, 'name': 'Toy Story Collection', ...   \n",
       "budget                                                          30000000   \n",
       "genres                 [{'id': 16, 'name': 'Animation'}, {'id': 35, '...   \n",
       "homepage                            http://toystory.disney.com/toy-story   \n",
       "id                                                                   862   \n",
       "imdb_id                                                        tt0114709   \n",
       "original_language                                                     en   \n",
       "original_title                                                 Toy Story   \n",
       "overview               Led by Woody, Andy's toys live happily in his ...   \n",
       "popularity                                                     21.946943   \n",
       "poster_path                             /rhIRbceoE9lR4veEXuwCC2wARtG.jpg   \n",
       "production_companies      [{'name': 'Pixar Animation Studios', 'id': 3}]   \n",
       "production_countries   [{'iso_3166_1': 'US', 'name': 'United States o...   \n",
       "release_date                                                  1995-10-30   \n",
       "revenue                                                      373554033.0   \n",
       "runtime                                                             81.0   \n",
       "spoken_languages                [{'iso_639_1': 'en', 'name': 'English'}]   \n",
       "status                                                          Released   \n",
       "tagline                                                              NaN   \n",
       "title                                                          Toy Story   \n",
       "video                                                              False   \n",
       "vote_average                                                         7.7   \n",
       "vote_count                                                        5415.0   \n",
       "\n",
       "                                                                       1  \\\n",
       "adult                                                              False   \n",
       "belongs_to_collection                                                NaN   \n",
       "budget                                                          65000000   \n",
       "genres                 [{'id': 12, 'name': 'Adventure'}, {'id': 14, '...   \n",
       "homepage                                                             NaN   \n",
       "id                                                                  8844   \n",
       "imdb_id                                                        tt0113497   \n",
       "original_language                                                     en   \n",
       "original_title                                                   Jumanji   \n",
       "overview               When siblings Judy and Peter discover an encha...   \n",
       "popularity                                                     17.015539   \n",
       "poster_path                             /vzmL6fP7aPKNKPRTFnZmiUfciyV.jpg   \n",
       "production_companies   [{'name': 'TriStar Pictures', 'id': 559}, {'na...   \n",
       "production_countries   [{'iso_3166_1': 'US', 'name': 'United States o...   \n",
       "release_date                                                  1995-12-15   \n",
       "revenue                                                      262797249.0   \n",
       "runtime                                                            104.0   \n",
       "spoken_languages       [{'iso_639_1': 'en', 'name': 'English'}, {'iso...   \n",
       "status                                                          Released   \n",
       "tagline                        Roll the dice and unleash the excitement!   \n",
       "title                                                            Jumanji   \n",
       "video                                                              False   \n",
       "vote_average                                                         6.9   \n",
       "vote_count                                                        2413.0   \n",
       "\n",
       "                                                                       2  \n",
       "adult                                                              False  \n",
       "belongs_to_collection  {'id': 119050, 'name': 'Grumpy Old Men Collect...  \n",
       "budget                                                                 0  \n",
       "genres                 [{'id': 10749, 'name': 'Romance'}, {'id': 35, ...  \n",
       "homepage                                                             NaN  \n",
       "id                                                                 15602  \n",
       "imdb_id                                                        tt0113228  \n",
       "original_language                                                     en  \n",
       "original_title                                          Grumpier Old Men  \n",
       "overview               A family wedding reignites the ancient feud be...  \n",
       "popularity                                                       11.7129  \n",
       "poster_path                             /6ksm1sjKMFLbO7UY2i6G1ju9SML.jpg  \n",
       "production_companies   [{'name': 'Warner Bros.', 'id': 6194}, {'name'...  \n",
       "production_countries   [{'iso_3166_1': 'US', 'name': 'United States o...  \n",
       "release_date                                                  1995-12-22  \n",
       "revenue                                                              0.0  \n",
       "runtime                                                            101.0  \n",
       "spoken_languages                [{'iso_639_1': 'en', 'name': 'English'}]  \n",
       "status                                                          Released  \n",
       "tagline                Still Yelling. Still Fighting. Still Ready for...  \n",
       "title                                                   Grumpier Old Men  \n",
       "video                                                              False  \n",
       "vote_average                                                         6.5  \n",
       "vote_count                                                          92.0  "
      ]
     },
     "execution_count": 2,
     "metadata": {},
     "output_type": "execute_result"
    }
   ],
   "source": [
    "df = pd.read_csv('data/movies_metadata.csv')\n",
    "# Transpose for easier exploration of this dataset with many cols\n",
    "df.head(3).transpose()"
   ]
  },
  {
   "cell_type": "code",
   "execution_count": 3,
   "metadata": {},
   "outputs": [
    {
     "name": "stdout",
     "output_type": "stream",
     "text": [
      "<class 'pandas.core.frame.DataFrame'>\n",
      "RangeIndex: 45466 entries, 0 to 45465\n",
      "Data columns (total 24 columns):\n",
      " #   Column                 Non-Null Count  Dtype  \n",
      "---  ------                 --------------  -----  \n",
      " 0   adult                  45466 non-null  object \n",
      " 1   belongs_to_collection  4494 non-null   object \n",
      " 2   budget                 45466 non-null  object \n",
      " 3   genres                 45466 non-null  object \n",
      " 4   homepage               7782 non-null   object \n",
      " 5   id                     45466 non-null  object \n",
      " 6   imdb_id                45449 non-null  object \n",
      " 7   original_language      45455 non-null  object \n",
      " 8   original_title         45466 non-null  object \n",
      " 9   overview               44512 non-null  object \n",
      " 10  popularity             45461 non-null  object \n",
      " 11  poster_path            45080 non-null  object \n",
      " 12  production_companies   45463 non-null  object \n",
      " 13  production_countries   45463 non-null  object \n",
      " 14  release_date           45379 non-null  object \n",
      " 15  revenue                45460 non-null  float64\n",
      " 16  runtime                45203 non-null  float64\n",
      " 17  spoken_languages       45460 non-null  object \n",
      " 18  status                 45379 non-null  object \n",
      " 19  tagline                20412 non-null  object \n",
      " 20  title                  45460 non-null  object \n",
      " 21  video                  45460 non-null  object \n",
      " 22  vote_average           45460 non-null  float64\n",
      " 23  vote_count             45460 non-null  float64\n",
      "dtypes: float64(4), object(20)\n",
      "memory usage: 8.3+ MB\n"
     ]
    }
   ],
   "source": [
    "df.info()"
   ]
  },
  {
   "cell_type": "code",
   "execution_count": 4,
   "metadata": {},
   "outputs": [
    {
     "data": {
      "text/plain": [
       "adult\n",
       "False                                                                                                                             45454\n",
       "True                                                                                                                                  9\n",
       " - Written by Ørnås                                                                                                                   1\n",
       " Rune Balot goes to a casino connected to the October corporation to try to wrap up her case once and for all.                        1\n",
       " Avalanche Sharks tells the story of a bikini contest that turns into a horrifying affair when it is hit by a shark avalanche.        1\n",
       "Name: count, dtype: int64"
      ]
     },
     "execution_count": 4,
     "metadata": {},
     "output_type": "execute_result"
    }
   ],
   "source": [
    "df[\"adult\"].value_counts()"
   ]
  },
  {
   "cell_type": "code",
   "execution_count": 5,
   "metadata": {},
   "outputs": [
    {
     "data": {
      "text/plain": [
       "video\n",
       "False    45367\n",
       "True        93\n",
       "Name: count, dtype: int64"
      ]
     },
     "execution_count": 5,
     "metadata": {},
     "output_type": "execute_result"
    }
   ],
   "source": [
    "df[\"video\"].value_counts()"
   ]
  },
  {
   "cell_type": "code",
   "execution_count": 6,
   "metadata": {},
   "outputs": [
    {
     "data": {
      "text/plain": [
       "status\n",
       "Released           45014\n",
       "Rumored              230\n",
       "Post Production       98\n",
       "In Production         20\n",
       "Planned               15\n",
       "Canceled               2\n",
       "Name: count, dtype: int64"
      ]
     },
     "execution_count": 6,
     "metadata": {},
     "output_type": "execute_result"
    }
   ],
   "source": [
    "df[\"status\"].value_counts()"
   ]
  },
  {
   "cell_type": "markdown",
   "metadata": {},
   "source": [
    "The columns 'adult', 'status' and 'video' have predominantly one value, so let's remove them. Also, let's remove 'poster_path', 'hopepage' (too many null values), 'imdb_id', 'spoken_languages', 'overview' and 'tagline'\n",
    "\n",
    "Apart from this, let's drop not much useful for recommender columns"
   ]
  },
  {
   "cell_type": "code",
   "execution_count": 7,
   "metadata": {},
   "outputs": [
    {
     "data": {
      "text/html": [
       "<div>\n",
       "<style scoped>\n",
       "    .dataframe tbody tr th:only-of-type {\n",
       "        vertical-align: middle;\n",
       "    }\n",
       "\n",
       "    .dataframe tbody tr th {\n",
       "        vertical-align: top;\n",
       "    }\n",
       "\n",
       "    .dataframe thead th {\n",
       "        text-align: right;\n",
       "    }\n",
       "</style>\n",
       "<table border=\"1\" class=\"dataframe\">\n",
       "  <thead>\n",
       "    <tr style=\"text-align: right;\">\n",
       "      <th></th>\n",
       "      <th>0</th>\n",
       "      <th>1</th>\n",
       "      <th>2</th>\n",
       "    </tr>\n",
       "  </thead>\n",
       "  <tbody>\n",
       "    <tr>\n",
       "      <th>budget</th>\n",
       "      <td>30000000</td>\n",
       "      <td>65000000</td>\n",
       "      <td>0</td>\n",
       "    </tr>\n",
       "    <tr>\n",
       "      <th>genres</th>\n",
       "      <td>[{'id': 16, 'name': 'Animation'}, {'id': 35, '...</td>\n",
       "      <td>[{'id': 12, 'name': 'Adventure'}, {'id': 14, '...</td>\n",
       "      <td>[{'id': 10749, 'name': 'Romance'}, {'id': 35, ...</td>\n",
       "    </tr>\n",
       "    <tr>\n",
       "      <th>id</th>\n",
       "      <td>862</td>\n",
       "      <td>8844</td>\n",
       "      <td>15602</td>\n",
       "    </tr>\n",
       "    <tr>\n",
       "      <th>popularity</th>\n",
       "      <td>21.946943</td>\n",
       "      <td>17.015539</td>\n",
       "      <td>11.7129</td>\n",
       "    </tr>\n",
       "    <tr>\n",
       "      <th>release_date</th>\n",
       "      <td>1995-10-30</td>\n",
       "      <td>1995-12-15</td>\n",
       "      <td>1995-12-22</td>\n",
       "    </tr>\n",
       "    <tr>\n",
       "      <th>revenue</th>\n",
       "      <td>373554033.0</td>\n",
       "      <td>262797249.0</td>\n",
       "      <td>0.0</td>\n",
       "    </tr>\n",
       "    <tr>\n",
       "      <th>runtime</th>\n",
       "      <td>81.0</td>\n",
       "      <td>104.0</td>\n",
       "      <td>101.0</td>\n",
       "    </tr>\n",
       "    <tr>\n",
       "      <th>title</th>\n",
       "      <td>Toy Story</td>\n",
       "      <td>Jumanji</td>\n",
       "      <td>Grumpier Old Men</td>\n",
       "    </tr>\n",
       "    <tr>\n",
       "      <th>vote_average</th>\n",
       "      <td>7.7</td>\n",
       "      <td>6.9</td>\n",
       "      <td>6.5</td>\n",
       "    </tr>\n",
       "    <tr>\n",
       "      <th>vote_count</th>\n",
       "      <td>5415.0</td>\n",
       "      <td>2413.0</td>\n",
       "      <td>92.0</td>\n",
       "    </tr>\n",
       "  </tbody>\n",
       "</table>\n",
       "</div>"
      ],
      "text/plain": [
       "                                                              0  \\\n",
       "budget                                                 30000000   \n",
       "genres        [{'id': 16, 'name': 'Animation'}, {'id': 35, '...   \n",
       "id                                                          862   \n",
       "popularity                                            21.946943   \n",
       "release_date                                         1995-10-30   \n",
       "revenue                                             373554033.0   \n",
       "runtime                                                    81.0   \n",
       "title                                                 Toy Story   \n",
       "vote_average                                                7.7   \n",
       "vote_count                                               5415.0   \n",
       "\n",
       "                                                              1  \\\n",
       "budget                                                 65000000   \n",
       "genres        [{'id': 12, 'name': 'Adventure'}, {'id': 14, '...   \n",
       "id                                                         8844   \n",
       "popularity                                            17.015539   \n",
       "release_date                                         1995-12-15   \n",
       "revenue                                             262797249.0   \n",
       "runtime                                                   104.0   \n",
       "title                                                   Jumanji   \n",
       "vote_average                                                6.9   \n",
       "vote_count                                               2413.0   \n",
       "\n",
       "                                                              2  \n",
       "budget                                                        0  \n",
       "genres        [{'id': 10749, 'name': 'Romance'}, {'id': 35, ...  \n",
       "id                                                        15602  \n",
       "popularity                                              11.7129  \n",
       "release_date                                         1995-12-22  \n",
       "revenue                                                     0.0  \n",
       "runtime                                                   101.0  \n",
       "title                                          Grumpier Old Men  \n",
       "vote_average                                                6.5  \n",
       "vote_count                                                 92.0  "
      ]
     },
     "execution_count": 7,
     "metadata": {},
     "output_type": "execute_result"
    }
   ],
   "source": [
    "df = df.drop(\n",
    "    [\n",
    "        \"adult\",\n",
    "        \"status\",\n",
    "        \"video\",\n",
    "        \"poster_path\",\n",
    "        \"original_title\",\n",
    "        \"homepage\",\n",
    "        \"imdb_id\",\n",
    "        \"spoken_languages\",\n",
    "        \"overview\",\n",
    "        \"tagline\",\n",
    "        \"belongs_to_collection\",\n",
    "        \"original_language\",\n",
    "        \"production_companies\",\n",
    "        \"production_countries\"\n",
    "    ],\n",
    "    axis=1,\n",
    ")\n",
    "df.head(3).transpose()"
   ]
  },
  {
   "cell_type": "markdown",
   "metadata": {},
   "source": [
    "Now let's have a look at dtypes"
   ]
  },
  {
   "cell_type": "markdown",
   "metadata": {},
   "source": [
    "## Converting dtypes to more appropriate ones"
   ]
  },
  {
   "cell_type": "code",
   "execution_count": 8,
   "metadata": {},
   "outputs": [
    {
     "data": {
      "text/plain": [
       "budget           object\n",
       "genres           object\n",
       "id               object\n",
       "popularity       object\n",
       "release_date     object\n",
       "revenue         float64\n",
       "runtime         float64\n",
       "title            object\n",
       "vote_average    float64\n",
       "vote_count      float64\n",
       "dtype: object"
      ]
     },
     "execution_count": 8,
     "metadata": {},
     "output_type": "execute_result"
    }
   ],
   "source": [
    "df.dtypes"
   ]
  },
  {
   "cell_type": "markdown",
   "metadata": {},
   "source": [
    "First of all, let's handle 'release_date' column"
   ]
  },
  {
   "cell_type": "code",
   "execution_count": 9,
   "metadata": {},
   "outputs": [
    {
     "name": "stdout",
     "output_type": "stream",
     "text": [
      "Number of rows with bad date values: 90\n"
     ]
    }
   ],
   "source": [
    "# Convert 'release_date' column to datetime type\n",
    "df['release_date'] = pd.to_datetime(df['release_date'], errors='coerce')\n",
    "# Count the number of rows with bad date values\n",
    "bad_date_count = df['release_date'].isnull().sum()\n",
    "print(f\"Number of rows with bad date values: {bad_date_count}\")"
   ]
  },
  {
   "cell_type": "markdown",
   "metadata": {},
   "source": [
    "Since 90 rows compared to 45,000 in total is nothing, we can freely remove them"
   ]
  },
  {
   "cell_type": "code",
   "execution_count": 10,
   "metadata": {},
   "outputs": [
    {
     "name": "stdout",
     "output_type": "stream",
     "text": [
      "Number of rows with bad date values: 0\n"
     ]
    }
   ],
   "source": [
    "# Remove rows with null or NaT values\n",
    "df = df.dropna(subset=['release_date'])\n",
    "bad_date_count = df['release_date'].isnull().sum()\n",
    "print(f\"Number of rows with bad date values: {bad_date_count}\")"
   ]
  },
  {
   "cell_type": "markdown",
   "metadata": {},
   "source": [
    "The column 'budget' contains non-numerical values like '/ff9qCepilowshEtG2GYWwzt2bs4.jpg'. Let's remove them"
   ]
  },
  {
   "cell_type": "code",
   "execution_count": 11,
   "metadata": {},
   "outputs": [],
   "source": [
    "# Clean 'budget' column to remove non-numeric characters\n",
    "df[\"budget\"] = df[\"budget\"].str.replace(r\"\\D\", \"\", regex=True)"
   ]
  },
  {
   "cell_type": "markdown",
   "metadata": {},
   "source": [
    "I don't like that columns with whole numbers like 'runtime' or 'vote_count' have dtype set to float. Let's change that"
   ]
  },
  {
   "cell_type": "code",
   "execution_count": 12,
   "metadata": {},
   "outputs": [
    {
     "name": "stdout",
     "output_type": "stream",
     "text": [
      "budget                   int64\n",
      "genres                  object\n",
      "id                      object\n",
      "popularity              object\n",
      "release_date    datetime64[ns]\n",
      "revenue                  int64\n",
      "runtime                  int32\n",
      "title                   object\n",
      "vote_average           float64\n",
      "vote_count               int32\n",
      "dtype: object\n"
     ]
    }
   ],
   "source": [
    "# Specify columns and their new data types\n",
    "dict_columns_to_convert = {\n",
    "    \"budget\": \"int64\",\n",
    "    \"revenue\": \"int64\",\n",
    "    \"runtime\": \"int\",\n",
    "    \"vote_count\": \"int\"\n",
    "}\n",
    "# Clean 'budget' column to remove non-numeric characters\n",
    "df[\"budget\"] = df[\"budget\"].str.replace(r\"\\D\", \"\", regex=True)\n",
    "# Fill NaN values with 0\n",
    "cols_to_fill = list(dict_columns_to_convert.keys())\n",
    "df[cols_to_fill] = df[cols_to_fill].fillna(0)\n",
    "# Convert columns to integer type\n",
    "df = df.astype(dict_columns_to_convert)\n",
    "# Check the data types of the DataFrame\n",
    "print(df.dtypes)"
   ]
  },
  {
   "cell_type": "markdown",
   "metadata": {},
   "source": [
    "## Working with 'genres' column"
   ]
  },
  {
   "cell_type": "code",
   "execution_count": 14,
   "metadata": {},
   "outputs": [
    {
     "data": {
      "text/html": [
       "<div>\n",
       "<style scoped>\n",
       "    .dataframe tbody tr th:only-of-type {\n",
       "        vertical-align: middle;\n",
       "    }\n",
       "\n",
       "    .dataframe tbody tr th {\n",
       "        vertical-align: top;\n",
       "    }\n",
       "\n",
       "    .dataframe thead th {\n",
       "        text-align: right;\n",
       "    }\n",
       "</style>\n",
       "<table border=\"1\" class=\"dataframe\">\n",
       "  <thead>\n",
       "    <tr style=\"text-align: right;\">\n",
       "      <th></th>\n",
       "      <th>title</th>\n",
       "      <th>genres</th>\n",
       "    </tr>\n",
       "  </thead>\n",
       "  <tbody>\n",
       "    <tr>\n",
       "      <th>0</th>\n",
       "      <td>Toy Story</td>\n",
       "      <td>[Animation, Comedy, Family]</td>\n",
       "    </tr>\n",
       "    <tr>\n",
       "      <th>1</th>\n",
       "      <td>Jumanji</td>\n",
       "      <td>[Adventure, Family, Fantasy]</td>\n",
       "    </tr>\n",
       "    <tr>\n",
       "      <th>2</th>\n",
       "      <td>Grumpier Old Men</td>\n",
       "      <td>[Comedy, Romance]</td>\n",
       "    </tr>\n",
       "  </tbody>\n",
       "</table>\n",
       "</div>"
      ],
      "text/plain": [
       "              title                        genres\n",
       "0         Toy Story   [Animation, Comedy, Family]\n",
       "1           Jumanji  [Adventure, Family, Fantasy]\n",
       "2  Grumpier Old Men             [Comedy, Romance]"
      ]
     },
     "execution_count": 14,
     "metadata": {},
     "output_type": "execute_result"
    }
   ],
   "source": [
    "# Convert the stringified JSON into a list of dictionaries\n",
    "df[\"genres\"] = df[\"genres\"].apply(\n",
    "    lambda x: literal_eval(x.replace(\"'\", '\"')) if isinstance(x, str) else []\n",
    ")\n",
    "# Extract the names of genres into a list and sort them alphabetically\n",
    "df[\"genres\"] = df[\"genres\"].apply(\n",
    "    lambda x: sorted([genre[\"name\"] for genre in x]) if isinstance(x, list) else []\n",
    ")\n",
    "# Display the DataFrame with the extracted genre names\n",
    "df[[\"title\", \"genres\"]].head(3)"
   ]
  },
  {
   "cell_type": "code",
   "execution_count": 15,
   "metadata": {},
   "outputs": [
    {
     "name": "stdout",
     "output_type": "stream",
     "text": [
      "There are 20 unique genres.\n",
      "{'Adventure', 'War', 'Horror', 'Mystery', 'TV Movie', 'Science Fiction', 'Documentary', 'Western', 'Music', 'Animation', 'Action', 'Thriller', 'Romance', 'Fantasy', 'Family', 'Crime', 'Drama', 'Comedy', 'Foreign', 'History'}\n"
     ]
    }
   ],
   "source": [
    "# Flatten the list of genre names\n",
    "flat_genre_names = [genre for sublist in df[\"genres\"] for genre in sublist]\n",
    "# Get the unique genre names\n",
    "unique_genre_names = set(flat_genre_names)\n",
    "# Print the unique genre names\n",
    "print(f\"There are {len(unique_genre_names)} unique genres.\")\n",
    "print(unique_genre_names)"
   ]
  },
  {
   "cell_type": "markdown",
   "metadata": {},
   "source": [
    "We can see that 'genres' colomn has faulty data like 'Carousel Productions' or 'Vision View Entertainment', which sound like production companies, not genres. Thus, let's remove such values from the column"
   ]
  },
  {
   "cell_type": "code",
   "execution_count": 16,
   "metadata": {},
   "outputs": [],
   "source": [
    "# Define the list of valid genre names\n",
    "valid_genres = {\n",
    "    'Action', 'Adventure', 'Animation', 'Comedy', 'Crime', 'Documentary',\n",
    "    'Drama', 'Family', 'Fantasy', 'History', 'Horror', 'Mystery',\n",
    "    'Romance', 'Science Fiction', 'Thriller', 'War', 'Western'\n",
    "}\n",
    "# Filter the genre_names column to include only the valid genres\n",
    "df[\"genres\"] = df[\"genres\"].apply(lambda x: [genre for genre in x if genre in valid_genres])"
   ]
  },
  {
   "cell_type": "markdown",
   "metadata": {},
   "source": [
    "Now let's check again"
   ]
  },
  {
   "cell_type": "code",
   "execution_count": 17,
   "metadata": {},
   "outputs": [
    {
     "name": "stdout",
     "output_type": "stream",
     "text": [
      "There are 17 unique genres.\n",
      "{'Adventure', 'Family', 'War', 'Animation', 'Horror', 'Crime', 'Mystery', 'Science Fiction', 'Comedy', 'Action', 'Thriller', 'Documentary', 'History', 'Fantasy', 'Western', 'Romance', 'Drama'}\n"
     ]
    }
   ],
   "source": [
    "flat_genre_names = [genre for sublist in df[\"genres\"] for genre in sublist]\n",
    "unique_genre_names = set(flat_genre_names)\n",
    "print(f\"There are {len(unique_genre_names)} unique genres.\")\n",
    "print(unique_genre_names)"
   ]
  },
  {
   "cell_type": "code",
   "execution_count": 18,
   "metadata": {},
   "outputs": [
    {
     "data": {
      "text/plain": [
       "genres\n",
       "[Drama]              5617\n",
       "[Comedy]             3873\n",
       "[Documentary]        3164\n",
       "[]                   2522\n",
       "[Drama, Romance]     1951\n",
       "[Comedy, Drama]      1845\n",
       "[Comedy, Romance]    1325\n",
       "Name: count, dtype: int64"
      ]
     },
     "execution_count": 18,
     "metadata": {},
     "output_type": "execute_result"
    }
   ],
   "source": [
    "df[\"genres\"].value_counts().head(7)"
   ]
  },
  {
   "cell_type": "markdown",
   "metadata": {},
   "source": [
    "One movie can belong to many genres and one genre can be applied to many movies. It's a many-to-many relationship. Ideally, this kind of relationship is supposed to be broken into two 1:M relationships and connected with an intermidiate or junction table. However, because\n",
    "\n",
    "- it's a project to show my knowledge mainly of writing SQL queries\n",
    "- I'm applying to a junior data analyst position, and, at that role, you're not supposed to design databases\n",
    "- preparation part is already too long\n",
    "- maximum string length for genres is known (80 symbols for the movie with the title 'Yu-Gi-Oh')\n",
    "\n",
    "I'll keep things simple and connect genre names by comma."
   ]
  },
  {
   "cell_type": "code",
   "execution_count": 19,
   "metadata": {},
   "outputs": [],
   "source": [
    "# Convert the list of genres into a string with comma as a delimiter\n",
    "df[\"genres\"] = df[\"genres\"].apply(lambda x: \", \".join(x) if x else None)"
   ]
  },
  {
   "cell_type": "code",
   "execution_count": 20,
   "metadata": {},
   "outputs": [
    {
     "data": {
      "text/plain": [
       "genres\n",
       "Drama                     5617\n",
       "Comedy                    3873\n",
       "Documentary               3164\n",
       "Drama, Romance            1951\n",
       "Comedy, Drama             1845\n",
       "Comedy, Romance           1325\n",
       "Comedy, Drama, Romance    1153\n",
       "Name: count, dtype: int64"
      ]
     },
     "execution_count": 20,
     "metadata": {},
     "output_type": "execute_result"
    }
   ],
   "source": [
    "df[\"genres\"].value_counts().head(7)"
   ]
  },
  {
   "cell_type": "code",
   "execution_count": 21,
   "metadata": {},
   "outputs": [
    {
     "data": {
      "text/html": [
       "<div>\n",
       "<style scoped>\n",
       "    .dataframe tbody tr th:only-of-type {\n",
       "        vertical-align: middle;\n",
       "    }\n",
       "\n",
       "    .dataframe tbody tr th {\n",
       "        vertical-align: top;\n",
       "    }\n",
       "\n",
       "    .dataframe thead th {\n",
       "        text-align: right;\n",
       "    }\n",
       "</style>\n",
       "<table border=\"1\" class=\"dataframe\">\n",
       "  <thead>\n",
       "    <tr style=\"text-align: right;\">\n",
       "      <th></th>\n",
       "      <th>0</th>\n",
       "      <th>1</th>\n",
       "      <th>2</th>\n",
       "    </tr>\n",
       "  </thead>\n",
       "  <tbody>\n",
       "    <tr>\n",
       "      <th>budget</th>\n",
       "      <td>30.0</td>\n",
       "      <td>65.0</td>\n",
       "      <td>0.0</td>\n",
       "    </tr>\n",
       "    <tr>\n",
       "      <th>genres</th>\n",
       "      <td>Animation, Comedy, Family</td>\n",
       "      <td>Adventure, Family, Fantasy</td>\n",
       "      <td>Comedy, Romance</td>\n",
       "    </tr>\n",
       "    <tr>\n",
       "      <th>id</th>\n",
       "      <td>862</td>\n",
       "      <td>8844</td>\n",
       "      <td>15602</td>\n",
       "    </tr>\n",
       "    <tr>\n",
       "      <th>popularity</th>\n",
       "      <td>21.946943</td>\n",
       "      <td>17.015539</td>\n",
       "      <td>11.7129</td>\n",
       "    </tr>\n",
       "    <tr>\n",
       "      <th>release_date</th>\n",
       "      <td>1995-10-30 00:00:00</td>\n",
       "      <td>1995-12-15 00:00:00</td>\n",
       "      <td>1995-12-22 00:00:00</td>\n",
       "    </tr>\n",
       "    <tr>\n",
       "      <th>revenue</th>\n",
       "      <td>373.554033</td>\n",
       "      <td>262.797249</td>\n",
       "      <td>0.0</td>\n",
       "    </tr>\n",
       "    <tr>\n",
       "      <th>runtime</th>\n",
       "      <td>81</td>\n",
       "      <td>104</td>\n",
       "      <td>101</td>\n",
       "    </tr>\n",
       "    <tr>\n",
       "      <th>title</th>\n",
       "      <td>Toy Story</td>\n",
       "      <td>Jumanji</td>\n",
       "      <td>Grumpier Old Men</td>\n",
       "    </tr>\n",
       "    <tr>\n",
       "      <th>vote_average</th>\n",
       "      <td>7.7</td>\n",
       "      <td>6.9</td>\n",
       "      <td>6.5</td>\n",
       "    </tr>\n",
       "    <tr>\n",
       "      <th>vote_count</th>\n",
       "      <td>5415</td>\n",
       "      <td>2413</td>\n",
       "      <td>92</td>\n",
       "    </tr>\n",
       "  </tbody>\n",
       "</table>\n",
       "</div>"
      ],
      "text/plain": [
       "                                      0                           1  \\\n",
       "budget                             30.0                        65.0   \n",
       "genres        Animation, Comedy, Family  Adventure, Family, Fantasy   \n",
       "id                                  862                        8844   \n",
       "popularity                    21.946943                   17.015539   \n",
       "release_date        1995-10-30 00:00:00         1995-12-15 00:00:00   \n",
       "revenue                      373.554033                  262.797249   \n",
       "runtime                              81                         104   \n",
       "title                         Toy Story                     Jumanji   \n",
       "vote_average                        7.7                         6.9   \n",
       "vote_count                         5415                        2413   \n",
       "\n",
       "                                2  \n",
       "budget                        0.0  \n",
       "genres            Comedy, Romance  \n",
       "id                          15602  \n",
       "popularity                11.7129  \n",
       "release_date  1995-12-22 00:00:00  \n",
       "revenue                       0.0  \n",
       "runtime                       101  \n",
       "title            Grumpier Old Men  \n",
       "vote_average                  6.5  \n",
       "vote_count                     92  "
      ]
     },
     "execution_count": 21,
     "metadata": {},
     "output_type": "execute_result"
    }
   ],
   "source": [
    "df.head(3).transpose()"
   ]
  },
  {
   "cell_type": "markdown",
   "metadata": {},
   "source": [
    "## Final steps of data preparation with Pandas"
   ]
  },
  {
   "cell_type": "markdown",
   "metadata": {},
   "source": [
    "Time to add index col, change dtypes, and rearrange columns a little bit because I'm not happy with the order of columns"
   ]
  },
  {
   "cell_type": "code",
   "execution_count": 22,
   "metadata": {},
   "outputs": [
    {
     "data": {
      "text/html": [
       "<div>\n",
       "<style scoped>\n",
       "    .dataframe tbody tr th:only-of-type {\n",
       "        vertical-align: middle;\n",
       "    }\n",
       "\n",
       "    .dataframe tbody tr th {\n",
       "        vertical-align: top;\n",
       "    }\n",
       "\n",
       "    .dataframe thead th {\n",
       "        text-align: right;\n",
       "    }\n",
       "</style>\n",
       "<table border=\"1\" class=\"dataframe\">\n",
       "  <thead>\n",
       "    <tr style=\"text-align: right;\">\n",
       "      <th></th>\n",
       "      <th>0</th>\n",
       "      <th>1</th>\n",
       "      <th>2</th>\n",
       "    </tr>\n",
       "  </thead>\n",
       "  <tbody>\n",
       "    <tr>\n",
       "      <th>id</th>\n",
       "      <td>862</td>\n",
       "      <td>8844</td>\n",
       "      <td>15602</td>\n",
       "    </tr>\n",
       "    <tr>\n",
       "      <th>title</th>\n",
       "      <td>Toy Story</td>\n",
       "      <td>Jumanji</td>\n",
       "      <td>Grumpier Old Men</td>\n",
       "    </tr>\n",
       "    <tr>\n",
       "      <th>release_date</th>\n",
       "      <td>1995-10-30 00:00:00</td>\n",
       "      <td>1995-12-15 00:00:00</td>\n",
       "      <td>1995-12-22 00:00:00</td>\n",
       "    </tr>\n",
       "    <tr>\n",
       "      <th>runtime</th>\n",
       "      <td>81</td>\n",
       "      <td>104</td>\n",
       "      <td>101</td>\n",
       "    </tr>\n",
       "    <tr>\n",
       "      <th>genres</th>\n",
       "      <td>Animation, Comedy, Family</td>\n",
       "      <td>Adventure, Family, Fantasy</td>\n",
       "      <td>Comedy, Romance</td>\n",
       "    </tr>\n",
       "    <tr>\n",
       "      <th>budget</th>\n",
       "      <td>30.0</td>\n",
       "      <td>65.0</td>\n",
       "      <td>0.0</td>\n",
       "    </tr>\n",
       "    <tr>\n",
       "      <th>revenue</th>\n",
       "      <td>373.554033</td>\n",
       "      <td>262.797249</td>\n",
       "      <td>0.0</td>\n",
       "    </tr>\n",
       "    <tr>\n",
       "      <th>popularity</th>\n",
       "      <td>21.946943</td>\n",
       "      <td>17.015539</td>\n",
       "      <td>11.7129</td>\n",
       "    </tr>\n",
       "    <tr>\n",
       "      <th>vote_average</th>\n",
       "      <td>7.7</td>\n",
       "      <td>6.9</td>\n",
       "      <td>6.5</td>\n",
       "    </tr>\n",
       "    <tr>\n",
       "      <th>vote_count</th>\n",
       "      <td>5415</td>\n",
       "      <td>2413</td>\n",
       "      <td>92</td>\n",
       "    </tr>\n",
       "  </tbody>\n",
       "</table>\n",
       "</div>"
      ],
      "text/plain": [
       "                                      0                           1  \\\n",
       "id                                  862                        8844   \n",
       "title                         Toy Story                     Jumanji   \n",
       "release_date        1995-10-30 00:00:00         1995-12-15 00:00:00   \n",
       "runtime                              81                         104   \n",
       "genres        Animation, Comedy, Family  Adventure, Family, Fantasy   \n",
       "budget                             30.0                        65.0   \n",
       "revenue                      373.554033                  262.797249   \n",
       "popularity                    21.946943                   17.015539   \n",
       "vote_average                        7.7                         6.9   \n",
       "vote_count                         5415                        2413   \n",
       "\n",
       "                                2  \n",
       "id                          15602  \n",
       "title            Grumpier Old Men  \n",
       "release_date  1995-12-22 00:00:00  \n",
       "runtime                       101  \n",
       "genres            Comedy, Romance  \n",
       "budget                        0.0  \n",
       "revenue                       0.0  \n",
       "popularity                11.7129  \n",
       "vote_average                  6.5  \n",
       "vote_count                     92  "
      ]
     },
     "execution_count": 22,
     "metadata": {},
     "output_type": "execute_result"
    }
   ],
   "source": [
    "new_cols_order = [\n",
    "    \"id\",\n",
    "    \"title\",\n",
    "    \"release_date\",\n",
    "    \"runtime\",\n",
    "    \"genres\",\n",
    "    \"budget\",\n",
    "    \"revenue\",\n",
    "    \"popularity\",\n",
    "    \"vote_average\",\n",
    "    \"vote_count\"\n",
    "]\n",
    "df = df[new_cols_order]\n",
    "df.head(3).transpose()"
   ]
  },
  {
   "cell_type": "markdown",
   "metadata": {},
   "source": [
    "Columns explanation:\n",
    "- id - row id\n",
    "- title - official title of the movie\n",
    "- franchise - a particular franchise to which the movie belongs, if applicable\n",
    "- release_date - theatrical release date of the movie\n",
    "- runtime - movie duration/runtime in minutes\n",
    "- genres - genres associated with the movie, separated by a comma\n",
    "- production_country - the country/countries where the movie was shot/produced. If several countries were involved, the cell contains the value 'Multiple'\n",
    "- production_companies - production companies involved in making of the movie\n",
    "- original_language - the language in which the movie was originally shot\n",
    "- budget - movie budget in dollars\n",
    "- revenue - total movie revenue in dollars\n",
    "- popularity - popularity score assigned by TMDB\n",
    "- vote_average - average movie rating\n",
    "- vote_count - number of votes by users, counted by TMDB"
   ]
  },
  {
   "cell_type": "markdown",
   "metadata": {},
   "source": [
    "Let's save the cleaned up dataset, which we'll use in the next chapters"
   ]
  },
  {
   "cell_type": "code",
   "execution_count": 23,
   "metadata": {},
   "outputs": [],
   "source": [
    "# df.to_csv(\"data/data.csv\", index=False)"
   ]
  }
 ],
 "metadata": {
  "kernelspec": {
   "display_name": "Python 3",
   "language": "python",
   "name": "python3"
  },
  "language_info": {
   "codemirror_mode": {
    "name": "ipython",
    "version": 3
   },
   "file_extension": ".py",
   "mimetype": "text/x-python",
   "name": "python",
   "nbconvert_exporter": "python",
   "pygments_lexer": "ipython3",
   "version": "3.10.2"
  },
  "orig_nbformat": 4,
  "vscode": {
   "interpreter": {
    "hash": "372546374ee67f23bce4863fdb45197b8301cd73a13a929f5ade301179cf3c81"
   }
  }
 },
 "nbformat": 4,
 "nbformat_minor": 2
}
