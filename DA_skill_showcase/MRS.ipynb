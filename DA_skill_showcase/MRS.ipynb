{
 "cells": [
  {
   "attachments": {},
   "cell_type": "markdown",
   "metadata": {},
   "source": [
    "# MRS"
   ]
  },
  {
   "cell_type": "markdown",
   "metadata": {},
   "source": [
    "Here I'll work on content-based movie recommender based on the previous notebook (skill_showcase.ipynb)"
   ]
  },
  {
   "cell_type": "markdown",
   "metadata": {},
   "source": [
    "data source: https://www.kaggle.com/datasets/rounakbanik/the-movies-dataset"
   ]
  },
  {
   "cell_type": "markdown",
   "metadata": {},
   "source": [
    "This notebook will consist of two parts:\n",
    "\n",
    "1. Preparing data for the recommender\n",
    "\n",
    "2. Content-based recommender itself"
   ]
  },
  {
   "cell_type": "markdown",
   "metadata": {},
   "source": [
    "# 1. Preparing Data"
   ]
  },
  {
   "cell_type": "code",
   "execution_count": 1,
   "metadata": {},
   "outputs": [],
   "source": [
    "import pandas as pd\n",
    "from ast import literal_eval"
   ]
  },
  {
   "cell_type": "code",
   "execution_count": 2,
   "metadata": {},
   "outputs": [
    {
     "name": "stderr",
     "output_type": "stream",
     "text": [
      "C:\\Windows\\Temp\\ipykernel_23128\\3199233999.py:1: DtypeWarning: Columns (10) have mixed types. Specify dtype option on import or set low_memory=False.\n",
      "  df = pd.read_csv('data/movies_metadata.csv')\n"
     ]
    },
    {
     "data": {
      "text/html": [
       "<div>\n",
       "<style scoped>\n",
       "    .dataframe tbody tr th:only-of-type {\n",
       "        vertical-align: middle;\n",
       "    }\n",
       "\n",
       "    .dataframe tbody tr th {\n",
       "        vertical-align: top;\n",
       "    }\n",
       "\n",
       "    .dataframe thead th {\n",
       "        text-align: right;\n",
       "    }\n",
       "</style>\n",
       "<table border=\"1\" class=\"dataframe\">\n",
       "  <thead>\n",
       "    <tr style=\"text-align: right;\">\n",
       "      <th></th>\n",
       "      <th>0</th>\n",
       "      <th>1</th>\n",
       "      <th>2</th>\n",
       "    </tr>\n",
       "  </thead>\n",
       "  <tbody>\n",
       "    <tr>\n",
       "      <th>adult</th>\n",
       "      <td>False</td>\n",
       "      <td>False</td>\n",
       "      <td>False</td>\n",
       "    </tr>\n",
       "    <tr>\n",
       "      <th>belongs_to_collection</th>\n",
       "      <td>{'id': 10194, 'name': 'Toy Story Collection', ...</td>\n",
       "      <td>NaN</td>\n",
       "      <td>{'id': 119050, 'name': 'Grumpy Old Men Collect...</td>\n",
       "    </tr>\n",
       "    <tr>\n",
       "      <th>budget</th>\n",
       "      <td>30000000</td>\n",
       "      <td>65000000</td>\n",
       "      <td>0</td>\n",
       "    </tr>\n",
       "    <tr>\n",
       "      <th>genres</th>\n",
       "      <td>[{'id': 16, 'name': 'Animation'}, {'id': 35, '...</td>\n",
       "      <td>[{'id': 12, 'name': 'Adventure'}, {'id': 14, '...</td>\n",
       "      <td>[{'id': 10749, 'name': 'Romance'}, {'id': 35, ...</td>\n",
       "    </tr>\n",
       "    <tr>\n",
       "      <th>homepage</th>\n",
       "      <td>http://toystory.disney.com/toy-story</td>\n",
       "      <td>NaN</td>\n",
       "      <td>NaN</td>\n",
       "    </tr>\n",
       "    <tr>\n",
       "      <th>id</th>\n",
       "      <td>862</td>\n",
       "      <td>8844</td>\n",
       "      <td>15602</td>\n",
       "    </tr>\n",
       "    <tr>\n",
       "      <th>imdb_id</th>\n",
       "      <td>tt0114709</td>\n",
       "      <td>tt0113497</td>\n",
       "      <td>tt0113228</td>\n",
       "    </tr>\n",
       "    <tr>\n",
       "      <th>original_language</th>\n",
       "      <td>en</td>\n",
       "      <td>en</td>\n",
       "      <td>en</td>\n",
       "    </tr>\n",
       "    <tr>\n",
       "      <th>original_title</th>\n",
       "      <td>Toy Story</td>\n",
       "      <td>Jumanji</td>\n",
       "      <td>Grumpier Old Men</td>\n",
       "    </tr>\n",
       "    <tr>\n",
       "      <th>overview</th>\n",
       "      <td>Led by Woody, Andy's toys live happily in his ...</td>\n",
       "      <td>When siblings Judy and Peter discover an encha...</td>\n",
       "      <td>A family wedding reignites the ancient feud be...</td>\n",
       "    </tr>\n",
       "    <tr>\n",
       "      <th>popularity</th>\n",
       "      <td>21.946943</td>\n",
       "      <td>17.015539</td>\n",
       "      <td>11.7129</td>\n",
       "    </tr>\n",
       "    <tr>\n",
       "      <th>poster_path</th>\n",
       "      <td>/rhIRbceoE9lR4veEXuwCC2wARtG.jpg</td>\n",
       "      <td>/vzmL6fP7aPKNKPRTFnZmiUfciyV.jpg</td>\n",
       "      <td>/6ksm1sjKMFLbO7UY2i6G1ju9SML.jpg</td>\n",
       "    </tr>\n",
       "    <tr>\n",
       "      <th>production_companies</th>\n",
       "      <td>[{'name': 'Pixar Animation Studios', 'id': 3}]</td>\n",
       "      <td>[{'name': 'TriStar Pictures', 'id': 559}, {'na...</td>\n",
       "      <td>[{'name': 'Warner Bros.', 'id': 6194}, {'name'...</td>\n",
       "    </tr>\n",
       "    <tr>\n",
       "      <th>production_countries</th>\n",
       "      <td>[{'iso_3166_1': 'US', 'name': 'United States o...</td>\n",
       "      <td>[{'iso_3166_1': 'US', 'name': 'United States o...</td>\n",
       "      <td>[{'iso_3166_1': 'US', 'name': 'United States o...</td>\n",
       "    </tr>\n",
       "    <tr>\n",
       "      <th>release_date</th>\n",
       "      <td>1995-10-30</td>\n",
       "      <td>1995-12-15</td>\n",
       "      <td>1995-12-22</td>\n",
       "    </tr>\n",
       "    <tr>\n",
       "      <th>revenue</th>\n",
       "      <td>373554033.0</td>\n",
       "      <td>262797249.0</td>\n",
       "      <td>0.0</td>\n",
       "    </tr>\n",
       "    <tr>\n",
       "      <th>runtime</th>\n",
       "      <td>81.0</td>\n",
       "      <td>104.0</td>\n",
       "      <td>101.0</td>\n",
       "    </tr>\n",
       "    <tr>\n",
       "      <th>spoken_languages</th>\n",
       "      <td>[{'iso_639_1': 'en', 'name': 'English'}]</td>\n",
       "      <td>[{'iso_639_1': 'en', 'name': 'English'}, {'iso...</td>\n",
       "      <td>[{'iso_639_1': 'en', 'name': 'English'}]</td>\n",
       "    </tr>\n",
       "    <tr>\n",
       "      <th>status</th>\n",
       "      <td>Released</td>\n",
       "      <td>Released</td>\n",
       "      <td>Released</td>\n",
       "    </tr>\n",
       "    <tr>\n",
       "      <th>tagline</th>\n",
       "      <td>NaN</td>\n",
       "      <td>Roll the dice and unleash the excitement!</td>\n",
       "      <td>Still Yelling. Still Fighting. Still Ready for...</td>\n",
       "    </tr>\n",
       "    <tr>\n",
       "      <th>title</th>\n",
       "      <td>Toy Story</td>\n",
       "      <td>Jumanji</td>\n",
       "      <td>Grumpier Old Men</td>\n",
       "    </tr>\n",
       "    <tr>\n",
       "      <th>video</th>\n",
       "      <td>False</td>\n",
       "      <td>False</td>\n",
       "      <td>False</td>\n",
       "    </tr>\n",
       "    <tr>\n",
       "      <th>vote_average</th>\n",
       "      <td>7.7</td>\n",
       "      <td>6.9</td>\n",
       "      <td>6.5</td>\n",
       "    </tr>\n",
       "    <tr>\n",
       "      <th>vote_count</th>\n",
       "      <td>5415.0</td>\n",
       "      <td>2413.0</td>\n",
       "      <td>92.0</td>\n",
       "    </tr>\n",
       "  </tbody>\n",
       "</table>\n",
       "</div>"
      ],
      "text/plain": [
       "                                                                       0  \\\n",
       "adult                                                              False   \n",
       "belongs_to_collection  {'id': 10194, 'name': 'Toy Story Collection', ...   \n",
       "budget                                                          30000000   \n",
       "genres                 [{'id': 16, 'name': 'Animation'}, {'id': 35, '...   \n",
       "homepage                            http://toystory.disney.com/toy-story   \n",
       "id                                                                   862   \n",
       "imdb_id                                                        tt0114709   \n",
       "original_language                                                     en   \n",
       "original_title                                                 Toy Story   \n",
       "overview               Led by Woody, Andy's toys live happily in his ...   \n",
       "popularity                                                     21.946943   \n",
       "poster_path                             /rhIRbceoE9lR4veEXuwCC2wARtG.jpg   \n",
       "production_companies      [{'name': 'Pixar Animation Studios', 'id': 3}]   \n",
       "production_countries   [{'iso_3166_1': 'US', 'name': 'United States o...   \n",
       "release_date                                                  1995-10-30   \n",
       "revenue                                                      373554033.0   \n",
       "runtime                                                             81.0   \n",
       "spoken_languages                [{'iso_639_1': 'en', 'name': 'English'}]   \n",
       "status                                                          Released   \n",
       "tagline                                                              NaN   \n",
       "title                                                          Toy Story   \n",
       "video                                                              False   \n",
       "vote_average                                                         7.7   \n",
       "vote_count                                                        5415.0   \n",
       "\n",
       "                                                                       1  \\\n",
       "adult                                                              False   \n",
       "belongs_to_collection                                                NaN   \n",
       "budget                                                          65000000   \n",
       "genres                 [{'id': 12, 'name': 'Adventure'}, {'id': 14, '...   \n",
       "homepage                                                             NaN   \n",
       "id                                                                  8844   \n",
       "imdb_id                                                        tt0113497   \n",
       "original_language                                                     en   \n",
       "original_title                                                   Jumanji   \n",
       "overview               When siblings Judy and Peter discover an encha...   \n",
       "popularity                                                     17.015539   \n",
       "poster_path                             /vzmL6fP7aPKNKPRTFnZmiUfciyV.jpg   \n",
       "production_companies   [{'name': 'TriStar Pictures', 'id': 559}, {'na...   \n",
       "production_countries   [{'iso_3166_1': 'US', 'name': 'United States o...   \n",
       "release_date                                                  1995-12-15   \n",
       "revenue                                                      262797249.0   \n",
       "runtime                                                            104.0   \n",
       "spoken_languages       [{'iso_639_1': 'en', 'name': 'English'}, {'iso...   \n",
       "status                                                          Released   \n",
       "tagline                        Roll the dice and unleash the excitement!   \n",
       "title                                                            Jumanji   \n",
       "video                                                              False   \n",
       "vote_average                                                         6.9   \n",
       "vote_count                                                        2413.0   \n",
       "\n",
       "                                                                       2  \n",
       "adult                                                              False  \n",
       "belongs_to_collection  {'id': 119050, 'name': 'Grumpy Old Men Collect...  \n",
       "budget                                                                 0  \n",
       "genres                 [{'id': 10749, 'name': 'Romance'}, {'id': 35, ...  \n",
       "homepage                                                             NaN  \n",
       "id                                                                 15602  \n",
       "imdb_id                                                        tt0113228  \n",
       "original_language                                                     en  \n",
       "original_title                                          Grumpier Old Men  \n",
       "overview               A family wedding reignites the ancient feud be...  \n",
       "popularity                                                       11.7129  \n",
       "poster_path                             /6ksm1sjKMFLbO7UY2i6G1ju9SML.jpg  \n",
       "production_companies   [{'name': 'Warner Bros.', 'id': 6194}, {'name'...  \n",
       "production_countries   [{'iso_3166_1': 'US', 'name': 'United States o...  \n",
       "release_date                                                  1995-12-22  \n",
       "revenue                                                              0.0  \n",
       "runtime                                                            101.0  \n",
       "spoken_languages                [{'iso_639_1': 'en', 'name': 'English'}]  \n",
       "status                                                          Released  \n",
       "tagline                Still Yelling. Still Fighting. Still Ready for...  \n",
       "title                                                   Grumpier Old Men  \n",
       "video                                                              False  \n",
       "vote_average                                                         6.5  \n",
       "vote_count                                                          92.0  "
      ]
     },
     "execution_count": 2,
     "metadata": {},
     "output_type": "execute_result"
    }
   ],
   "source": [
    "df = pd.read_csv('data/movies_metadata.csv')\n",
    "# Transpose for easier exploration of this dataset with many cols\n",
    "df.head(3).transpose()"
   ]
  },
  {
   "cell_type": "code",
   "execution_count": 3,
   "metadata": {},
   "outputs": [
    {
     "name": "stdout",
     "output_type": "stream",
     "text": [
      "<class 'pandas.core.frame.DataFrame'>\n",
      "RangeIndex: 45466 entries, 0 to 45465\n",
      "Data columns (total 24 columns):\n",
      " #   Column                 Non-Null Count  Dtype  \n",
      "---  ------                 --------------  -----  \n",
      " 0   adult                  45466 non-null  object \n",
      " 1   belongs_to_collection  4494 non-null   object \n",
      " 2   budget                 45466 non-null  object \n",
      " 3   genres                 45466 non-null  object \n",
      " 4   homepage               7782 non-null   object \n",
      " 5   id                     45466 non-null  object \n",
      " 6   imdb_id                45449 non-null  object \n",
      " 7   original_language      45455 non-null  object \n",
      " 8   original_title         45466 non-null  object \n",
      " 9   overview               44512 non-null  object \n",
      " 10  popularity             45461 non-null  object \n",
      " 11  poster_path            45080 non-null  object \n",
      " 12  production_companies   45463 non-null  object \n",
      " 13  production_countries   45463 non-null  object \n",
      " 14  release_date           45379 non-null  object \n",
      " 15  revenue                45460 non-null  float64\n",
      " 16  runtime                45203 non-null  float64\n",
      " 17  spoken_languages       45460 non-null  object \n",
      " 18  status                 45379 non-null  object \n",
      " 19  tagline                20412 non-null  object \n",
      " 20  title                  45460 non-null  object \n",
      " 21  video                  45460 non-null  object \n",
      " 22  vote_average           45460 non-null  float64\n",
      " 23  vote_count             45460 non-null  float64\n",
      "dtypes: float64(4), object(20)\n",
      "memory usage: 8.3+ MB\n"
     ]
    }
   ],
   "source": [
    "df.info()"
   ]
  },
  {
   "cell_type": "markdown",
   "metadata": {},
   "source": [
    "## Filtering out bad/barely known movies"
   ]
  },
  {
   "cell_type": "code",
   "execution_count": 4,
   "metadata": {},
   "outputs": [
    {
     "data": {
      "text/plain": [
       "35109"
      ]
     },
     "execution_count": 4,
     "metadata": {},
     "output_type": "execute_result"
    }
   ],
   "source": [
    "# Calculate the count of films that have vote_average < 4 or vote_count < 40\n",
    "len(df[(df['vote_average'] < 4) | (df['vote_count'] < 40)])"
   ]
  },
  {
   "cell_type": "markdown",
   "metadata": {},
   "source": [
    "As you can see, this dataset has a lot of mediocre movies. Therefore, to speed up calculations, let's remove them"
   ]
  },
  {
   "cell_type": "code",
   "execution_count": 5,
   "metadata": {},
   "outputs": [
    {
     "name": "stdout",
     "output_type": "stream",
     "text": [
      "<class 'pandas.core.frame.DataFrame'>\n",
      "Index: 10351 entries, 0 to 45441\n",
      "Data columns (total 24 columns):\n",
      " #   Column                 Non-Null Count  Dtype  \n",
      "---  ------                 --------------  -----  \n",
      " 0   adult                  10351 non-null  object \n",
      " 1   belongs_to_collection  2135 non-null   object \n",
      " 2   budget                 10351 non-null  object \n",
      " 3   genres                 10351 non-null  object \n",
      " 4   homepage               3001 non-null   object \n",
      " 5   id                     10351 non-null  object \n",
      " 6   imdb_id                10350 non-null  object \n",
      " 7   original_language      10351 non-null  object \n",
      " 8   original_title         10351 non-null  object \n",
      " 9   overview               10299 non-null  object \n",
      " 10  popularity             10351 non-null  object \n",
      " 11  poster_path            10351 non-null  object \n",
      " 12  production_companies   10351 non-null  object \n",
      " 13  production_countries   10351 non-null  object \n",
      " 14  release_date           10349 non-null  object \n",
      " 15  revenue                10351 non-null  float64\n",
      " 16  runtime                10348 non-null  float64\n",
      " 17  spoken_languages       10351 non-null  object \n",
      " 18  status                 10350 non-null  object \n",
      " 19  tagline                7739 non-null   object \n",
      " 20  title                  10351 non-null  object \n",
      " 21  video                  10351 non-null  object \n",
      " 22  vote_average           10351 non-null  float64\n",
      " 23  vote_count             10351 non-null  float64\n",
      "dtypes: float64(4), object(20)\n",
      "memory usage: 2.0+ MB\n"
     ]
    }
   ],
   "source": [
    "df = df[(df['vote_average'] >= 4) & (df['vote_count'] >= 40)]\n",
    "df.info()"
   ]
  },
  {
   "cell_type": "markdown",
   "metadata": {},
   "source": [
    "## Dropping unneeded columns"
   ]
  },
  {
   "cell_type": "code",
   "execution_count": 6,
   "metadata": {},
   "outputs": [
    {
     "data": {
      "text/plain": [
       "video\n",
       "False    10348\n",
       "True         3\n",
       "Name: count, dtype: int64"
      ]
     },
     "execution_count": 6,
     "metadata": {},
     "output_type": "execute_result"
    }
   ],
   "source": [
    "df[\"video\"].value_counts()"
   ]
  },
  {
   "cell_type": "code",
   "execution_count": 7,
   "metadata": {},
   "outputs": [
    {
     "data": {
      "text/plain": [
       "status\n",
       "Released           10335\n",
       "Post Production        6\n",
       "Rumored                4\n",
       "In Production          4\n",
       "Planned                1\n",
       "Name: count, dtype: int64"
      ]
     },
     "execution_count": 7,
     "metadata": {},
     "output_type": "execute_result"
    }
   ],
   "source": [
    "df[\"status\"].value_counts()"
   ]
  },
  {
   "cell_type": "markdown",
   "metadata": {},
   "source": [
    "The columns 'adult', 'status' and 'video' have predominantly one value, so let's remove them. Also, let's remove 'poster_path', 'hopepage' (too many null values), 'imdb_id', 'spoken_languages', 'overview' and 'tagline'\n",
    "\n",
    "Apart from this, let's drop not much useful for recommender columns"
   ]
  },
  {
   "cell_type": "code",
   "execution_count": 8,
   "metadata": {},
   "outputs": [
    {
     "data": {
      "text/html": [
       "<div>\n",
       "<style scoped>\n",
       "    .dataframe tbody tr th:only-of-type {\n",
       "        vertical-align: middle;\n",
       "    }\n",
       "\n",
       "    .dataframe tbody tr th {\n",
       "        vertical-align: top;\n",
       "    }\n",
       "\n",
       "    .dataframe thead th {\n",
       "        text-align: right;\n",
       "    }\n",
       "</style>\n",
       "<table border=\"1\" class=\"dataframe\">\n",
       "  <thead>\n",
       "    <tr style=\"text-align: right;\">\n",
       "      <th></th>\n",
       "      <th>0</th>\n",
       "      <th>1</th>\n",
       "      <th>2</th>\n",
       "    </tr>\n",
       "  </thead>\n",
       "  <tbody>\n",
       "    <tr>\n",
       "      <th>belongs_to_collection</th>\n",
       "      <td>{'id': 10194, 'name': 'Toy Story Collection', ...</td>\n",
       "      <td>NaN</td>\n",
       "      <td>{'id': 119050, 'name': 'Grumpy Old Men Collect...</td>\n",
       "    </tr>\n",
       "    <tr>\n",
       "      <th>genres</th>\n",
       "      <td>[{'id': 16, 'name': 'Animation'}, {'id': 35, '...</td>\n",
       "      <td>[{'id': 12, 'name': 'Adventure'}, {'id': 14, '...</td>\n",
       "      <td>[{'id': 10749, 'name': 'Romance'}, {'id': 35, ...</td>\n",
       "    </tr>\n",
       "    <tr>\n",
       "      <th>id</th>\n",
       "      <td>862</td>\n",
       "      <td>8844</td>\n",
       "      <td>15602</td>\n",
       "    </tr>\n",
       "    <tr>\n",
       "      <th>release_date</th>\n",
       "      <td>1995-10-30</td>\n",
       "      <td>1995-12-15</td>\n",
       "      <td>1995-12-22</td>\n",
       "    </tr>\n",
       "    <tr>\n",
       "      <th>title</th>\n",
       "      <td>Toy Story</td>\n",
       "      <td>Jumanji</td>\n",
       "      <td>Grumpier Old Men</td>\n",
       "    </tr>\n",
       "    <tr>\n",
       "      <th>vote_average</th>\n",
       "      <td>7.7</td>\n",
       "      <td>6.9</td>\n",
       "      <td>6.5</td>\n",
       "    </tr>\n",
       "    <tr>\n",
       "      <th>vote_count</th>\n",
       "      <td>5415.0</td>\n",
       "      <td>2413.0</td>\n",
       "      <td>92.0</td>\n",
       "    </tr>\n",
       "  </tbody>\n",
       "</table>\n",
       "</div>"
      ],
      "text/plain": [
       "                                                                       0  \\\n",
       "belongs_to_collection  {'id': 10194, 'name': 'Toy Story Collection', ...   \n",
       "genres                 [{'id': 16, 'name': 'Animation'}, {'id': 35, '...   \n",
       "id                                                                   862   \n",
       "release_date                                                  1995-10-30   \n",
       "title                                                          Toy Story   \n",
       "vote_average                                                         7.7   \n",
       "vote_count                                                        5415.0   \n",
       "\n",
       "                                                                       1  \\\n",
       "belongs_to_collection                                                NaN   \n",
       "genres                 [{'id': 12, 'name': 'Adventure'}, {'id': 14, '...   \n",
       "id                                                                  8844   \n",
       "release_date                                                  1995-12-15   \n",
       "title                                                            Jumanji   \n",
       "vote_average                                                         6.9   \n",
       "vote_count                                                        2413.0   \n",
       "\n",
       "                                                                       2  \n",
       "belongs_to_collection  {'id': 119050, 'name': 'Grumpy Old Men Collect...  \n",
       "genres                 [{'id': 10749, 'name': 'Romance'}, {'id': 35, ...  \n",
       "id                                                                 15602  \n",
       "release_date                                                  1995-12-22  \n",
       "title                                                   Grumpier Old Men  \n",
       "vote_average                                                         6.5  \n",
       "vote_count                                                          92.0  "
      ]
     },
     "execution_count": 8,
     "metadata": {},
     "output_type": "execute_result"
    }
   ],
   "source": [
    "df = df.drop(\n",
    "    [\n",
    "        \"adult\",\n",
    "        \"status\",\n",
    "        \"video\",\n",
    "        \"poster_path\",\n",
    "        \"original_title\",\n",
    "        \"homepage\",\n",
    "        \"imdb_id\",\n",
    "        \"spoken_languages\",\n",
    "        \"overview\",\n",
    "        \"tagline\",\n",
    "        \"original_language\",\n",
    "        \"production_companies\",\n",
    "        \"production_countries\",\n",
    "        \"runtime\",\n",
    "        \"popularity\",\n",
    "        \"budget\",\n",
    "        \"revenue\",\n",
    "    ],\n",
    "    axis=1,\n",
    ")\n",
    "df.head(3).transpose()"
   ]
  },
  {
   "cell_type": "markdown",
   "metadata": {},
   "source": [
    "Now let's have a look at dtypes"
   ]
  },
  {
   "cell_type": "markdown",
   "metadata": {},
   "source": [
    "## Converting dtypes to more appropriate ones"
   ]
  },
  {
   "cell_type": "code",
   "execution_count": 9,
   "metadata": {},
   "outputs": [
    {
     "data": {
      "text/plain": [
       "belongs_to_collection     object\n",
       "genres                    object\n",
       "id                        object\n",
       "release_date              object\n",
       "title                     object\n",
       "vote_average             float64\n",
       "vote_count               float64\n",
       "dtype: object"
      ]
     },
     "execution_count": 9,
     "metadata": {},
     "output_type": "execute_result"
    }
   ],
   "source": [
    "df.dtypes"
   ]
  },
  {
   "cell_type": "markdown",
   "metadata": {},
   "source": [
    "First of all, let's handle 'release_date' column"
   ]
  },
  {
   "cell_type": "code",
   "execution_count": 10,
   "metadata": {},
   "outputs": [
    {
     "name": "stdout",
     "output_type": "stream",
     "text": [
      "Number of rows with bad date values: 2\n"
     ]
    }
   ],
   "source": [
    "# Convert 'release_date' column to datetime type\n",
    "df['release_date'] = pd.to_datetime(df['release_date'], errors='coerce')\n",
    "# Count the number of rows with bad date values\n",
    "bad_date_count = df['release_date'].isnull().sum()\n",
    "print(f\"Number of rows with bad date values: {bad_date_count}\")"
   ]
  },
  {
   "cell_type": "markdown",
   "metadata": {},
   "source": [
    "Since 2 rows compared to 10,000 in total is nothing, we can freely remove them"
   ]
  },
  {
   "cell_type": "code",
   "execution_count": 11,
   "metadata": {},
   "outputs": [
    {
     "name": "stdout",
     "output_type": "stream",
     "text": [
      "Number of rows with bad date values: 0\n"
     ]
    }
   ],
   "source": [
    "# Remove rows with null or NaT values\n",
    "df = df.dropna(subset=['release_date'])\n",
    "bad_date_count = df['release_date'].isnull().sum()\n",
    "print(f\"Number of rows with bad date values: {bad_date_count}\")"
   ]
  },
  {
   "cell_type": "markdown",
   "metadata": {},
   "source": [
    "I don't like that columns with whole numbers like 'vote_count' have dtype set to float. Let's change that"
   ]
  },
  {
   "cell_type": "code",
   "execution_count": 12,
   "metadata": {},
   "outputs": [
    {
     "name": "stdout",
     "output_type": "stream",
     "text": [
      "belongs_to_collection            object\n",
      "genres                           object\n",
      "id                                int32\n",
      "release_date             datetime64[ns]\n",
      "title                            object\n",
      "vote_average                    float64\n",
      "vote_count                        int32\n",
      "dtype: object\n"
     ]
    }
   ],
   "source": [
    "# Specify columns and their new data types\n",
    "dict_columns_to_convert = {\n",
    "    \"vote_count\": \"int\",\n",
    "    \"id\": \"int\"\n",
    "}\n",
    "# Fill NaN values with 0\n",
    "cols_to_fill = list(dict_columns_to_convert.keys())\n",
    "df[cols_to_fill] = df[cols_to_fill].fillna(0)\n",
    "# Convert columns to integer type\n",
    "df = df.astype(dict_columns_to_convert)\n",
    "# Check the data types of the DataFrame\n",
    "print(df.dtypes)"
   ]
  },
  {
   "cell_type": "markdown",
   "metadata": {},
   "source": [
    "## Working with 'genres' column"
   ]
  },
  {
   "cell_type": "code",
   "execution_count": 13,
   "metadata": {},
   "outputs": [
    {
     "data": {
      "text/html": [
       "<div>\n",
       "<style scoped>\n",
       "    .dataframe tbody tr th:only-of-type {\n",
       "        vertical-align: middle;\n",
       "    }\n",
       "\n",
       "    .dataframe tbody tr th {\n",
       "        vertical-align: top;\n",
       "    }\n",
       "\n",
       "    .dataframe thead th {\n",
       "        text-align: right;\n",
       "    }\n",
       "</style>\n",
       "<table border=\"1\" class=\"dataframe\">\n",
       "  <thead>\n",
       "    <tr style=\"text-align: right;\">\n",
       "      <th></th>\n",
       "      <th>title</th>\n",
       "      <th>genres</th>\n",
       "    </tr>\n",
       "  </thead>\n",
       "  <tbody>\n",
       "    <tr>\n",
       "      <th>0</th>\n",
       "      <td>Toy Story</td>\n",
       "      <td>[Animation, Comedy, Family]</td>\n",
       "    </tr>\n",
       "    <tr>\n",
       "      <th>1</th>\n",
       "      <td>Jumanji</td>\n",
       "      <td>[Adventure, Family, Fantasy]</td>\n",
       "    </tr>\n",
       "    <tr>\n",
       "      <th>2</th>\n",
       "      <td>Grumpier Old Men</td>\n",
       "      <td>[Comedy, Romance]</td>\n",
       "    </tr>\n",
       "  </tbody>\n",
       "</table>\n",
       "</div>"
      ],
      "text/plain": [
       "              title                        genres\n",
       "0         Toy Story   [Animation, Comedy, Family]\n",
       "1           Jumanji  [Adventure, Family, Fantasy]\n",
       "2  Grumpier Old Men             [Comedy, Romance]"
      ]
     },
     "execution_count": 13,
     "metadata": {},
     "output_type": "execute_result"
    }
   ],
   "source": [
    "# Convert the stringified JSON into a list of dictionaries\n",
    "df[\"genres\"] = df[\"genres\"].apply(\n",
    "    lambda x: literal_eval(x.replace(\"'\", '\"')) if isinstance(x, str) else []\n",
    ")\n",
    "# Extract the names of genres into a list and sort them alphabetically\n",
    "df[\"genres\"] = df[\"genres\"].apply(\n",
    "    lambda x: sorted([genre[\"name\"] for genre in x]) if isinstance(x, list) else []\n",
    ")\n",
    "# Display the DataFrame with the extracted genre names\n",
    "df[[\"title\", \"genres\"]].head(3)"
   ]
  },
  {
   "cell_type": "code",
   "execution_count": 14,
   "metadata": {},
   "outputs": [
    {
     "name": "stdout",
     "output_type": "stream",
     "text": [
      "There are 20 unique genres.\n",
      "{'Music', 'Western', 'Romance', 'Family', 'Thriller', 'Foreign', 'TV Movie', 'Action', 'Crime', 'War', 'Animation', 'Drama', 'Horror', 'Mystery', 'Fantasy', 'Adventure', 'Comedy', 'Science Fiction', 'Documentary', 'History'}\n"
     ]
    }
   ],
   "source": [
    "# Flatten the list of genre names\n",
    "flat_genre_names = [genre for sublist in df[\"genres\"] for genre in sublist]\n",
    "# Get the unique genre names\n",
    "unique_genre_names = set(flat_genre_names)\n",
    "# Print the unique genre names\n",
    "print(f\"There are {len(unique_genre_names)} unique genres.\")\n",
    "print(unique_genre_names)"
   ]
  },
  {
   "cell_type": "markdown",
   "metadata": {},
   "source": [
    "We can see that 'genres' colomn has faulty data like 'Carousel Productions' or 'Vision View Entertainment', which sound like production companies, not genres. Thus, let's remove such values from the column"
   ]
  },
  {
   "cell_type": "code",
   "execution_count": 15,
   "metadata": {},
   "outputs": [],
   "source": [
    "# Define the list of valid genre names\n",
    "valid_genres = {\n",
    "    'Action', 'Adventure', 'Animation', 'Comedy', 'Crime', 'Documentary',\n",
    "    'Drama', 'Family', 'Fantasy', 'History', 'Horror', 'Mystery',\n",
    "    'Romance', 'Science Fiction', 'Thriller', 'War', 'Western'\n",
    "}\n",
    "# Filter the genre_names column to include only the valid genres\n",
    "df[\"genres\"] = df[\"genres\"].apply(lambda x: [genre for genre in x if genre in valid_genres])"
   ]
  },
  {
   "cell_type": "markdown",
   "metadata": {},
   "source": [
    "Now let's check again"
   ]
  },
  {
   "cell_type": "code",
   "execution_count": 16,
   "metadata": {},
   "outputs": [
    {
     "name": "stdout",
     "output_type": "stream",
     "text": [
      "There are 17 unique genres.\n",
      "{'Mystery', 'Fantasy', 'Thriller', 'Western', 'Adventure', 'Romance', 'Comedy', 'Family', 'Action', 'Science Fiction', 'Animation', 'Crime', 'Documentary', 'Drama', 'Horror', 'War', 'History'}\n"
     ]
    }
   ],
   "source": [
    "flat_genre_names = [genre for sublist in df[\"genres\"] for genre in sublist]\n",
    "unique_genre_names = set(flat_genre_names)\n",
    "print(f\"There are {len(unique_genre_names)} unique genres.\")\n",
    "print(unique_genre_names)"
   ]
  },
  {
   "cell_type": "code",
   "execution_count": 17,
   "metadata": {},
   "outputs": [
    {
     "data": {
      "text/plain": [
       "genres\n",
       "[Comedy]                    808\n",
       "[Drama]                     785\n",
       "[Comedy, Drama]             423\n",
       "[Drama, Romance]            398\n",
       "[Comedy, Drama, Romance]    355\n",
       "[Comedy, Romance]           298\n",
       "[Horror, Thriller]          262\n",
       "Name: count, dtype: int64"
      ]
     },
     "execution_count": 17,
     "metadata": {},
     "output_type": "execute_result"
    }
   ],
   "source": [
    "df[\"genres\"].value_counts().head(7)"
   ]
  },
  {
   "cell_type": "code",
   "execution_count": 18,
   "metadata": {},
   "outputs": [],
   "source": [
    "# Convert the list of genres into a string with comma as a delimiter\n",
    "df[\"genres\"] = df[\"genres\"].apply(lambda x: \", \".join(x) if x else None)"
   ]
  },
  {
   "cell_type": "code",
   "execution_count": 19,
   "metadata": {},
   "outputs": [
    {
     "data": {
      "text/plain": [
       "genres\n",
       "Comedy                    808\n",
       "Drama                     785\n",
       "Comedy, Drama             423\n",
       "Drama, Romance            398\n",
       "Comedy, Drama, Romance    355\n",
       "Comedy, Romance           298\n",
       "Horror, Thriller          262\n",
       "Name: count, dtype: int64"
      ]
     },
     "execution_count": 19,
     "metadata": {},
     "output_type": "execute_result"
    }
   ],
   "source": [
    "df[\"genres\"].value_counts().head(7)"
   ]
  },
  {
   "cell_type": "code",
   "execution_count": 20,
   "metadata": {},
   "outputs": [
    {
     "data": {
      "text/html": [
       "<div>\n",
       "<style scoped>\n",
       "    .dataframe tbody tr th:only-of-type {\n",
       "        vertical-align: middle;\n",
       "    }\n",
       "\n",
       "    .dataframe tbody tr th {\n",
       "        vertical-align: top;\n",
       "    }\n",
       "\n",
       "    .dataframe thead th {\n",
       "        text-align: right;\n",
       "    }\n",
       "</style>\n",
       "<table border=\"1\" class=\"dataframe\">\n",
       "  <thead>\n",
       "    <tr style=\"text-align: right;\">\n",
       "      <th></th>\n",
       "      <th>0</th>\n",
       "      <th>1</th>\n",
       "      <th>2</th>\n",
       "      <th>4</th>\n",
       "      <th>5</th>\n",
       "    </tr>\n",
       "  </thead>\n",
       "  <tbody>\n",
       "    <tr>\n",
       "      <th>belongs_to_collection</th>\n",
       "      <td>{'id': 10194, 'name': 'Toy Story Collection', ...</td>\n",
       "      <td>NaN</td>\n",
       "      <td>{'id': 119050, 'name': 'Grumpy Old Men Collect...</td>\n",
       "      <td>{'id': 96871, 'name': 'Father of the Bride Col...</td>\n",
       "      <td>NaN</td>\n",
       "    </tr>\n",
       "    <tr>\n",
       "      <th>genres</th>\n",
       "      <td>Animation, Comedy, Family</td>\n",
       "      <td>Adventure, Family, Fantasy</td>\n",
       "      <td>Comedy, Romance</td>\n",
       "      <td>Comedy</td>\n",
       "      <td>Action, Crime, Drama, Thriller</td>\n",
       "    </tr>\n",
       "    <tr>\n",
       "      <th>id</th>\n",
       "      <td>862</td>\n",
       "      <td>8844</td>\n",
       "      <td>15602</td>\n",
       "      <td>11862</td>\n",
       "      <td>949</td>\n",
       "    </tr>\n",
       "    <tr>\n",
       "      <th>release_date</th>\n",
       "      <td>1995-10-30 00:00:00</td>\n",
       "      <td>1995-12-15 00:00:00</td>\n",
       "      <td>1995-12-22 00:00:00</td>\n",
       "      <td>1995-02-10 00:00:00</td>\n",
       "      <td>1995-12-15 00:00:00</td>\n",
       "    </tr>\n",
       "    <tr>\n",
       "      <th>title</th>\n",
       "      <td>Toy Story</td>\n",
       "      <td>Jumanji</td>\n",
       "      <td>Grumpier Old Men</td>\n",
       "      <td>Father of the Bride Part II</td>\n",
       "      <td>Heat</td>\n",
       "    </tr>\n",
       "    <tr>\n",
       "      <th>vote_average</th>\n",
       "      <td>7.7</td>\n",
       "      <td>6.9</td>\n",
       "      <td>6.5</td>\n",
       "      <td>5.7</td>\n",
       "      <td>7.7</td>\n",
       "    </tr>\n",
       "    <tr>\n",
       "      <th>vote_count</th>\n",
       "      <td>5415</td>\n",
       "      <td>2413</td>\n",
       "      <td>92</td>\n",
       "      <td>173</td>\n",
       "      <td>1886</td>\n",
       "    </tr>\n",
       "  </tbody>\n",
       "</table>\n",
       "</div>"
      ],
      "text/plain": [
       "                                                                       0  \\\n",
       "belongs_to_collection  {'id': 10194, 'name': 'Toy Story Collection', ...   \n",
       "genres                                         Animation, Comedy, Family   \n",
       "id                                                                   862   \n",
       "release_date                                         1995-10-30 00:00:00   \n",
       "title                                                          Toy Story   \n",
       "vote_average                                                         7.7   \n",
       "vote_count                                                          5415   \n",
       "\n",
       "                                                1  \\\n",
       "belongs_to_collection                         NaN   \n",
       "genres                 Adventure, Family, Fantasy   \n",
       "id                                           8844   \n",
       "release_date                  1995-12-15 00:00:00   \n",
       "title                                     Jumanji   \n",
       "vote_average                                  6.9   \n",
       "vote_count                                   2413   \n",
       "\n",
       "                                                                       2  \\\n",
       "belongs_to_collection  {'id': 119050, 'name': 'Grumpy Old Men Collect...   \n",
       "genres                                                   Comedy, Romance   \n",
       "id                                                                 15602   \n",
       "release_date                                         1995-12-22 00:00:00   \n",
       "title                                                   Grumpier Old Men   \n",
       "vote_average                                                         6.5   \n",
       "vote_count                                                            92   \n",
       "\n",
       "                                                                       4  \\\n",
       "belongs_to_collection  {'id': 96871, 'name': 'Father of the Bride Col...   \n",
       "genres                                                            Comedy   \n",
       "id                                                                 11862   \n",
       "release_date                                         1995-02-10 00:00:00   \n",
       "title                                        Father of the Bride Part II   \n",
       "vote_average                                                         5.7   \n",
       "vote_count                                                           173   \n",
       "\n",
       "                                                    5  \n",
       "belongs_to_collection                             NaN  \n",
       "genres                 Action, Crime, Drama, Thriller  \n",
       "id                                                949  \n",
       "release_date                      1995-12-15 00:00:00  \n",
       "title                                            Heat  \n",
       "vote_average                                      7.7  \n",
       "vote_count                                       1886  "
      ]
     },
     "execution_count": 20,
     "metadata": {},
     "output_type": "execute_result"
    }
   ],
   "source": [
    "df.head().transpose()"
   ]
  },
  {
   "cell_type": "markdown",
   "metadata": {},
   "source": [
    "## Working with 'belongs_to_collection' column"
   ]
  },
  {
   "cell_type": "code",
   "execution_count": 21,
   "metadata": {},
   "outputs": [],
   "source": [
    "def extract_franchise_name(x):\n",
    "    try:\n",
    "        # Use literal_eval to safely evaluate the string as a Python dictionary\n",
    "        # Extract the 'name' value from the dictionary\n",
    "        return literal_eval(x)[\"name\"]\n",
    "    except (ValueError, TypeError):\n",
    "        return None\n",
    "\n",
    "# Apply the extract_franchise_name function to each value in the 'belongs_to_collection' column\n",
    "df[\"franchise\"] = df[\"belongs_to_collection\"].apply(extract_franchise_name).str.strip()\n",
    "# Remove the word 'Collection' (case-insensitive) from the end of each franchise name\n",
    "df[\"franchise\"] = df[\"franchise\"].str.replace(r\"[Cc]ollection$\", \"\", regex=True)\n",
    "# Remove trailing spaces before and after the string\n",
    "df[\"franchise\"] = df[\"franchise\"].str.strip()\n",
    "df = df.drop([\"belongs_to_collection\"], axis=1)"
   ]
  },
  {
   "cell_type": "code",
   "execution_count": 22,
   "metadata": {},
   "outputs": [
    {
     "data": {
      "text/plain": [
       "franchise\n",
       "James Bond               26\n",
       "Dragon Ball Z (Movie)    15\n",
       "Pokémon                  12\n",
       "Friday the 13th          12\n",
       "Fantozzi                 10\n",
       "Name: count, dtype: int64"
      ]
     },
     "execution_count": 22,
     "metadata": {},
     "output_type": "execute_result"
    }
   ],
   "source": [
    "df[\"franchise\"].value_counts().head()"
   ]
  },
  {
   "cell_type": "markdown",
   "metadata": {},
   "source": [
    "Time to rearrange columns a little bit because I'm not happy with the order of columns"
   ]
  },
  {
   "cell_type": "markdown",
   "metadata": {},
   "source": [
    "## Changing column order"
   ]
  },
  {
   "cell_type": "code",
   "execution_count": 23,
   "metadata": {},
   "outputs": [
    {
     "data": {
      "text/html": [
       "<div>\n",
       "<style scoped>\n",
       "    .dataframe tbody tr th:only-of-type {\n",
       "        vertical-align: middle;\n",
       "    }\n",
       "\n",
       "    .dataframe tbody tr th {\n",
       "        vertical-align: top;\n",
       "    }\n",
       "\n",
       "    .dataframe thead th {\n",
       "        text-align: right;\n",
       "    }\n",
       "</style>\n",
       "<table border=\"1\" class=\"dataframe\">\n",
       "  <thead>\n",
       "    <tr style=\"text-align: right;\">\n",
       "      <th></th>\n",
       "      <th>0</th>\n",
       "      <th>1</th>\n",
       "      <th>2</th>\n",
       "    </tr>\n",
       "  </thead>\n",
       "  <tbody>\n",
       "    <tr>\n",
       "      <th>id</th>\n",
       "      <td>862</td>\n",
       "      <td>8844</td>\n",
       "      <td>15602</td>\n",
       "    </tr>\n",
       "    <tr>\n",
       "      <th>title</th>\n",
       "      <td>Toy Story</td>\n",
       "      <td>Jumanji</td>\n",
       "      <td>Grumpier Old Men</td>\n",
       "    </tr>\n",
       "    <tr>\n",
       "      <th>franchise</th>\n",
       "      <td>Toy Story</td>\n",
       "      <td>None</td>\n",
       "      <td>Grumpy Old Men</td>\n",
       "    </tr>\n",
       "    <tr>\n",
       "      <th>release_date</th>\n",
       "      <td>1995-10-30 00:00:00</td>\n",
       "      <td>1995-12-15 00:00:00</td>\n",
       "      <td>1995-12-22 00:00:00</td>\n",
       "    </tr>\n",
       "    <tr>\n",
       "      <th>genres</th>\n",
       "      <td>Animation, Comedy, Family</td>\n",
       "      <td>Adventure, Family, Fantasy</td>\n",
       "      <td>Comedy, Romance</td>\n",
       "    </tr>\n",
       "    <tr>\n",
       "      <th>vote_average</th>\n",
       "      <td>7.7</td>\n",
       "      <td>6.9</td>\n",
       "      <td>6.5</td>\n",
       "    </tr>\n",
       "    <tr>\n",
       "      <th>vote_count</th>\n",
       "      <td>5415</td>\n",
       "      <td>2413</td>\n",
       "      <td>92</td>\n",
       "    </tr>\n",
       "  </tbody>\n",
       "</table>\n",
       "</div>"
      ],
      "text/plain": [
       "                                      0                           1  \\\n",
       "id                                  862                        8844   \n",
       "title                         Toy Story                     Jumanji   \n",
       "franchise                     Toy Story                        None   \n",
       "release_date        1995-10-30 00:00:00         1995-12-15 00:00:00   \n",
       "genres        Animation, Comedy, Family  Adventure, Family, Fantasy   \n",
       "vote_average                        7.7                         6.9   \n",
       "vote_count                         5415                        2413   \n",
       "\n",
       "                                2  \n",
       "id                          15602  \n",
       "title            Grumpier Old Men  \n",
       "franchise          Grumpy Old Men  \n",
       "release_date  1995-12-22 00:00:00  \n",
       "genres            Comedy, Romance  \n",
       "vote_average                  6.5  \n",
       "vote_count                     92  "
      ]
     },
     "execution_count": 23,
     "metadata": {},
     "output_type": "execute_result"
    }
   ],
   "source": [
    "new_cols_order = [\n",
    "    \"id\",\n",
    "    \"title\",\n",
    "    \"franchise\",\n",
    "    \"release_date\",\n",
    "    \"genres\",\n",
    "    \"vote_average\",\n",
    "    \"vote_count\"\n",
    "]\n",
    "df = df[new_cols_order]\n",
    "df.head(3).transpose()"
   ]
  },
  {
   "cell_type": "code",
   "execution_count": 24,
   "metadata": {},
   "outputs": [
    {
     "name": "stdout",
     "output_type": "stream",
     "text": [
      "<class 'pandas.core.frame.DataFrame'>\n",
      "Index: 10349 entries, 0 to 45441\n",
      "Data columns (total 7 columns):\n",
      " #   Column        Non-Null Count  Dtype         \n",
      "---  ------        --------------  -----         \n",
      " 0   id            10349 non-null  int32         \n",
      " 1   title         10349 non-null  object        \n",
      " 2   franchise     2135 non-null   object        \n",
      " 3   release_date  10349 non-null  datetime64[ns]\n",
      " 4   genres        10332 non-null  object        \n",
      " 5   vote_average  10349 non-null  float64       \n",
      " 6   vote_count    10349 non-null  int32         \n",
      "dtypes: datetime64[ns](1), float64(1), int32(2), object(3)\n",
      "memory usage: 566.0+ KB\n"
     ]
    }
   ],
   "source": [
    "df.info()"
   ]
  },
  {
   "cell_type": "markdown",
   "metadata": {},
   "source": [
    "## Adding data from other two datasets"
   ]
  },
  {
   "cell_type": "code",
   "execution_count": 23,
   "metadata": {},
   "outputs": [],
   "source": [
    "credits = pd.read_csv('data/credits.csv')\n",
    "keywords = pd.read_csv('data/keywords.csv')"
   ]
  },
  {
   "cell_type": "code",
   "execution_count": 24,
   "metadata": {},
   "outputs": [
    {
     "data": {
      "text/html": [
       "<div>\n",
       "<style scoped>\n",
       "    .dataframe tbody tr th:only-of-type {\n",
       "        vertical-align: middle;\n",
       "    }\n",
       "\n",
       "    .dataframe tbody tr th {\n",
       "        vertical-align: top;\n",
       "    }\n",
       "\n",
       "    .dataframe thead th {\n",
       "        text-align: right;\n",
       "    }\n",
       "</style>\n",
       "<table border=\"1\" class=\"dataframe\">\n",
       "  <thead>\n",
       "    <tr style=\"text-align: right;\">\n",
       "      <th></th>\n",
       "      <th>id</th>\n",
       "      <th>title</th>\n",
       "      <th>franchise</th>\n",
       "      <th>release_date</th>\n",
       "      <th>genres</th>\n",
       "      <th>vote_average</th>\n",
       "      <th>vote_count</th>\n",
       "      <th>cast</th>\n",
       "      <th>crew</th>\n",
       "      <th>keywords</th>\n",
       "    </tr>\n",
       "  </thead>\n",
       "  <tbody>\n",
       "    <tr>\n",
       "      <th>0</th>\n",
       "      <td>862</td>\n",
       "      <td>Toy Story</td>\n",
       "      <td>Toy Story</td>\n",
       "      <td>1995-10-30</td>\n",
       "      <td>Animation, Comedy, Family</td>\n",
       "      <td>7.7</td>\n",
       "      <td>5415</td>\n",
       "      <td>[{'cast_id': 14, 'character': 'Woody (voice)',...</td>\n",
       "      <td>[{'credit_id': '52fe4284c3a36847f8024f49', 'de...</td>\n",
       "      <td>[{'id': 931, 'name': 'jealousy'}, {'id': 4290,...</td>\n",
       "    </tr>\n",
       "    <tr>\n",
       "      <th>1</th>\n",
       "      <td>8844</td>\n",
       "      <td>Jumanji</td>\n",
       "      <td>None</td>\n",
       "      <td>1995-12-15</td>\n",
       "      <td>Adventure, Family, Fantasy</td>\n",
       "      <td>6.9</td>\n",
       "      <td>2413</td>\n",
       "      <td>[{'cast_id': 1, 'character': 'Alan Parrish', '...</td>\n",
       "      <td>[{'credit_id': '52fe44bfc3a36847f80a7cd1', 'de...</td>\n",
       "      <td>[{'id': 10090, 'name': 'board game'}, {'id': 1...</td>\n",
       "    </tr>\n",
       "    <tr>\n",
       "      <th>2</th>\n",
       "      <td>15602</td>\n",
       "      <td>Grumpier Old Men</td>\n",
       "      <td>Grumpy Old Men</td>\n",
       "      <td>1995-12-22</td>\n",
       "      <td>Comedy, Romance</td>\n",
       "      <td>6.5</td>\n",
       "      <td>92</td>\n",
       "      <td>[{'cast_id': 2, 'character': 'Max Goldman', 'c...</td>\n",
       "      <td>[{'credit_id': '52fe466a9251416c75077a89', 'de...</td>\n",
       "      <td>[{'id': 1495, 'name': 'fishing'}, {'id': 12392...</td>\n",
       "    </tr>\n",
       "  </tbody>\n",
       "</table>\n",
       "</div>"
      ],
      "text/plain": [
       "      id             title       franchise release_date  \\\n",
       "0    862         Toy Story       Toy Story   1995-10-30   \n",
       "1   8844           Jumanji            None   1995-12-15   \n",
       "2  15602  Grumpier Old Men  Grumpy Old Men   1995-12-22   \n",
       "\n",
       "                       genres  vote_average  vote_count  \\\n",
       "0   Animation, Comedy, Family           7.7        5415   \n",
       "1  Adventure, Family, Fantasy           6.9        2413   \n",
       "2             Comedy, Romance           6.5          92   \n",
       "\n",
       "                                                cast  \\\n",
       "0  [{'cast_id': 14, 'character': 'Woody (voice)',...   \n",
       "1  [{'cast_id': 1, 'character': 'Alan Parrish', '...   \n",
       "2  [{'cast_id': 2, 'character': 'Max Goldman', 'c...   \n",
       "\n",
       "                                                crew  \\\n",
       "0  [{'credit_id': '52fe4284c3a36847f8024f49', 'de...   \n",
       "1  [{'credit_id': '52fe44bfc3a36847f80a7cd1', 'de...   \n",
       "2  [{'credit_id': '52fe466a9251416c75077a89', 'de...   \n",
       "\n",
       "                                            keywords  \n",
       "0  [{'id': 931, 'name': 'jealousy'}, {'id': 4290,...  \n",
       "1  [{'id': 10090, 'name': 'board game'}, {'id': 1...  \n",
       "2  [{'id': 1495, 'name': 'fishing'}, {'id': 12392...  "
      ]
     },
     "execution_count": 24,
     "metadata": {},
     "output_type": "execute_result"
    }
   ],
   "source": [
    "df = df.merge(credits, on='id')\n",
    "df = df.merge(keywords, on='id')\n",
    "df.head(3)"
   ]
  },
  {
   "cell_type": "markdown",
   "metadata": {},
   "source": [
    "## Extracting director"
   ]
  },
  {
   "cell_type": "code",
   "execution_count": 25,
   "metadata": {},
   "outputs": [],
   "source": [
    "def extract_director(crew_list):\n",
    "    for crew_member in crew_list:\n",
    "        if crew_member[\"job\"] == \"Director\":\n",
    "            return crew_member[\"name\"]\n",
    "    return None\n",
    "\n",
    "# For function get_director to work, convert the string representations to actual dictionaries\n",
    "df[\"crew\"] = df[\"crew\"].apply(literal_eval)\n",
    "# Extract the director's name for each movie\n",
    "df[\"director\"] = df[\"crew\"].apply(extract_director)"
   ]
  },
  {
   "cell_type": "code",
   "execution_count": 26,
   "metadata": {},
   "outputs": [
    {
     "data": {
      "text/plain": [
       "director\n",
       "Woody Allen         47\n",
       "Alfred Hitchcock    36\n",
       "Clint Eastwood      33\n",
       "Steven Spielberg    31\n",
       "Martin Scorsese     25\n",
       "Name: count, dtype: int64"
      ]
     },
     "execution_count": 26,
     "metadata": {},
     "output_type": "execute_result"
    }
   ],
   "source": [
    "df[\"director\"].value_counts().head()"
   ]
  },
  {
   "cell_type": "code",
   "execution_count": 28,
   "metadata": {},
   "outputs": [
    {
     "data": {
      "text/html": [
       "<div>\n",
       "<style scoped>\n",
       "    .dataframe tbody tr th:only-of-type {\n",
       "        vertical-align: middle;\n",
       "    }\n",
       "\n",
       "    .dataframe tbody tr th {\n",
       "        vertical-align: top;\n",
       "    }\n",
       "\n",
       "    .dataframe thead th {\n",
       "        text-align: right;\n",
       "    }\n",
       "</style>\n",
       "<table border=\"1\" class=\"dataframe\">\n",
       "  <thead>\n",
       "    <tr style=\"text-align: right;\">\n",
       "      <th></th>\n",
       "      <th>title</th>\n",
       "      <th>release_date</th>\n",
       "      <th>genres</th>\n",
       "      <th>director</th>\n",
       "    </tr>\n",
       "  </thead>\n",
       "  <tbody>\n",
       "    <tr>\n",
       "      <th>14</th>\n",
       "      <td>Casino</td>\n",
       "      <td>1995-11-22</td>\n",
       "      <td>Crime, Drama</td>\n",
       "      <td>Martin Scorsese</td>\n",
       "    </tr>\n",
       "    <tr>\n",
       "      <th>70</th>\n",
       "      <td>Taxi Driver</td>\n",
       "      <td>1976-02-07</td>\n",
       "      <td>Crime, Drama</td>\n",
       "      <td>Martin Scorsese</td>\n",
       "    </tr>\n",
       "    <tr>\n",
       "      <th>233</th>\n",
       "      <td>The Age of Innocence</td>\n",
       "      <td>1993-09-17</td>\n",
       "      <td>Drama, Romance</td>\n",
       "      <td>Martin Scorsese</td>\n",
       "    </tr>\n",
       "    <tr>\n",
       "      <th>631</th>\n",
       "      <td>GoodFellas</td>\n",
       "      <td>1990-09-12</td>\n",
       "      <td>Crime, Drama</td>\n",
       "      <td>Martin Scorsese</td>\n",
       "    </tr>\n",
       "    <tr>\n",
       "      <th>646</th>\n",
       "      <td>Raging Bull</td>\n",
       "      <td>1980-11-14</td>\n",
       "      <td>Drama</td>\n",
       "      <td>Martin Scorsese</td>\n",
       "    </tr>\n",
       "    <tr>\n",
       "      <th>734</th>\n",
       "      <td>Cape Fear</td>\n",
       "      <td>1991-11-15</td>\n",
       "      <td>Crime, Thriller</td>\n",
       "      <td>Martin Scorsese</td>\n",
       "    </tr>\n",
       "    <tr>\n",
       "      <th>906</th>\n",
       "      <td>Kundun</td>\n",
       "      <td>1997-12-25</td>\n",
       "      <td>Drama</td>\n",
       "      <td>Martin Scorsese</td>\n",
       "    </tr>\n",
       "    <tr>\n",
       "      <th>1060</th>\n",
       "      <td>The Last Temptation of Christ</td>\n",
       "      <td>1988-08-12</td>\n",
       "      <td>Drama</td>\n",
       "      <td>Martin Scorsese</td>\n",
       "    </tr>\n",
       "    <tr>\n",
       "      <th>1354</th>\n",
       "      <td>The Color of Money</td>\n",
       "      <td>1986-10-07</td>\n",
       "      <td>Drama</td>\n",
       "      <td>Martin Scorsese</td>\n",
       "    </tr>\n",
       "    <tr>\n",
       "      <th>1629</th>\n",
       "      <td>Bringing Out the Dead</td>\n",
       "      <td>1999-10-22</td>\n",
       "      <td>Drama</td>\n",
       "      <td>Martin Scorsese</td>\n",
       "    </tr>\n",
       "  </tbody>\n",
       "</table>\n",
       "</div>"
      ],
      "text/plain": [
       "                              title release_date           genres  \\\n",
       "14                           Casino   1995-11-22     Crime, Drama   \n",
       "70                      Taxi Driver   1976-02-07     Crime, Drama   \n",
       "233            The Age of Innocence   1993-09-17   Drama, Romance   \n",
       "631                      GoodFellas   1990-09-12     Crime, Drama   \n",
       "646                     Raging Bull   1980-11-14            Drama   \n",
       "734                       Cape Fear   1991-11-15  Crime, Thriller   \n",
       "906                          Kundun   1997-12-25            Drama   \n",
       "1060  The Last Temptation of Christ   1988-08-12            Drama   \n",
       "1354             The Color of Money   1986-10-07            Drama   \n",
       "1629          Bringing Out the Dead   1999-10-22            Drama   \n",
       "\n",
       "             director  \n",
       "14    Martin Scorsese  \n",
       "70    Martin Scorsese  \n",
       "233   Martin Scorsese  \n",
       "631   Martin Scorsese  \n",
       "646   Martin Scorsese  \n",
       "734   Martin Scorsese  \n",
       "906   Martin Scorsese  \n",
       "1060  Martin Scorsese  \n",
       "1354  Martin Scorsese  \n",
       "1629  Martin Scorsese  "
      ]
     },
     "execution_count": 28,
     "metadata": {},
     "output_type": "execute_result"
    }
   ],
   "source": [
    "df[df[\"director\"] == \"Martin Scorsese\"][[\"title\", \"release_date\", \"genres\", \"director\"]].head(10)"
   ]
  },
  {
   "cell_type": "markdown",
   "metadata": {},
   "source": [
    "## Extracting top actors"
   ]
  },
  {
   "cell_type": "code",
   "execution_count": 29,
   "metadata": {},
   "outputs": [],
   "source": [
    "def extract_actors(cast_list):\n",
    "    top_actors = []\n",
    "    for actor in cast_list[:3]:  # Select the top 3 actors\n",
    "        top_actors.append(actor[\"name\"])\n",
    "    return \", \".join(top_actors)\n",
    "\n",
    "# Convert the string representations to actual dictionaries\n",
    "df[\"cast\"] = df[\"cast\"].apply(literal_eval)\n",
    "# Extract the top 3 actor names for each movie\n",
    "df[\"top_actors\"] = df[\"cast\"].apply(extract_actors)"
   ]
  },
  {
   "cell_type": "code",
   "execution_count": 31,
   "metadata": {},
   "outputs": [
    {
     "data": {
      "text/html": [
       "<div>\n",
       "<style scoped>\n",
       "    .dataframe tbody tr th:only-of-type {\n",
       "        vertical-align: middle;\n",
       "    }\n",
       "\n",
       "    .dataframe tbody tr th {\n",
       "        vertical-align: top;\n",
       "    }\n",
       "\n",
       "    .dataframe thead th {\n",
       "        text-align: right;\n",
       "    }\n",
       "</style>\n",
       "<table border=\"1\" class=\"dataframe\">\n",
       "  <thead>\n",
       "    <tr style=\"text-align: right;\">\n",
       "      <th></th>\n",
       "      <th>title</th>\n",
       "      <th>release_date</th>\n",
       "      <th>genres</th>\n",
       "      <th>director</th>\n",
       "      <th>top_actors</th>\n",
       "    </tr>\n",
       "  </thead>\n",
       "  <tbody>\n",
       "    <tr>\n",
       "      <th>615</th>\n",
       "      <td>The Empire Strikes Back</td>\n",
       "      <td>1980-05-17</td>\n",
       "      <td>Action, Adventure, Science Fiction</td>\n",
       "      <td>Irvin Kershner</td>\n",
       "      <td>Mark Hamill, Harrison Ford, Carrie Fisher</td>\n",
       "    </tr>\n",
       "  </tbody>\n",
       "</table>\n",
       "</div>"
      ],
      "text/plain": [
       "                       title release_date                              genres  \\\n",
       "615  The Empire Strikes Back   1980-05-17  Action, Adventure, Science Fiction   \n",
       "\n",
       "           director                                 top_actors  \n",
       "615  Irvin Kershner  Mark Hamill, Harrison Ford, Carrie Fisher  "
      ]
     },
     "execution_count": 31,
     "metadata": {},
     "output_type": "execute_result"
    }
   ],
   "source": [
    "df[df[\"title\"] == \"The Empire Strikes Back\"][[\"title\", \"release_date\", \"genres\", \"director\", \"top_actors\"]]"
   ]
  },
  {
   "cell_type": "markdown",
   "metadata": {},
   "source": [
    "## Extracting keywords"
   ]
  },
  {
   "cell_type": "code",
   "execution_count": 32,
   "metadata": {},
   "outputs": [
    {
     "name": "stdout",
     "output_type": "stream",
     "text": [
      "woman director: 655\n",
      "murder: 480\n",
      "independent film: 434\n",
      "based on novel: 387\n",
      "duringcreditsstinger: 385\n",
      "violence: 340\n",
      "revenge: 259\n",
      "sex: 252\n",
      "police: 232\n",
      "suspense: 230\n"
     ]
    }
   ],
   "source": [
    "from collections import Counter\n",
    "import pandas as pd\n",
    "\n",
    "# Convert the string representations to actual dictionaries\n",
    "df[\"keywords\"] = df[\"keywords\"].apply(literal_eval)\n",
    "# Flatten the list of dictionaries in the 'keywords' column\n",
    "keywords = [keyword[\"name\"] for sublist in df[\"keywords\"] for keyword in sublist]\n",
    "# Count the frequencies of each keyword\n",
    "keyword_counts = Counter(keywords)\n",
    "# Sort the keywords based on their frequencies in descending order\n",
    "sorted_keywords = sorted(keyword_counts.items(), key=lambda x: x[1], reverse=True)\n",
    "# Remove keywords that rarely occur\n",
    "sorted_keywords_filtered = [(keyword, count) for keyword, count in sorted_keywords if count > 9]\n",
    "# Create a set of keywords that appear in sorted_keywords_filtered\n",
    "filtered_keywords_set = set([keyword for keyword, _ in sorted_keywords_filtered])\n",
    "# Print the sorted and filtered keywords\n",
    "for keyword, count in sorted_keywords_filtered[:10]:\n",
    "    print(f\"{keyword}: {count}\")"
   ]
  },
  {
   "cell_type": "code",
   "execution_count": 33,
   "metadata": {},
   "outputs": [
    {
     "name": "stdout",
     "output_type": "stream",
     "text": [
      "Number of unique keywords before filtering: 13953\n",
      "Number of unique keywords after filtering: 1553\n"
     ]
    }
   ],
   "source": [
    "# Print the number of unique keywords\n",
    "num_unique_keywords_before = len(keyword_counts)\n",
    "print(f\"Number of unique keywords before filtering: {num_unique_keywords_before}\")\n",
    "num_unique_keywords_after = len(sorted_keywords_filtered)\n",
    "print(f\"Number of unique keywords after filtering: {num_unique_keywords_after}\")"
   ]
  },
  {
   "cell_type": "code",
   "execution_count": 34,
   "metadata": {},
   "outputs": [],
   "source": [
    "def filter_keywords(keywords_list):\n",
    "    filtered_keywords = []\n",
    "    for keyword in keywords_list:\n",
    "        if keyword[\"name\"] in filtered_keywords_set and len(filtered_keywords) < 5:\n",
    "            filtered_keywords.append(keyword[\"name\"])\n",
    "            if len(filtered_keywords) == 5:\n",
    "                break\n",
    "    return \", \".join(filtered_keywords)\n",
    "\n",
    "# Add a new column 'filtered_keywords' to the DataFrame\n",
    "df['filtered_keywords'] = df['keywords'].apply(filter_keywords)"
   ]
  },
  {
   "cell_type": "code",
   "execution_count": 35,
   "metadata": {},
   "outputs": [
    {
     "data": {
      "text/html": [
       "<div>\n",
       "<style scoped>\n",
       "    .dataframe tbody tr th:only-of-type {\n",
       "        vertical-align: middle;\n",
       "    }\n",
       "\n",
       "    .dataframe tbody tr th {\n",
       "        vertical-align: top;\n",
       "    }\n",
       "\n",
       "    .dataframe thead th {\n",
       "        text-align: right;\n",
       "    }\n",
       "</style>\n",
       "<table border=\"1\" class=\"dataframe\">\n",
       "  <thead>\n",
       "    <tr style=\"text-align: right;\">\n",
       "      <th></th>\n",
       "      <th>keywords</th>\n",
       "      <th>filtered_keywords</th>\n",
       "    </tr>\n",
       "  </thead>\n",
       "  <tbody>\n",
       "    <tr>\n",
       "      <th>0</th>\n",
       "      <td>[{'id': 931, 'name': 'jealousy'}, {'id': 4290,...</td>\n",
       "      <td>jealousy, toy, boy, friendship, friends</td>\n",
       "    </tr>\n",
       "    <tr>\n",
       "      <th>1</th>\n",
       "      <td>[{'id': 10090, 'name': 'board game'}, {'id': 1...</td>\n",
       "      <td>disappearance, based on children's book</td>\n",
       "    </tr>\n",
       "    <tr>\n",
       "      <th>2</th>\n",
       "      <td>[{'id': 1495, 'name': 'fishing'}, {'id': 12392...</td>\n",
       "      <td>fishing, best friend, duringcreditsstinger</td>\n",
       "    </tr>\n",
       "    <tr>\n",
       "      <th>3</th>\n",
       "      <td>[{'id': 1009, 'name': 'baby'}, {'id': 1599, 'n...</td>\n",
       "      <td>baby, midlife crisis, confidence, aging, daughter</td>\n",
       "    </tr>\n",
       "    <tr>\n",
       "      <th>4</th>\n",
       "      <td>[{'id': 642, 'name': 'robbery'}, {'id': 703, '...</td>\n",
       "      <td>robbery, detective, bank, obsession, chase</td>\n",
       "    </tr>\n",
       "    <tr>\n",
       "      <th>...</th>\n",
       "      <td>...</td>\n",
       "      <td>...</td>\n",
       "    </tr>\n",
       "    <tr>\n",
       "      <th>10508</th>\n",
       "      <td>[]</td>\n",
       "      <td></td>\n",
       "    </tr>\n",
       "    <tr>\n",
       "      <th>10509</th>\n",
       "      <td>[]</td>\n",
       "      <td></td>\n",
       "    </tr>\n",
       "    <tr>\n",
       "      <th>10510</th>\n",
       "      <td>[{'id': 2652, 'name': 'nazis'}, {'id': 3098, '...</td>\n",
       "      <td>nazis, castle, time travel</td>\n",
       "    </tr>\n",
       "    <tr>\n",
       "      <th>10511</th>\n",
       "      <td>[{'id': 9673, 'name': 'love'}, {'id': 13130, '...</td>\n",
       "      <td>love, teenager, lgbt, short</td>\n",
       "    </tr>\n",
       "    <tr>\n",
       "      <th>10512</th>\n",
       "      <td>[{'id': 171803, 'name': 'military school'}]</td>\n",
       "      <td></td>\n",
       "    </tr>\n",
       "  </tbody>\n",
       "</table>\n",
       "<p>10513 rows × 2 columns</p>\n",
       "</div>"
      ],
      "text/plain": [
       "                                                keywords  \\\n",
       "0      [{'id': 931, 'name': 'jealousy'}, {'id': 4290,...   \n",
       "1      [{'id': 10090, 'name': 'board game'}, {'id': 1...   \n",
       "2      [{'id': 1495, 'name': 'fishing'}, {'id': 12392...   \n",
       "3      [{'id': 1009, 'name': 'baby'}, {'id': 1599, 'n...   \n",
       "4      [{'id': 642, 'name': 'robbery'}, {'id': 703, '...   \n",
       "...                                                  ...   \n",
       "10508                                                 []   \n",
       "10509                                                 []   \n",
       "10510  [{'id': 2652, 'name': 'nazis'}, {'id': 3098, '...   \n",
       "10511  [{'id': 9673, 'name': 'love'}, {'id': 13130, '...   \n",
       "10512        [{'id': 171803, 'name': 'military school'}]   \n",
       "\n",
       "                                       filtered_keywords  \n",
       "0                jealousy, toy, boy, friendship, friends  \n",
       "1                disappearance, based on children's book  \n",
       "2             fishing, best friend, duringcreditsstinger  \n",
       "3      baby, midlife crisis, confidence, aging, daughter  \n",
       "4             robbery, detective, bank, obsession, chase  \n",
       "...                                                  ...  \n",
       "10508                                                     \n",
       "10509                                                     \n",
       "10510                         nazis, castle, time travel  \n",
       "10511                        love, teenager, lgbt, short  \n",
       "10512                                                     \n",
       "\n",
       "[10513 rows x 2 columns]"
      ]
     },
     "execution_count": 35,
     "metadata": {},
     "output_type": "execute_result"
    }
   ],
   "source": [
    "df[[\"keywords\", \"filtered_keywords\"]]"
   ]
  },
  {
   "cell_type": "markdown",
   "metadata": {},
   "source": [
    "## Final steps of data preparation with Pandas"
   ]
  },
  {
   "cell_type": "code",
   "execution_count": 36,
   "metadata": {},
   "outputs": [
    {
     "data": {
      "text/html": [
       "<div>\n",
       "<style scoped>\n",
       "    .dataframe tbody tr th:only-of-type {\n",
       "        vertical-align: middle;\n",
       "    }\n",
       "\n",
       "    .dataframe tbody tr th {\n",
       "        vertical-align: top;\n",
       "    }\n",
       "\n",
       "    .dataframe thead th {\n",
       "        text-align: right;\n",
       "    }\n",
       "</style>\n",
       "<table border=\"1\" class=\"dataframe\">\n",
       "  <thead>\n",
       "    <tr style=\"text-align: right;\">\n",
       "      <th></th>\n",
       "      <th>0</th>\n",
       "      <th>1</th>\n",
       "      <th>2</th>\n",
       "      <th>3</th>\n",
       "      <th>4</th>\n",
       "    </tr>\n",
       "  </thead>\n",
       "  <tbody>\n",
       "    <tr>\n",
       "      <th>id</th>\n",
       "      <td>1</td>\n",
       "      <td>2</td>\n",
       "      <td>3</td>\n",
       "      <td>4</td>\n",
       "      <td>5</td>\n",
       "    </tr>\n",
       "    <tr>\n",
       "      <th>title</th>\n",
       "      <td>Toy Story</td>\n",
       "      <td>Jumanji</td>\n",
       "      <td>Grumpier Old Men</td>\n",
       "      <td>Father of the Bride Part II</td>\n",
       "      <td>Heat</td>\n",
       "    </tr>\n",
       "    <tr>\n",
       "      <th>franchise</th>\n",
       "      <td>Toy Story</td>\n",
       "      <td>None</td>\n",
       "      <td>Grumpy Old Men</td>\n",
       "      <td>Father of the Bride</td>\n",
       "      <td>None</td>\n",
       "    </tr>\n",
       "    <tr>\n",
       "      <th>release_year</th>\n",
       "      <td>1995</td>\n",
       "      <td>1995</td>\n",
       "      <td>1995</td>\n",
       "      <td>1995</td>\n",
       "      <td>1995</td>\n",
       "    </tr>\n",
       "    <tr>\n",
       "      <th>genres</th>\n",
       "      <td>Animation, Comedy, Family</td>\n",
       "      <td>Adventure, Family, Fantasy</td>\n",
       "      <td>Comedy, Romance</td>\n",
       "      <td>Comedy</td>\n",
       "      <td>Action, Crime, Drama, Thriller</td>\n",
       "    </tr>\n",
       "    <tr>\n",
       "      <th>vote_average</th>\n",
       "      <td>7.7</td>\n",
       "      <td>6.9</td>\n",
       "      <td>6.5</td>\n",
       "      <td>5.7</td>\n",
       "      <td>7.7</td>\n",
       "    </tr>\n",
       "    <tr>\n",
       "      <th>vote_count</th>\n",
       "      <td>5415</td>\n",
       "      <td>2413</td>\n",
       "      <td>92</td>\n",
       "      <td>173</td>\n",
       "      <td>1886</td>\n",
       "    </tr>\n",
       "    <tr>\n",
       "      <th>director</th>\n",
       "      <td>John Lasseter</td>\n",
       "      <td>Joe Johnston</td>\n",
       "      <td>Howard Deutch</td>\n",
       "      <td>Charles Shyer</td>\n",
       "      <td>Michael Mann</td>\n",
       "    </tr>\n",
       "    <tr>\n",
       "      <th>top_actors</th>\n",
       "      <td>Tom Hanks, Tim Allen, Don Rickles</td>\n",
       "      <td>Robin Williams, Jonathan Hyde, Kirsten Dunst</td>\n",
       "      <td>Walter Matthau, Jack Lemmon, Ann-Margret</td>\n",
       "      <td>Steve Martin, Diane Keaton, Martin Short</td>\n",
       "      <td>Al Pacino, Robert De Niro, Val Kilmer</td>\n",
       "    </tr>\n",
       "    <tr>\n",
       "      <th>keywords</th>\n",
       "      <td>jealousy, toy, boy, friendship, friends</td>\n",
       "      <td>disappearance, based on children's book</td>\n",
       "      <td>fishing, best friend, duringcreditsstinger</td>\n",
       "      <td>baby, midlife crisis, confidence, aging, daughter</td>\n",
       "      <td>robbery, detective, bank, obsession, chase</td>\n",
       "    </tr>\n",
       "  </tbody>\n",
       "</table>\n",
       "</div>"
      ],
      "text/plain": [
       "                                                    0  \\\n",
       "id                                                  1   \n",
       "title                                       Toy Story   \n",
       "franchise                                   Toy Story   \n",
       "release_year                                     1995   \n",
       "genres                      Animation, Comedy, Family   \n",
       "vote_average                                      7.7   \n",
       "vote_count                                       5415   \n",
       "director                                John Lasseter   \n",
       "top_actors          Tom Hanks, Tim Allen, Don Rickles   \n",
       "keywords      jealousy, toy, boy, friendship, friends   \n",
       "\n",
       "                                                         1  \\\n",
       "id                                                       2   \n",
       "title                                              Jumanji   \n",
       "franchise                                             None   \n",
       "release_year                                          1995   \n",
       "genres                          Adventure, Family, Fantasy   \n",
       "vote_average                                           6.9   \n",
       "vote_count                                            2413   \n",
       "director                                      Joe Johnston   \n",
       "top_actors    Robin Williams, Jonathan Hyde, Kirsten Dunst   \n",
       "keywords           disappearance, based on children's book   \n",
       "\n",
       "                                                       2  \\\n",
       "id                                                     3   \n",
       "title                                   Grumpier Old Men   \n",
       "franchise                                 Grumpy Old Men   \n",
       "release_year                                        1995   \n",
       "genres                                   Comedy, Romance   \n",
       "vote_average                                         6.5   \n",
       "vote_count                                            92   \n",
       "director                                   Howard Deutch   \n",
       "top_actors      Walter Matthau, Jack Lemmon, Ann-Margret   \n",
       "keywords      fishing, best friend, duringcreditsstinger   \n",
       "\n",
       "                                                              3  \\\n",
       "id                                                            4   \n",
       "title                               Father of the Bride Part II   \n",
       "franchise                                   Father of the Bride   \n",
       "release_year                                               1995   \n",
       "genres                                                   Comedy   \n",
       "vote_average                                                5.7   \n",
       "vote_count                                                  173   \n",
       "director                                          Charles Shyer   \n",
       "top_actors             Steve Martin, Diane Keaton, Martin Short   \n",
       "keywords      baby, midlife crisis, confidence, aging, daughter   \n",
       "\n",
       "                                                       4  \n",
       "id                                                     5  \n",
       "title                                               Heat  \n",
       "franchise                                           None  \n",
       "release_year                                        1995  \n",
       "genres                    Action, Crime, Drama, Thriller  \n",
       "vote_average                                         7.7  \n",
       "vote_count                                          1886  \n",
       "director                                    Michael Mann  \n",
       "top_actors         Al Pacino, Robert De Niro, Val Kilmer  \n",
       "keywords      robbery, detective, bank, obsession, chase  "
      ]
     },
     "execution_count": 36,
     "metadata": {},
     "output_type": "execute_result"
    }
   ],
   "source": [
    "# Drop columns 'id', 'cast', 'crew', and 'keywords'\n",
    "df = df.drop(\n",
    "    columns=[\n",
    "        \"id\",\n",
    "        \"cast\",\n",
    "        \"crew\",\n",
    "        \"keywords\"\n",
    "    ]\n",
    ")\n",
    "# Extract the first four characters to get only date\n",
    "df[\"release_date\"] = df[\"release_date\"].astype(str).str[:4]\n",
    "# Rename 'filtered_keywosrds' column to 'keywords'\n",
    "df = df.rename(columns={\"filtered_keywords\": \"keywords\", \"release_date\": \"release_year\"})\n",
    "# Drop dublicate rows\n",
    "df = df.drop_duplicates()\n",
    "# Add the new 'id' column as the first column\n",
    "df.insert(0, \"id\", range(1, 1 + len(df)))\n",
    "df.head().transpose()"
   ]
  },
  {
   "cell_type": "code",
   "execution_count": 37,
   "metadata": {},
   "outputs": [
    {
     "name": "stdout",
     "output_type": "stream",
     "text": [
      "<class 'pandas.core.frame.DataFrame'>\n",
      "Index: 10342 entries, 0 to 10512\n",
      "Data columns (total 10 columns):\n",
      " #   Column        Non-Null Count  Dtype  \n",
      "---  ------        --------------  -----  \n",
      " 0   id            10342 non-null  int64  \n",
      " 1   title         10342 non-null  object \n",
      " 2   franchise     2134 non-null   object \n",
      " 3   release_year  10342 non-null  object \n",
      " 4   genres        10325 non-null  object \n",
      " 5   vote_average  10342 non-null  float64\n",
      " 6   vote_count    10342 non-null  int32  \n",
      " 7   director      10325 non-null  object \n",
      " 8   top_actors    10342 non-null  object \n",
      " 9   keywords      10342 non-null  object \n",
      "dtypes: float64(1), int32(1), int64(1), object(7)\n",
      "memory usage: 848.4+ KB\n"
     ]
    }
   ],
   "source": [
    "df.info()"
   ]
  },
  {
   "cell_type": "markdown",
   "metadata": {},
   "source": [
    "Columns explanation:\n",
    "- id - row id\n",
    "- title - official title of the movie\n",
    "- release_date - theatrical release date of the movie\n",
    "- genres - genres associated with the movie, separated by a comma\n",
    "- vote_average - average movie rating\n",
    "- vote_count - number of votes by users, counted by TMDB\n",
    "- director - name of the movie director\n",
    "- top_actors - names of top 5 actors in the movie\n",
    "- keywords - keywords associated with the movie"
   ]
  },
  {
   "cell_type": "markdown",
   "metadata": {},
   "source": [
    "Let's save the cleaned up dataset, which we'll use in the next chapters"
   ]
  },
  {
   "cell_type": "code",
   "execution_count": 40,
   "metadata": {},
   "outputs": [],
   "source": [
    "# df.to_csv(\"data/recommender_data.csv\", index=False)"
   ]
  },
  {
   "cell_type": "markdown",
   "metadata": {},
   "source": [
    "# 2. Content-based recommender"
   ]
  },
  {
   "cell_type": "code",
   "execution_count": 1,
   "metadata": {},
   "outputs": [
    {
     "data": {
      "text/html": [
       "<div>\n",
       "<style scoped>\n",
       "    .dataframe tbody tr th:only-of-type {\n",
       "        vertical-align: middle;\n",
       "    }\n",
       "\n",
       "    .dataframe tbody tr th {\n",
       "        vertical-align: top;\n",
       "    }\n",
       "\n",
       "    .dataframe thead th {\n",
       "        text-align: right;\n",
       "    }\n",
       "</style>\n",
       "<table border=\"1\" class=\"dataframe\">\n",
       "  <thead>\n",
       "    <tr style=\"text-align: right;\">\n",
       "      <th></th>\n",
       "      <th>title</th>\n",
       "      <th>franchise</th>\n",
       "      <th>release_year</th>\n",
       "      <th>genres</th>\n",
       "      <th>vote_average</th>\n",
       "      <th>vote_count</th>\n",
       "      <th>director</th>\n",
       "      <th>top_actors</th>\n",
       "      <th>keywords</th>\n",
       "    </tr>\n",
       "    <tr>\n",
       "      <th>id</th>\n",
       "      <th></th>\n",
       "      <th></th>\n",
       "      <th></th>\n",
       "      <th></th>\n",
       "      <th></th>\n",
       "      <th></th>\n",
       "      <th></th>\n",
       "      <th></th>\n",
       "      <th></th>\n",
       "    </tr>\n",
       "  </thead>\n",
       "  <tbody>\n",
       "    <tr>\n",
       "      <th>1</th>\n",
       "      <td>Toy Story</td>\n",
       "      <td>Toy Story</td>\n",
       "      <td>1995</td>\n",
       "      <td>Animation, Comedy, Family</td>\n",
       "      <td>7.7</td>\n",
       "      <td>5415</td>\n",
       "      <td>John Lasseter</td>\n",
       "      <td>Tom Hanks, Tim Allen, Don Rickles</td>\n",
       "      <td>jealousy, toy, boy, friendship, friends</td>\n",
       "    </tr>\n",
       "    <tr>\n",
       "      <th>2</th>\n",
       "      <td>Jumanji</td>\n",
       "      <td>NaN</td>\n",
       "      <td>1995</td>\n",
       "      <td>Adventure, Family, Fantasy</td>\n",
       "      <td>6.9</td>\n",
       "      <td>2413</td>\n",
       "      <td>Joe Johnston</td>\n",
       "      <td>Robin Williams, Jonathan Hyde, Kirsten Dunst</td>\n",
       "      <td>disappearance, based on children's book</td>\n",
       "    </tr>\n",
       "    <tr>\n",
       "      <th>3</th>\n",
       "      <td>Grumpier Old Men</td>\n",
       "      <td>Grumpy Old Men</td>\n",
       "      <td>1995</td>\n",
       "      <td>Comedy, Romance</td>\n",
       "      <td>6.5</td>\n",
       "      <td>92</td>\n",
       "      <td>Howard Deutch</td>\n",
       "      <td>Walter Matthau, Jack Lemmon, Ann-Margret</td>\n",
       "      <td>fishing, best friend, duringcreditsstinger</td>\n",
       "    </tr>\n",
       "  </tbody>\n",
       "</table>\n",
       "</div>"
      ],
      "text/plain": [
       "               title       franchise  release_year  \\\n",
       "id                                                   \n",
       "1          Toy Story       Toy Story          1995   \n",
       "2            Jumanji             NaN          1995   \n",
       "3   Grumpier Old Men  Grumpy Old Men          1995   \n",
       "\n",
       "                        genres  vote_average  vote_count       director  \\\n",
       "id                                                                        \n",
       "1    Animation, Comedy, Family           7.7        5415  John Lasseter   \n",
       "2   Adventure, Family, Fantasy           6.9        2413   Joe Johnston   \n",
       "3              Comedy, Romance           6.5          92  Howard Deutch   \n",
       "\n",
       "                                      top_actors  \\\n",
       "id                                                 \n",
       "1              Tom Hanks, Tim Allen, Don Rickles   \n",
       "2   Robin Williams, Jonathan Hyde, Kirsten Dunst   \n",
       "3       Walter Matthau, Jack Lemmon, Ann-Margret   \n",
       "\n",
       "                                      keywords  \n",
       "id                                              \n",
       "1      jealousy, toy, boy, friendship, friends  \n",
       "2      disappearance, based on children's book  \n",
       "3   fishing, best friend, duringcreditsstinger  "
      ]
     },
     "execution_count": 1,
     "metadata": {},
     "output_type": "execute_result"
    }
   ],
   "source": [
    "import pandas as pd\n",
    "\n",
    "pd.set_option('display.max_colwidth', None)\n",
    "\n",
    "df = pd.read_csv(\"data/recommender_data.csv\", index_col=0)\n",
    "df.head(3)"
   ]
  },
  {
   "cell_type": "markdown",
   "metadata": {},
   "source": [
    "## Handling movie title"
   ]
  },
  {
   "cell_type": "markdown",
   "metadata": {},
   "source": [
    "The idea behind this recommender is that you enter the title of the movie that you liked, and then you get a list of similar movies. However, first of all, you need to check whether the movie with the typed title exist in the database in the first place. Also, spelling problems may arise.\n",
    "\n",
    "To handle all these issues, the 'fuzzywuzzy' library comes to help"
   ]
  },
  {
   "cell_type": "code",
   "execution_count": 2,
   "metadata": {},
   "outputs": [
    {
     "data": {
      "text/html": [
       "<div>\n",
       "<style scoped>\n",
       "    .dataframe tbody tr th:only-of-type {\n",
       "        vertical-align: middle;\n",
       "    }\n",
       "\n",
       "    .dataframe tbody tr th {\n",
       "        vertical-align: top;\n",
       "    }\n",
       "\n",
       "    .dataframe thead th {\n",
       "        text-align: right;\n",
       "    }\n",
       "</style>\n",
       "<table border=\"1\" class=\"dataframe\">\n",
       "  <thead>\n",
       "    <tr style=\"text-align: right;\">\n",
       "      <th></th>\n",
       "      <th>title</th>\n",
       "      <th>franchise</th>\n",
       "      <th>release_year</th>\n",
       "      <th>genres</th>\n",
       "      <th>vote_average</th>\n",
       "      <th>vote_count</th>\n",
       "      <th>director</th>\n",
       "      <th>top_actors</th>\n",
       "      <th>keywords</th>\n",
       "    </tr>\n",
       "    <tr>\n",
       "      <th>id</th>\n",
       "      <th></th>\n",
       "      <th></th>\n",
       "      <th></th>\n",
       "      <th></th>\n",
       "      <th></th>\n",
       "      <th></th>\n",
       "      <th></th>\n",
       "      <th></th>\n",
       "      <th></th>\n",
       "    </tr>\n",
       "  </thead>\n",
       "  <tbody>\n",
       "    <tr>\n",
       "      <th>153</th>\n",
       "      <td>Star Wars</td>\n",
       "      <td>Star Wars</td>\n",
       "      <td>1977</td>\n",
       "      <td>Action, Adventure, Science Fiction</td>\n",
       "      <td>8.1</td>\n",
       "      <td>6778</td>\n",
       "      <td>George Lucas</td>\n",
       "      <td>Mark Hamill, Harrison Ford, Carrie Fisher</td>\n",
       "      <td>android, rescue mission, rebellion, planet, space opera</td>\n",
       "    </tr>\n",
       "  </tbody>\n",
       "</table>\n",
       "</div>"
      ],
      "text/plain": [
       "         title  franchise  release_year                              genres  \\\n",
       "id                                                                            \n",
       "153  Star Wars  Star Wars          1977  Action, Adventure, Science Fiction   \n",
       "\n",
       "     vote_average  vote_count      director  \\\n",
       "id                                            \n",
       "153           8.1        6778  George Lucas   \n",
       "\n",
       "                                    top_actors  \\\n",
       "id                                               \n",
       "153  Mark Hamill, Harrison Ford, Carrie Fisher   \n",
       "\n",
       "                                                    keywords  \n",
       "id                                                            \n",
       "153  android, rescue mission, rebellion, planet, space opera  "
      ]
     },
     "execution_count": 2,
     "metadata": {},
     "output_type": "execute_result"
    }
   ],
   "source": [
    "from fuzzywuzzy import process\n",
    "\n",
    "# def find_top_movies(title):\n",
    "#     all_titles = df[\"title\"].tolist()\n",
    "#     matches = process.extract(title, all_titles, limit=7)\n",
    "#     return matches\n",
    "#     matched_titles = [match[0] for match in matches]\n",
    "#     return df[df['title'].isin(matched_titles)]\n",
    "\n",
    "# print(find_top_movies(\"ty stry\"))\n",
    "\n",
    "def find_movie(input):\n",
    "    \"\"\"\n",
    "    Summary:\n",
    "        Finds a movie in the DataFrame that closely matches the input title. Handles some spelling mistakes\n",
    "    Parameters:\n",
    "        input (str): The input movie title.\n",
    "    Returns:\n",
    "        DataFrame: A DataFrame row containing information about the matched movie.\n",
    "    \"\"\"\n",
    "    all_titles = df[\"title\"].tolist()\n",
    "    closest_match = process.extractOne(input, all_titles)\n",
    "    matched_title = closest_match[0]\n",
    "    return df[df[\"title\"] == matched_title]\n",
    "\n",
    "find_movie(\"stare was\")"
   ]
  },
  {
   "cell_type": "markdown",
   "metadata": {},
   "source": [
    "## Getting cosine similarity matrix"
   ]
  },
  {
   "cell_type": "code",
   "execution_count": 3,
   "metadata": {},
   "outputs": [],
   "source": [
    "import re\n",
    "\n",
    "import nltk\n",
    "from sklearn.feature_extraction.text import CountVectorizer\n",
    "from sklearn.metrics.pairwise import cosine_similarity\n",
    "\n",
    "def preprocess(text):\n",
    "    \"\"\"\n",
    "    Summary:\n",
    "        Preprocesses the input text by removing non-alphanumeric characters,\n",
    "        converting to lowercase, tokenizing, and filtering out stopwords.\n",
    "    Parameters:\n",
    "        text (str): Input text to be preprocessed.\n",
    "    Returns:\n",
    "        str: Preprocessed text\n",
    "    \"\"\"\n",
    "    # Handle NaN\n",
    "    if not isinstance(text, str):\n",
    "        return \"\"\n",
    "    # Remove non-alphanumeric characters, convert to lowercase, and \n",
    "    # strip leading/trailing whitespaces\n",
    "    text = re.sub(r\"[^0-9a-zA-Z\\s]\", \"\", text, re.I | re.A).lower().strip()\n",
    "    # Tokenize each sentence using WordPunctTokenizer from NLTK\n",
    "    wpt = nltk.WordPunctTokenizer() # Get the list of stopwords in English from NLTK\n",
    "    stop_words = nltk.corpus.stopwords.words(\"english\")\n",
    "    output = []\n",
    "    # Tokenize and filter out stopwords to create a new list of tokens\n",
    "    tokens = wpt.tokenize(text)\n",
    "    filtered_tokens = [token for token in tokens if token not in stop_words]\n",
    "    # Join the filtered tokens into a sentence. Then append it to the output list\n",
    "    output.append(\" \".join(filtered_tokens))\n",
    "    # Join all the processed sentences into a single text string\n",
    "    return \" \".join(output)\n",
    "\n",
    "def calculate_cosine_sim(df=df):\n",
    "    \"\"\"\n",
    "    Summary:\n",
    "        Calculate the cosine similarity matrix for a DataFrame containing movie features.\n",
    "    Parameters:\n",
    "        df (DataFrame): DataFrame containing movie data\n",
    "    Returns:\n",
    "        ndarray: Cosine similarity matrix for the movie features.\n",
    "    \"\"\"\n",
    "    df = df[[\"franchise\", \"director\", \"top_actors\", \"genres\", \"keywords\"]].copy()\n",
    "    # repeat director once, to get this column more weight\n",
    "    df[\"combined\"] = (df[\"franchise\"].fillna(\"\") + \"; \" +\n",
    "                    df[\"director\"].fillna(\"\") + \"; \" +\n",
    "                    df[\"director\"].fillna(\"\") + \"; \" +\n",
    "                    df[\"top_actors\"].fillna(\"\") + \"; \" +\n",
    "                    df[\"genres\"].fillna(\"\") + \"; \" +\n",
    "                    df[\"keywords\"].fillna(\"\"))\n",
    "    df[\"preproc\"] = df[\"combined\"].apply(preprocess)\n",
    "    cv = CountVectorizer()\n",
    "    cv_matrix = cv.fit_transform(df[\"preproc\"])\n",
    "    cosine_sim = cosine_similarity(cv_matrix, cv_matrix)\n",
    "    return cosine_sim\n",
    "\n",
    "cosine_sim = calculate_cosine_sim()"
   ]
  },
  {
   "cell_type": "markdown",
   "metadata": {},
   "source": [
    "## Recommender"
   ]
  },
  {
   "cell_type": "code",
   "execution_count": 4,
   "metadata": {},
   "outputs": [
    {
     "name": "stdout",
     "output_type": "stream",
     "text": [
      "For the input 'felloship ring', the closest match is 'The Lord of the Rings: The Fellowship of the Ring' from 2001.\n",
      "\n",
      "'The Lord of the Rings: The Fellowship of the Ring' from 2001 has the following characteristics used in the recommender system:\n",
      "    franchise: The Lord of the Rings.\n",
      "    director: Peter Jackson.\n",
      "    top actors: Elijah Wood, Ian McKellen, Cate Blanchett.\n",
      "    genres: Action, Adventure, Fantasy.\n",
      "    keywords: elves, dwarves, based on novel, mountain, fireworks.\n",
      "          \n",
      "Similar movies to 'The Lord of the Rings: The Fellowship of the Ring' from 2001:\n"
     ]
    },
    {
     "data": {
      "text/html": [
       "<div>\n",
       "<style scoped>\n",
       "    .dataframe tbody tr th:only-of-type {\n",
       "        vertical-align: middle;\n",
       "    }\n",
       "\n",
       "    .dataframe tbody tr th {\n",
       "        vertical-align: top;\n",
       "    }\n",
       "\n",
       "    .dataframe thead th {\n",
       "        text-align: right;\n",
       "    }\n",
       "</style>\n",
       "<table border=\"1\" class=\"dataframe\">\n",
       "  <thead>\n",
       "    <tr style=\"text-align: right;\">\n",
       "      <th></th>\n",
       "      <th>title</th>\n",
       "      <th>franchise</th>\n",
       "      <th>release_year</th>\n",
       "      <th>genres</th>\n",
       "      <th>vote_average</th>\n",
       "      <th>vote_count</th>\n",
       "      <th>director</th>\n",
       "      <th>top_actors</th>\n",
       "      <th>keywords</th>\n",
       "    </tr>\n",
       "    <tr>\n",
       "      <th>id</th>\n",
       "      <th></th>\n",
       "      <th></th>\n",
       "      <th></th>\n",
       "      <th></th>\n",
       "      <th></th>\n",
       "      <th></th>\n",
       "      <th></th>\n",
       "      <th></th>\n",
       "      <th></th>\n",
       "    </tr>\n",
       "  </thead>\n",
       "  <tbody>\n",
       "    <tr>\n",
       "      <th>3017</th>\n",
       "      <td>The Lord of the Rings: The Two Towers</td>\n",
       "      <td>The Lord of the Rings</td>\n",
       "      <td>2002</td>\n",
       "      <td>Action, Adventure, Fantasy</td>\n",
       "      <td>8.0</td>\n",
       "      <td>7641</td>\n",
       "      <td>Peter Jackson</td>\n",
       "      <td>Elijah Wood, Ian McKellen, Viggo Mortensen</td>\n",
       "      <td>elves, based on novel, explosive, cave, army</td>\n",
       "    </tr>\n",
       "    <tr>\n",
       "      <th>3487</th>\n",
       "      <td>The Lord of the Rings: The Return of the King</td>\n",
       "      <td>The Lord of the Rings</td>\n",
       "      <td>2003</td>\n",
       "      <td>Action, Adventure, Fantasy</td>\n",
       "      <td>8.1</td>\n",
       "      <td>8226</td>\n",
       "      <td>Peter Jackson</td>\n",
       "      <td>Elijah Wood, Ian McKellen, Viggo Mortensen</td>\n",
       "      <td>elves, based on novel, suspicion, bravery, war</td>\n",
       "    </tr>\n",
       "    <tr>\n",
       "      <th>7174</th>\n",
       "      <td>The Hobbit: An Unexpected Journey</td>\n",
       "      <td>The Hobbit</td>\n",
       "      <td>2012</td>\n",
       "      <td>Action, Adventure, Fantasy</td>\n",
       "      <td>7.0</td>\n",
       "      <td>8427</td>\n",
       "      <td>Peter Jackson</td>\n",
       "      <td>Ian McKellen, Martin Freeman, Richard Armitage</td>\n",
       "      <td>riddle, elves, dwarves, mountain, wizard</td>\n",
       "    </tr>\n",
       "  </tbody>\n",
       "</table>\n",
       "</div>"
      ],
      "text/plain": [
       "                                              title              franchise  \\\n",
       "id                                                                           \n",
       "3017          The Lord of the Rings: The Two Towers  The Lord of the Rings   \n",
       "3487  The Lord of the Rings: The Return of the King  The Lord of the Rings   \n",
       "7174              The Hobbit: An Unexpected Journey             The Hobbit   \n",
       "\n",
       "      release_year                      genres  vote_average  vote_count  \\\n",
       "id                                                                         \n",
       "3017          2002  Action, Adventure, Fantasy           8.0        7641   \n",
       "3487          2003  Action, Adventure, Fantasy           8.1        8226   \n",
       "7174          2012  Action, Adventure, Fantasy           7.0        8427   \n",
       "\n",
       "           director                                      top_actors  \\\n",
       "id                                                                    \n",
       "3017  Peter Jackson      Elijah Wood, Ian McKellen, Viggo Mortensen   \n",
       "3487  Peter Jackson      Elijah Wood, Ian McKellen, Viggo Mortensen   \n",
       "7174  Peter Jackson  Ian McKellen, Martin Freeman, Richard Armitage   \n",
       "\n",
       "                                            keywords  \n",
       "id                                                    \n",
       "3017    elves, based on novel, explosive, cave, army  \n",
       "3487  elves, based on novel, suspicion, bravery, war  \n",
       "7174        riddle, elves, dwarves, mountain, wizard  "
      ]
     },
     "execution_count": 4,
     "metadata": {},
     "output_type": "execute_result"
    }
   ],
   "source": [
    "def recommender(input_title, numb_of_recommendations=3):\n",
    "    \"\"\"\n",
    "    Summary:\n",
    "        Recommends similar movies based on the input movie title.\n",
    "    Parameters:\n",
    "        input_title (str): The title of the input movie. Some degree of spelling mistakes is allowed.\n",
    "        numb_of_recommendations (int): Number of recommended movies to return. Default is 3.\n",
    "    Returns:\n",
    "        DataFrame: A DataFrame containing information of the recommended movies.\n",
    "    \"\"\"\n",
    "    movie = find_movie(input_title)\n",
    "    title = movie[\"title\"].values[0]\n",
    "    release_year = movie[\"release_year\"].values[0]\n",
    "    title_year = f\"'{title}' from {release_year}\"\n",
    "    print(f\"For the input '{input_title}', the closest match is {title_year}.\")\n",
    "    print(\n",
    "        f\"\"\"\n",
    "{title_year} has the following characteristics used in the recommender system:\n",
    "    franchise: {movie[\"franchise\"].values[0]}.\n",
    "    director: {movie[\"director\"].values[0]}.\n",
    "    top actors: {movie[\"top_actors\"].values[0]}.\n",
    "    genres: {movie[\"genres\"].values[0]}.\n",
    "    keywords: {movie[\"keywords\"].values[0]}.\n",
    "          \"\"\"\n",
    "    )\n",
    "    # Data for SQL database was prepared with index starting from 1\n",
    "    # while in pandas dataframes index starts from 0. Thus, subtract 1\n",
    "    id = movie.index[0] - 1\n",
    "    # Get the similarity scores of all movies with the movie above\n",
    "    sim_scores = list(enumerate(cosine_sim[id]))\n",
    "    # Sort the similarity scores in descending order\n",
    "    sim_scores = sorted(sim_scores, key=lambda x: x[1], reverse=True)\n",
    "    # Select the top 'numb_of_recommendations' similar movies (excluding the input movie itself)\n",
    "    sim_scores = sim_scores[1 : (numb_of_recommendations + 1)]\n",
    "    # Extract the indices of the top similar movies\n",
    "    similar_movies = [i[0] for i in sim_scores]\n",
    "    print(f\"Similar movies to {title_year}:\")\n",
    "    return df.iloc[similar_movies]\n",
    "\n",
    "recommender(\"felloship ring\")"
   ]
  }
 ],
 "metadata": {
  "kernelspec": {
   "display_name": "Python 3",
   "language": "python",
   "name": "python3"
  },
  "language_info": {
   "codemirror_mode": {
    "name": "ipython",
    "version": 3
   },
   "file_extension": ".py",
   "mimetype": "text/x-python",
   "name": "python",
   "nbconvert_exporter": "python",
   "pygments_lexer": "ipython3",
   "version": "3.10.2"
  },
  "orig_nbformat": 4,
  "vscode": {
   "interpreter": {
    "hash": "372546374ee67f23bce4863fdb45197b8301cd73a13a929f5ade301179cf3c81"
   }
  }
 },
 "nbformat": 4,
 "nbformat_minor": 2
}
