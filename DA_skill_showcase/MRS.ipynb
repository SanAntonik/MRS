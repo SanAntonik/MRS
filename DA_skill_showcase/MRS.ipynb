{
 "cells": [
  {
   "attachments": {},
   "cell_type": "markdown",
   "metadata": {},
   "source": [
    "# MRS"
   ]
  },
  {
   "cell_type": "markdown",
   "metadata": {},
   "source": [
    "Here I'll work on content-based movie recommender based on the previous notebook (skill_showcase.ipynb)"
   ]
  },
  {
   "cell_type": "markdown",
   "metadata": {},
   "source": [
    "data source: https://www.kaggle.com/datasets/rounakbanik/the-movies-dataset"
   ]
  },
  {
   "cell_type": "markdown",
   "metadata": {},
   "source": [
    "This notebook will consist of two parts:\n",
    "\n",
    "1. Preparing data for the recommender\n",
    "\n",
    "2. Content-based recommender itself"
   ]
  },
  {
   "cell_type": "markdown",
   "metadata": {},
   "source": [
    "# 1. Preparing Data"
   ]
  },
  {
   "cell_type": "code",
   "execution_count": 1,
   "metadata": {},
   "outputs": [],
   "source": [
    "import pandas as pd\n",
    "from ast import literal_eval"
   ]
  },
  {
   "cell_type": "code",
   "execution_count": 2,
   "metadata": {},
   "outputs": [
    {
     "name": "stderr",
     "output_type": "stream",
     "text": [
      "C:\\Windows\\Temp\\ipykernel_22440\\3199233999.py:1: DtypeWarning: Columns (10) have mixed types. Specify dtype option on import or set low_memory=False.\n",
      "  df = pd.read_csv('data/movies_metadata.csv')\n"
     ]
    },
    {
     "data": {
      "text/html": [
       "<div>\n",
       "<style scoped>\n",
       "    .dataframe tbody tr th:only-of-type {\n",
       "        vertical-align: middle;\n",
       "    }\n",
       "\n",
       "    .dataframe tbody tr th {\n",
       "        vertical-align: top;\n",
       "    }\n",
       "\n",
       "    .dataframe thead th {\n",
       "        text-align: right;\n",
       "    }\n",
       "</style>\n",
       "<table border=\"1\" class=\"dataframe\">\n",
       "  <thead>\n",
       "    <tr style=\"text-align: right;\">\n",
       "      <th></th>\n",
       "      <th>0</th>\n",
       "      <th>1</th>\n",
       "      <th>2</th>\n",
       "    </tr>\n",
       "  </thead>\n",
       "  <tbody>\n",
       "    <tr>\n",
       "      <th>adult</th>\n",
       "      <td>False</td>\n",
       "      <td>False</td>\n",
       "      <td>False</td>\n",
       "    </tr>\n",
       "    <tr>\n",
       "      <th>belongs_to_collection</th>\n",
       "      <td>{'id': 10194, 'name': 'Toy Story Collection', ...</td>\n",
       "      <td>NaN</td>\n",
       "      <td>{'id': 119050, 'name': 'Grumpy Old Men Collect...</td>\n",
       "    </tr>\n",
       "    <tr>\n",
       "      <th>budget</th>\n",
       "      <td>30000000</td>\n",
       "      <td>65000000</td>\n",
       "      <td>0</td>\n",
       "    </tr>\n",
       "    <tr>\n",
       "      <th>genres</th>\n",
       "      <td>[{'id': 16, 'name': 'Animation'}, {'id': 35, '...</td>\n",
       "      <td>[{'id': 12, 'name': 'Adventure'}, {'id': 14, '...</td>\n",
       "      <td>[{'id': 10749, 'name': 'Romance'}, {'id': 35, ...</td>\n",
       "    </tr>\n",
       "    <tr>\n",
       "      <th>homepage</th>\n",
       "      <td>http://toystory.disney.com/toy-story</td>\n",
       "      <td>NaN</td>\n",
       "      <td>NaN</td>\n",
       "    </tr>\n",
       "    <tr>\n",
       "      <th>id</th>\n",
       "      <td>862</td>\n",
       "      <td>8844</td>\n",
       "      <td>15602</td>\n",
       "    </tr>\n",
       "    <tr>\n",
       "      <th>imdb_id</th>\n",
       "      <td>tt0114709</td>\n",
       "      <td>tt0113497</td>\n",
       "      <td>tt0113228</td>\n",
       "    </tr>\n",
       "    <tr>\n",
       "      <th>original_language</th>\n",
       "      <td>en</td>\n",
       "      <td>en</td>\n",
       "      <td>en</td>\n",
       "    </tr>\n",
       "    <tr>\n",
       "      <th>original_title</th>\n",
       "      <td>Toy Story</td>\n",
       "      <td>Jumanji</td>\n",
       "      <td>Grumpier Old Men</td>\n",
       "    </tr>\n",
       "    <tr>\n",
       "      <th>overview</th>\n",
       "      <td>Led by Woody, Andy's toys live happily in his ...</td>\n",
       "      <td>When siblings Judy and Peter discover an encha...</td>\n",
       "      <td>A family wedding reignites the ancient feud be...</td>\n",
       "    </tr>\n",
       "    <tr>\n",
       "      <th>popularity</th>\n",
       "      <td>21.946943</td>\n",
       "      <td>17.015539</td>\n",
       "      <td>11.7129</td>\n",
       "    </tr>\n",
       "    <tr>\n",
       "      <th>poster_path</th>\n",
       "      <td>/rhIRbceoE9lR4veEXuwCC2wARtG.jpg</td>\n",
       "      <td>/vzmL6fP7aPKNKPRTFnZmiUfciyV.jpg</td>\n",
       "      <td>/6ksm1sjKMFLbO7UY2i6G1ju9SML.jpg</td>\n",
       "    </tr>\n",
       "    <tr>\n",
       "      <th>production_companies</th>\n",
       "      <td>[{'name': 'Pixar Animation Studios', 'id': 3}]</td>\n",
       "      <td>[{'name': 'TriStar Pictures', 'id': 559}, {'na...</td>\n",
       "      <td>[{'name': 'Warner Bros.', 'id': 6194}, {'name'...</td>\n",
       "    </tr>\n",
       "    <tr>\n",
       "      <th>production_countries</th>\n",
       "      <td>[{'iso_3166_1': 'US', 'name': 'United States o...</td>\n",
       "      <td>[{'iso_3166_1': 'US', 'name': 'United States o...</td>\n",
       "      <td>[{'iso_3166_1': 'US', 'name': 'United States o...</td>\n",
       "    </tr>\n",
       "    <tr>\n",
       "      <th>release_date</th>\n",
       "      <td>1995-10-30</td>\n",
       "      <td>1995-12-15</td>\n",
       "      <td>1995-12-22</td>\n",
       "    </tr>\n",
       "    <tr>\n",
       "      <th>revenue</th>\n",
       "      <td>373554033.0</td>\n",
       "      <td>262797249.0</td>\n",
       "      <td>0.0</td>\n",
       "    </tr>\n",
       "    <tr>\n",
       "      <th>runtime</th>\n",
       "      <td>81.0</td>\n",
       "      <td>104.0</td>\n",
       "      <td>101.0</td>\n",
       "    </tr>\n",
       "    <tr>\n",
       "      <th>spoken_languages</th>\n",
       "      <td>[{'iso_639_1': 'en', 'name': 'English'}]</td>\n",
       "      <td>[{'iso_639_1': 'en', 'name': 'English'}, {'iso...</td>\n",
       "      <td>[{'iso_639_1': 'en', 'name': 'English'}]</td>\n",
       "    </tr>\n",
       "    <tr>\n",
       "      <th>status</th>\n",
       "      <td>Released</td>\n",
       "      <td>Released</td>\n",
       "      <td>Released</td>\n",
       "    </tr>\n",
       "    <tr>\n",
       "      <th>tagline</th>\n",
       "      <td>NaN</td>\n",
       "      <td>Roll the dice and unleash the excitement!</td>\n",
       "      <td>Still Yelling. Still Fighting. Still Ready for...</td>\n",
       "    </tr>\n",
       "    <tr>\n",
       "      <th>title</th>\n",
       "      <td>Toy Story</td>\n",
       "      <td>Jumanji</td>\n",
       "      <td>Grumpier Old Men</td>\n",
       "    </tr>\n",
       "    <tr>\n",
       "      <th>video</th>\n",
       "      <td>False</td>\n",
       "      <td>False</td>\n",
       "      <td>False</td>\n",
       "    </tr>\n",
       "    <tr>\n",
       "      <th>vote_average</th>\n",
       "      <td>7.7</td>\n",
       "      <td>6.9</td>\n",
       "      <td>6.5</td>\n",
       "    </tr>\n",
       "    <tr>\n",
       "      <th>vote_count</th>\n",
       "      <td>5415.0</td>\n",
       "      <td>2413.0</td>\n",
       "      <td>92.0</td>\n",
       "    </tr>\n",
       "  </tbody>\n",
       "</table>\n",
       "</div>"
      ],
      "text/plain": [
       "                                                                       0  \\\n",
       "adult                                                              False   \n",
       "belongs_to_collection  {'id': 10194, 'name': 'Toy Story Collection', ...   \n",
       "budget                                                          30000000   \n",
       "genres                 [{'id': 16, 'name': 'Animation'}, {'id': 35, '...   \n",
       "homepage                            http://toystory.disney.com/toy-story   \n",
       "id                                                                   862   \n",
       "imdb_id                                                        tt0114709   \n",
       "original_language                                                     en   \n",
       "original_title                                                 Toy Story   \n",
       "overview               Led by Woody, Andy's toys live happily in his ...   \n",
       "popularity                                                     21.946943   \n",
       "poster_path                             /rhIRbceoE9lR4veEXuwCC2wARtG.jpg   \n",
       "production_companies      [{'name': 'Pixar Animation Studios', 'id': 3}]   \n",
       "production_countries   [{'iso_3166_1': 'US', 'name': 'United States o...   \n",
       "release_date                                                  1995-10-30   \n",
       "revenue                                                      373554033.0   \n",
       "runtime                                                             81.0   \n",
       "spoken_languages                [{'iso_639_1': 'en', 'name': 'English'}]   \n",
       "status                                                          Released   \n",
       "tagline                                                              NaN   \n",
       "title                                                          Toy Story   \n",
       "video                                                              False   \n",
       "vote_average                                                         7.7   \n",
       "vote_count                                                        5415.0   \n",
       "\n",
       "                                                                       1  \\\n",
       "adult                                                              False   \n",
       "belongs_to_collection                                                NaN   \n",
       "budget                                                          65000000   \n",
       "genres                 [{'id': 12, 'name': 'Adventure'}, {'id': 14, '...   \n",
       "homepage                                                             NaN   \n",
       "id                                                                  8844   \n",
       "imdb_id                                                        tt0113497   \n",
       "original_language                                                     en   \n",
       "original_title                                                   Jumanji   \n",
       "overview               When siblings Judy and Peter discover an encha...   \n",
       "popularity                                                     17.015539   \n",
       "poster_path                             /vzmL6fP7aPKNKPRTFnZmiUfciyV.jpg   \n",
       "production_companies   [{'name': 'TriStar Pictures', 'id': 559}, {'na...   \n",
       "production_countries   [{'iso_3166_1': 'US', 'name': 'United States o...   \n",
       "release_date                                                  1995-12-15   \n",
       "revenue                                                      262797249.0   \n",
       "runtime                                                            104.0   \n",
       "spoken_languages       [{'iso_639_1': 'en', 'name': 'English'}, {'iso...   \n",
       "status                                                          Released   \n",
       "tagline                        Roll the dice and unleash the excitement!   \n",
       "title                                                            Jumanji   \n",
       "video                                                              False   \n",
       "vote_average                                                         6.9   \n",
       "vote_count                                                        2413.0   \n",
       "\n",
       "                                                                       2  \n",
       "adult                                                              False  \n",
       "belongs_to_collection  {'id': 119050, 'name': 'Grumpy Old Men Collect...  \n",
       "budget                                                                 0  \n",
       "genres                 [{'id': 10749, 'name': 'Romance'}, {'id': 35, ...  \n",
       "homepage                                                             NaN  \n",
       "id                                                                 15602  \n",
       "imdb_id                                                        tt0113228  \n",
       "original_language                                                     en  \n",
       "original_title                                          Grumpier Old Men  \n",
       "overview               A family wedding reignites the ancient feud be...  \n",
       "popularity                                                       11.7129  \n",
       "poster_path                             /6ksm1sjKMFLbO7UY2i6G1ju9SML.jpg  \n",
       "production_companies   [{'name': 'Warner Bros.', 'id': 6194}, {'name'...  \n",
       "production_countries   [{'iso_3166_1': 'US', 'name': 'United States o...  \n",
       "release_date                                                  1995-12-22  \n",
       "revenue                                                              0.0  \n",
       "runtime                                                            101.0  \n",
       "spoken_languages                [{'iso_639_1': 'en', 'name': 'English'}]  \n",
       "status                                                          Released  \n",
       "tagline                Still Yelling. Still Fighting. Still Ready for...  \n",
       "title                                                   Grumpier Old Men  \n",
       "video                                                              False  \n",
       "vote_average                                                         6.5  \n",
       "vote_count                                                          92.0  "
      ]
     },
     "execution_count": 2,
     "metadata": {},
     "output_type": "execute_result"
    }
   ],
   "source": [
    "df = pd.read_csv('data/movies_metadata.csv')\n",
    "# Transpose for easier exploration of this dataset with many cols\n",
    "df.head(3).transpose()"
   ]
  },
  {
   "cell_type": "code",
   "execution_count": 3,
   "metadata": {},
   "outputs": [
    {
     "name": "stdout",
     "output_type": "stream",
     "text": [
      "<class 'pandas.core.frame.DataFrame'>\n",
      "RangeIndex: 45466 entries, 0 to 45465\n",
      "Data columns (total 24 columns):\n",
      " #   Column                 Non-Null Count  Dtype  \n",
      "---  ------                 --------------  -----  \n",
      " 0   adult                  45466 non-null  object \n",
      " 1   belongs_to_collection  4494 non-null   object \n",
      " 2   budget                 45466 non-null  object \n",
      " 3   genres                 45466 non-null  object \n",
      " 4   homepage               7782 non-null   object \n",
      " 5   id                     45466 non-null  object \n",
      " 6   imdb_id                45449 non-null  object \n",
      " 7   original_language      45455 non-null  object \n",
      " 8   original_title         45466 non-null  object \n",
      " 9   overview               44512 non-null  object \n",
      " 10  popularity             45461 non-null  object \n",
      " 11  poster_path            45080 non-null  object \n",
      " 12  production_companies   45463 non-null  object \n",
      " 13  production_countries   45463 non-null  object \n",
      " 14  release_date           45379 non-null  object \n",
      " 15  revenue                45460 non-null  float64\n",
      " 16  runtime                45203 non-null  float64\n",
      " 17  spoken_languages       45460 non-null  object \n",
      " 18  status                 45379 non-null  object \n",
      " 19  tagline                20412 non-null  object \n",
      " 20  title                  45460 non-null  object \n",
      " 21  video                  45460 non-null  object \n",
      " 22  vote_average           45460 non-null  float64\n",
      " 23  vote_count             45460 non-null  float64\n",
      "dtypes: float64(4), object(20)\n",
      "memory usage: 8.3+ MB\n"
     ]
    }
   ],
   "source": [
    "df.info()"
   ]
  },
  {
   "cell_type": "markdown",
   "metadata": {},
   "source": [
    "## Filtering out bad/barely known movies"
   ]
  },
  {
   "cell_type": "code",
   "execution_count": 4,
   "metadata": {},
   "outputs": [
    {
     "data": {
      "text/plain": [
       "29943"
      ]
     },
     "execution_count": 4,
     "metadata": {},
     "output_type": "execute_result"
    }
   ],
   "source": [
    "# Calculate the count of films that have vote_average < 4 or vote_count < 20\n",
    "len(df[(df['vote_average'] < 4) | (df['vote_count'] < 20)])"
   ]
  },
  {
   "cell_type": "markdown",
   "metadata": {},
   "source": [
    "As you can see, this dataset has a lot of mediocre movies. Therefore, to speed up calculations, let's remove them"
   ]
  },
  {
   "cell_type": "code",
   "execution_count": 5,
   "metadata": {},
   "outputs": [
    {
     "name": "stdout",
     "output_type": "stream",
     "text": [
      "<class 'pandas.core.frame.DataFrame'>\n",
      "Index: 15517 entries, 0 to 45460\n",
      "Data columns (total 24 columns):\n",
      " #   Column                 Non-Null Count  Dtype  \n",
      "---  ------                 --------------  -----  \n",
      " 0   adult                  15517 non-null  object \n",
      " 1   belongs_to_collection  2757 non-null   object \n",
      " 2   budget                 15517 non-null  object \n",
      " 3   genres                 15517 non-null  object \n",
      " 4   homepage               3876 non-null   object \n",
      " 5   id                     15517 non-null  object \n",
      " 6   imdb_id                15515 non-null  object \n",
      " 7   original_language      15516 non-null  object \n",
      " 8   original_title         15517 non-null  object \n",
      " 9   overview               15415 non-null  object \n",
      " 10  popularity             15517 non-null  object \n",
      " 11  poster_path            15517 non-null  object \n",
      " 12  production_companies   15517 non-null  object \n",
      " 13  production_countries   15517 non-null  object \n",
      " 14  release_date           15515 non-null  object \n",
      " 15  revenue                15517 non-null  float64\n",
      " 16  runtime                15510 non-null  float64\n",
      " 17  spoken_languages       15517 non-null  object \n",
      " 18  status                 15516 non-null  object \n",
      " 19  tagline                10371 non-null  object \n",
      " 20  title                  15517 non-null  object \n",
      " 21  video                  15517 non-null  object \n",
      " 22  vote_average           15517 non-null  float64\n",
      " 23  vote_count             15517 non-null  float64\n",
      "dtypes: float64(4), object(20)\n",
      "memory usage: 3.0+ MB\n"
     ]
    }
   ],
   "source": [
    "df = df[(df['vote_average'] >= 4) & (df['vote_count'] >= 20)]\n",
    "df.info()"
   ]
  },
  {
   "cell_type": "markdown",
   "metadata": {},
   "source": [
    "## Dropping unneeded columns"
   ]
  },
  {
   "cell_type": "code",
   "execution_count": 6,
   "metadata": {},
   "outputs": [
    {
     "data": {
      "text/plain": [
       "adult\n",
       "False    15517\n",
       "Name: count, dtype: int64"
      ]
     },
     "execution_count": 6,
     "metadata": {},
     "output_type": "execute_result"
    }
   ],
   "source": [
    "df[\"adult\"].value_counts()"
   ]
  },
  {
   "cell_type": "code",
   "execution_count": 7,
   "metadata": {},
   "outputs": [
    {
     "data": {
      "text/plain": [
       "video\n",
       "False    15506\n",
       "True        11\n",
       "Name: count, dtype: int64"
      ]
     },
     "execution_count": 7,
     "metadata": {},
     "output_type": "execute_result"
    }
   ],
   "source": [
    "df[\"video\"].value_counts()"
   ]
  },
  {
   "cell_type": "code",
   "execution_count": 8,
   "metadata": {},
   "outputs": [
    {
     "data": {
      "text/plain": [
       "status\n",
       "Released           15475\n",
       "Post Production       17\n",
       "Rumored               13\n",
       "In Production          8\n",
       "Planned                3\n",
       "Name: count, dtype: int64"
      ]
     },
     "execution_count": 8,
     "metadata": {},
     "output_type": "execute_result"
    }
   ],
   "source": [
    "df[\"status\"].value_counts()"
   ]
  },
  {
   "cell_type": "markdown",
   "metadata": {},
   "source": [
    "The columns 'adult', 'status' and 'video' have predominantly one value, so let's remove them. Also, let's remove 'poster_path', 'hopepage' (too many null values), 'imdb_id', 'spoken_languages', 'overview' and 'tagline'\n",
    "\n",
    "Apart from this, let's drop not much useful for recommender columns"
   ]
  },
  {
   "cell_type": "code",
   "execution_count": 9,
   "metadata": {},
   "outputs": [
    {
     "data": {
      "text/html": [
       "<div>\n",
       "<style scoped>\n",
       "    .dataframe tbody tr th:only-of-type {\n",
       "        vertical-align: middle;\n",
       "    }\n",
       "\n",
       "    .dataframe tbody tr th {\n",
       "        vertical-align: top;\n",
       "    }\n",
       "\n",
       "    .dataframe thead th {\n",
       "        text-align: right;\n",
       "    }\n",
       "</style>\n",
       "<table border=\"1\" class=\"dataframe\">\n",
       "  <thead>\n",
       "    <tr style=\"text-align: right;\">\n",
       "      <th></th>\n",
       "      <th>0</th>\n",
       "      <th>1</th>\n",
       "      <th>2</th>\n",
       "    </tr>\n",
       "  </thead>\n",
       "  <tbody>\n",
       "    <tr>\n",
       "      <th>budget</th>\n",
       "      <td>30000000</td>\n",
       "      <td>65000000</td>\n",
       "      <td>0</td>\n",
       "    </tr>\n",
       "    <tr>\n",
       "      <th>genres</th>\n",
       "      <td>[{'id': 16, 'name': 'Animation'}, {'id': 35, '...</td>\n",
       "      <td>[{'id': 12, 'name': 'Adventure'}, {'id': 14, '...</td>\n",
       "      <td>[{'id': 10749, 'name': 'Romance'}, {'id': 35, ...</td>\n",
       "    </tr>\n",
       "    <tr>\n",
       "      <th>id</th>\n",
       "      <td>862</td>\n",
       "      <td>8844</td>\n",
       "      <td>15602</td>\n",
       "    </tr>\n",
       "    <tr>\n",
       "      <th>popularity</th>\n",
       "      <td>21.946943</td>\n",
       "      <td>17.015539</td>\n",
       "      <td>11.7129</td>\n",
       "    </tr>\n",
       "    <tr>\n",
       "      <th>release_date</th>\n",
       "      <td>1995-10-30</td>\n",
       "      <td>1995-12-15</td>\n",
       "      <td>1995-12-22</td>\n",
       "    </tr>\n",
       "    <tr>\n",
       "      <th>revenue</th>\n",
       "      <td>373554033.0</td>\n",
       "      <td>262797249.0</td>\n",
       "      <td>0.0</td>\n",
       "    </tr>\n",
       "    <tr>\n",
       "      <th>runtime</th>\n",
       "      <td>81.0</td>\n",
       "      <td>104.0</td>\n",
       "      <td>101.0</td>\n",
       "    </tr>\n",
       "    <tr>\n",
       "      <th>title</th>\n",
       "      <td>Toy Story</td>\n",
       "      <td>Jumanji</td>\n",
       "      <td>Grumpier Old Men</td>\n",
       "    </tr>\n",
       "    <tr>\n",
       "      <th>vote_average</th>\n",
       "      <td>7.7</td>\n",
       "      <td>6.9</td>\n",
       "      <td>6.5</td>\n",
       "    </tr>\n",
       "    <tr>\n",
       "      <th>vote_count</th>\n",
       "      <td>5415.0</td>\n",
       "      <td>2413.0</td>\n",
       "      <td>92.0</td>\n",
       "    </tr>\n",
       "  </tbody>\n",
       "</table>\n",
       "</div>"
      ],
      "text/plain": [
       "                                                              0  \\\n",
       "budget                                                 30000000   \n",
       "genres        [{'id': 16, 'name': 'Animation'}, {'id': 35, '...   \n",
       "id                                                          862   \n",
       "popularity                                            21.946943   \n",
       "release_date                                         1995-10-30   \n",
       "revenue                                             373554033.0   \n",
       "runtime                                                    81.0   \n",
       "title                                                 Toy Story   \n",
       "vote_average                                                7.7   \n",
       "vote_count                                               5415.0   \n",
       "\n",
       "                                                              1  \\\n",
       "budget                                                 65000000   \n",
       "genres        [{'id': 12, 'name': 'Adventure'}, {'id': 14, '...   \n",
       "id                                                         8844   \n",
       "popularity                                            17.015539   \n",
       "release_date                                         1995-12-15   \n",
       "revenue                                             262797249.0   \n",
       "runtime                                                   104.0   \n",
       "title                                                   Jumanji   \n",
       "vote_average                                                6.9   \n",
       "vote_count                                               2413.0   \n",
       "\n",
       "                                                              2  \n",
       "budget                                                        0  \n",
       "genres        [{'id': 10749, 'name': 'Romance'}, {'id': 35, ...  \n",
       "id                                                        15602  \n",
       "popularity                                              11.7129  \n",
       "release_date                                         1995-12-22  \n",
       "revenue                                                     0.0  \n",
       "runtime                                                   101.0  \n",
       "title                                          Grumpier Old Men  \n",
       "vote_average                                                6.5  \n",
       "vote_count                                                 92.0  "
      ]
     },
     "execution_count": 9,
     "metadata": {},
     "output_type": "execute_result"
    }
   ],
   "source": [
    "df = df.drop(\n",
    "    [\n",
    "        \"adult\",\n",
    "        \"status\",\n",
    "        \"video\",\n",
    "        \"poster_path\",\n",
    "        \"original_title\",\n",
    "        \"homepage\",\n",
    "        \"imdb_id\",\n",
    "        \"spoken_languages\",\n",
    "        \"overview\",\n",
    "        \"tagline\",\n",
    "        \"belongs_to_collection\",\n",
    "        \"original_language\",\n",
    "        \"production_companies\",\n",
    "        \"production_countries\"\n",
    "    ],\n",
    "    axis=1,\n",
    ")\n",
    "df.head(3).transpose()"
   ]
  },
  {
   "cell_type": "markdown",
   "metadata": {},
   "source": [
    "Now let's have a look at dtypes"
   ]
  },
  {
   "cell_type": "markdown",
   "metadata": {},
   "source": [
    "## Converting dtypes to more appropriate ones"
   ]
  },
  {
   "cell_type": "code",
   "execution_count": 10,
   "metadata": {},
   "outputs": [
    {
     "data": {
      "text/plain": [
       "budget           object\n",
       "genres           object\n",
       "id               object\n",
       "popularity       object\n",
       "release_date     object\n",
       "revenue         float64\n",
       "runtime         float64\n",
       "title            object\n",
       "vote_average    float64\n",
       "vote_count      float64\n",
       "dtype: object"
      ]
     },
     "execution_count": 10,
     "metadata": {},
     "output_type": "execute_result"
    }
   ],
   "source": [
    "df.dtypes"
   ]
  },
  {
   "cell_type": "markdown",
   "metadata": {},
   "source": [
    "First of all, let's handle 'release_date' column"
   ]
  },
  {
   "cell_type": "code",
   "execution_count": 11,
   "metadata": {},
   "outputs": [
    {
     "name": "stdout",
     "output_type": "stream",
     "text": [
      "Number of rows with bad date values: 2\n"
     ]
    }
   ],
   "source": [
    "# Convert 'release_date' column to datetime type\n",
    "df['release_date'] = pd.to_datetime(df['release_date'], errors='coerce')\n",
    "# Count the number of rows with bad date values\n",
    "bad_date_count = df['release_date'].isnull().sum()\n",
    "print(f\"Number of rows with bad date values: {bad_date_count}\")"
   ]
  },
  {
   "cell_type": "markdown",
   "metadata": {},
   "source": [
    "Since 90 rows compared to 45,000 in total is nothing, we can freely remove them"
   ]
  },
  {
   "cell_type": "code",
   "execution_count": 12,
   "metadata": {},
   "outputs": [
    {
     "name": "stdout",
     "output_type": "stream",
     "text": [
      "Number of rows with bad date values: 0\n"
     ]
    }
   ],
   "source": [
    "# Remove rows with null or NaT values\n",
    "df = df.dropna(subset=['release_date'])\n",
    "bad_date_count = df['release_date'].isnull().sum()\n",
    "print(f\"Number of rows with bad date values: {bad_date_count}\")"
   ]
  },
  {
   "cell_type": "markdown",
   "metadata": {},
   "source": [
    "The column 'budget' contains non-numerical values like '/ff9qCepilowshEtG2GYWwzt2bs4.jpg'. Let's remove them"
   ]
  },
  {
   "cell_type": "code",
   "execution_count": 13,
   "metadata": {},
   "outputs": [],
   "source": [
    "# Clean 'budget' column to remove non-numeric characters\n",
    "df[\"budget\"] = df[\"budget\"].str.replace(r\"\\D\", \"\", regex=True)"
   ]
  },
  {
   "cell_type": "markdown",
   "metadata": {},
   "source": [
    "I don't like that columns with whole numbers like 'runtime' or 'vote_count' have dtype set to float. Let's change that"
   ]
  },
  {
   "cell_type": "code",
   "execution_count": 14,
   "metadata": {},
   "outputs": [
    {
     "name": "stdout",
     "output_type": "stream",
     "text": [
      "budget                   int64\n",
      "genres                  object\n",
      "id                       int32\n",
      "popularity             float64\n",
      "release_date    datetime64[ns]\n",
      "revenue                  int64\n",
      "runtime                  int32\n",
      "title                   object\n",
      "vote_average           float64\n",
      "vote_count               int32\n",
      "dtype: object\n"
     ]
    }
   ],
   "source": [
    "# Specify columns and their new data types\n",
    "dict_columns_to_convert = {\n",
    "    \"budget\": \"int64\",\n",
    "    \"revenue\": \"int64\",\n",
    "    \"runtime\": \"int\",\n",
    "    \"vote_count\": \"int\",\n",
    "    \"popularity\": \"float\",\n",
    "    \"id\": \"int\"\n",
    "}\n",
    "# Clean 'budget' column to remove non-numeric characters\n",
    "df[\"budget\"] = df[\"budget\"].str.replace(r\"\\D\", \"\", regex=True)\n",
    "# Fill NaN values with 0\n",
    "cols_to_fill = list(dict_columns_to_convert.keys())\n",
    "df[cols_to_fill] = df[cols_to_fill].fillna(0)\n",
    "# Convert columns to integer type\n",
    "df = df.astype(dict_columns_to_convert)\n",
    "# Check the data types of the DataFrame\n",
    "print(df.dtypes)"
   ]
  },
  {
   "cell_type": "markdown",
   "metadata": {},
   "source": [
    "## Handling of 'budget', 'revenue', and 'popularity' columns"
   ]
  },
  {
   "cell_type": "markdown",
   "metadata": {},
   "source": [
    "Columns 'budget' and 'revenue' have too big values in them while 'popularity' column has too many digits after decimal point. Let's change this"
   ]
  },
  {
   "cell_type": "code",
   "execution_count": 15,
   "metadata": {},
   "outputs": [
    {
     "data": {
      "text/html": [
       "<div>\n",
       "<style scoped>\n",
       "    .dataframe tbody tr th:only-of-type {\n",
       "        vertical-align: middle;\n",
       "    }\n",
       "\n",
       "    .dataframe tbody tr th {\n",
       "        vertical-align: top;\n",
       "    }\n",
       "\n",
       "    .dataframe thead th {\n",
       "        text-align: right;\n",
       "    }\n",
       "</style>\n",
       "<table border=\"1\" class=\"dataframe\">\n",
       "  <thead>\n",
       "    <tr style=\"text-align: right;\">\n",
       "      <th></th>\n",
       "      <th>budget</th>\n",
       "      <th>genres</th>\n",
       "      <th>id</th>\n",
       "      <th>popularity</th>\n",
       "      <th>release_date</th>\n",
       "      <th>revenue</th>\n",
       "      <th>runtime</th>\n",
       "      <th>title</th>\n",
       "      <th>vote_average</th>\n",
       "      <th>vote_count</th>\n",
       "    </tr>\n",
       "  </thead>\n",
       "  <tbody>\n",
       "    <tr>\n",
       "      <th>0</th>\n",
       "      <td>30.0</td>\n",
       "      <td>[{'id': 16, 'name': 'Animation'}, {'id': 35, '...</td>\n",
       "      <td>862</td>\n",
       "      <td>21.95</td>\n",
       "      <td>1995-10-30</td>\n",
       "      <td>373.55</td>\n",
       "      <td>81</td>\n",
       "      <td>Toy Story</td>\n",
       "      <td>7.7</td>\n",
       "      <td>5415</td>\n",
       "    </tr>\n",
       "    <tr>\n",
       "      <th>1</th>\n",
       "      <td>65.0</td>\n",
       "      <td>[{'id': 12, 'name': 'Adventure'}, {'id': 14, '...</td>\n",
       "      <td>8844</td>\n",
       "      <td>17.02</td>\n",
       "      <td>1995-12-15</td>\n",
       "      <td>262.80</td>\n",
       "      <td>104</td>\n",
       "      <td>Jumanji</td>\n",
       "      <td>6.9</td>\n",
       "      <td>2413</td>\n",
       "    </tr>\n",
       "    <tr>\n",
       "      <th>2</th>\n",
       "      <td>0.0</td>\n",
       "      <td>[{'id': 10749, 'name': 'Romance'}, {'id': 35, ...</td>\n",
       "      <td>15602</td>\n",
       "      <td>11.71</td>\n",
       "      <td>1995-12-22</td>\n",
       "      <td>0.00</td>\n",
       "      <td>101</td>\n",
       "      <td>Grumpier Old Men</td>\n",
       "      <td>6.5</td>\n",
       "      <td>92</td>\n",
       "    </tr>\n",
       "  </tbody>\n",
       "</table>\n",
       "</div>"
      ],
      "text/plain": [
       "   budget                                             genres     id  \\\n",
       "0    30.0  [{'id': 16, 'name': 'Animation'}, {'id': 35, '...    862   \n",
       "1    65.0  [{'id': 12, 'name': 'Adventure'}, {'id': 14, '...   8844   \n",
       "2     0.0  [{'id': 10749, 'name': 'Romance'}, {'id': 35, ...  15602   \n",
       "\n",
       "   popularity release_date  revenue  runtime             title  vote_average  \\\n",
       "0       21.95   1995-10-30   373.55       81         Toy Story           7.7   \n",
       "1       17.02   1995-12-15   262.80      104           Jumanji           6.9   \n",
       "2       11.71   1995-12-22     0.00      101  Grumpier Old Men           6.5   \n",
       "\n",
       "   vote_count  \n",
       "0        5415  \n",
       "1        2413  \n",
       "2          92  "
      ]
     },
     "execution_count": 15,
     "metadata": {},
     "output_type": "execute_result"
    }
   ],
   "source": [
    "# Divide 'budget' and 'revenue' columns by million and round to 2 decimal places\n",
    "df['budget'] = (df['budget'] / 1000000).round(2)\n",
    "df['revenue'] = (df['revenue'] / 1000000).round(2)\n",
    "\n",
    "# Round 'popularity' column to 2 decimal places\n",
    "df['popularity'] = df['popularity'].round(2)\n",
    "df.head(3)"
   ]
  },
  {
   "cell_type": "markdown",
   "metadata": {},
   "source": [
    "## Working with 'genres' column"
   ]
  },
  {
   "cell_type": "code",
   "execution_count": 16,
   "metadata": {},
   "outputs": [
    {
     "data": {
      "text/html": [
       "<div>\n",
       "<style scoped>\n",
       "    .dataframe tbody tr th:only-of-type {\n",
       "        vertical-align: middle;\n",
       "    }\n",
       "\n",
       "    .dataframe tbody tr th {\n",
       "        vertical-align: top;\n",
       "    }\n",
       "\n",
       "    .dataframe thead th {\n",
       "        text-align: right;\n",
       "    }\n",
       "</style>\n",
       "<table border=\"1\" class=\"dataframe\">\n",
       "  <thead>\n",
       "    <tr style=\"text-align: right;\">\n",
       "      <th></th>\n",
       "      <th>title</th>\n",
       "      <th>genres</th>\n",
       "    </tr>\n",
       "  </thead>\n",
       "  <tbody>\n",
       "    <tr>\n",
       "      <th>0</th>\n",
       "      <td>Toy Story</td>\n",
       "      <td>[Animation, Comedy, Family]</td>\n",
       "    </tr>\n",
       "    <tr>\n",
       "      <th>1</th>\n",
       "      <td>Jumanji</td>\n",
       "      <td>[Adventure, Family, Fantasy]</td>\n",
       "    </tr>\n",
       "    <tr>\n",
       "      <th>2</th>\n",
       "      <td>Grumpier Old Men</td>\n",
       "      <td>[Comedy, Romance]</td>\n",
       "    </tr>\n",
       "  </tbody>\n",
       "</table>\n",
       "</div>"
      ],
      "text/plain": [
       "              title                        genres\n",
       "0         Toy Story   [Animation, Comedy, Family]\n",
       "1           Jumanji  [Adventure, Family, Fantasy]\n",
       "2  Grumpier Old Men             [Comedy, Romance]"
      ]
     },
     "execution_count": 16,
     "metadata": {},
     "output_type": "execute_result"
    }
   ],
   "source": [
    "# Convert the stringified JSON into a list of dictionaries\n",
    "df[\"genres\"] = df[\"genres\"].apply(\n",
    "    lambda x: literal_eval(x.replace(\"'\", '\"')) if isinstance(x, str) else []\n",
    ")\n",
    "# Extract the names of genres into a list and sort them alphabetically\n",
    "df[\"genres\"] = df[\"genres\"].apply(\n",
    "    lambda x: sorted([genre[\"name\"] for genre in x]) if isinstance(x, list) else []\n",
    ")\n",
    "# Display the DataFrame with the extracted genre names\n",
    "df[[\"title\", \"genres\"]].head(3)"
   ]
  },
  {
   "cell_type": "code",
   "execution_count": 17,
   "metadata": {},
   "outputs": [
    {
     "name": "stdout",
     "output_type": "stream",
     "text": [
      "There are 20 unique genres.\n",
      "{'Family', 'Music', 'Science Fiction', 'TV Movie', 'Adventure', 'Comedy', 'Foreign', 'Fantasy', 'Crime', 'Horror', 'Mystery', 'Animation', 'Thriller', 'Documentary', 'Action', 'Romance', 'Drama', 'History', 'Western', 'War'}\n"
     ]
    }
   ],
   "source": [
    "# Flatten the list of genre names\n",
    "flat_genre_names = [genre for sublist in df[\"genres\"] for genre in sublist]\n",
    "# Get the unique genre names\n",
    "unique_genre_names = set(flat_genre_names)\n",
    "# Print the unique genre names\n",
    "print(f\"There are {len(unique_genre_names)} unique genres.\")\n",
    "print(unique_genre_names)"
   ]
  },
  {
   "cell_type": "markdown",
   "metadata": {},
   "source": [
    "We can see that 'genres' colomn has faulty data like 'Carousel Productions' or 'Vision View Entertainment', which sound like production companies, not genres. Thus, let's remove such values from the column"
   ]
  },
  {
   "cell_type": "code",
   "execution_count": 18,
   "metadata": {},
   "outputs": [],
   "source": [
    "# Define the list of valid genre names\n",
    "valid_genres = {\n",
    "    'Action', 'Adventure', 'Animation', 'Comedy', 'Crime', 'Documentary',\n",
    "    'Drama', 'Family', 'Fantasy', 'History', 'Horror', 'Mystery',\n",
    "    'Romance', 'Science Fiction', 'Thriller', 'War', 'Western'\n",
    "}\n",
    "# Filter the genre_names column to include only the valid genres\n",
    "df[\"genres\"] = df[\"genres\"].apply(lambda x: [genre for genre in x if genre in valid_genres])"
   ]
  },
  {
   "cell_type": "markdown",
   "metadata": {},
   "source": [
    "Now let's check again"
   ]
  },
  {
   "cell_type": "code",
   "execution_count": 19,
   "metadata": {},
   "outputs": [
    {
     "name": "stdout",
     "output_type": "stream",
     "text": [
      "There are 17 unique genres.\n",
      "{'Mystery', 'Family', 'Animation', 'Adventure', 'Thriller', 'Fantasy', 'Action', 'Crime', 'Romance', 'Drama', 'Horror', 'Documentary', 'History', 'Comedy', 'Science Fiction', 'Western', 'War'}\n"
     ]
    }
   ],
   "source": [
    "flat_genre_names = [genre for sublist in df[\"genres\"] for genre in sublist]\n",
    "unique_genre_names = set(flat_genre_names)\n",
    "print(f\"There are {len(unique_genre_names)} unique genres.\")\n",
    "print(unique_genre_names)"
   ]
  },
  {
   "cell_type": "code",
   "execution_count": 20,
   "metadata": {},
   "outputs": [
    {
     "data": {
      "text/plain": [
       "genres\n",
       "[Drama]                     1360\n",
       "[Comedy]                    1224\n",
       "[Comedy, Drama]              697\n",
       "[Drama, Romance]             658\n",
       "[Comedy, Drama, Romance]     539\n",
       "[Comedy, Romance]            442\n",
       "[Documentary]                398\n",
       "Name: count, dtype: int64"
      ]
     },
     "execution_count": 20,
     "metadata": {},
     "output_type": "execute_result"
    }
   ],
   "source": [
    "df[\"genres\"].value_counts().head(7)"
   ]
  },
  {
   "cell_type": "markdown",
   "metadata": {},
   "source": [
    "One movie can belong to many genres and one genre can be applied to many movies. It's a many-to-many relationship. Ideally, this kind of relationship is supposed to be broken into two 1:M relationships and connected with an intermidiate or junction table. However, because\n",
    "\n",
    "- it's a project to show my knowledge mainly of writing SQL queries\n",
    "- I'm applying to a junior data analyst position, and, at that role, you're not supposed to design databases\n",
    "- preparation part is already too long\n",
    "- maximum string length for genres is known (80 symbols for the movie with the title 'Yu-Gi-Oh')\n",
    "\n",
    "I'll keep things simple and connect genre names by comma."
   ]
  },
  {
   "cell_type": "code",
   "execution_count": 21,
   "metadata": {},
   "outputs": [],
   "source": [
    "# Convert the list of genres into a string with comma as a delimiter\n",
    "df[\"genres\"] = df[\"genres\"].apply(lambda x: \", \".join(x) if x else None)"
   ]
  },
  {
   "cell_type": "code",
   "execution_count": 22,
   "metadata": {},
   "outputs": [
    {
     "data": {
      "text/plain": [
       "genres\n",
       "Drama                     1360\n",
       "Comedy                    1224\n",
       "Comedy, Drama              697\n",
       "Drama, Romance             658\n",
       "Comedy, Drama, Romance     539\n",
       "Comedy, Romance            442\n",
       "Documentary                398\n",
       "Name: count, dtype: int64"
      ]
     },
     "execution_count": 22,
     "metadata": {},
     "output_type": "execute_result"
    }
   ],
   "source": [
    "df[\"genres\"].value_counts().head(7)"
   ]
  },
  {
   "cell_type": "code",
   "execution_count": 23,
   "metadata": {},
   "outputs": [
    {
     "data": {
      "text/html": [
       "<div>\n",
       "<style scoped>\n",
       "    .dataframe tbody tr th:only-of-type {\n",
       "        vertical-align: middle;\n",
       "    }\n",
       "\n",
       "    .dataframe tbody tr th {\n",
       "        vertical-align: top;\n",
       "    }\n",
       "\n",
       "    .dataframe thead th {\n",
       "        text-align: right;\n",
       "    }\n",
       "</style>\n",
       "<table border=\"1\" class=\"dataframe\">\n",
       "  <thead>\n",
       "    <tr style=\"text-align: right;\">\n",
       "      <th></th>\n",
       "      <th>0</th>\n",
       "      <th>1</th>\n",
       "      <th>2</th>\n",
       "      <th>3</th>\n",
       "      <th>4</th>\n",
       "    </tr>\n",
       "  </thead>\n",
       "  <tbody>\n",
       "    <tr>\n",
       "      <th>budget</th>\n",
       "      <td>30.0</td>\n",
       "      <td>65.0</td>\n",
       "      <td>0.0</td>\n",
       "      <td>16.0</td>\n",
       "      <td>0.0</td>\n",
       "    </tr>\n",
       "    <tr>\n",
       "      <th>genres</th>\n",
       "      <td>Animation, Comedy, Family</td>\n",
       "      <td>Adventure, Family, Fantasy</td>\n",
       "      <td>Comedy, Romance</td>\n",
       "      <td>Comedy, Drama, Romance</td>\n",
       "      <td>Comedy</td>\n",
       "    </tr>\n",
       "    <tr>\n",
       "      <th>id</th>\n",
       "      <td>862</td>\n",
       "      <td>8844</td>\n",
       "      <td>15602</td>\n",
       "      <td>31357</td>\n",
       "      <td>11862</td>\n",
       "    </tr>\n",
       "    <tr>\n",
       "      <th>popularity</th>\n",
       "      <td>21.95</td>\n",
       "      <td>17.02</td>\n",
       "      <td>11.71</td>\n",
       "      <td>3.86</td>\n",
       "      <td>8.39</td>\n",
       "    </tr>\n",
       "    <tr>\n",
       "      <th>release_date</th>\n",
       "      <td>1995-10-30 00:00:00</td>\n",
       "      <td>1995-12-15 00:00:00</td>\n",
       "      <td>1995-12-22 00:00:00</td>\n",
       "      <td>1995-12-22 00:00:00</td>\n",
       "      <td>1995-02-10 00:00:00</td>\n",
       "    </tr>\n",
       "    <tr>\n",
       "      <th>revenue</th>\n",
       "      <td>373.55</td>\n",
       "      <td>262.8</td>\n",
       "      <td>0.0</td>\n",
       "      <td>81.45</td>\n",
       "      <td>76.58</td>\n",
       "    </tr>\n",
       "    <tr>\n",
       "      <th>runtime</th>\n",
       "      <td>81</td>\n",
       "      <td>104</td>\n",
       "      <td>101</td>\n",
       "      <td>127</td>\n",
       "      <td>106</td>\n",
       "    </tr>\n",
       "    <tr>\n",
       "      <th>title</th>\n",
       "      <td>Toy Story</td>\n",
       "      <td>Jumanji</td>\n",
       "      <td>Grumpier Old Men</td>\n",
       "      <td>Waiting to Exhale</td>\n",
       "      <td>Father of the Bride Part II</td>\n",
       "    </tr>\n",
       "    <tr>\n",
       "      <th>vote_average</th>\n",
       "      <td>7.7</td>\n",
       "      <td>6.9</td>\n",
       "      <td>6.5</td>\n",
       "      <td>6.1</td>\n",
       "      <td>5.7</td>\n",
       "    </tr>\n",
       "    <tr>\n",
       "      <th>vote_count</th>\n",
       "      <td>5415</td>\n",
       "      <td>2413</td>\n",
       "      <td>92</td>\n",
       "      <td>34</td>\n",
       "      <td>173</td>\n",
       "    </tr>\n",
       "  </tbody>\n",
       "</table>\n",
       "</div>"
      ],
      "text/plain": [
       "                                      0                           1  \\\n",
       "budget                             30.0                        65.0   \n",
       "genres        Animation, Comedy, Family  Adventure, Family, Fantasy   \n",
       "id                                  862                        8844   \n",
       "popularity                        21.95                       17.02   \n",
       "release_date        1995-10-30 00:00:00         1995-12-15 00:00:00   \n",
       "revenue                          373.55                       262.8   \n",
       "runtime                              81                         104   \n",
       "title                         Toy Story                     Jumanji   \n",
       "vote_average                        7.7                         6.9   \n",
       "vote_count                         5415                        2413   \n",
       "\n",
       "                                2                       3  \\\n",
       "budget                        0.0                    16.0   \n",
       "genres            Comedy, Romance  Comedy, Drama, Romance   \n",
       "id                          15602                   31357   \n",
       "popularity                  11.71                    3.86   \n",
       "release_date  1995-12-22 00:00:00     1995-12-22 00:00:00   \n",
       "revenue                       0.0                   81.45   \n",
       "runtime                       101                     127   \n",
       "title            Grumpier Old Men       Waiting to Exhale   \n",
       "vote_average                  6.5                     6.1   \n",
       "vote_count                     92                      34   \n",
       "\n",
       "                                        4  \n",
       "budget                                0.0  \n",
       "genres                             Comedy  \n",
       "id                                  11862  \n",
       "popularity                           8.39  \n",
       "release_date          1995-02-10 00:00:00  \n",
       "revenue                             76.58  \n",
       "runtime                               106  \n",
       "title         Father of the Bride Part II  \n",
       "vote_average                          5.7  \n",
       "vote_count                            173  "
      ]
     },
     "execution_count": 23,
     "metadata": {},
     "output_type": "execute_result"
    }
   ],
   "source": [
    "df.head().transpose()"
   ]
  },
  {
   "cell_type": "markdown",
   "metadata": {},
   "source": [
    "Time to rearrange columns a little bit because I'm not happy with the order of columns"
   ]
  },
  {
   "cell_type": "markdown",
   "metadata": {},
   "source": [
    "## Changing column order"
   ]
  },
  {
   "cell_type": "code",
   "execution_count": 24,
   "metadata": {},
   "outputs": [
    {
     "data": {
      "text/html": [
       "<div>\n",
       "<style scoped>\n",
       "    .dataframe tbody tr th:only-of-type {\n",
       "        vertical-align: middle;\n",
       "    }\n",
       "\n",
       "    .dataframe tbody tr th {\n",
       "        vertical-align: top;\n",
       "    }\n",
       "\n",
       "    .dataframe thead th {\n",
       "        text-align: right;\n",
       "    }\n",
       "</style>\n",
       "<table border=\"1\" class=\"dataframe\">\n",
       "  <thead>\n",
       "    <tr style=\"text-align: right;\">\n",
       "      <th></th>\n",
       "      <th>0</th>\n",
       "      <th>1</th>\n",
       "      <th>2</th>\n",
       "    </tr>\n",
       "  </thead>\n",
       "  <tbody>\n",
       "    <tr>\n",
       "      <th>id</th>\n",
       "      <td>862</td>\n",
       "      <td>8844</td>\n",
       "      <td>15602</td>\n",
       "    </tr>\n",
       "    <tr>\n",
       "      <th>title</th>\n",
       "      <td>Toy Story</td>\n",
       "      <td>Jumanji</td>\n",
       "      <td>Grumpier Old Men</td>\n",
       "    </tr>\n",
       "    <tr>\n",
       "      <th>release_date</th>\n",
       "      <td>1995-10-30 00:00:00</td>\n",
       "      <td>1995-12-15 00:00:00</td>\n",
       "      <td>1995-12-22 00:00:00</td>\n",
       "    </tr>\n",
       "    <tr>\n",
       "      <th>runtime</th>\n",
       "      <td>81</td>\n",
       "      <td>104</td>\n",
       "      <td>101</td>\n",
       "    </tr>\n",
       "    <tr>\n",
       "      <th>genres</th>\n",
       "      <td>Animation, Comedy, Family</td>\n",
       "      <td>Adventure, Family, Fantasy</td>\n",
       "      <td>Comedy, Romance</td>\n",
       "    </tr>\n",
       "    <tr>\n",
       "      <th>budget</th>\n",
       "      <td>30.0</td>\n",
       "      <td>65.0</td>\n",
       "      <td>0.0</td>\n",
       "    </tr>\n",
       "    <tr>\n",
       "      <th>revenue</th>\n",
       "      <td>373.55</td>\n",
       "      <td>262.8</td>\n",
       "      <td>0.0</td>\n",
       "    </tr>\n",
       "    <tr>\n",
       "      <th>popularity</th>\n",
       "      <td>21.95</td>\n",
       "      <td>17.02</td>\n",
       "      <td>11.71</td>\n",
       "    </tr>\n",
       "    <tr>\n",
       "      <th>vote_average</th>\n",
       "      <td>7.7</td>\n",
       "      <td>6.9</td>\n",
       "      <td>6.5</td>\n",
       "    </tr>\n",
       "    <tr>\n",
       "      <th>vote_count</th>\n",
       "      <td>5415</td>\n",
       "      <td>2413</td>\n",
       "      <td>92</td>\n",
       "    </tr>\n",
       "  </tbody>\n",
       "</table>\n",
       "</div>"
      ],
      "text/plain": [
       "                                      0                           1  \\\n",
       "id                                  862                        8844   \n",
       "title                         Toy Story                     Jumanji   \n",
       "release_date        1995-10-30 00:00:00         1995-12-15 00:00:00   \n",
       "runtime                              81                         104   \n",
       "genres        Animation, Comedy, Family  Adventure, Family, Fantasy   \n",
       "budget                             30.0                        65.0   \n",
       "revenue                          373.55                       262.8   \n",
       "popularity                        21.95                       17.02   \n",
       "vote_average                        7.7                         6.9   \n",
       "vote_count                         5415                        2413   \n",
       "\n",
       "                                2  \n",
       "id                          15602  \n",
       "title            Grumpier Old Men  \n",
       "release_date  1995-12-22 00:00:00  \n",
       "runtime                       101  \n",
       "genres            Comedy, Romance  \n",
       "budget                        0.0  \n",
       "revenue                       0.0  \n",
       "popularity                  11.71  \n",
       "vote_average                  6.5  \n",
       "vote_count                     92  "
      ]
     },
     "execution_count": 24,
     "metadata": {},
     "output_type": "execute_result"
    }
   ],
   "source": [
    "new_cols_order = [\n",
    "    \"id\",\n",
    "    \"title\",\n",
    "    \"release_date\",\n",
    "    \"runtime\",\n",
    "    \"genres\",\n",
    "    \"budget\",\n",
    "    \"revenue\",\n",
    "    \"popularity\",\n",
    "    \"vote_average\",\n",
    "    \"vote_count\"\n",
    "]\n",
    "df = df[new_cols_order]\n",
    "df.head(3).transpose()"
   ]
  },
  {
   "cell_type": "markdown",
   "metadata": {},
   "source": [
    "## Adding data from other two datasets"
   ]
  },
  {
   "cell_type": "code",
   "execution_count": 27,
   "metadata": {},
   "outputs": [],
   "source": [
    "credits = pd.read_csv('data/credits.csv')\n",
    "keywords = pd.read_csv('data/keywords.csv')"
   ]
  },
  {
   "cell_type": "code",
   "execution_count": 32,
   "metadata": {},
   "outputs": [
    {
     "data": {
      "text/html": [
       "<div>\n",
       "<style scoped>\n",
       "    .dataframe tbody tr th:only-of-type {\n",
       "        vertical-align: middle;\n",
       "    }\n",
       "\n",
       "    .dataframe tbody tr th {\n",
       "        vertical-align: top;\n",
       "    }\n",
       "\n",
       "    .dataframe thead th {\n",
       "        text-align: right;\n",
       "    }\n",
       "</style>\n",
       "<table border=\"1\" class=\"dataframe\">\n",
       "  <thead>\n",
       "    <tr style=\"text-align: right;\">\n",
       "      <th></th>\n",
       "      <th>id</th>\n",
       "      <th>title</th>\n",
       "      <th>release_date</th>\n",
       "      <th>runtime</th>\n",
       "      <th>genres</th>\n",
       "      <th>budget</th>\n",
       "      <th>revenue</th>\n",
       "      <th>popularity</th>\n",
       "      <th>vote_average</th>\n",
       "      <th>vote_count</th>\n",
       "      <th>cast</th>\n",
       "      <th>crew</th>\n",
       "      <th>keywords</th>\n",
       "    </tr>\n",
       "  </thead>\n",
       "  <tbody>\n",
       "    <tr>\n",
       "      <th>0</th>\n",
       "      <td>862</td>\n",
       "      <td>Toy Story</td>\n",
       "      <td>1995-10-30</td>\n",
       "      <td>81</td>\n",
       "      <td>Animation, Comedy, Family</td>\n",
       "      <td>30.0</td>\n",
       "      <td>373.55</td>\n",
       "      <td>21.95</td>\n",
       "      <td>7.7</td>\n",
       "      <td>5415</td>\n",
       "      <td>[{'cast_id': 14, 'character': 'Woody (voice)',...</td>\n",
       "      <td>[{'credit_id': '52fe4284c3a36847f8024f49', 'de...</td>\n",
       "      <td>[{'id': 931, 'name': 'jealousy'}, {'id': 4290,...</td>\n",
       "    </tr>\n",
       "    <tr>\n",
       "      <th>1</th>\n",
       "      <td>8844</td>\n",
       "      <td>Jumanji</td>\n",
       "      <td>1995-12-15</td>\n",
       "      <td>104</td>\n",
       "      <td>Adventure, Family, Fantasy</td>\n",
       "      <td>65.0</td>\n",
       "      <td>262.80</td>\n",
       "      <td>17.02</td>\n",
       "      <td>6.9</td>\n",
       "      <td>2413</td>\n",
       "      <td>[{'cast_id': 1, 'character': 'Alan Parrish', '...</td>\n",
       "      <td>[{'credit_id': '52fe44bfc3a36847f80a7cd1', 'de...</td>\n",
       "      <td>[{'id': 10090, 'name': 'board game'}, {'id': 1...</td>\n",
       "    </tr>\n",
       "    <tr>\n",
       "      <th>2</th>\n",
       "      <td>15602</td>\n",
       "      <td>Grumpier Old Men</td>\n",
       "      <td>1995-12-22</td>\n",
       "      <td>101</td>\n",
       "      <td>Comedy, Romance</td>\n",
       "      <td>0.0</td>\n",
       "      <td>0.00</td>\n",
       "      <td>11.71</td>\n",
       "      <td>6.5</td>\n",
       "      <td>92</td>\n",
       "      <td>[{'cast_id': 2, 'character': 'Max Goldman', 'c...</td>\n",
       "      <td>[{'credit_id': '52fe466a9251416c75077a89', 'de...</td>\n",
       "      <td>[{'id': 1495, 'name': 'fishing'}, {'id': 12392...</td>\n",
       "    </tr>\n",
       "    <tr>\n",
       "      <th>3</th>\n",
       "      <td>31357</td>\n",
       "      <td>Waiting to Exhale</td>\n",
       "      <td>1995-12-22</td>\n",
       "      <td>127</td>\n",
       "      <td>Comedy, Drama, Romance</td>\n",
       "      <td>16.0</td>\n",
       "      <td>81.45</td>\n",
       "      <td>3.86</td>\n",
       "      <td>6.1</td>\n",
       "      <td>34</td>\n",
       "      <td>[{'cast_id': 1, 'character': \"Savannah 'Vannah...</td>\n",
       "      <td>[{'credit_id': '52fe44779251416c91011acb', 'de...</td>\n",
       "      <td>[{'id': 818, 'name': 'based on novel'}, {'id':...</td>\n",
       "    </tr>\n",
       "    <tr>\n",
       "      <th>4</th>\n",
       "      <td>11862</td>\n",
       "      <td>Father of the Bride Part II</td>\n",
       "      <td>1995-02-10</td>\n",
       "      <td>106</td>\n",
       "      <td>Comedy</td>\n",
       "      <td>0.0</td>\n",
       "      <td>76.58</td>\n",
       "      <td>8.39</td>\n",
       "      <td>5.7</td>\n",
       "      <td>173</td>\n",
       "      <td>[{'cast_id': 1, 'character': 'George Banks', '...</td>\n",
       "      <td>[{'credit_id': '52fe44959251416c75039ed7', 'de...</td>\n",
       "      <td>[{'id': 1009, 'name': 'baby'}, {'id': 1599, 'n...</td>\n",
       "    </tr>\n",
       "  </tbody>\n",
       "</table>\n",
       "</div>"
      ],
      "text/plain": [
       "      id                        title release_date  runtime  \\\n",
       "0    862                    Toy Story   1995-10-30       81   \n",
       "1   8844                      Jumanji   1995-12-15      104   \n",
       "2  15602             Grumpier Old Men   1995-12-22      101   \n",
       "3  31357            Waiting to Exhale   1995-12-22      127   \n",
       "4  11862  Father of the Bride Part II   1995-02-10      106   \n",
       "\n",
       "                       genres  budget  revenue  popularity  vote_average  \\\n",
       "0   Animation, Comedy, Family    30.0   373.55       21.95           7.7   \n",
       "1  Adventure, Family, Fantasy    65.0   262.80       17.02           6.9   \n",
       "2             Comedy, Romance     0.0     0.00       11.71           6.5   \n",
       "3      Comedy, Drama, Romance    16.0    81.45        3.86           6.1   \n",
       "4                      Comedy     0.0    76.58        8.39           5.7   \n",
       "\n",
       "   vote_count                                               cast  \\\n",
       "0        5415  [{'cast_id': 14, 'character': 'Woody (voice)',...   \n",
       "1        2413  [{'cast_id': 1, 'character': 'Alan Parrish', '...   \n",
       "2          92  [{'cast_id': 2, 'character': 'Max Goldman', 'c...   \n",
       "3          34  [{'cast_id': 1, 'character': \"Savannah 'Vannah...   \n",
       "4         173  [{'cast_id': 1, 'character': 'George Banks', '...   \n",
       "\n",
       "                                                crew  \\\n",
       "0  [{'credit_id': '52fe4284c3a36847f8024f49', 'de...   \n",
       "1  [{'credit_id': '52fe44bfc3a36847f80a7cd1', 'de...   \n",
       "2  [{'credit_id': '52fe466a9251416c75077a89', 'de...   \n",
       "3  [{'credit_id': '52fe44779251416c91011acb', 'de...   \n",
       "4  [{'credit_id': '52fe44959251416c75039ed7', 'de...   \n",
       "\n",
       "                                            keywords  \n",
       "0  [{'id': 931, 'name': 'jealousy'}, {'id': 4290,...  \n",
       "1  [{'id': 10090, 'name': 'board game'}, {'id': 1...  \n",
       "2  [{'id': 1495, 'name': 'fishing'}, {'id': 12392...  \n",
       "3  [{'id': 818, 'name': 'based on novel'}, {'id':...  \n",
       "4  [{'id': 1009, 'name': 'baby'}, {'id': 1599, 'n...  "
      ]
     },
     "execution_count": 32,
     "metadata": {},
     "output_type": "execute_result"
    }
   ],
   "source": [
    "df = df.merge(credits, on='id')\n",
    "df = df.merge(keywords, on='id')\n",
    "df.head(3)"
   ]
  },
  {
   "cell_type": "code",
   "execution_count": 33,
   "metadata": {},
   "outputs": [
    {
     "name": "stdout",
     "output_type": "stream",
     "text": [
      "<class 'pandas.core.frame.DataFrame'>\n",
      "RangeIndex: 15800 entries, 0 to 15799\n",
      "Data columns (total 13 columns):\n",
      " #   Column        Non-Null Count  Dtype         \n",
      "---  ------        --------------  -----         \n",
      " 0   id            15800 non-null  int32         \n",
      " 1   title         15800 non-null  object        \n",
      " 2   release_date  15800 non-null  datetime64[ns]\n",
      " 3   runtime       15800 non-null  int32         \n",
      " 4   genres        15747 non-null  object        \n",
      " 5   budget        15800 non-null  float64       \n",
      " 6   revenue       15800 non-null  float64       \n",
      " 7   popularity    15800 non-null  float64       \n",
      " 8   vote_average  15800 non-null  float64       \n",
      " 9   vote_count    15800 non-null  int32         \n",
      " 10  cast          15800 non-null  object        \n",
      " 11  crew          15800 non-null  object        \n",
      " 12  keywords      15800 non-null  object        \n",
      "dtypes: datetime64[ns](1), float64(4), int32(3), object(5)\n",
      "memory usage: 1.4+ MB\n"
     ]
    }
   ],
   "source": [
    "df.info()"
   ]
  },
  {
   "cell_type": "markdown",
   "metadata": {},
   "source": [
    "## Extracting director"
   ]
  },
  {
   "cell_type": "code",
   "execution_count": 34,
   "metadata": {},
   "outputs": [],
   "source": [
    "def extract_director(crew_list):\n",
    "    for crew_member in crew_list:\n",
    "        if crew_member[\"job\"] == \"Director\":\n",
    "            return crew_member[\"name\"]\n",
    "    return None\n",
    "\n",
    "# For function get_director to work, convert the string representations to actual dictionaries\n",
    "df[\"crew\"] = df[\"crew\"].apply(literal_eval)\n",
    "# Extract the director's name for each movie\n",
    "df[\"director\"] = df[\"crew\"].apply(extract_director)"
   ]
  },
  {
   "cell_type": "code",
   "execution_count": 36,
   "metadata": {},
   "outputs": [
    {
     "data": {
      "text/plain": [
       "director\n",
       "Woody Allen          48\n",
       "Alfred Hitchcock     39\n",
       "Clint Eastwood       35\n",
       "Martin Scorsese      32\n",
       "Steven Soderbergh    31\n",
       "Steven Spielberg     31\n",
       "Ron Howard           25\n",
       "John Huston          24\n",
       "Werner Herzog        24\n",
       "John Ford            24\n",
       "Name: count, dtype: int64"
      ]
     },
     "execution_count": 36,
     "metadata": {},
     "output_type": "execute_result"
    }
   ],
   "source": [
    "df[\"director\"].value_counts().head(10)"
   ]
  },
  {
   "cell_type": "code",
   "execution_count": 37,
   "metadata": {},
   "outputs": [
    {
     "data": {
      "text/html": [
       "<div>\n",
       "<style scoped>\n",
       "    .dataframe tbody tr th:only-of-type {\n",
       "        vertical-align: middle;\n",
       "    }\n",
       "\n",
       "    .dataframe tbody tr th {\n",
       "        vertical-align: top;\n",
       "    }\n",
       "\n",
       "    .dataframe thead th {\n",
       "        text-align: right;\n",
       "    }\n",
       "</style>\n",
       "<table border=\"1\" class=\"dataframe\">\n",
       "  <thead>\n",
       "    <tr style=\"text-align: right;\">\n",
       "      <th></th>\n",
       "      <th>title</th>\n",
       "      <th>release_date</th>\n",
       "      <th>runtime</th>\n",
       "      <th>genres</th>\n",
       "      <th>director</th>\n",
       "    </tr>\n",
       "  </thead>\n",
       "  <tbody>\n",
       "    <tr>\n",
       "      <th>15</th>\n",
       "      <td>Casino</td>\n",
       "      <td>1995-11-22</td>\n",
       "      <td>178</td>\n",
       "      <td>Crime, Drama</td>\n",
       "      <td>Martin Scorsese</td>\n",
       "    </tr>\n",
       "    <tr>\n",
       "      <th>81</th>\n",
       "      <td>Taxi Driver</td>\n",
       "      <td>1976-02-07</td>\n",
       "      <td>114</td>\n",
       "      <td>Crime, Drama</td>\n",
       "      <td>Martin Scorsese</td>\n",
       "    </tr>\n",
       "    <tr>\n",
       "      <th>288</th>\n",
       "      <td>The Age of Innocence</td>\n",
       "      <td>1993-09-17</td>\n",
       "      <td>139</td>\n",
       "      <td>Drama, Romance</td>\n",
       "      <td>Martin Scorsese</td>\n",
       "    </tr>\n",
       "    <tr>\n",
       "      <th>774</th>\n",
       "      <td>GoodFellas</td>\n",
       "      <td>1990-09-12</td>\n",
       "      <td>145</td>\n",
       "      <td>Crime, Drama</td>\n",
       "      <td>Martin Scorsese</td>\n",
       "    </tr>\n",
       "    <tr>\n",
       "      <th>789</th>\n",
       "      <td>Raging Bull</td>\n",
       "      <td>1980-11-14</td>\n",
       "      <td>129</td>\n",
       "      <td>Drama</td>\n",
       "      <td>Martin Scorsese</td>\n",
       "    </tr>\n",
       "    <tr>\n",
       "      <th>884</th>\n",
       "      <td>Cape Fear</td>\n",
       "      <td>1991-11-15</td>\n",
       "      <td>128</td>\n",
       "      <td>Crime, Thriller</td>\n",
       "      <td>Martin Scorsese</td>\n",
       "    </tr>\n",
       "    <tr>\n",
       "      <th>1102</th>\n",
       "      <td>Kundun</td>\n",
       "      <td>1997-12-25</td>\n",
       "      <td>134</td>\n",
       "      <td>Drama</td>\n",
       "      <td>Martin Scorsese</td>\n",
       "    </tr>\n",
       "    <tr>\n",
       "      <th>1282</th>\n",
       "      <td>The Last Temptation of Christ</td>\n",
       "      <td>1988-08-12</td>\n",
       "      <td>164</td>\n",
       "      <td>Drama</td>\n",
       "      <td>Martin Scorsese</td>\n",
       "    </tr>\n",
       "    <tr>\n",
       "      <th>1627</th>\n",
       "      <td>The Color of Money</td>\n",
       "      <td>1986-10-07</td>\n",
       "      <td>119</td>\n",
       "      <td>Drama</td>\n",
       "      <td>Martin Scorsese</td>\n",
       "    </tr>\n",
       "    <tr>\n",
       "      <th>1968</th>\n",
       "      <td>Bringing Out the Dead</td>\n",
       "      <td>1999-10-22</td>\n",
       "      <td>121</td>\n",
       "      <td>Drama</td>\n",
       "      <td>Martin Scorsese</td>\n",
       "    </tr>\n",
       "  </tbody>\n",
       "</table>\n",
       "</div>"
      ],
      "text/plain": [
       "                              title release_date  runtime           genres  \\\n",
       "15                           Casino   1995-11-22      178     Crime, Drama   \n",
       "81                      Taxi Driver   1976-02-07      114     Crime, Drama   \n",
       "288            The Age of Innocence   1993-09-17      139   Drama, Romance   \n",
       "774                      GoodFellas   1990-09-12      145     Crime, Drama   \n",
       "789                     Raging Bull   1980-11-14      129            Drama   \n",
       "884                       Cape Fear   1991-11-15      128  Crime, Thriller   \n",
       "1102                         Kundun   1997-12-25      134            Drama   \n",
       "1282  The Last Temptation of Christ   1988-08-12      164            Drama   \n",
       "1627             The Color of Money   1986-10-07      119            Drama   \n",
       "1968          Bringing Out the Dead   1999-10-22      121            Drama   \n",
       "\n",
       "             director  \n",
       "15    Martin Scorsese  \n",
       "81    Martin Scorsese  \n",
       "288   Martin Scorsese  \n",
       "774   Martin Scorsese  \n",
       "789   Martin Scorsese  \n",
       "884   Martin Scorsese  \n",
       "1102  Martin Scorsese  \n",
       "1282  Martin Scorsese  \n",
       "1627  Martin Scorsese  \n",
       "1968  Martin Scorsese  "
      ]
     },
     "execution_count": 37,
     "metadata": {},
     "output_type": "execute_result"
    }
   ],
   "source": [
    "df[df[\"director\"] == \"Martin Scorsese\"][[\"title\", \"release_date\", \"runtime\", \"genres\", \"director\"]].head(10)"
   ]
  },
  {
   "cell_type": "markdown",
   "metadata": {},
   "source": [
    "## Extracting top actors"
   ]
  },
  {
   "cell_type": "code",
   "execution_count": 38,
   "metadata": {},
   "outputs": [],
   "source": [
    "def extract_actors(cast_list):\n",
    "    top_actors = []\n",
    "    for actor in cast_list[:5]:  # Select the top 5 actors\n",
    "        top_actors.append(actor[\"name\"])\n",
    "    return \", \".join(top_actors)\n",
    "\n",
    "# Convert the string representations to actual dictionaries\n",
    "df[\"cast\"] = df[\"cast\"].apply(literal_eval)\n",
    "# Extract the top 5 actor names for each movie\n",
    "df[\"top_actors\"] = df[\"cast\"].apply(extract_actors)"
   ]
  },
  {
   "cell_type": "code",
   "execution_count": 40,
   "metadata": {},
   "outputs": [
    {
     "data": {
      "text/html": [
       "<div>\n",
       "<style scoped>\n",
       "    .dataframe tbody tr th:only-of-type {\n",
       "        vertical-align: middle;\n",
       "    }\n",
       "\n",
       "    .dataframe tbody tr th {\n",
       "        vertical-align: top;\n",
       "    }\n",
       "\n",
       "    .dataframe thead th {\n",
       "        text-align: right;\n",
       "    }\n",
       "</style>\n",
       "<table border=\"1\" class=\"dataframe\">\n",
       "  <thead>\n",
       "    <tr style=\"text-align: right;\">\n",
       "      <th></th>\n",
       "      <th>title</th>\n",
       "      <th>release_date</th>\n",
       "      <th>runtime</th>\n",
       "      <th>genres</th>\n",
       "      <th>director</th>\n",
       "      <th>top_actors</th>\n",
       "    </tr>\n",
       "  </thead>\n",
       "  <tbody>\n",
       "    <tr>\n",
       "      <th>758</th>\n",
       "      <td>The Empire Strikes Back</td>\n",
       "      <td>1980-05-17</td>\n",
       "      <td>124</td>\n",
       "      <td>Action, Adventure, Science Fiction</td>\n",
       "      <td>Irvin Kershner</td>\n",
       "      <td>Mark Hamill, Harrison Ford, Carrie Fisher, Bil...</td>\n",
       "    </tr>\n",
       "  </tbody>\n",
       "</table>\n",
       "</div>"
      ],
      "text/plain": [
       "                       title release_date  runtime  \\\n",
       "758  The Empire Strikes Back   1980-05-17      124   \n",
       "\n",
       "                                 genres        director  \\\n",
       "758  Action, Adventure, Science Fiction  Irvin Kershner   \n",
       "\n",
       "                                            top_actors  \n",
       "758  Mark Hamill, Harrison Ford, Carrie Fisher, Bil...  "
      ]
     },
     "execution_count": 40,
     "metadata": {},
     "output_type": "execute_result"
    }
   ],
   "source": [
    "df[df[\"title\"] == \"The Empire Strikes Back\"][[\"title\", \"release_date\", \"runtime\", \"genres\", \"director\", \"top_actors\"]]"
   ]
  },
  {
   "cell_type": "markdown",
   "metadata": {},
   "source": [
    "## Extracting keywords"
   ]
  },
  {
   "cell_type": "code",
   "execution_count": 42,
   "metadata": {},
   "outputs": [
    {
     "name": "stdout",
     "output_type": "stream",
     "text": [
      "woman director: 978\n",
      "independent film: 808\n",
      "murder: 682\n",
      "based on novel: 480\n",
      "violence: 446\n",
      "duringcreditsstinger: 409\n",
      "revenge: 371\n",
      "sex: 364\n",
      "suspense: 345\n",
      "love: 327\n"
     ]
    }
   ],
   "source": [
    "from collections import Counter\n",
    "import pandas as pd\n",
    "\n",
    "# Convert the string representations to actual dictionaries\n",
    "df[\"keywords\"] = df[\"keywords\"].apply(literal_eval)\n",
    "# Flatten the list of dictionaries in the 'keywords' column\n",
    "keywords = [keyword[\"name\"] for sublist in df[\"keywords\"] for keyword in sublist]\n",
    "# Count the frequencies of each keyword\n",
    "keyword_counts = Counter(keywords)\n",
    "# Sort the keywords based on their frequencies in descending order\n",
    "sorted_keywords = sorted(keyword_counts.items(), key=lambda x: x[1], reverse=True)\n",
    "# Remove keywords that rarely occur\n",
    "sorted_keywords_filtered = [(keyword, count) for keyword, count in sorted_keywords if count > 9]\n",
    "# Create a set of keywords that appear in sorted_keywords_filtered\n",
    "filtered_keywords_set = set([keyword for keyword, _ in sorted_keywords_filtered])\n",
    "# Print the sorted and filtered keywords\n",
    "for keyword, count in sorted_keywords_filtered[:10]:\n",
    "    print(f\"{keyword}: {count}\")"
   ]
  },
  {
   "cell_type": "code",
   "execution_count": 43,
   "metadata": {},
   "outputs": [
    {
     "name": "stdout",
     "output_type": "stream",
     "text": [
      "Number of unique keywords before filtering: 15676\n",
      "Number of unique keywords after filtering: 1963\n"
     ]
    }
   ],
   "source": [
    "# Print the number of unique keywords\n",
    "num_unique_keywords_before = len(keyword_counts)\n",
    "print(f\"Number of unique keywords before filtering: {num_unique_keywords_before}\")\n",
    "num_unique_keywords_after = len(sorted_keywords_filtered)\n",
    "print(f\"Number of unique keywords after filtering: {num_unique_keywords_after}\")"
   ]
  },
  {
   "cell_type": "code",
   "execution_count": 44,
   "metadata": {},
   "outputs": [],
   "source": [
    "def filter_keywords(keywords_list):\n",
    "    filtered_keywords = []\n",
    "    for keyword in keywords_list:\n",
    "        if keyword[\"name\"] in filtered_keywords_set:\n",
    "            filtered_keywords.append(keyword[\"name\"])\n",
    "    return \", \".join(filtered_keywords)\n",
    "\n",
    "# Add a new column 'filtered_keywords' to the DataFrame\n",
    "df['filtered_keywords'] = df['keywords'].apply(filter_keywords)"
   ]
  },
  {
   "cell_type": "code",
   "execution_count": 45,
   "metadata": {},
   "outputs": [
    {
     "data": {
      "text/html": [
       "<div>\n",
       "<style scoped>\n",
       "    .dataframe tbody tr th:only-of-type {\n",
       "        vertical-align: middle;\n",
       "    }\n",
       "\n",
       "    .dataframe tbody tr th {\n",
       "        vertical-align: top;\n",
       "    }\n",
       "\n",
       "    .dataframe thead th {\n",
       "        text-align: right;\n",
       "    }\n",
       "</style>\n",
       "<table border=\"1\" class=\"dataframe\">\n",
       "  <thead>\n",
       "    <tr style=\"text-align: right;\">\n",
       "      <th></th>\n",
       "      <th>keywords</th>\n",
       "      <th>filtered_keywords</th>\n",
       "    </tr>\n",
       "  </thead>\n",
       "  <tbody>\n",
       "    <tr>\n",
       "      <th>0</th>\n",
       "      <td>[{'id': 931, 'name': 'jealousy'}, {'id': 4290,...</td>\n",
       "      <td>jealousy, toy, boy, friendship, friends, rival...</td>\n",
       "    </tr>\n",
       "    <tr>\n",
       "      <th>1</th>\n",
       "      <td>[{'id': 10090, 'name': 'board game'}, {'id': 1...</td>\n",
       "      <td>disappearance, based on children's book</td>\n",
       "    </tr>\n",
       "    <tr>\n",
       "      <th>2</th>\n",
       "      <td>[{'id': 1495, 'name': 'fishing'}, {'id': 12392...</td>\n",
       "      <td>fishing, best friend, duringcreditsstinger</td>\n",
       "    </tr>\n",
       "    <tr>\n",
       "      <th>3</th>\n",
       "      <td>[{'id': 818, 'name': 'based on novel'}, {'id':...</td>\n",
       "      <td>based on novel, interracial relationship, sing...</td>\n",
       "    </tr>\n",
       "    <tr>\n",
       "      <th>4</th>\n",
       "      <td>[{'id': 1009, 'name': 'baby'}, {'id': 1599, 'n...</td>\n",
       "      <td>baby, midlife crisis, confidence, aging, daugh...</td>\n",
       "    </tr>\n",
       "    <tr>\n",
       "      <th>...</th>\n",
       "      <td>...</td>\n",
       "      <td>...</td>\n",
       "    </tr>\n",
       "    <tr>\n",
       "      <th>15795</th>\n",
       "      <td>[{'id': 9673, 'name': 'love'}, {'id': 13130, '...</td>\n",
       "      <td>love, teenager, lgbt, short</td>\n",
       "    </tr>\n",
       "    <tr>\n",
       "      <th>15796</th>\n",
       "      <td>[{'id': 171803, 'name': 'military school'}]</td>\n",
       "      <td></td>\n",
       "    </tr>\n",
       "    <tr>\n",
       "      <th>15797</th>\n",
       "      <td>[{'id': 10124, 'name': 'laboratory'}, {'id': 1...</td>\n",
       "      <td>laboratory, mad scientist, silent film, short</td>\n",
       "    </tr>\n",
       "    <tr>\n",
       "      <th>15798</th>\n",
       "      <td>[]</td>\n",
       "      <td></td>\n",
       "    </tr>\n",
       "    <tr>\n",
       "      <th>15799</th>\n",
       "      <td>[]</td>\n",
       "      <td></td>\n",
       "    </tr>\n",
       "  </tbody>\n",
       "</table>\n",
       "<p>15800 rows × 2 columns</p>\n",
       "</div>"
      ],
      "text/plain": [
       "                                                keywords  \\\n",
       "0      [{'id': 931, 'name': 'jealousy'}, {'id': 4290,...   \n",
       "1      [{'id': 10090, 'name': 'board game'}, {'id': 1...   \n",
       "2      [{'id': 1495, 'name': 'fishing'}, {'id': 12392...   \n",
       "3      [{'id': 818, 'name': 'based on novel'}, {'id':...   \n",
       "4      [{'id': 1009, 'name': 'baby'}, {'id': 1599, 'n...   \n",
       "...                                                  ...   \n",
       "15795  [{'id': 9673, 'name': 'love'}, {'id': 13130, '...   \n",
       "15796        [{'id': 171803, 'name': 'military school'}]   \n",
       "15797  [{'id': 10124, 'name': 'laboratory'}, {'id': 1...   \n",
       "15798                                                 []   \n",
       "15799                                                 []   \n",
       "\n",
       "                                       filtered_keywords  \n",
       "0      jealousy, toy, boy, friendship, friends, rival...  \n",
       "1                disappearance, based on children's book  \n",
       "2             fishing, best friend, duringcreditsstinger  \n",
       "3      based on novel, interracial relationship, sing...  \n",
       "4      baby, midlife crisis, confidence, aging, daugh...  \n",
       "...                                                  ...  \n",
       "15795                        love, teenager, lgbt, short  \n",
       "15796                                                     \n",
       "15797      laboratory, mad scientist, silent film, short  \n",
       "15798                                                     \n",
       "15799                                                     \n",
       "\n",
       "[15800 rows x 2 columns]"
      ]
     },
     "execution_count": 45,
     "metadata": {},
     "output_type": "execute_result"
    }
   ],
   "source": [
    "df[[\"keywords\", \"filtered_keywords\"]]"
   ]
  },
  {
   "cell_type": "markdown",
   "metadata": {},
   "source": [
    "## Final steps of data preparation with Pandas"
   ]
  },
  {
   "cell_type": "code",
   "execution_count": 46,
   "metadata": {},
   "outputs": [
    {
     "data": {
      "text/html": [
       "<div>\n",
       "<style scoped>\n",
       "    .dataframe tbody tr th:only-of-type {\n",
       "        vertical-align: middle;\n",
       "    }\n",
       "\n",
       "    .dataframe tbody tr th {\n",
       "        vertical-align: top;\n",
       "    }\n",
       "\n",
       "    .dataframe thead th {\n",
       "        text-align: right;\n",
       "    }\n",
       "</style>\n",
       "<table border=\"1\" class=\"dataframe\">\n",
       "  <thead>\n",
       "    <tr style=\"text-align: right;\">\n",
       "      <th></th>\n",
       "      <th>0</th>\n",
       "      <th>1</th>\n",
       "      <th>2</th>\n",
       "      <th>3</th>\n",
       "      <th>4</th>\n",
       "    </tr>\n",
       "  </thead>\n",
       "  <tbody>\n",
       "    <tr>\n",
       "      <th>id</th>\n",
       "      <td>1</td>\n",
       "      <td>2</td>\n",
       "      <td>3</td>\n",
       "      <td>4</td>\n",
       "      <td>5</td>\n",
       "    </tr>\n",
       "    <tr>\n",
       "      <th>title</th>\n",
       "      <td>Toy Story</td>\n",
       "      <td>Jumanji</td>\n",
       "      <td>Grumpier Old Men</td>\n",
       "      <td>Waiting to Exhale</td>\n",
       "      <td>Father of the Bride Part II</td>\n",
       "    </tr>\n",
       "    <tr>\n",
       "      <th>release_date</th>\n",
       "      <td>1995-10-30 00:00:00</td>\n",
       "      <td>1995-12-15 00:00:00</td>\n",
       "      <td>1995-12-22 00:00:00</td>\n",
       "      <td>1995-12-22 00:00:00</td>\n",
       "      <td>1995-02-10 00:00:00</td>\n",
       "    </tr>\n",
       "    <tr>\n",
       "      <th>runtime</th>\n",
       "      <td>81</td>\n",
       "      <td>104</td>\n",
       "      <td>101</td>\n",
       "      <td>127</td>\n",
       "      <td>106</td>\n",
       "    </tr>\n",
       "    <tr>\n",
       "      <th>genres</th>\n",
       "      <td>Animation, Comedy, Family</td>\n",
       "      <td>Adventure, Family, Fantasy</td>\n",
       "      <td>Comedy, Romance</td>\n",
       "      <td>Comedy, Drama, Romance</td>\n",
       "      <td>Comedy</td>\n",
       "    </tr>\n",
       "    <tr>\n",
       "      <th>budget</th>\n",
       "      <td>30.0</td>\n",
       "      <td>65.0</td>\n",
       "      <td>0.0</td>\n",
       "      <td>16.0</td>\n",
       "      <td>0.0</td>\n",
       "    </tr>\n",
       "    <tr>\n",
       "      <th>revenue</th>\n",
       "      <td>373.55</td>\n",
       "      <td>262.8</td>\n",
       "      <td>0.0</td>\n",
       "      <td>81.45</td>\n",
       "      <td>76.58</td>\n",
       "    </tr>\n",
       "    <tr>\n",
       "      <th>popularity</th>\n",
       "      <td>21.95</td>\n",
       "      <td>17.02</td>\n",
       "      <td>11.71</td>\n",
       "      <td>3.86</td>\n",
       "      <td>8.39</td>\n",
       "    </tr>\n",
       "    <tr>\n",
       "      <th>vote_average</th>\n",
       "      <td>7.7</td>\n",
       "      <td>6.9</td>\n",
       "      <td>6.5</td>\n",
       "      <td>6.1</td>\n",
       "      <td>5.7</td>\n",
       "    </tr>\n",
       "    <tr>\n",
       "      <th>vote_count</th>\n",
       "      <td>5415</td>\n",
       "      <td>2413</td>\n",
       "      <td>92</td>\n",
       "      <td>34</td>\n",
       "      <td>173</td>\n",
       "    </tr>\n",
       "    <tr>\n",
       "      <th>director</th>\n",
       "      <td>John Lasseter</td>\n",
       "      <td>Joe Johnston</td>\n",
       "      <td>Howard Deutch</td>\n",
       "      <td>Forest Whitaker</td>\n",
       "      <td>Charles Shyer</td>\n",
       "    </tr>\n",
       "    <tr>\n",
       "      <th>top_actors</th>\n",
       "      <td>Tom Hanks, Tim Allen, Don Rickles, Jim Varney,...</td>\n",
       "      <td>Robin Williams, Jonathan Hyde, Kirsten Dunst, ...</td>\n",
       "      <td>Walter Matthau, Jack Lemmon, Ann-Margret, Soph...</td>\n",
       "      <td>Whitney Houston, Angela Bassett, Loretta Devin...</td>\n",
       "      <td>Steve Martin, Diane Keaton, Martin Short, Kimb...</td>\n",
       "    </tr>\n",
       "    <tr>\n",
       "      <th>keywords</th>\n",
       "      <td>jealousy, toy, boy, friendship, friends, rival...</td>\n",
       "      <td>disappearance, based on children's book</td>\n",
       "      <td>fishing, best friend, duringcreditsstinger</td>\n",
       "      <td>based on novel, interracial relationship, sing...</td>\n",
       "      <td>baby, midlife crisis, confidence, aging, daugh...</td>\n",
       "    </tr>\n",
       "  </tbody>\n",
       "</table>\n",
       "</div>"
      ],
      "text/plain": [
       "                                                              0  \\\n",
       "id                                                            1   \n",
       "title                                                 Toy Story   \n",
       "release_date                                1995-10-30 00:00:00   \n",
       "runtime                                                      81   \n",
       "genres                                Animation, Comedy, Family   \n",
       "budget                                                     30.0   \n",
       "revenue                                                  373.55   \n",
       "popularity                                                21.95   \n",
       "vote_average                                                7.7   \n",
       "vote_count                                                 5415   \n",
       "director                                          John Lasseter   \n",
       "top_actors    Tom Hanks, Tim Allen, Don Rickles, Jim Varney,...   \n",
       "keywords      jealousy, toy, boy, friendship, friends, rival...   \n",
       "\n",
       "                                                              1  \\\n",
       "id                                                            2   \n",
       "title                                                   Jumanji   \n",
       "release_date                                1995-12-15 00:00:00   \n",
       "runtime                                                     104   \n",
       "genres                               Adventure, Family, Fantasy   \n",
       "budget                                                     65.0   \n",
       "revenue                                                   262.8   \n",
       "popularity                                                17.02   \n",
       "vote_average                                                6.9   \n",
       "vote_count                                                 2413   \n",
       "director                                           Joe Johnston   \n",
       "top_actors    Robin Williams, Jonathan Hyde, Kirsten Dunst, ...   \n",
       "keywords                disappearance, based on children's book   \n",
       "\n",
       "                                                              2  \\\n",
       "id                                                            3   \n",
       "title                                          Grumpier Old Men   \n",
       "release_date                                1995-12-22 00:00:00   \n",
       "runtime                                                     101   \n",
       "genres                                          Comedy, Romance   \n",
       "budget                                                      0.0   \n",
       "revenue                                                     0.0   \n",
       "popularity                                                11.71   \n",
       "vote_average                                                6.5   \n",
       "vote_count                                                   92   \n",
       "director                                          Howard Deutch   \n",
       "top_actors    Walter Matthau, Jack Lemmon, Ann-Margret, Soph...   \n",
       "keywords             fishing, best friend, duringcreditsstinger   \n",
       "\n",
       "                                                              3  \\\n",
       "id                                                            4   \n",
       "title                                         Waiting to Exhale   \n",
       "release_date                                1995-12-22 00:00:00   \n",
       "runtime                                                     127   \n",
       "genres                                   Comedy, Drama, Romance   \n",
       "budget                                                     16.0   \n",
       "revenue                                                   81.45   \n",
       "popularity                                                 3.86   \n",
       "vote_average                                                6.1   \n",
       "vote_count                                                   34   \n",
       "director                                        Forest Whitaker   \n",
       "top_actors    Whitney Houston, Angela Bassett, Loretta Devin...   \n",
       "keywords      based on novel, interracial relationship, sing...   \n",
       "\n",
       "                                                              4  \n",
       "id                                                            5  \n",
       "title                               Father of the Bride Part II  \n",
       "release_date                                1995-02-10 00:00:00  \n",
       "runtime                                                     106  \n",
       "genres                                                   Comedy  \n",
       "budget                                                      0.0  \n",
       "revenue                                                   76.58  \n",
       "popularity                                                 8.39  \n",
       "vote_average                                                5.7  \n",
       "vote_count                                                  173  \n",
       "director                                          Charles Shyer  \n",
       "top_actors    Steve Martin, Diane Keaton, Martin Short, Kimb...  \n",
       "keywords      baby, midlife crisis, confidence, aging, daugh...  "
      ]
     },
     "execution_count": 46,
     "metadata": {},
     "output_type": "execute_result"
    }
   ],
   "source": [
    "# Drop columns 'id', 'cast', 'crew', and 'keywords'\n",
    "df = df.drop(columns=[\"id\", \"cast\", \"crew\", \"keywords\"])\n",
    "# Rename 'filtered_keywosrds' column to 'keywords'\n",
    "df = df.rename(columns={\"filtered_keywords\": \"keywords\"})\n",
    "# Add the new 'id' column as the first column\n",
    "df.insert(0, \"id\", range(1, 1 + len(df)))\n",
    "df.head().transpose()"
   ]
  },
  {
   "cell_type": "markdown",
   "metadata": {},
   "source": [
    "Columns explanation:\n",
    "- id - row id\n",
    "- title - official title of the movie\n",
    "- release_date - theatrical release date of the movie\n",
    "- runtime - movie duration/runtime in minutes\n",
    "- genres - genres associated with the movie, separated by a comma\n",
    "- budget - movie budget in millions of dollars\n",
    "- revenue - total movie revenue in millions of dollars\n",
    "- popularity - popularity score assigned by TMDB\n",
    "- vote_average - average movie rating\n",
    "- vote_count - number of votes by users, counted by TMDB\n",
    "- director - name of the movie director\n",
    "- top_actors - names of top 5 actors in the movie\n",
    "- keywords - keywords associated with the movie"
   ]
  },
  {
   "cell_type": "code",
   "execution_count": 47,
   "metadata": {},
   "outputs": [
    {
     "data": {
      "text/plain": [
       "id                       int64\n",
       "title                   object\n",
       "release_date    datetime64[ns]\n",
       "runtime                  int32\n",
       "genres                  object\n",
       "budget                 float64\n",
       "revenue                float64\n",
       "popularity             float64\n",
       "vote_average           float64\n",
       "vote_count               int32\n",
       "director                object\n",
       "top_actors              object\n",
       "keywords                object\n",
       "dtype: object"
      ]
     },
     "execution_count": 47,
     "metadata": {},
     "output_type": "execute_result"
    }
   ],
   "source": [
    "df.dtypes"
   ]
  },
  {
   "cell_type": "markdown",
   "metadata": {},
   "source": [
    "Let's save the cleaned up dataset, which we'll use in the next chapters"
   ]
  },
  {
   "cell_type": "code",
   "execution_count": 1,
   "metadata": {},
   "outputs": [],
   "source": [
    "# df.to_csv(\"data/recommender_data.csv\", index=False)"
   ]
  },
  {
   "cell_type": "markdown",
   "metadata": {},
   "source": [
    "# 2. Content-based recommender"
   ]
  },
  {
   "cell_type": "code",
   "execution_count": 1,
   "metadata": {},
   "outputs": [],
   "source": [
    "import pandas as pd"
   ]
  },
  {
   "cell_type": "code",
   "execution_count": 2,
   "metadata": {},
   "outputs": [
    {
     "data": {
      "text/html": [
       "<div>\n",
       "<style scoped>\n",
       "    .dataframe tbody tr th:only-of-type {\n",
       "        vertical-align: middle;\n",
       "    }\n",
       "\n",
       "    .dataframe tbody tr th {\n",
       "        vertical-align: top;\n",
       "    }\n",
       "\n",
       "    .dataframe thead th {\n",
       "        text-align: right;\n",
       "    }\n",
       "</style>\n",
       "<table border=\"1\" class=\"dataframe\">\n",
       "  <thead>\n",
       "    <tr style=\"text-align: right;\">\n",
       "      <th></th>\n",
       "      <th>title</th>\n",
       "      <th>release_date</th>\n",
       "      <th>runtime</th>\n",
       "      <th>genres</th>\n",
       "      <th>budget</th>\n",
       "      <th>revenue</th>\n",
       "      <th>popularity</th>\n",
       "      <th>vote_average</th>\n",
       "      <th>vote_count</th>\n",
       "      <th>director</th>\n",
       "      <th>top_actors</th>\n",
       "      <th>keywords</th>\n",
       "    </tr>\n",
       "    <tr>\n",
       "      <th>id</th>\n",
       "      <th></th>\n",
       "      <th></th>\n",
       "      <th></th>\n",
       "      <th></th>\n",
       "      <th></th>\n",
       "      <th></th>\n",
       "      <th></th>\n",
       "      <th></th>\n",
       "      <th></th>\n",
       "      <th></th>\n",
       "      <th></th>\n",
       "      <th></th>\n",
       "    </tr>\n",
       "  </thead>\n",
       "  <tbody>\n",
       "    <tr>\n",
       "      <th>1</th>\n",
       "      <td>Toy Story</td>\n",
       "      <td>1995-10-30</td>\n",
       "      <td>81</td>\n",
       "      <td>Animation, Comedy, Family</td>\n",
       "      <td>30.0</td>\n",
       "      <td>373.55</td>\n",
       "      <td>21.95</td>\n",
       "      <td>7.7</td>\n",
       "      <td>5415</td>\n",
       "      <td>John Lasseter</td>\n",
       "      <td>Tom Hanks, Tim Allen, Don Rickles, Jim Varney,...</td>\n",
       "      <td>jealousy, toy, boy, friendship, friends, rival...</td>\n",
       "    </tr>\n",
       "    <tr>\n",
       "      <th>2</th>\n",
       "      <td>Jumanji</td>\n",
       "      <td>1995-12-15</td>\n",
       "      <td>104</td>\n",
       "      <td>Adventure, Family, Fantasy</td>\n",
       "      <td>65.0</td>\n",
       "      <td>262.80</td>\n",
       "      <td>17.02</td>\n",
       "      <td>6.9</td>\n",
       "      <td>2413</td>\n",
       "      <td>Joe Johnston</td>\n",
       "      <td>Robin Williams, Jonathan Hyde, Kirsten Dunst, ...</td>\n",
       "      <td>disappearance, based on children's book</td>\n",
       "    </tr>\n",
       "    <tr>\n",
       "      <th>3</th>\n",
       "      <td>Grumpier Old Men</td>\n",
       "      <td>1995-12-22</td>\n",
       "      <td>101</td>\n",
       "      <td>Comedy, Romance</td>\n",
       "      <td>0.0</td>\n",
       "      <td>0.00</td>\n",
       "      <td>11.71</td>\n",
       "      <td>6.5</td>\n",
       "      <td>92</td>\n",
       "      <td>Howard Deutch</td>\n",
       "      <td>Walter Matthau, Jack Lemmon, Ann-Margret, Soph...</td>\n",
       "      <td>fishing, best friend, duringcreditsstinger</td>\n",
       "    </tr>\n",
       "  </tbody>\n",
       "</table>\n",
       "</div>"
      ],
      "text/plain": [
       "               title release_date  runtime                      genres  \\\n",
       "id                                                                       \n",
       "1          Toy Story   1995-10-30       81   Animation, Comedy, Family   \n",
       "2            Jumanji   1995-12-15      104  Adventure, Family, Fantasy   \n",
       "3   Grumpier Old Men   1995-12-22      101             Comedy, Romance   \n",
       "\n",
       "    budget  revenue  popularity  vote_average  vote_count       director  \\\n",
       "id                                                                         \n",
       "1     30.0   373.55       21.95           7.7        5415  John Lasseter   \n",
       "2     65.0   262.80       17.02           6.9        2413   Joe Johnston   \n",
       "3      0.0     0.00       11.71           6.5          92  Howard Deutch   \n",
       "\n",
       "                                           top_actors  \\\n",
       "id                                                      \n",
       "1   Tom Hanks, Tim Allen, Don Rickles, Jim Varney,...   \n",
       "2   Robin Williams, Jonathan Hyde, Kirsten Dunst, ...   \n",
       "3   Walter Matthau, Jack Lemmon, Ann-Margret, Soph...   \n",
       "\n",
       "                                             keywords  \n",
       "id                                                     \n",
       "1   jealousy, toy, boy, friendship, friends, rival...  \n",
       "2             disappearance, based on children's book  \n",
       "3          fishing, best friend, duringcreditsstinger  "
      ]
     },
     "execution_count": 2,
     "metadata": {},
     "output_type": "execute_result"
    }
   ],
   "source": [
    "df = pd.read_csv(\"data/recommender_data.csv\", index_col=0)\n",
    "df.head(3)"
   ]
  },
  {
   "cell_type": "code",
   "execution_count": 3,
   "metadata": {},
   "outputs": [
    {
     "name": "stdout",
     "output_type": "stream",
     "text": [
      "<class 'pandas.core.frame.DataFrame'>\n",
      "Index: 15800 entries, 1 to 15800\n",
      "Data columns (total 12 columns):\n",
      " #   Column        Non-Null Count  Dtype  \n",
      "---  ------        --------------  -----  \n",
      " 0   title         15800 non-null  object \n",
      " 1   release_date  15800 non-null  object \n",
      " 2   runtime       15800 non-null  int64  \n",
      " 3   genres        15747 non-null  object \n",
      " 4   budget        15800 non-null  float64\n",
      " 5   revenue       15800 non-null  float64\n",
      " 6   popularity    15800 non-null  float64\n",
      " 7   vote_average  15800 non-null  float64\n",
      " 8   vote_count    15800 non-null  int64  \n",
      " 9   director      15768 non-null  object \n",
      " 10  top_actors    15707 non-null  object \n",
      " 11  keywords      13129 non-null  object \n",
      "dtypes: float64(4), int64(2), object(6)\n",
      "memory usage: 1.6+ MB\n"
     ]
    }
   ],
   "source": [
    "df.info()"
   ]
  },
  {
   "cell_type": "markdown",
   "metadata": {},
   "source": [
    "## Handling movie title"
   ]
  },
  {
   "cell_type": "markdown",
   "metadata": {},
   "source": [
    "The idea behind this recommender is that you enter the title of the movie that you liked, and then you get a list of similar movies. However, first of all, you need to check whether the movie with the typed title exist in the database in the first place. Also, spelling problems may arise.\n",
    "\n",
    "To handle all these issues, the 'fuzzywuzzy' library comes to help"
   ]
  },
  {
   "cell_type": "code",
   "execution_count": 4,
   "metadata": {},
   "outputs": [
    {
     "data": {
      "text/plain": [
       "['Toy Story',\n",
       " 'Jumanji',\n",
       " 'Grumpier Old Men',\n",
       " 'Waiting to Exhale',\n",
       " 'Father of the Bride Part II',\n",
       " 'Heat',\n",
       " 'Sabrina',\n",
       " 'Tom and Huck',\n",
       " 'Sudden Death',\n",
       " 'GoldenEye']"
      ]
     },
     "execution_count": 4,
     "metadata": {},
     "output_type": "execute_result"
    }
   ],
   "source": [
    "all_titles = df['title'].tolist()\n",
    "all_titles[:10]"
   ]
  },
  {
   "cell_type": "code",
   "execution_count": 5,
   "metadata": {},
   "outputs": [
    {
     "data": {
      "text/plain": [
       "[('Toy Story', 88),\n",
       " ('Toy Story 2', 78),\n",
       " ('Tokyo Story', 78),\n",
       " ('Toy Story 3', 78),\n",
       " ('The Buddy Holly Story', 77),\n",
       " ('The Straight Story', 77),\n",
       " ('The Greatest Story Ever Told', 77)]"
      ]
     },
     "execution_count": 5,
     "metadata": {},
     "output_type": "execute_result"
    }
   ],
   "source": [
    "from fuzzywuzzy import process\n",
    "\n",
    "def find_top_movies(title):\n",
    "    all_titles = df[\"title\"].tolist()\n",
    "    matches = process.extract(title, all_titles, limit=7)\n",
    "    return matches\n",
    "    matched_titles = [match[0] for match in matches]\n",
    "    return df[df['title'].isin(matched_titles)]\n",
    "\n",
    "# Example usage\n",
    "title = \"ty stry\"\n",
    "found_movies = find_top_movies(title)\n",
    "found_movies"
   ]
  },
  {
   "cell_type": "code",
   "execution_count": 6,
   "metadata": {},
   "outputs": [
    {
     "data": {
      "text/html": [
       "<div>\n",
       "<style scoped>\n",
       "    .dataframe tbody tr th:only-of-type {\n",
       "        vertical-align: middle;\n",
       "    }\n",
       "\n",
       "    .dataframe tbody tr th {\n",
       "        vertical-align: top;\n",
       "    }\n",
       "\n",
       "    .dataframe thead th {\n",
       "        text-align: right;\n",
       "    }\n",
       "</style>\n",
       "<table border=\"1\" class=\"dataframe\">\n",
       "  <thead>\n",
       "    <tr style=\"text-align: right;\">\n",
       "      <th></th>\n",
       "      <th>title</th>\n",
       "      <th>release_date</th>\n",
       "      <th>runtime</th>\n",
       "      <th>genres</th>\n",
       "      <th>budget</th>\n",
       "      <th>revenue</th>\n",
       "      <th>popularity</th>\n",
       "      <th>vote_average</th>\n",
       "      <th>vote_count</th>\n",
       "      <th>director</th>\n",
       "      <th>top_actors</th>\n",
       "      <th>keywords</th>\n",
       "    </tr>\n",
       "    <tr>\n",
       "      <th>id</th>\n",
       "      <th></th>\n",
       "      <th></th>\n",
       "      <th></th>\n",
       "      <th></th>\n",
       "      <th></th>\n",
       "      <th></th>\n",
       "      <th></th>\n",
       "      <th></th>\n",
       "      <th></th>\n",
       "      <th></th>\n",
       "      <th></th>\n",
       "      <th></th>\n",
       "    </tr>\n",
       "  </thead>\n",
       "  <tbody>\n",
       "    <tr>\n",
       "      <th>188</th>\n",
       "      <td>Star Wars</td>\n",
       "      <td>1977-05-25</td>\n",
       "      <td>121</td>\n",
       "      <td>Action, Adventure, Science Fiction</td>\n",
       "      <td>11.0</td>\n",
       "      <td>775.4</td>\n",
       "      <td>42.15</td>\n",
       "      <td>8.1</td>\n",
       "      <td>6778</td>\n",
       "      <td>George Lucas</td>\n",
       "      <td>Mark Hamill, Harrison Ford, Carrie Fisher, Pet...</td>\n",
       "      <td>android, rescue mission, rebellion, planet, sp...</td>\n",
       "    </tr>\n",
       "  </tbody>\n",
       "</table>\n",
       "</div>"
      ],
      "text/plain": [
       "         title release_date  runtime                              genres  \\\n",
       "id                                                                         \n",
       "188  Star Wars   1977-05-25      121  Action, Adventure, Science Fiction   \n",
       "\n",
       "     budget  revenue  popularity  vote_average  vote_count      director  \\\n",
       "id                                                                         \n",
       "188    11.0    775.4       42.15           8.1        6778  George Lucas   \n",
       "\n",
       "                                            top_actors  \\\n",
       "id                                                       \n",
       "188  Mark Hamill, Harrison Ford, Carrie Fisher, Pet...   \n",
       "\n",
       "                                              keywords  \n",
       "id                                                      \n",
       "188  android, rescue mission, rebellion, planet, sp...  "
      ]
     },
     "execution_count": 6,
     "metadata": {},
     "output_type": "execute_result"
    }
   ],
   "source": [
    "from fuzzywuzzy import process\n",
    "\n",
    "def find_movie(title):\n",
    "    all_titles = df[\"title\"].tolist()\n",
    "    closest_match = process.extractOne(title, all_titles)\n",
    "    matched_title = closest_match[0]\n",
    "    return df[df[\"title\"] == matched_title]\n",
    "\n",
    "find_movie(\"stare was\")"
   ]
  },
  {
   "cell_type": "markdown",
   "metadata": {},
   "source": [
    "## Preprocessing"
   ]
  },
  {
   "cell_type": "code",
   "execution_count": 7,
   "metadata": {},
   "outputs": [],
   "source": [
    "df[\"combined\"] = (df[\"director\"].fillna(\"\") + \"; \" +\n",
    "                  df[\"top_actors\"].fillna(\"\") + \"; \" +\n",
    "                  df[\"genres\"].fillna(\"\") + \"; \" +\n",
    "                  df[\"keywords\"].fillna(\"\"))"
   ]
  },
  {
   "cell_type": "code",
   "execution_count": 8,
   "metadata": {},
   "outputs": [],
   "source": [
    "pd.set_option('display.max_colwidth', None)"
   ]
  },
  {
   "cell_type": "code",
   "execution_count": 9,
   "metadata": {},
   "outputs": [
    {
     "data": {
      "text/html": [
       "<div>\n",
       "<style scoped>\n",
       "    .dataframe tbody tr th:only-of-type {\n",
       "        vertical-align: middle;\n",
       "    }\n",
       "\n",
       "    .dataframe tbody tr th {\n",
       "        vertical-align: top;\n",
       "    }\n",
       "\n",
       "    .dataframe thead th {\n",
       "        text-align: right;\n",
       "    }\n",
       "</style>\n",
       "<table border=\"1\" class=\"dataframe\">\n",
       "  <thead>\n",
       "    <tr style=\"text-align: right;\">\n",
       "      <th></th>\n",
       "      <th>title</th>\n",
       "      <th>release_date</th>\n",
       "      <th>combined</th>\n",
       "    </tr>\n",
       "    <tr>\n",
       "      <th>id</th>\n",
       "      <th></th>\n",
       "      <th></th>\n",
       "      <th></th>\n",
       "    </tr>\n",
       "  </thead>\n",
       "  <tbody>\n",
       "    <tr>\n",
       "      <th>1</th>\n",
       "      <td>Toy Story</td>\n",
       "      <td>1995-10-30</td>\n",
       "      <td>John Lasseter; Tom Hanks, Tim Allen, Don Rickles, Jim Varney, Wallace Shawn; Animation, Comedy, Family; jealousy, toy, boy, friendship, friends, rivalry, toy comes to life</td>\n",
       "    </tr>\n",
       "    <tr>\n",
       "      <th>2</th>\n",
       "      <td>Jumanji</td>\n",
       "      <td>1995-12-15</td>\n",
       "      <td>Joe Johnston; Robin Williams, Jonathan Hyde, Kirsten Dunst, Bradley Pierce, Bonnie Hunt; Adventure, Family, Fantasy; disappearance, based on children's book</td>\n",
       "    </tr>\n",
       "    <tr>\n",
       "      <th>3</th>\n",
       "      <td>Grumpier Old Men</td>\n",
       "      <td>1995-12-22</td>\n",
       "      <td>Howard Deutch; Walter Matthau, Jack Lemmon, Ann-Margret, Sophia Loren, Daryl Hannah; Comedy, Romance; fishing, best friend, duringcreditsstinger</td>\n",
       "    </tr>\n",
       "    <tr>\n",
       "      <th>4</th>\n",
       "      <td>Waiting to Exhale</td>\n",
       "      <td>1995-12-22</td>\n",
       "      <td>Forest Whitaker; Whitney Houston, Angela Bassett, Loretta Devine, Lela Rochon, Gregory Hines; Comedy, Drama, Romance; based on novel, interracial relationship, single mother, divorce</td>\n",
       "    </tr>\n",
       "    <tr>\n",
       "      <th>5</th>\n",
       "      <td>Father of the Bride Part II</td>\n",
       "      <td>1995-02-10</td>\n",
       "      <td>Charles Shyer; Steve Martin, Diane Keaton, Martin Short, Kimberly Williams-Paisley, George Newbern; Comedy; baby, midlife crisis, confidence, aging, daughter, mother daughter relationship, pregnancy</td>\n",
       "    </tr>\n",
       "    <tr>\n",
       "      <th>6</th>\n",
       "      <td>Heat</td>\n",
       "      <td>1995-12-15</td>\n",
       "      <td>Michael Mann; Al Pacino, Robert De Niro, Val Kilmer, Jon Voight, Tom Sizemore; Action, Crime, Drama, Thriller; robbery, detective, bank, obsession, chase, shooting, thief, honor, murder, suspense, heist, betrayal, money, gang, cult film, ex-con, neo-noir</td>\n",
       "    </tr>\n",
       "    <tr>\n",
       "      <th>7</th>\n",
       "      <td>Sabrina</td>\n",
       "      <td>1995-12-15</td>\n",
       "      <td>Sydney Pollack; Harrison Ford, Julia Ormond, Greg Kinnear, Angie Dickinson, Nancy Marchand; Comedy, Romance; paris, brother brother relationship, chauffeur, millionaire</td>\n",
       "    </tr>\n",
       "    <tr>\n",
       "      <th>8</th>\n",
       "      <td>Tom and Huck</td>\n",
       "      <td>1995-12-22</td>\n",
       "      <td>Peter Hewitt; Jonathan Taylor Thomas, Brad Renfro, Rachael Leigh Cook, Michael McShane, Amy Wright; Action, Adventure, Drama, Family;</td>\n",
       "    </tr>\n",
       "    <tr>\n",
       "      <th>9</th>\n",
       "      <td>Sudden Death</td>\n",
       "      <td>1995-12-22</td>\n",
       "      <td>Peter Hyams; Jean-Claude Van Damme, Powers Boothe, Dorian Harewood, Raymond J. Barry, Ross Malinger; Action, Adventure, Thriller; terrorist, hostage, explosive</td>\n",
       "    </tr>\n",
       "    <tr>\n",
       "      <th>10</th>\n",
       "      <td>GoldenEye</td>\n",
       "      <td>1995-11-16</td>\n",
       "      <td>Martin Campbell; Pierce Brosnan, Sean Bean, Izabella Scorupco, Famke Janssen, Joe Don Baker; Action, Adventure, Thriller; cuba, falsely accused, secret identity, computer virus, secret intelligence service, kgb, satellite</td>\n",
       "    </tr>\n",
       "  </tbody>\n",
       "</table>\n",
       "</div>"
      ],
      "text/plain": [
       "                          title release_date  \\\n",
       "id                                             \n",
       "1                     Toy Story   1995-10-30   \n",
       "2                       Jumanji   1995-12-15   \n",
       "3              Grumpier Old Men   1995-12-22   \n",
       "4             Waiting to Exhale   1995-12-22   \n",
       "5   Father of the Bride Part II   1995-02-10   \n",
       "6                          Heat   1995-12-15   \n",
       "7                       Sabrina   1995-12-15   \n",
       "8                  Tom and Huck   1995-12-22   \n",
       "9                  Sudden Death   1995-12-22   \n",
       "10                    GoldenEye   1995-11-16   \n",
       "\n",
       "                                                                                                                                                                                                                                                          combined  \n",
       "id                                                                                                                                                                                                                                                                  \n",
       "1                                                                                      John Lasseter; Tom Hanks, Tim Allen, Don Rickles, Jim Varney, Wallace Shawn; Animation, Comedy, Family; jealousy, toy, boy, friendship, friends, rivalry, toy comes to life  \n",
       "2                                                                                                     Joe Johnston; Robin Williams, Jonathan Hyde, Kirsten Dunst, Bradley Pierce, Bonnie Hunt; Adventure, Family, Fantasy; disappearance, based on children's book  \n",
       "3                                                                                                                 Howard Deutch; Walter Matthau, Jack Lemmon, Ann-Margret, Sophia Loren, Daryl Hannah; Comedy, Romance; fishing, best friend, duringcreditsstinger  \n",
       "4                                                                           Forest Whitaker; Whitney Houston, Angela Bassett, Loretta Devine, Lela Rochon, Gregory Hines; Comedy, Drama, Romance; based on novel, interracial relationship, single mother, divorce  \n",
       "5                                                           Charles Shyer; Steve Martin, Diane Keaton, Martin Short, Kimberly Williams-Paisley, George Newbern; Comedy; baby, midlife crisis, confidence, aging, daughter, mother daughter relationship, pregnancy  \n",
       "6   Michael Mann; Al Pacino, Robert De Niro, Val Kilmer, Jon Voight, Tom Sizemore; Action, Crime, Drama, Thriller; robbery, detective, bank, obsession, chase, shooting, thief, honor, murder, suspense, heist, betrayal, money, gang, cult film, ex-con, neo-noir  \n",
       "7                                                                                         Sydney Pollack; Harrison Ford, Julia Ormond, Greg Kinnear, Angie Dickinson, Nancy Marchand; Comedy, Romance; paris, brother brother relationship, chauffeur, millionaire  \n",
       "8                                                                                                                           Peter Hewitt; Jonathan Taylor Thomas, Brad Renfro, Rachael Leigh Cook, Michael McShane, Amy Wright; Action, Adventure, Drama, Family;   \n",
       "9                                                                                                  Peter Hyams; Jean-Claude Van Damme, Powers Boothe, Dorian Harewood, Raymond J. Barry, Ross Malinger; Action, Adventure, Thriller; terrorist, hostage, explosive  \n",
       "10                                   Martin Campbell; Pierce Brosnan, Sean Bean, Izabella Scorupco, Famke Janssen, Joe Don Baker; Action, Adventure, Thriller; cuba, falsely accused, secret identity, computer virus, secret intelligence service, kgb, satellite  "
      ]
     },
     "execution_count": 9,
     "metadata": {},
     "output_type": "execute_result"
    }
   ],
   "source": [
    "df[[\"title\", \"release_date\", \"combined\"]].head(10)"
   ]
  },
  {
   "cell_type": "code",
   "execution_count": 10,
   "metadata": {},
   "outputs": [],
   "source": [
    "import re\n",
    "import nltk\n",
    "\n",
    "def preprocess(text):\n",
    "    \"\"\"\n",
    "    Summary:\n",
    "        Preprocesses the input text by removing non-alphanumeric characters,\n",
    "        converting to lowercase, tokenizing, and filtering out stopwords.\n",
    "    Parameters:\n",
    "        text (str): Input text to be preprocessed.\n",
    "    Returns:\n",
    "        str: Preprocessed text\n",
    "    \"\"\"\n",
    "    # Handle NaN\n",
    "    if not isinstance(text, str):\n",
    "        return \"\"\n",
    "    # Remove non-alphanumeric characters, convert to lowercase, and \n",
    "    # strip leading/trailing whitespaces\n",
    "    text = re.sub(r\"[^0-9a-zA-Z\\s]\", \"\", text, re.I | re.A).lower().strip()\n",
    "    # Tokenize each sentence using WordPunctTokenizer from NLTK\n",
    "    wpt = nltk.WordPunctTokenizer() # Get the list of stopwords in English from NLTK\n",
    "    stop_words = nltk.corpus.stopwords.words(\"english\")\n",
    "    output = []\n",
    "    # Tokenize and filter out stopwords to create a new list of tokens\n",
    "    tokens = wpt.tokenize(text)\n",
    "    filtered_tokens = [token for token in tokens if token not in stop_words]\n",
    "    # Join the filtered tokens into a sentence. Then append it to the output list\n",
    "    output.append(\" \".join(filtered_tokens))\n",
    "    # Join all the processed sentences into a single text string\n",
    "    return \" \".join(output)\n",
    "\n",
    "df[\"preproc\"] = df[\"combined\"].apply(preprocess)"
   ]
  },
  {
   "cell_type": "code",
   "execution_count": 11,
   "metadata": {},
   "outputs": [
    {
     "data": {
      "text/plain": [
       "preproc\n",
       "jeanpierre melville alain delon franois prier nathalie delon cathy rosier catherine jourdan crime drama thriller paris bar jazz hearing garage hitman jazz club police canary treason danger stakeout french noir film noir little dialogue    8\n",
       "steven soderbergh debbie doebereiner omar cowan dustin james ashley phyllis workman crime drama mystery murder independent film                                                                                                                8\n",
       "jonathan frakes jesse bradford paula garcs robin thomas french stewart michael biehn adventure family science fiction thriller time airplane youth                                                                                             8\n",
       "george clooney sam rockwell drew barrymore julia roberts rutger hauer brad pitt comedy crime drama romance thriller biography silencer intrigue                                                                                                8\n",
       "jeanjacques annaud mark strong antonio banderas freida pinto tahar rahim riz ahmed adventure drama                                                                                                                                             8\n",
       "apichatpong weerasethakul jenjira pongpas banlop lomnoi jarinpattra rueangram petcharat chaiburi tawatchai buawat drama fantasy cemetery river soldier illness sleeping                                                                        8\n",
       "bruno dumont juliette binoche jeanluc vincent robert leroy armelle leroyrolland emmanuel kauffman drama france nun biography sculpture mental asylum persecution based true events separation family                                           8\n",
       "nicolo donato nicolas bro david dencik claus flygare michael grnnemose hanne hedelund drama gay male nudity homosexuality xenophobia nazism                                                                                                    8\n",
       "frank borzage helen hayes gary cooper adolphe menjou mary philips jack la rue drama romance war italy nurse love letter officer priest escape hospital best friend precode                                                                     8\n",
       "michael haigney veronica taylor rachael lillis eric stuart action adventure animation family fantasy mountain mountain village friendship based tv series young boy pokmon best friend fighting based video game anime                         8\n",
       "gil cates jr burt reynolds bret harrison shannon elizabeth maria mason jennifer tilly comedy drama competition poker callgirl mentor restart confidence loser learning teaching independent film money illegal prostitution                    8\n",
       "jafar panahi sima mobarakshahi shayesteh irani ayda sadeqi golnaz farmani mahnaz zabihi comedy drama                                                                                                                                           8\n",
       "kunihiko yuyama veronica taylor rachael lillis maddie blaustein ikue tani adventure animation family fantasy science fiction sequel pokmon                                                                                                     8\n",
       "ari folman robin wright harvey keitel jon hamm paul giamatti danny huston animation drama science fiction animation                                                                                                                            8\n",
       "ruben stlund lisa loven kongsli johannes bah kuhnke clara wettergren vincent wettergren brady corbet comedy drama female nudity dark comedy family vacation avalanche running away swedish neardeath experience husband wife relationship      8\n",
       "Name: count, dtype: int64"
      ]
     },
     "execution_count": 11,
     "metadata": {},
     "output_type": "execute_result"
    }
   ],
   "source": [
    "df[\"preproc\"].value_counts().head(15)"
   ]
  },
  {
   "cell_type": "code",
   "execution_count": 12,
   "metadata": {},
   "outputs": [
    {
     "data": {
      "text/plain": [
       "id\n",
       "1                                                                                  john lasseter tom hanks tim allen rickles jim varney wallace shawn animation comedy family jealousy toy boy friendship friends rivalry toy comes life\n",
       "2                                                                                         joe johnston robin williams jonathan hyde kirsten dunst bradley pierce bonnie hunt adventure family fantasy disappearance based childrens book\n",
       "3                                                                                                  howard deutch walter matthau jack lemmon annmargret sophia loren daryl hannah comedy romance fishing best friend duringcreditsstinger\n",
       "4                                                                forest whitaker whitney houston angela bassett loretta devine lela rochon gregory hines comedy drama romance based novel interracial relationship single mother divorce\n",
       "5                                               charles shyer steve martin diane keaton martin short kimberly williamspaisley george newbern comedy baby midlife crisis confidence aging daughter mother daughter relationship pregnancy\n",
       "6     michael mann al pacino robert de niro val kilmer jon voight tom sizemore action crime drama thriller robbery detective bank obsession chase shooting thief honor murder suspense heist betrayal money gang cult film excon neonoir\n",
       "7                                                                          sydney pollack harrison ford julia ormond greg kinnear angie dickinson nancy marchand comedy romance paris brother brother relationship chauffeur millionaire\n",
       "8                                                                                                            peter hewitt jonathan taylor thomas brad renfro rachael leigh cook michael mcshane amy wright action adventure drama family\n",
       "9                                                                                     peter hyams jeanclaude van damme powers boothe dorian harewood raymond j barry ross malinger action adventure thriller terrorist hostage explosive\n",
       "10                            martin campbell pierce brosnan sean bean izabella scorupco famke janssen joe baker action adventure thriller cuba falsely accused secret identity computer virus secret intelligence service kgb satellite\n",
       "Name: preproc, dtype: object"
      ]
     },
     "execution_count": 12,
     "metadata": {},
     "output_type": "execute_result"
    }
   ],
   "source": [
    "df[\"preproc\"].head(10)"
   ]
  },
  {
   "cell_type": "markdown",
   "metadata": {},
   "source": [
    "## Recommender"
   ]
  },
  {
   "cell_type": "code",
   "execution_count": 14,
   "metadata": {},
   "outputs": [],
   "source": [
    "# Import CountVectorizer and create the count matrix\n",
    "from sklearn.feature_extraction.text import CountVectorizer\n",
    "\n",
    "cv = CountVectorizer()\n",
    "cv_matrix = cv.fit_transform(df[\"preproc\"])"
   ]
  },
  {
   "cell_type": "code",
   "execution_count": 15,
   "metadata": {},
   "outputs": [
    {
     "data": {
      "text/plain": [
       "<15800x29604 sparse matrix of type '<class 'numpy.int64'>'\n",
       "\twith 304761 stored elements in Compressed Sparse Row format>"
      ]
     },
     "execution_count": 15,
     "metadata": {},
     "output_type": "execute_result"
    }
   ],
   "source": [
    "cv_matrix"
   ]
  },
  {
   "cell_type": "code",
   "execution_count": 16,
   "metadata": {},
   "outputs": [],
   "source": [
    "from sklearn.metrics.pairwise import cosine_similarity\n",
    "\n",
    "cosine_sim = cosine_similarity(cv_matrix, cv_matrix)"
   ]
  },
  {
   "cell_type": "code",
   "execution_count": 17,
   "metadata": {},
   "outputs": [
    {
     "data": {
      "text/plain": [
       "array([[1.        , 0.04588315, 0.04850713, ..., 0.04714045, 0.        ,\n",
       "        0.05163978],\n",
       "       [0.04588315, 1.        , 0.        , ..., 0.05407381, 0.06917145,\n",
       "        0.        ],\n",
       "       [0.04850713, 0.        , 1.        , ..., 0.0571662 , 0.        ,\n",
       "        0.06262243],\n",
       "       ...,\n",
       "       [0.04714045, 0.05407381, 0.0571662 , ..., 1.        , 0.63960215,\n",
       "        0.        ],\n",
       "       [0.        , 0.06917145, 0.        , ..., 0.63960215, 1.        ,\n",
       "        0.07784989],\n",
       "       [0.05163978, 0.        , 0.06262243, ..., 0.        , 0.07784989,\n",
       "        1.        ]])"
      ]
     },
     "execution_count": 17,
     "metadata": {},
     "output_type": "execute_result"
    }
   ],
   "source": [
    "cosine_sim"
   ]
  },
  {
   "cell_type": "code",
   "execution_count": 18,
   "metadata": {},
   "outputs": [
    {
     "data": {
      "text/html": [
       "<div>\n",
       "<style scoped>\n",
       "    .dataframe tbody tr th:only-of-type {\n",
       "        vertical-align: middle;\n",
       "    }\n",
       "\n",
       "    .dataframe tbody tr th {\n",
       "        vertical-align: top;\n",
       "    }\n",
       "\n",
       "    .dataframe thead th {\n",
       "        text-align: right;\n",
       "    }\n",
       "</style>\n",
       "<table border=\"1\" class=\"dataframe\">\n",
       "  <thead>\n",
       "    <tr style=\"text-align: right;\">\n",
       "      <th></th>\n",
       "      <th>title</th>\n",
       "      <th>release_date</th>\n",
       "      <th>runtime</th>\n",
       "      <th>genres</th>\n",
       "      <th>budget</th>\n",
       "      <th>revenue</th>\n",
       "      <th>popularity</th>\n",
       "      <th>vote_average</th>\n",
       "      <th>vote_count</th>\n",
       "      <th>director</th>\n",
       "      <th>top_actors</th>\n",
       "      <th>keywords</th>\n",
       "      <th>combined</th>\n",
       "      <th>preproc</th>\n",
       "    </tr>\n",
       "    <tr>\n",
       "      <th>id</th>\n",
       "      <th></th>\n",
       "      <th></th>\n",
       "      <th></th>\n",
       "      <th></th>\n",
       "      <th></th>\n",
       "      <th></th>\n",
       "      <th></th>\n",
       "      <th></th>\n",
       "      <th></th>\n",
       "      <th></th>\n",
       "      <th></th>\n",
       "      <th></th>\n",
       "      <th></th>\n",
       "      <th></th>\n",
       "    </tr>\n",
       "  </thead>\n",
       "  <tbody>\n",
       "    <tr>\n",
       "      <th>188</th>\n",
       "      <td>Star Wars</td>\n",
       "      <td>1977-05-25</td>\n",
       "      <td>121</td>\n",
       "      <td>Action, Adventure, Science Fiction</td>\n",
       "      <td>11.0</td>\n",
       "      <td>775.4</td>\n",
       "      <td>42.15</td>\n",
       "      <td>8.1</td>\n",
       "      <td>6778</td>\n",
       "      <td>George Lucas</td>\n",
       "      <td>Mark Hamill, Harrison Ford, Carrie Fisher, Peter Cushing, Alec Guinness</td>\n",
       "      <td>android, rescue mission, rebellion, planet, space opera</td>\n",
       "      <td>George Lucas; Mark Hamill, Harrison Ford, Carrie Fisher, Peter Cushing, Alec Guinness; Action, Adventure, Science Fiction; android, rescue mission, rebellion, planet, space opera</td>\n",
       "      <td>george lucas mark hamill harrison ford carrie fisher peter cushing alec guinness action adventure science fiction android rescue mission rebellion planet space opera</td>\n",
       "    </tr>\n",
       "  </tbody>\n",
       "</table>\n",
       "</div>"
      ],
      "text/plain": [
       "         title release_date  runtime                              genres  \\\n",
       "id                                                                         \n",
       "188  Star Wars   1977-05-25      121  Action, Adventure, Science Fiction   \n",
       "\n",
       "     budget  revenue  popularity  vote_average  vote_count      director  \\\n",
       "id                                                                         \n",
       "188    11.0    775.4       42.15           8.1        6778  George Lucas   \n",
       "\n",
       "                                                                  top_actors  \\\n",
       "id                                                                             \n",
       "188  Mark Hamill, Harrison Ford, Carrie Fisher, Peter Cushing, Alec Guinness   \n",
       "\n",
       "                                                    keywords  \\\n",
       "id                                                             \n",
       "188  android, rescue mission, rebellion, planet, space opera   \n",
       "\n",
       "                                                                                                                                                                               combined  \\\n",
       "id                                                                                                                                                                                        \n",
       "188  George Lucas; Mark Hamill, Harrison Ford, Carrie Fisher, Peter Cushing, Alec Guinness; Action, Adventure, Science Fiction; android, rescue mission, rebellion, planet, space opera   \n",
       "\n",
       "                                                                                                                                                                   preproc  \n",
       "id                                                                                                                                                                          \n",
       "188  george lucas mark hamill harrison ford carrie fisher peter cushing alec guinness action adventure science fiction android rescue mission rebellion planet space opera  "
      ]
     },
     "execution_count": 18,
     "metadata": {},
     "output_type": "execute_result"
    }
   ],
   "source": [
    "find_movie(\"stare was\")"
   ]
  },
  {
   "cell_type": "code",
   "execution_count": 27,
   "metadata": {},
   "outputs": [],
   "source": [
    "idx = 188\n",
    "n_recommendations = 5\n",
    "sim_scores = list(enumerate(cosine_sim[idx]))\n",
    "sim_scores = sorted(sim_scores, key=lambda x: x[1], reverse=True)\n",
    "sim_scores = sim_scores[1:(n_recommendations+1)]\n",
    "similar_movies = [i[0] for i in sim_scores]"
   ]
  },
  {
   "cell_type": "code",
   "execution_count": 34,
   "metadata": {},
   "outputs": [
    {
     "data": {
      "text/plain": [
       "title                                                                                                                                                                                                                                                                                                              A Little Princess\n",
       "release_date                                                                                                                                                                                                                                                                                                              1995-05-10\n",
       "runtime                                                                                                                                                                                                                                                                                                                           97\n",
       "genres                                                                                                                                                                                                                                                                                                        Drama, Family, Fantasy\n",
       "budget                                                                                                                                                                                                                                                                                                                          17.0\n",
       "revenue                                                                                                                                                                                                                                                                                                                          0.0\n",
       "popularity                                                                                                                                                                                                                                                                                                                      7.73\n",
       "vote_average                                                                                                                                                                                                                                                                                                                     7.4\n",
       "vote_count                                                                                                                                                                                                                                                                                                                       207\n",
       "director                                                                                                                                                                                                                                                                                                              Alfonso Cuarón\n",
       "top_actors                                                                                                                                                                                                                                      Liesel Matthews, Eleanor Bron, Liam Cunningham, Rusty Schwimmer, Vanessa Lee Chester\n",
       "keywords                                                                                                                                      based on novel, servant, private school, female friendship, boarding school, british, school, little girl, orphan, india, father daughter relationship, schoolgirl, attic, imagination\n",
       "combined        Alfonso Cuarón; Liesel Matthews, Eleanor Bron, Liam Cunningham, Rusty Schwimmer, Vanessa Lee Chester; Drama, Family, Fantasy; based on novel, servant, private school, female friendship, boarding school, british, school, little girl, orphan, india, father daughter relationship, schoolgirl, attic, imagination\n",
       "preproc                                   alfonso cuarn liesel matthews eleanor bron liam cunningham rusty schwimmer vanessa lee chester drama family fantasy based novel servant private school female friendship boarding school british school little girl orphan india father daughter relationship schoolgirl attic imagination\n",
       "Name: 190, dtype: object"
      ]
     },
     "execution_count": 34,
     "metadata": {},
     "output_type": "execute_result"
    }
   ],
   "source": [
    "df.iloc[189]"
   ]
  },
  {
   "cell_type": "code",
   "execution_count": 31,
   "metadata": {},
   "outputs": [
    {
     "name": "stdout",
     "output_type": "stream",
     "text": [
      "Because you watched Little Women:\n"
     ]
    },
    {
     "data": {
      "text/html": [
       "<div>\n",
       "<style scoped>\n",
       "    .dataframe tbody tr th:only-of-type {\n",
       "        vertical-align: middle;\n",
       "    }\n",
       "\n",
       "    .dataframe tbody tr th {\n",
       "        vertical-align: top;\n",
       "    }\n",
       "\n",
       "    .dataframe thead th {\n",
       "        text-align: right;\n",
       "    }\n",
       "</style>\n",
       "<table border=\"1\" class=\"dataframe\">\n",
       "  <thead>\n",
       "    <tr style=\"text-align: right;\">\n",
       "      <th></th>\n",
       "      <th>title</th>\n",
       "      <th>release_date</th>\n",
       "      <th>genres</th>\n",
       "      <th>popularity</th>\n",
       "      <th>vote_average</th>\n",
       "      <th>vote_count</th>\n",
       "      <th>director</th>\n",
       "      <th>top_actors</th>\n",
       "      <th>keywords</th>\n",
       "    </tr>\n",
       "    <tr>\n",
       "      <th>id</th>\n",
       "      <th></th>\n",
       "      <th></th>\n",
       "      <th></th>\n",
       "      <th></th>\n",
       "      <th></th>\n",
       "      <th></th>\n",
       "      <th></th>\n",
       "      <th></th>\n",
       "      <th></th>\n",
       "    </tr>\n",
       "  </thead>\n",
       "  <tbody>\n",
       "    <tr>\n",
       "      <th>10802</th>\n",
       "      <td>Enough Said</td>\n",
       "      <td>2013-09-18</td>\n",
       "      <td>Comedy, Drama, Romance</td>\n",
       "      <td>6.78</td>\n",
       "      <td>6.6</td>\n",
       "      <td>351</td>\n",
       "      <td>Nicole Holofcener</td>\n",
       "      <td>Julia Louis-Dreyfus, Catherine Keener, James Gandolfini, Toni Collette, Ben Falcone</td>\n",
       "      <td>thanksgiving, party, romance, mother daughter relationship, dating, relationship, divorce, woman director</td>\n",
       "    </tr>\n",
       "    <tr>\n",
       "      <th>4330</th>\n",
       "      <td>My Life Without Me</td>\n",
       "      <td>2003-03-07</td>\n",
       "      <td>Drama, Romance</td>\n",
       "      <td>10.31</td>\n",
       "      <td>7.2</td>\n",
       "      <td>78</td>\n",
       "      <td>Isabel Coixet</td>\n",
       "      <td>Sarah Polley, Amanda Plummer, Scott Speedman, Leonor Watling, Deborah Harry</td>\n",
       "      <td>farewell, dying and death, daughter, secret love, mother daughter relationship, woman director</td>\n",
       "    </tr>\n",
       "    <tr>\n",
       "      <th>3361</th>\n",
       "      <td>Italian for Beginners</td>\n",
       "      <td>2000-12-07</td>\n",
       "      <td>Comedy, Drama, Romance</td>\n",
       "      <td>5.40</td>\n",
       "      <td>6.5</td>\n",
       "      <td>33</td>\n",
       "      <td>Lone Scherfig</td>\n",
       "      <td>Peter Gantzler, Sara Indrio Jensen, Ann Eleonora Jørgensen, Anders W. Berthelsen, Anette Støvelbæk</td>\n",
       "      <td>venice, hotel, copenhagen, waitress, depression, italian, hairdresser, daughter, friendship, priest, mother daughter relationship, church, woman director</td>\n",
       "    </tr>\n",
       "    <tr>\n",
       "      <th>1064</th>\n",
       "      <td>Eve's Bayou</td>\n",
       "      <td>1997-09-07</td>\n",
       "      <td>Drama</td>\n",
       "      <td>1.46</td>\n",
       "      <td>6.3</td>\n",
       "      <td>29</td>\n",
       "      <td>Kasi Lemmons</td>\n",
       "      <td>Jurnee Smollett, Meagan Good, Lynn Whitfield, Samuel L. Jackson, Debbi Morgan</td>\n",
       "      <td>sister sister relationship, superstition, independent film, curse, mother daughter relationship, father daughter relationship, woman director</td>\n",
       "    </tr>\n",
       "    <tr>\n",
       "      <th>1790</th>\n",
       "      <td>Drop Dead Gorgeous</td>\n",
       "      <td>1999-07-23</td>\n",
       "      <td>Comedy</td>\n",
       "      <td>6.40</td>\n",
       "      <td>6.5</td>\n",
       "      <td>88</td>\n",
       "      <td>Michael Patrick Jann</td>\n",
       "      <td>Kirsten Dunst, Ellen Barkin, Denise Richards, Amy Adams, Kirstie Alley</td>\n",
       "      <td>mother role, mother daughter relationship, pretty woman</td>\n",
       "    </tr>\n",
       "  </tbody>\n",
       "</table>\n",
       "</div>"
      ],
      "text/plain": [
       "                       title release_date                  genres  popularity  \\\n",
       "id                                                                              \n",
       "10802            Enough Said   2013-09-18  Comedy, Drama, Romance        6.78   \n",
       "4330      My Life Without Me   2003-03-07          Drama, Romance       10.31   \n",
       "3361   Italian for Beginners   2000-12-07  Comedy, Drama, Romance        5.40   \n",
       "1064             Eve's Bayou   1997-09-07                   Drama        1.46   \n",
       "1790      Drop Dead Gorgeous   1999-07-23                  Comedy        6.40   \n",
       "\n",
       "       vote_average  vote_count              director  \\\n",
       "id                                                      \n",
       "10802           6.6         351     Nicole Holofcener   \n",
       "4330            7.2          78         Isabel Coixet   \n",
       "3361            6.5          33         Lone Scherfig   \n",
       "1064            6.3          29          Kasi Lemmons   \n",
       "1790            6.5          88  Michael Patrick Jann   \n",
       "\n",
       "                                                                                               top_actors  \\\n",
       "id                                                                                                          \n",
       "10802                 Julia Louis-Dreyfus, Catherine Keener, James Gandolfini, Toni Collette, Ben Falcone   \n",
       "4330                          Sarah Polley, Amanda Plummer, Scott Speedman, Leonor Watling, Deborah Harry   \n",
       "3361   Peter Gantzler, Sara Indrio Jensen, Ann Eleonora Jørgensen, Anders W. Berthelsen, Anette Støvelbæk   \n",
       "1064                        Jurnee Smollett, Meagan Good, Lynn Whitfield, Samuel L. Jackson, Debbi Morgan   \n",
       "1790                               Kirsten Dunst, Ellen Barkin, Denise Richards, Amy Adams, Kirstie Alley   \n",
       "\n",
       "                                                                                                                                                        keywords  \n",
       "id                                                                                                                                                                \n",
       "10802                                                  thanksgiving, party, romance, mother daughter relationship, dating, relationship, divorce, woman director  \n",
       "4330                                                              farewell, dying and death, daughter, secret love, mother daughter relationship, woman director  \n",
       "3361   venice, hotel, copenhagen, waitress, depression, italian, hairdresser, daughter, friendship, priest, mother daughter relationship, church, woman director  \n",
       "1064               sister sister relationship, superstition, independent film, curse, mother daughter relationship, father daughter relationship, woman director  \n",
       "1790                                                                                                     mother role, mother daughter relationship, pretty woman  "
      ]
     },
     "execution_count": 31,
     "metadata": {},
     "output_type": "execute_result"
    }
   ],
   "source": [
    "print(f\"Because you watched {df['title'].iloc[idx]}:\")\n",
    "df[[\"title\", \"release_date\", \"genres\", \"popularity\", \"vote_average\", \"vote_count\", \"director\", \"top_actors\", \"keywords\"]].iloc[similar_movies]"
   ]
  }
 ],
 "metadata": {
  "kernelspec": {
   "display_name": "Python 3",
   "language": "python",
   "name": "python3"
  },
  "language_info": {
   "codemirror_mode": {
    "name": "ipython",
    "version": 3
   },
   "file_extension": ".py",
   "mimetype": "text/x-python",
   "name": "python",
   "nbconvert_exporter": "python",
   "pygments_lexer": "ipython3",
   "version": "3.10.2"
  },
  "orig_nbformat": 4,
  "vscode": {
   "interpreter": {
    "hash": "372546374ee67f23bce4863fdb45197b8301cd73a13a929f5ade301179cf3c81"
   }
  }
 },
 "nbformat": 4,
 "nbformat_minor": 2
}
