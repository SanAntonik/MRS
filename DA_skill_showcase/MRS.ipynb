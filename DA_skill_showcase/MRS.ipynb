{
 "cells": [
  {
   "attachments": {},
   "cell_type": "markdown",
   "metadata": {},
   "source": [
    "# MRS"
   ]
  },
  {
   "cell_type": "markdown",
   "metadata": {},
   "source": [
    "Here I'll work on content-based movie recommender based on the previous notebook (skill_showcase.ipynb)"
   ]
  },
  {
   "cell_type": "markdown",
   "metadata": {},
   "source": [
    "data source: https://www.kaggle.com/datasets/rounakbanik/the-movies-dataset"
   ]
  },
  {
   "cell_type": "markdown",
   "metadata": {},
   "source": [
    "This notebook will consist of two parts:\n",
    "\n",
    "1. Preparing data for the recommender\n",
    "\n",
    "2. Content-based recommender itself"
   ]
  },
  {
   "cell_type": "markdown",
   "metadata": {},
   "source": [
    "# 1. Preparing Data"
   ]
  },
  {
   "cell_type": "code",
   "execution_count": 1,
   "metadata": {},
   "outputs": [],
   "source": [
    "import pandas as pd\n",
    "from ast import literal_eval"
   ]
  },
  {
   "cell_type": "code",
   "execution_count": 2,
   "metadata": {},
   "outputs": [
    {
     "name": "stderr",
     "output_type": "stream",
     "text": [
      "C:\\Windows\\Temp\\ipykernel_18684\\3199233999.py:1: DtypeWarning: Columns (10) have mixed types. Specify dtype option on import or set low_memory=False.\n",
      "  df = pd.read_csv('data/movies_metadata.csv')\n"
     ]
    },
    {
     "data": {
      "text/html": [
       "<div>\n",
       "<style scoped>\n",
       "    .dataframe tbody tr th:only-of-type {\n",
       "        vertical-align: middle;\n",
       "    }\n",
       "\n",
       "    .dataframe tbody tr th {\n",
       "        vertical-align: top;\n",
       "    }\n",
       "\n",
       "    .dataframe thead th {\n",
       "        text-align: right;\n",
       "    }\n",
       "</style>\n",
       "<table border=\"1\" class=\"dataframe\">\n",
       "  <thead>\n",
       "    <tr style=\"text-align: right;\">\n",
       "      <th></th>\n",
       "      <th>0</th>\n",
       "      <th>1</th>\n",
       "      <th>2</th>\n",
       "    </tr>\n",
       "  </thead>\n",
       "  <tbody>\n",
       "    <tr>\n",
       "      <th>adult</th>\n",
       "      <td>False</td>\n",
       "      <td>False</td>\n",
       "      <td>False</td>\n",
       "    </tr>\n",
       "    <tr>\n",
       "      <th>belongs_to_collection</th>\n",
       "      <td>{'id': 10194, 'name': 'Toy Story Collection', ...</td>\n",
       "      <td>NaN</td>\n",
       "      <td>{'id': 119050, 'name': 'Grumpy Old Men Collect...</td>\n",
       "    </tr>\n",
       "    <tr>\n",
       "      <th>budget</th>\n",
       "      <td>30000000</td>\n",
       "      <td>65000000</td>\n",
       "      <td>0</td>\n",
       "    </tr>\n",
       "    <tr>\n",
       "      <th>genres</th>\n",
       "      <td>[{'id': 16, 'name': 'Animation'}, {'id': 35, '...</td>\n",
       "      <td>[{'id': 12, 'name': 'Adventure'}, {'id': 14, '...</td>\n",
       "      <td>[{'id': 10749, 'name': 'Romance'}, {'id': 35, ...</td>\n",
       "    </tr>\n",
       "    <tr>\n",
       "      <th>homepage</th>\n",
       "      <td>http://toystory.disney.com/toy-story</td>\n",
       "      <td>NaN</td>\n",
       "      <td>NaN</td>\n",
       "    </tr>\n",
       "    <tr>\n",
       "      <th>id</th>\n",
       "      <td>862</td>\n",
       "      <td>8844</td>\n",
       "      <td>15602</td>\n",
       "    </tr>\n",
       "    <tr>\n",
       "      <th>imdb_id</th>\n",
       "      <td>tt0114709</td>\n",
       "      <td>tt0113497</td>\n",
       "      <td>tt0113228</td>\n",
       "    </tr>\n",
       "    <tr>\n",
       "      <th>original_language</th>\n",
       "      <td>en</td>\n",
       "      <td>en</td>\n",
       "      <td>en</td>\n",
       "    </tr>\n",
       "    <tr>\n",
       "      <th>original_title</th>\n",
       "      <td>Toy Story</td>\n",
       "      <td>Jumanji</td>\n",
       "      <td>Grumpier Old Men</td>\n",
       "    </tr>\n",
       "    <tr>\n",
       "      <th>overview</th>\n",
       "      <td>Led by Woody, Andy's toys live happily in his ...</td>\n",
       "      <td>When siblings Judy and Peter discover an encha...</td>\n",
       "      <td>A family wedding reignites the ancient feud be...</td>\n",
       "    </tr>\n",
       "    <tr>\n",
       "      <th>popularity</th>\n",
       "      <td>21.946943</td>\n",
       "      <td>17.015539</td>\n",
       "      <td>11.7129</td>\n",
       "    </tr>\n",
       "    <tr>\n",
       "      <th>poster_path</th>\n",
       "      <td>/rhIRbceoE9lR4veEXuwCC2wARtG.jpg</td>\n",
       "      <td>/vzmL6fP7aPKNKPRTFnZmiUfciyV.jpg</td>\n",
       "      <td>/6ksm1sjKMFLbO7UY2i6G1ju9SML.jpg</td>\n",
       "    </tr>\n",
       "    <tr>\n",
       "      <th>production_companies</th>\n",
       "      <td>[{'name': 'Pixar Animation Studios', 'id': 3}]</td>\n",
       "      <td>[{'name': 'TriStar Pictures', 'id': 559}, {'na...</td>\n",
       "      <td>[{'name': 'Warner Bros.', 'id': 6194}, {'name'...</td>\n",
       "    </tr>\n",
       "    <tr>\n",
       "      <th>production_countries</th>\n",
       "      <td>[{'iso_3166_1': 'US', 'name': 'United States o...</td>\n",
       "      <td>[{'iso_3166_1': 'US', 'name': 'United States o...</td>\n",
       "      <td>[{'iso_3166_1': 'US', 'name': 'United States o...</td>\n",
       "    </tr>\n",
       "    <tr>\n",
       "      <th>release_date</th>\n",
       "      <td>1995-10-30</td>\n",
       "      <td>1995-12-15</td>\n",
       "      <td>1995-12-22</td>\n",
       "    </tr>\n",
       "    <tr>\n",
       "      <th>revenue</th>\n",
       "      <td>373554033.0</td>\n",
       "      <td>262797249.0</td>\n",
       "      <td>0.0</td>\n",
       "    </tr>\n",
       "    <tr>\n",
       "      <th>runtime</th>\n",
       "      <td>81.0</td>\n",
       "      <td>104.0</td>\n",
       "      <td>101.0</td>\n",
       "    </tr>\n",
       "    <tr>\n",
       "      <th>spoken_languages</th>\n",
       "      <td>[{'iso_639_1': 'en', 'name': 'English'}]</td>\n",
       "      <td>[{'iso_639_1': 'en', 'name': 'English'}, {'iso...</td>\n",
       "      <td>[{'iso_639_1': 'en', 'name': 'English'}]</td>\n",
       "    </tr>\n",
       "    <tr>\n",
       "      <th>status</th>\n",
       "      <td>Released</td>\n",
       "      <td>Released</td>\n",
       "      <td>Released</td>\n",
       "    </tr>\n",
       "    <tr>\n",
       "      <th>tagline</th>\n",
       "      <td>NaN</td>\n",
       "      <td>Roll the dice and unleash the excitement!</td>\n",
       "      <td>Still Yelling. Still Fighting. Still Ready for...</td>\n",
       "    </tr>\n",
       "    <tr>\n",
       "      <th>title</th>\n",
       "      <td>Toy Story</td>\n",
       "      <td>Jumanji</td>\n",
       "      <td>Grumpier Old Men</td>\n",
       "    </tr>\n",
       "    <tr>\n",
       "      <th>video</th>\n",
       "      <td>False</td>\n",
       "      <td>False</td>\n",
       "      <td>False</td>\n",
       "    </tr>\n",
       "    <tr>\n",
       "      <th>vote_average</th>\n",
       "      <td>7.7</td>\n",
       "      <td>6.9</td>\n",
       "      <td>6.5</td>\n",
       "    </tr>\n",
       "    <tr>\n",
       "      <th>vote_count</th>\n",
       "      <td>5415.0</td>\n",
       "      <td>2413.0</td>\n",
       "      <td>92.0</td>\n",
       "    </tr>\n",
       "  </tbody>\n",
       "</table>\n",
       "</div>"
      ],
      "text/plain": [
       "                                                                       0  \\\n",
       "adult                                                              False   \n",
       "belongs_to_collection  {'id': 10194, 'name': 'Toy Story Collection', ...   \n",
       "budget                                                          30000000   \n",
       "genres                 [{'id': 16, 'name': 'Animation'}, {'id': 35, '...   \n",
       "homepage                            http://toystory.disney.com/toy-story   \n",
       "id                                                                   862   \n",
       "imdb_id                                                        tt0114709   \n",
       "original_language                                                     en   \n",
       "original_title                                                 Toy Story   \n",
       "overview               Led by Woody, Andy's toys live happily in his ...   \n",
       "popularity                                                     21.946943   \n",
       "poster_path                             /rhIRbceoE9lR4veEXuwCC2wARtG.jpg   \n",
       "production_companies      [{'name': 'Pixar Animation Studios', 'id': 3}]   \n",
       "production_countries   [{'iso_3166_1': 'US', 'name': 'United States o...   \n",
       "release_date                                                  1995-10-30   \n",
       "revenue                                                      373554033.0   \n",
       "runtime                                                             81.0   \n",
       "spoken_languages                [{'iso_639_1': 'en', 'name': 'English'}]   \n",
       "status                                                          Released   \n",
       "tagline                                                              NaN   \n",
       "title                                                          Toy Story   \n",
       "video                                                              False   \n",
       "vote_average                                                         7.7   \n",
       "vote_count                                                        5415.0   \n",
       "\n",
       "                                                                       1  \\\n",
       "adult                                                              False   \n",
       "belongs_to_collection                                                NaN   \n",
       "budget                                                          65000000   \n",
       "genres                 [{'id': 12, 'name': 'Adventure'}, {'id': 14, '...   \n",
       "homepage                                                             NaN   \n",
       "id                                                                  8844   \n",
       "imdb_id                                                        tt0113497   \n",
       "original_language                                                     en   \n",
       "original_title                                                   Jumanji   \n",
       "overview               When siblings Judy and Peter discover an encha...   \n",
       "popularity                                                     17.015539   \n",
       "poster_path                             /vzmL6fP7aPKNKPRTFnZmiUfciyV.jpg   \n",
       "production_companies   [{'name': 'TriStar Pictures', 'id': 559}, {'na...   \n",
       "production_countries   [{'iso_3166_1': 'US', 'name': 'United States o...   \n",
       "release_date                                                  1995-12-15   \n",
       "revenue                                                      262797249.0   \n",
       "runtime                                                            104.0   \n",
       "spoken_languages       [{'iso_639_1': 'en', 'name': 'English'}, {'iso...   \n",
       "status                                                          Released   \n",
       "tagline                        Roll the dice and unleash the excitement!   \n",
       "title                                                            Jumanji   \n",
       "video                                                              False   \n",
       "vote_average                                                         6.9   \n",
       "vote_count                                                        2413.0   \n",
       "\n",
       "                                                                       2  \n",
       "adult                                                              False  \n",
       "belongs_to_collection  {'id': 119050, 'name': 'Grumpy Old Men Collect...  \n",
       "budget                                                                 0  \n",
       "genres                 [{'id': 10749, 'name': 'Romance'}, {'id': 35, ...  \n",
       "homepage                                                             NaN  \n",
       "id                                                                 15602  \n",
       "imdb_id                                                        tt0113228  \n",
       "original_language                                                     en  \n",
       "original_title                                          Grumpier Old Men  \n",
       "overview               A family wedding reignites the ancient feud be...  \n",
       "popularity                                                       11.7129  \n",
       "poster_path                             /6ksm1sjKMFLbO7UY2i6G1ju9SML.jpg  \n",
       "production_companies   [{'name': 'Warner Bros.', 'id': 6194}, {'name'...  \n",
       "production_countries   [{'iso_3166_1': 'US', 'name': 'United States o...  \n",
       "release_date                                                  1995-12-22  \n",
       "revenue                                                              0.0  \n",
       "runtime                                                            101.0  \n",
       "spoken_languages                [{'iso_639_1': 'en', 'name': 'English'}]  \n",
       "status                                                          Released  \n",
       "tagline                Still Yelling. Still Fighting. Still Ready for...  \n",
       "title                                                   Grumpier Old Men  \n",
       "video                                                              False  \n",
       "vote_average                                                         6.5  \n",
       "vote_count                                                          92.0  "
      ]
     },
     "execution_count": 2,
     "metadata": {},
     "output_type": "execute_result"
    }
   ],
   "source": [
    "df = pd.read_csv('data/movies_metadata.csv')\n",
    "# Transpose for easier exploration of this dataset with many cols\n",
    "df.head(3).transpose()"
   ]
  },
  {
   "cell_type": "code",
   "execution_count": 3,
   "metadata": {},
   "outputs": [
    {
     "name": "stdout",
     "output_type": "stream",
     "text": [
      "<class 'pandas.core.frame.DataFrame'>\n",
      "RangeIndex: 45466 entries, 0 to 45465\n",
      "Data columns (total 24 columns):\n",
      " #   Column                 Non-Null Count  Dtype  \n",
      "---  ------                 --------------  -----  \n",
      " 0   adult                  45466 non-null  object \n",
      " 1   belongs_to_collection  4494 non-null   object \n",
      " 2   budget                 45466 non-null  object \n",
      " 3   genres                 45466 non-null  object \n",
      " 4   homepage               7782 non-null   object \n",
      " 5   id                     45466 non-null  object \n",
      " 6   imdb_id                45449 non-null  object \n",
      " 7   original_language      45455 non-null  object \n",
      " 8   original_title         45466 non-null  object \n",
      " 9   overview               44512 non-null  object \n",
      " 10  popularity             45461 non-null  object \n",
      " 11  poster_path            45080 non-null  object \n",
      " 12  production_companies   45463 non-null  object \n",
      " 13  production_countries   45463 non-null  object \n",
      " 14  release_date           45379 non-null  object \n",
      " 15  revenue                45460 non-null  float64\n",
      " 16  runtime                45203 non-null  float64\n",
      " 17  spoken_languages       45460 non-null  object \n",
      " 18  status                 45379 non-null  object \n",
      " 19  tagline                20412 non-null  object \n",
      " 20  title                  45460 non-null  object \n",
      " 21  video                  45460 non-null  object \n",
      " 22  vote_average           45460 non-null  float64\n",
      " 23  vote_count             45460 non-null  float64\n",
      "dtypes: float64(4), object(20)\n",
      "memory usage: 8.3+ MB\n"
     ]
    }
   ],
   "source": [
    "df.info()"
   ]
  },
  {
   "cell_type": "markdown",
   "metadata": {},
   "source": [
    "## Filtering out bad/barely known movies"
   ]
  },
  {
   "cell_type": "code",
   "execution_count": 4,
   "metadata": {},
   "outputs": [
    {
     "data": {
      "text/plain": [
       "35109"
      ]
     },
     "execution_count": 4,
     "metadata": {},
     "output_type": "execute_result"
    }
   ],
   "source": [
    "# Calculate the count of films that have vote_average < 4 or vote_count < 40\n",
    "len(df[(df['vote_average'] < 4) | (df['vote_count'] < 40)])"
   ]
  },
  {
   "cell_type": "markdown",
   "metadata": {},
   "source": [
    "As you can see, this dataset has a lot of mediocre movies. Therefore, to speed up calculations, let's remove them"
   ]
  },
  {
   "cell_type": "code",
   "execution_count": 5,
   "metadata": {},
   "outputs": [
    {
     "name": "stdout",
     "output_type": "stream",
     "text": [
      "<class 'pandas.core.frame.DataFrame'>\n",
      "Index: 10351 entries, 0 to 45441\n",
      "Data columns (total 24 columns):\n",
      " #   Column                 Non-Null Count  Dtype  \n",
      "---  ------                 --------------  -----  \n",
      " 0   adult                  10351 non-null  object \n",
      " 1   belongs_to_collection  2135 non-null   object \n",
      " 2   budget                 10351 non-null  object \n",
      " 3   genres                 10351 non-null  object \n",
      " 4   homepage               3001 non-null   object \n",
      " 5   id                     10351 non-null  object \n",
      " 6   imdb_id                10350 non-null  object \n",
      " 7   original_language      10351 non-null  object \n",
      " 8   original_title         10351 non-null  object \n",
      " 9   overview               10299 non-null  object \n",
      " 10  popularity             10351 non-null  object \n",
      " 11  poster_path            10351 non-null  object \n",
      " 12  production_companies   10351 non-null  object \n",
      " 13  production_countries   10351 non-null  object \n",
      " 14  release_date           10349 non-null  object \n",
      " 15  revenue                10351 non-null  float64\n",
      " 16  runtime                10348 non-null  float64\n",
      " 17  spoken_languages       10351 non-null  object \n",
      " 18  status                 10350 non-null  object \n",
      " 19  tagline                7739 non-null   object \n",
      " 20  title                  10351 non-null  object \n",
      " 21  video                  10351 non-null  object \n",
      " 22  vote_average           10351 non-null  float64\n",
      " 23  vote_count             10351 non-null  float64\n",
      "dtypes: float64(4), object(20)\n",
      "memory usage: 2.0+ MB\n"
     ]
    }
   ],
   "source": [
    "df = df[(df['vote_average'] >= 4) & (df['vote_count'] >= 40)]\n",
    "df.info()"
   ]
  },
  {
   "cell_type": "markdown",
   "metadata": {},
   "source": [
    "## Dropping unneeded columns"
   ]
  },
  {
   "cell_type": "code",
   "execution_count": 6,
   "metadata": {},
   "outputs": [
    {
     "data": {
      "text/plain": [
       "adult\n",
       "False    10351\n",
       "Name: count, dtype: int64"
      ]
     },
     "execution_count": 6,
     "metadata": {},
     "output_type": "execute_result"
    }
   ],
   "source": [
    "df[\"adult\"].value_counts()"
   ]
  },
  {
   "cell_type": "code",
   "execution_count": 7,
   "metadata": {},
   "outputs": [
    {
     "data": {
      "text/plain": [
       "video\n",
       "False    10348\n",
       "True         3\n",
       "Name: count, dtype: int64"
      ]
     },
     "execution_count": 7,
     "metadata": {},
     "output_type": "execute_result"
    }
   ],
   "source": [
    "df[\"video\"].value_counts()"
   ]
  },
  {
   "cell_type": "code",
   "execution_count": 8,
   "metadata": {},
   "outputs": [
    {
     "data": {
      "text/plain": [
       "status\n",
       "Released           10335\n",
       "Post Production        6\n",
       "Rumored                4\n",
       "In Production          4\n",
       "Planned                1\n",
       "Name: count, dtype: int64"
      ]
     },
     "execution_count": 8,
     "metadata": {},
     "output_type": "execute_result"
    }
   ],
   "source": [
    "df[\"status\"].value_counts()"
   ]
  },
  {
   "cell_type": "markdown",
   "metadata": {},
   "source": [
    "The columns 'adult', 'status' and 'video' have predominantly one value, so let's remove them. Also, let's remove 'poster_path', 'hopepage' (too many null values), 'imdb_id', 'spoken_languages', 'overview' and 'tagline'\n",
    "\n",
    "Apart from this, let's drop not much useful for recommender columns"
   ]
  },
  {
   "cell_type": "code",
   "execution_count": 9,
   "metadata": {},
   "outputs": [
    {
     "data": {
      "text/html": [
       "<div>\n",
       "<style scoped>\n",
       "    .dataframe tbody tr th:only-of-type {\n",
       "        vertical-align: middle;\n",
       "    }\n",
       "\n",
       "    .dataframe tbody tr th {\n",
       "        vertical-align: top;\n",
       "    }\n",
       "\n",
       "    .dataframe thead th {\n",
       "        text-align: right;\n",
       "    }\n",
       "</style>\n",
       "<table border=\"1\" class=\"dataframe\">\n",
       "  <thead>\n",
       "    <tr style=\"text-align: right;\">\n",
       "      <th></th>\n",
       "      <th>0</th>\n",
       "      <th>1</th>\n",
       "      <th>2</th>\n",
       "    </tr>\n",
       "  </thead>\n",
       "  <tbody>\n",
       "    <tr>\n",
       "      <th>belongs_to_collection</th>\n",
       "      <td>{'id': 10194, 'name': 'Toy Story Collection', ...</td>\n",
       "      <td>NaN</td>\n",
       "      <td>{'id': 119050, 'name': 'Grumpy Old Men Collect...</td>\n",
       "    </tr>\n",
       "    <tr>\n",
       "      <th>budget</th>\n",
       "      <td>30000000</td>\n",
       "      <td>65000000</td>\n",
       "      <td>0</td>\n",
       "    </tr>\n",
       "    <tr>\n",
       "      <th>genres</th>\n",
       "      <td>[{'id': 16, 'name': 'Animation'}, {'id': 35, '...</td>\n",
       "      <td>[{'id': 12, 'name': 'Adventure'}, {'id': 14, '...</td>\n",
       "      <td>[{'id': 10749, 'name': 'Romance'}, {'id': 35, ...</td>\n",
       "    </tr>\n",
       "    <tr>\n",
       "      <th>id</th>\n",
       "      <td>862</td>\n",
       "      <td>8844</td>\n",
       "      <td>15602</td>\n",
       "    </tr>\n",
       "    <tr>\n",
       "      <th>popularity</th>\n",
       "      <td>21.946943</td>\n",
       "      <td>17.015539</td>\n",
       "      <td>11.7129</td>\n",
       "    </tr>\n",
       "    <tr>\n",
       "      <th>release_date</th>\n",
       "      <td>1995-10-30</td>\n",
       "      <td>1995-12-15</td>\n",
       "      <td>1995-12-22</td>\n",
       "    </tr>\n",
       "    <tr>\n",
       "      <th>revenue</th>\n",
       "      <td>373554033.0</td>\n",
       "      <td>262797249.0</td>\n",
       "      <td>0.0</td>\n",
       "    </tr>\n",
       "    <tr>\n",
       "      <th>runtime</th>\n",
       "      <td>81.0</td>\n",
       "      <td>104.0</td>\n",
       "      <td>101.0</td>\n",
       "    </tr>\n",
       "    <tr>\n",
       "      <th>title</th>\n",
       "      <td>Toy Story</td>\n",
       "      <td>Jumanji</td>\n",
       "      <td>Grumpier Old Men</td>\n",
       "    </tr>\n",
       "    <tr>\n",
       "      <th>vote_average</th>\n",
       "      <td>7.7</td>\n",
       "      <td>6.9</td>\n",
       "      <td>6.5</td>\n",
       "    </tr>\n",
       "    <tr>\n",
       "      <th>vote_count</th>\n",
       "      <td>5415.0</td>\n",
       "      <td>2413.0</td>\n",
       "      <td>92.0</td>\n",
       "    </tr>\n",
       "  </tbody>\n",
       "</table>\n",
       "</div>"
      ],
      "text/plain": [
       "                                                                       0  \\\n",
       "belongs_to_collection  {'id': 10194, 'name': 'Toy Story Collection', ...   \n",
       "budget                                                          30000000   \n",
       "genres                 [{'id': 16, 'name': 'Animation'}, {'id': 35, '...   \n",
       "id                                                                   862   \n",
       "popularity                                                     21.946943   \n",
       "release_date                                                  1995-10-30   \n",
       "revenue                                                      373554033.0   \n",
       "runtime                                                             81.0   \n",
       "title                                                          Toy Story   \n",
       "vote_average                                                         7.7   \n",
       "vote_count                                                        5415.0   \n",
       "\n",
       "                                                                       1  \\\n",
       "belongs_to_collection                                                NaN   \n",
       "budget                                                          65000000   \n",
       "genres                 [{'id': 12, 'name': 'Adventure'}, {'id': 14, '...   \n",
       "id                                                                  8844   \n",
       "popularity                                                     17.015539   \n",
       "release_date                                                  1995-12-15   \n",
       "revenue                                                      262797249.0   \n",
       "runtime                                                            104.0   \n",
       "title                                                            Jumanji   \n",
       "vote_average                                                         6.9   \n",
       "vote_count                                                        2413.0   \n",
       "\n",
       "                                                                       2  \n",
       "belongs_to_collection  {'id': 119050, 'name': 'Grumpy Old Men Collect...  \n",
       "budget                                                                 0  \n",
       "genres                 [{'id': 10749, 'name': 'Romance'}, {'id': 35, ...  \n",
       "id                                                                 15602  \n",
       "popularity                                                       11.7129  \n",
       "release_date                                                  1995-12-22  \n",
       "revenue                                                              0.0  \n",
       "runtime                                                            101.0  \n",
       "title                                                   Grumpier Old Men  \n",
       "vote_average                                                         6.5  \n",
       "vote_count                                                          92.0  "
      ]
     },
     "execution_count": 9,
     "metadata": {},
     "output_type": "execute_result"
    }
   ],
   "source": [
    "df = df.drop(\n",
    "    [\n",
    "        \"adult\",\n",
    "        \"status\",\n",
    "        \"video\",\n",
    "        \"poster_path\",\n",
    "        \"original_title\",\n",
    "        \"homepage\",\n",
    "        \"imdb_id\",\n",
    "        \"spoken_languages\",\n",
    "        \"overview\",\n",
    "        \"tagline\",\n",
    "        \"original_language\",\n",
    "        \"production_companies\",\n",
    "        \"production_countries\"\n",
    "    ],\n",
    "    axis=1,\n",
    ")\n",
    "df.head(3).transpose()"
   ]
  },
  {
   "cell_type": "markdown",
   "metadata": {},
   "source": [
    "Now let's have a look at dtypes"
   ]
  },
  {
   "cell_type": "markdown",
   "metadata": {},
   "source": [
    "## Converting dtypes to more appropriate ones"
   ]
  },
  {
   "cell_type": "code",
   "execution_count": 10,
   "metadata": {},
   "outputs": [
    {
     "data": {
      "text/plain": [
       "belongs_to_collection     object\n",
       "budget                    object\n",
       "genres                    object\n",
       "id                        object\n",
       "popularity                object\n",
       "release_date              object\n",
       "revenue                  float64\n",
       "runtime                  float64\n",
       "title                     object\n",
       "vote_average             float64\n",
       "vote_count               float64\n",
       "dtype: object"
      ]
     },
     "execution_count": 10,
     "metadata": {},
     "output_type": "execute_result"
    }
   ],
   "source": [
    "df.dtypes"
   ]
  },
  {
   "cell_type": "markdown",
   "metadata": {},
   "source": [
    "First of all, let's handle 'release_date' column"
   ]
  },
  {
   "cell_type": "code",
   "execution_count": 11,
   "metadata": {},
   "outputs": [
    {
     "name": "stdout",
     "output_type": "stream",
     "text": [
      "Number of rows with bad date values: 2\n"
     ]
    }
   ],
   "source": [
    "# Convert 'release_date' column to datetime type\n",
    "df['release_date'] = pd.to_datetime(df['release_date'], errors='coerce')\n",
    "# Count the number of rows with bad date values\n",
    "bad_date_count = df['release_date'].isnull().sum()\n",
    "print(f\"Number of rows with bad date values: {bad_date_count}\")"
   ]
  },
  {
   "cell_type": "markdown",
   "metadata": {},
   "source": [
    "Since 90 rows compared to 45,000 in total is nothing, we can freely remove them"
   ]
  },
  {
   "cell_type": "code",
   "execution_count": 12,
   "metadata": {},
   "outputs": [
    {
     "name": "stdout",
     "output_type": "stream",
     "text": [
      "Number of rows with bad date values: 0\n"
     ]
    }
   ],
   "source": [
    "# Remove rows with null or NaT values\n",
    "df = df.dropna(subset=['release_date'])\n",
    "bad_date_count = df['release_date'].isnull().sum()\n",
    "print(f\"Number of rows with bad date values: {bad_date_count}\")"
   ]
  },
  {
   "cell_type": "markdown",
   "metadata": {},
   "source": [
    "The column 'budget' contains non-numerical values like '/ff9qCepilowshEtG2GYWwzt2bs4.jpg'. Let's remove them"
   ]
  },
  {
   "cell_type": "code",
   "execution_count": 13,
   "metadata": {},
   "outputs": [],
   "source": [
    "# Clean 'budget' column to remove non-numeric characters\n",
    "df[\"budget\"] = df[\"budget\"].str.replace(r\"\\D\", \"\", regex=True)"
   ]
  },
  {
   "cell_type": "markdown",
   "metadata": {},
   "source": [
    "I don't like that columns with whole numbers like 'runtime' or 'vote_count' have dtype set to float. Let's change that"
   ]
  },
  {
   "cell_type": "code",
   "execution_count": 14,
   "metadata": {},
   "outputs": [
    {
     "name": "stdout",
     "output_type": "stream",
     "text": [
      "belongs_to_collection            object\n",
      "budget                            int64\n",
      "genres                           object\n",
      "id                                int32\n",
      "popularity                      float64\n",
      "release_date             datetime64[ns]\n",
      "revenue                           int64\n",
      "runtime                           int32\n",
      "title                            object\n",
      "vote_average                    float64\n",
      "vote_count                        int32\n",
      "dtype: object\n"
     ]
    }
   ],
   "source": [
    "# Specify columns and their new data types\n",
    "dict_columns_to_convert = {\n",
    "    \"budget\": \"int64\",\n",
    "    \"revenue\": \"int64\",\n",
    "    \"runtime\": \"int\",\n",
    "    \"vote_count\": \"int\",\n",
    "    \"popularity\": \"float\",\n",
    "    \"id\": \"int\"\n",
    "}\n",
    "# Clean 'budget' column to remove non-numeric characters\n",
    "df[\"budget\"] = df[\"budget\"].str.replace(r\"\\D\", \"\", regex=True)\n",
    "# Fill NaN values with 0\n",
    "cols_to_fill = list(dict_columns_to_convert.keys())\n",
    "df[cols_to_fill] = df[cols_to_fill].fillna(0)\n",
    "# Convert columns to integer type\n",
    "df = df.astype(dict_columns_to_convert)\n",
    "# Check the data types of the DataFrame\n",
    "print(df.dtypes)"
   ]
  },
  {
   "cell_type": "markdown",
   "metadata": {},
   "source": [
    "## Handling of 'budget', 'revenue', and 'popularity' columns"
   ]
  },
  {
   "cell_type": "markdown",
   "metadata": {},
   "source": [
    "Columns 'budget' and 'revenue' have too big values in them while 'popularity' column has too many digits after decimal point. Let's change this"
   ]
  },
  {
   "cell_type": "code",
   "execution_count": 15,
   "metadata": {},
   "outputs": [
    {
     "data": {
      "text/html": [
       "<div>\n",
       "<style scoped>\n",
       "    .dataframe tbody tr th:only-of-type {\n",
       "        vertical-align: middle;\n",
       "    }\n",
       "\n",
       "    .dataframe tbody tr th {\n",
       "        vertical-align: top;\n",
       "    }\n",
       "\n",
       "    .dataframe thead th {\n",
       "        text-align: right;\n",
       "    }\n",
       "</style>\n",
       "<table border=\"1\" class=\"dataframe\">\n",
       "  <thead>\n",
       "    <tr style=\"text-align: right;\">\n",
       "      <th></th>\n",
       "      <th>belongs_to_collection</th>\n",
       "      <th>budget</th>\n",
       "      <th>genres</th>\n",
       "      <th>id</th>\n",
       "      <th>popularity</th>\n",
       "      <th>release_date</th>\n",
       "      <th>revenue</th>\n",
       "      <th>runtime</th>\n",
       "      <th>title</th>\n",
       "      <th>vote_average</th>\n",
       "      <th>vote_count</th>\n",
       "    </tr>\n",
       "  </thead>\n",
       "  <tbody>\n",
       "    <tr>\n",
       "      <th>0</th>\n",
       "      <td>{'id': 10194, 'name': 'Toy Story Collection', ...</td>\n",
       "      <td>30.0</td>\n",
       "      <td>[{'id': 16, 'name': 'Animation'}, {'id': 35, '...</td>\n",
       "      <td>862</td>\n",
       "      <td>21.95</td>\n",
       "      <td>1995-10-30</td>\n",
       "      <td>373.55</td>\n",
       "      <td>81</td>\n",
       "      <td>Toy Story</td>\n",
       "      <td>7.7</td>\n",
       "      <td>5415</td>\n",
       "    </tr>\n",
       "    <tr>\n",
       "      <th>1</th>\n",
       "      <td>NaN</td>\n",
       "      <td>65.0</td>\n",
       "      <td>[{'id': 12, 'name': 'Adventure'}, {'id': 14, '...</td>\n",
       "      <td>8844</td>\n",
       "      <td>17.02</td>\n",
       "      <td>1995-12-15</td>\n",
       "      <td>262.80</td>\n",
       "      <td>104</td>\n",
       "      <td>Jumanji</td>\n",
       "      <td>6.9</td>\n",
       "      <td>2413</td>\n",
       "    </tr>\n",
       "    <tr>\n",
       "      <th>2</th>\n",
       "      <td>{'id': 119050, 'name': 'Grumpy Old Men Collect...</td>\n",
       "      <td>0.0</td>\n",
       "      <td>[{'id': 10749, 'name': 'Romance'}, {'id': 35, ...</td>\n",
       "      <td>15602</td>\n",
       "      <td>11.71</td>\n",
       "      <td>1995-12-22</td>\n",
       "      <td>0.00</td>\n",
       "      <td>101</td>\n",
       "      <td>Grumpier Old Men</td>\n",
       "      <td>6.5</td>\n",
       "      <td>92</td>\n",
       "    </tr>\n",
       "  </tbody>\n",
       "</table>\n",
       "</div>"
      ],
      "text/plain": [
       "                               belongs_to_collection  budget  \\\n",
       "0  {'id': 10194, 'name': 'Toy Story Collection', ...    30.0   \n",
       "1                                                NaN    65.0   \n",
       "2  {'id': 119050, 'name': 'Grumpy Old Men Collect...     0.0   \n",
       "\n",
       "                                              genres     id  popularity  \\\n",
       "0  [{'id': 16, 'name': 'Animation'}, {'id': 35, '...    862       21.95   \n",
       "1  [{'id': 12, 'name': 'Adventure'}, {'id': 14, '...   8844       17.02   \n",
       "2  [{'id': 10749, 'name': 'Romance'}, {'id': 35, ...  15602       11.71   \n",
       "\n",
       "  release_date  revenue  runtime             title  vote_average  vote_count  \n",
       "0   1995-10-30   373.55       81         Toy Story           7.7        5415  \n",
       "1   1995-12-15   262.80      104           Jumanji           6.9        2413  \n",
       "2   1995-12-22     0.00      101  Grumpier Old Men           6.5          92  "
      ]
     },
     "execution_count": 15,
     "metadata": {},
     "output_type": "execute_result"
    }
   ],
   "source": [
    "# Divide 'budget' and 'revenue' columns by million and round to 2 decimal places\n",
    "df['budget'] = (df['budget'] / 1000000).round(2)\n",
    "df['revenue'] = (df['revenue'] / 1000000).round(2)\n",
    "\n",
    "# Round 'popularity' column to 2 decimal places\n",
    "df['popularity'] = df['popularity'].round(2)\n",
    "df.head(3)"
   ]
  },
  {
   "cell_type": "markdown",
   "metadata": {},
   "source": [
    "## Working with 'belongs_to_collection' column"
   ]
  },
  {
   "cell_type": "code",
   "execution_count": 16,
   "metadata": {},
   "outputs": [],
   "source": [
    "def extract_franchise_name(x):\n",
    "    try:\n",
    "        # Use literal_eval to safely evaluate the string as a Python dictionary\n",
    "        # Extract the 'name' value from the dictionary\n",
    "        return literal_eval(x)[\"name\"]\n",
    "    except (ValueError, TypeError):\n",
    "        return None\n",
    "\n",
    "# Apply the extract_franchise_name function to each value in the 'belongs_to_collection' column\n",
    "df[\"franchise\"] = df[\"belongs_to_collection\"].apply(extract_franchise_name).str.strip()\n",
    "# Remove the word 'Collection' (case-insensitive) from the end of each franchise name\n",
    "df[\"franchise\"] = df[\"franchise\"].str.replace(r\"[Cc]ollection$\", \"\", regex=True)\n",
    "# Remove trailing spaces before and after the string\n",
    "df[\"franchise\"] = df[\"franchise\"].str.strip()\n",
    "df = df.drop([\"belongs_to_collection\"], axis=1)"
   ]
  },
  {
   "cell_type": "code",
   "execution_count": 17,
   "metadata": {},
   "outputs": [
    {
     "data": {
      "text/plain": [
       "franchise\n",
       "James Bond               26\n",
       "Dragon Ball Z (Movie)    15\n",
       "Pokémon                  12\n",
       "Friday the 13th          12\n",
       "Fantozzi                 10\n",
       "Name: count, dtype: int64"
      ]
     },
     "execution_count": 17,
     "metadata": {},
     "output_type": "execute_result"
    }
   ],
   "source": [
    "df[\"franchise\"].value_counts().head()"
   ]
  },
  {
   "cell_type": "markdown",
   "metadata": {},
   "source": [
    "## Working with 'genres' column"
   ]
  },
  {
   "cell_type": "code",
   "execution_count": 18,
   "metadata": {},
   "outputs": [
    {
     "data": {
      "text/html": [
       "<div>\n",
       "<style scoped>\n",
       "    .dataframe tbody tr th:only-of-type {\n",
       "        vertical-align: middle;\n",
       "    }\n",
       "\n",
       "    .dataframe tbody tr th {\n",
       "        vertical-align: top;\n",
       "    }\n",
       "\n",
       "    .dataframe thead th {\n",
       "        text-align: right;\n",
       "    }\n",
       "</style>\n",
       "<table border=\"1\" class=\"dataframe\">\n",
       "  <thead>\n",
       "    <tr style=\"text-align: right;\">\n",
       "      <th></th>\n",
       "      <th>title</th>\n",
       "      <th>genres</th>\n",
       "    </tr>\n",
       "  </thead>\n",
       "  <tbody>\n",
       "    <tr>\n",
       "      <th>0</th>\n",
       "      <td>Toy Story</td>\n",
       "      <td>[Animation, Comedy, Family]</td>\n",
       "    </tr>\n",
       "    <tr>\n",
       "      <th>1</th>\n",
       "      <td>Jumanji</td>\n",
       "      <td>[Adventure, Family, Fantasy]</td>\n",
       "    </tr>\n",
       "    <tr>\n",
       "      <th>2</th>\n",
       "      <td>Grumpier Old Men</td>\n",
       "      <td>[Comedy, Romance]</td>\n",
       "    </tr>\n",
       "  </tbody>\n",
       "</table>\n",
       "</div>"
      ],
      "text/plain": [
       "              title                        genres\n",
       "0         Toy Story   [Animation, Comedy, Family]\n",
       "1           Jumanji  [Adventure, Family, Fantasy]\n",
       "2  Grumpier Old Men             [Comedy, Romance]"
      ]
     },
     "execution_count": 18,
     "metadata": {},
     "output_type": "execute_result"
    }
   ],
   "source": [
    "# Convert the stringified JSON into a list of dictionaries\n",
    "df[\"genres\"] = df[\"genres\"].apply(\n",
    "    lambda x: literal_eval(x.replace(\"'\", '\"')) if isinstance(x, str) else []\n",
    ")\n",
    "# Extract the names of genres into a list and sort them alphabetically\n",
    "df[\"genres\"] = df[\"genres\"].apply(\n",
    "    lambda x: sorted([genre[\"name\"] for genre in x]) if isinstance(x, list) else []\n",
    ")\n",
    "# Display the DataFrame with the extracted genre names\n",
    "df[[\"title\", \"genres\"]].head(3)"
   ]
  },
  {
   "cell_type": "code",
   "execution_count": 19,
   "metadata": {},
   "outputs": [
    {
     "name": "stdout",
     "output_type": "stream",
     "text": [
      "There are 20 unique genres.\n",
      "{'Crime', 'Adventure', 'Mystery', 'Science Fiction', 'Foreign', 'Action', 'Animation', 'Documentary', 'History', 'TV Movie', 'Music', 'Drama', 'Romance', 'Western', 'Fantasy', 'Horror', 'War', 'Thriller', 'Comedy', 'Family'}\n"
     ]
    }
   ],
   "source": [
    "# Flatten the list of genre names\n",
    "flat_genre_names = [genre for sublist in df[\"genres\"] for genre in sublist]\n",
    "# Get the unique genre names\n",
    "unique_genre_names = set(flat_genre_names)\n",
    "# Print the unique genre names\n",
    "print(f\"There are {len(unique_genre_names)} unique genres.\")\n",
    "print(unique_genre_names)"
   ]
  },
  {
   "cell_type": "markdown",
   "metadata": {},
   "source": [
    "We can see that 'genres' colomn has faulty data like 'Carousel Productions' or 'Vision View Entertainment', which sound like production companies, not genres. Thus, let's remove such values from the column"
   ]
  },
  {
   "cell_type": "code",
   "execution_count": 20,
   "metadata": {},
   "outputs": [],
   "source": [
    "# Define the list of valid genre names\n",
    "valid_genres = {\n",
    "    'Action', 'Adventure', 'Animation', 'Comedy', 'Crime', 'Documentary',\n",
    "    'Drama', 'Family', 'Fantasy', 'History', 'Horror', 'Mystery',\n",
    "    'Romance', 'Science Fiction', 'Thriller', 'War', 'Western'\n",
    "}\n",
    "# Filter the genre_names column to include only the valid genres\n",
    "df[\"genres\"] = df[\"genres\"].apply(lambda x: [genre for genre in x if genre in valid_genres])"
   ]
  },
  {
   "cell_type": "markdown",
   "metadata": {},
   "source": [
    "Now let's check again"
   ]
  },
  {
   "cell_type": "code",
   "execution_count": 21,
   "metadata": {},
   "outputs": [
    {
     "name": "stdout",
     "output_type": "stream",
     "text": [
      "There are 17 unique genres.\n",
      "{'War', 'Science Fiction', 'Crime', 'Animation', 'Mystery', 'Thriller', 'Adventure', 'Drama', 'Horror', 'Comedy', 'Documentary', 'Romance', 'Western', 'History', 'Fantasy', 'Family', 'Action'}\n"
     ]
    }
   ],
   "source": [
    "flat_genre_names = [genre for sublist in df[\"genres\"] for genre in sublist]\n",
    "unique_genre_names = set(flat_genre_names)\n",
    "print(f\"There are {len(unique_genre_names)} unique genres.\")\n",
    "print(unique_genre_names)"
   ]
  },
  {
   "cell_type": "code",
   "execution_count": 22,
   "metadata": {},
   "outputs": [
    {
     "data": {
      "text/plain": [
       "genres\n",
       "[Comedy]                    808\n",
       "[Drama]                     785\n",
       "[Comedy, Drama]             423\n",
       "[Drama, Romance]            398\n",
       "[Comedy, Drama, Romance]    355\n",
       "[Comedy, Romance]           298\n",
       "[Horror, Thriller]          262\n",
       "Name: count, dtype: int64"
      ]
     },
     "execution_count": 22,
     "metadata": {},
     "output_type": "execute_result"
    }
   ],
   "source": [
    "df[\"genres\"].value_counts().head(7)"
   ]
  },
  {
   "cell_type": "markdown",
   "metadata": {},
   "source": [
    "One movie can belong to many genres and one genre can be applied to many movies. It's a many-to-many relationship. Ideally, this kind of relationship is supposed to be broken into two 1:M relationships and connected with an intermidiate or junction table. However, because\n",
    "\n",
    "- it's a project to show my knowledge mainly of writing SQL queries\n",
    "- I'm applying to a junior data analyst position, and, at that role, you're not supposed to design databases\n",
    "- preparation part is already too long\n",
    "- maximum string length for genres is known (80 symbols for the movie with the title 'Yu-Gi-Oh')\n",
    "\n",
    "I'll keep things simple and connect genre names by comma."
   ]
  },
  {
   "cell_type": "code",
   "execution_count": 23,
   "metadata": {},
   "outputs": [],
   "source": [
    "# Convert the list of genres into a string with comma as a delimiter\n",
    "df[\"genres\"] = df[\"genres\"].apply(lambda x: \", \".join(x) if x else None)"
   ]
  },
  {
   "cell_type": "code",
   "execution_count": 24,
   "metadata": {},
   "outputs": [
    {
     "data": {
      "text/plain": [
       "genres\n",
       "Comedy                    808\n",
       "Drama                     785\n",
       "Comedy, Drama             423\n",
       "Drama, Romance            398\n",
       "Comedy, Drama, Romance    355\n",
       "Comedy, Romance           298\n",
       "Horror, Thriller          262\n",
       "Name: count, dtype: int64"
      ]
     },
     "execution_count": 24,
     "metadata": {},
     "output_type": "execute_result"
    }
   ],
   "source": [
    "df[\"genres\"].value_counts().head(7)"
   ]
  },
  {
   "cell_type": "code",
   "execution_count": 25,
   "metadata": {},
   "outputs": [
    {
     "data": {
      "text/html": [
       "<div>\n",
       "<style scoped>\n",
       "    .dataframe tbody tr th:only-of-type {\n",
       "        vertical-align: middle;\n",
       "    }\n",
       "\n",
       "    .dataframe tbody tr th {\n",
       "        vertical-align: top;\n",
       "    }\n",
       "\n",
       "    .dataframe thead th {\n",
       "        text-align: right;\n",
       "    }\n",
       "</style>\n",
       "<table border=\"1\" class=\"dataframe\">\n",
       "  <thead>\n",
       "    <tr style=\"text-align: right;\">\n",
       "      <th></th>\n",
       "      <th>0</th>\n",
       "      <th>1</th>\n",
       "      <th>2</th>\n",
       "      <th>4</th>\n",
       "      <th>5</th>\n",
       "    </tr>\n",
       "  </thead>\n",
       "  <tbody>\n",
       "    <tr>\n",
       "      <th>budget</th>\n",
       "      <td>30.0</td>\n",
       "      <td>65.0</td>\n",
       "      <td>0.0</td>\n",
       "      <td>0.0</td>\n",
       "      <td>60.0</td>\n",
       "    </tr>\n",
       "    <tr>\n",
       "      <th>genres</th>\n",
       "      <td>Animation, Comedy, Family</td>\n",
       "      <td>Adventure, Family, Fantasy</td>\n",
       "      <td>Comedy, Romance</td>\n",
       "      <td>Comedy</td>\n",
       "      <td>Action, Crime, Drama, Thriller</td>\n",
       "    </tr>\n",
       "    <tr>\n",
       "      <th>id</th>\n",
       "      <td>862</td>\n",
       "      <td>8844</td>\n",
       "      <td>15602</td>\n",
       "      <td>11862</td>\n",
       "      <td>949</td>\n",
       "    </tr>\n",
       "    <tr>\n",
       "      <th>popularity</th>\n",
       "      <td>21.95</td>\n",
       "      <td>17.02</td>\n",
       "      <td>11.71</td>\n",
       "      <td>8.39</td>\n",
       "      <td>17.92</td>\n",
       "    </tr>\n",
       "    <tr>\n",
       "      <th>release_date</th>\n",
       "      <td>1995-10-30 00:00:00</td>\n",
       "      <td>1995-12-15 00:00:00</td>\n",
       "      <td>1995-12-22 00:00:00</td>\n",
       "      <td>1995-02-10 00:00:00</td>\n",
       "      <td>1995-12-15 00:00:00</td>\n",
       "    </tr>\n",
       "    <tr>\n",
       "      <th>revenue</th>\n",
       "      <td>373.55</td>\n",
       "      <td>262.8</td>\n",
       "      <td>0.0</td>\n",
       "      <td>76.58</td>\n",
       "      <td>187.44</td>\n",
       "    </tr>\n",
       "    <tr>\n",
       "      <th>runtime</th>\n",
       "      <td>81</td>\n",
       "      <td>104</td>\n",
       "      <td>101</td>\n",
       "      <td>106</td>\n",
       "      <td>170</td>\n",
       "    </tr>\n",
       "    <tr>\n",
       "      <th>title</th>\n",
       "      <td>Toy Story</td>\n",
       "      <td>Jumanji</td>\n",
       "      <td>Grumpier Old Men</td>\n",
       "      <td>Father of the Bride Part II</td>\n",
       "      <td>Heat</td>\n",
       "    </tr>\n",
       "    <tr>\n",
       "      <th>vote_average</th>\n",
       "      <td>7.7</td>\n",
       "      <td>6.9</td>\n",
       "      <td>6.5</td>\n",
       "      <td>5.7</td>\n",
       "      <td>7.7</td>\n",
       "    </tr>\n",
       "    <tr>\n",
       "      <th>vote_count</th>\n",
       "      <td>5415</td>\n",
       "      <td>2413</td>\n",
       "      <td>92</td>\n",
       "      <td>173</td>\n",
       "      <td>1886</td>\n",
       "    </tr>\n",
       "    <tr>\n",
       "      <th>franchise</th>\n",
       "      <td>Toy Story</td>\n",
       "      <td>None</td>\n",
       "      <td>Grumpy Old Men</td>\n",
       "      <td>Father of the Bride</td>\n",
       "      <td>None</td>\n",
       "    </tr>\n",
       "  </tbody>\n",
       "</table>\n",
       "</div>"
      ],
      "text/plain": [
       "                                      0                           1  \\\n",
       "budget                             30.0                        65.0   \n",
       "genres        Animation, Comedy, Family  Adventure, Family, Fantasy   \n",
       "id                                  862                        8844   \n",
       "popularity                        21.95                       17.02   \n",
       "release_date        1995-10-30 00:00:00         1995-12-15 00:00:00   \n",
       "revenue                          373.55                       262.8   \n",
       "runtime                              81                         104   \n",
       "title                         Toy Story                     Jumanji   \n",
       "vote_average                        7.7                         6.9   \n",
       "vote_count                         5415                        2413   \n",
       "franchise                     Toy Story                        None   \n",
       "\n",
       "                                2                            4  \\\n",
       "budget                        0.0                          0.0   \n",
       "genres            Comedy, Romance                       Comedy   \n",
       "id                          15602                        11862   \n",
       "popularity                  11.71                         8.39   \n",
       "release_date  1995-12-22 00:00:00          1995-02-10 00:00:00   \n",
       "revenue                       0.0                        76.58   \n",
       "runtime                       101                          106   \n",
       "title            Grumpier Old Men  Father of the Bride Part II   \n",
       "vote_average                  6.5                          5.7   \n",
       "vote_count                     92                          173   \n",
       "franchise          Grumpy Old Men          Father of the Bride   \n",
       "\n",
       "                                           5  \n",
       "budget                                  60.0  \n",
       "genres        Action, Crime, Drama, Thriller  \n",
       "id                                       949  \n",
       "popularity                             17.92  \n",
       "release_date             1995-12-15 00:00:00  \n",
       "revenue                               187.44  \n",
       "runtime                                  170  \n",
       "title                                   Heat  \n",
       "vote_average                             7.7  \n",
       "vote_count                              1886  \n",
       "franchise                               None  "
      ]
     },
     "execution_count": 25,
     "metadata": {},
     "output_type": "execute_result"
    }
   ],
   "source": [
    "df.head().transpose()"
   ]
  },
  {
   "cell_type": "markdown",
   "metadata": {},
   "source": [
    "Time to rearrange columns a little bit because I'm not happy with the order of columns"
   ]
  },
  {
   "cell_type": "markdown",
   "metadata": {},
   "source": [
    "## Changing column order"
   ]
  },
  {
   "cell_type": "code",
   "execution_count": 26,
   "metadata": {},
   "outputs": [
    {
     "data": {
      "text/html": [
       "<div>\n",
       "<style scoped>\n",
       "    .dataframe tbody tr th:only-of-type {\n",
       "        vertical-align: middle;\n",
       "    }\n",
       "\n",
       "    .dataframe tbody tr th {\n",
       "        vertical-align: top;\n",
       "    }\n",
       "\n",
       "    .dataframe thead th {\n",
       "        text-align: right;\n",
       "    }\n",
       "</style>\n",
       "<table border=\"1\" class=\"dataframe\">\n",
       "  <thead>\n",
       "    <tr style=\"text-align: right;\">\n",
       "      <th></th>\n",
       "      <th>0</th>\n",
       "      <th>1</th>\n",
       "      <th>2</th>\n",
       "    </tr>\n",
       "  </thead>\n",
       "  <tbody>\n",
       "    <tr>\n",
       "      <th>id</th>\n",
       "      <td>862</td>\n",
       "      <td>8844</td>\n",
       "      <td>15602</td>\n",
       "    </tr>\n",
       "    <tr>\n",
       "      <th>title</th>\n",
       "      <td>Toy Story</td>\n",
       "      <td>Jumanji</td>\n",
       "      <td>Grumpier Old Men</td>\n",
       "    </tr>\n",
       "    <tr>\n",
       "      <th>franchise</th>\n",
       "      <td>Toy Story</td>\n",
       "      <td>None</td>\n",
       "      <td>Grumpy Old Men</td>\n",
       "    </tr>\n",
       "    <tr>\n",
       "      <th>release_date</th>\n",
       "      <td>1995-10-30 00:00:00</td>\n",
       "      <td>1995-12-15 00:00:00</td>\n",
       "      <td>1995-12-22 00:00:00</td>\n",
       "    </tr>\n",
       "    <tr>\n",
       "      <th>runtime</th>\n",
       "      <td>81</td>\n",
       "      <td>104</td>\n",
       "      <td>101</td>\n",
       "    </tr>\n",
       "    <tr>\n",
       "      <th>genres</th>\n",
       "      <td>Animation, Comedy, Family</td>\n",
       "      <td>Adventure, Family, Fantasy</td>\n",
       "      <td>Comedy, Romance</td>\n",
       "    </tr>\n",
       "    <tr>\n",
       "      <th>budget</th>\n",
       "      <td>30.0</td>\n",
       "      <td>65.0</td>\n",
       "      <td>0.0</td>\n",
       "    </tr>\n",
       "    <tr>\n",
       "      <th>revenue</th>\n",
       "      <td>373.55</td>\n",
       "      <td>262.8</td>\n",
       "      <td>0.0</td>\n",
       "    </tr>\n",
       "    <tr>\n",
       "      <th>popularity</th>\n",
       "      <td>21.95</td>\n",
       "      <td>17.02</td>\n",
       "      <td>11.71</td>\n",
       "    </tr>\n",
       "    <tr>\n",
       "      <th>vote_average</th>\n",
       "      <td>7.7</td>\n",
       "      <td>6.9</td>\n",
       "      <td>6.5</td>\n",
       "    </tr>\n",
       "    <tr>\n",
       "      <th>vote_count</th>\n",
       "      <td>5415</td>\n",
       "      <td>2413</td>\n",
       "      <td>92</td>\n",
       "    </tr>\n",
       "  </tbody>\n",
       "</table>\n",
       "</div>"
      ],
      "text/plain": [
       "                                      0                           1  \\\n",
       "id                                  862                        8844   \n",
       "title                         Toy Story                     Jumanji   \n",
       "franchise                     Toy Story                        None   \n",
       "release_date        1995-10-30 00:00:00         1995-12-15 00:00:00   \n",
       "runtime                              81                         104   \n",
       "genres        Animation, Comedy, Family  Adventure, Family, Fantasy   \n",
       "budget                             30.0                        65.0   \n",
       "revenue                          373.55                       262.8   \n",
       "popularity                        21.95                       17.02   \n",
       "vote_average                        7.7                         6.9   \n",
       "vote_count                         5415                        2413   \n",
       "\n",
       "                                2  \n",
       "id                          15602  \n",
       "title            Grumpier Old Men  \n",
       "franchise          Grumpy Old Men  \n",
       "release_date  1995-12-22 00:00:00  \n",
       "runtime                       101  \n",
       "genres            Comedy, Romance  \n",
       "budget                        0.0  \n",
       "revenue                       0.0  \n",
       "popularity                  11.71  \n",
       "vote_average                  6.5  \n",
       "vote_count                     92  "
      ]
     },
     "execution_count": 26,
     "metadata": {},
     "output_type": "execute_result"
    }
   ],
   "source": [
    "new_cols_order = [\n",
    "    \"id\",\n",
    "    \"title\",\n",
    "    \"franchise\",\n",
    "    \"release_date\",\n",
    "    \"runtime\",\n",
    "    \"genres\",\n",
    "    \"budget\",\n",
    "    \"revenue\",\n",
    "    \"popularity\",\n",
    "    \"vote_average\",\n",
    "    \"vote_count\"\n",
    "]\n",
    "df = df[new_cols_order]\n",
    "df.head(3).transpose()"
   ]
  },
  {
   "cell_type": "code",
   "execution_count": 27,
   "metadata": {},
   "outputs": [
    {
     "name": "stdout",
     "output_type": "stream",
     "text": [
      "<class 'pandas.core.frame.DataFrame'>\n",
      "Index: 10349 entries, 0 to 45441\n",
      "Data columns (total 11 columns):\n",
      " #   Column        Non-Null Count  Dtype         \n",
      "---  ------        --------------  -----         \n",
      " 0   id            10349 non-null  int32         \n",
      " 1   title         10349 non-null  object        \n",
      " 2   franchise     2135 non-null   object        \n",
      " 3   release_date  10349 non-null  datetime64[ns]\n",
      " 4   runtime       10349 non-null  int32         \n",
      " 5   genres        10332 non-null  object        \n",
      " 6   budget        10349 non-null  float64       \n",
      " 7   revenue       10349 non-null  float64       \n",
      " 8   popularity    10349 non-null  float64       \n",
      " 9   vote_average  10349 non-null  float64       \n",
      " 10  vote_count    10349 non-null  int32         \n",
      "dtypes: datetime64[ns](1), float64(4), int32(3), object(3)\n",
      "memory usage: 848.9+ KB\n"
     ]
    }
   ],
   "source": [
    "df.info()"
   ]
  },
  {
   "cell_type": "markdown",
   "metadata": {},
   "source": [
    "## Adding data from other two datasets"
   ]
  },
  {
   "cell_type": "code",
   "execution_count": 28,
   "metadata": {},
   "outputs": [],
   "source": [
    "credits = pd.read_csv('data/credits.csv')\n",
    "keywords = pd.read_csv('data/keywords.csv')"
   ]
  },
  {
   "cell_type": "code",
   "execution_count": 29,
   "metadata": {},
   "outputs": [
    {
     "data": {
      "text/html": [
       "<div>\n",
       "<style scoped>\n",
       "    .dataframe tbody tr th:only-of-type {\n",
       "        vertical-align: middle;\n",
       "    }\n",
       "\n",
       "    .dataframe tbody tr th {\n",
       "        vertical-align: top;\n",
       "    }\n",
       "\n",
       "    .dataframe thead th {\n",
       "        text-align: right;\n",
       "    }\n",
       "</style>\n",
       "<table border=\"1\" class=\"dataframe\">\n",
       "  <thead>\n",
       "    <tr style=\"text-align: right;\">\n",
       "      <th></th>\n",
       "      <th>id</th>\n",
       "      <th>title</th>\n",
       "      <th>franchise</th>\n",
       "      <th>release_date</th>\n",
       "      <th>runtime</th>\n",
       "      <th>genres</th>\n",
       "      <th>budget</th>\n",
       "      <th>revenue</th>\n",
       "      <th>popularity</th>\n",
       "      <th>vote_average</th>\n",
       "      <th>vote_count</th>\n",
       "      <th>cast</th>\n",
       "      <th>crew</th>\n",
       "      <th>keywords</th>\n",
       "    </tr>\n",
       "  </thead>\n",
       "  <tbody>\n",
       "    <tr>\n",
       "      <th>0</th>\n",
       "      <td>862</td>\n",
       "      <td>Toy Story</td>\n",
       "      <td>Toy Story</td>\n",
       "      <td>1995-10-30</td>\n",
       "      <td>81</td>\n",
       "      <td>Animation, Comedy, Family</td>\n",
       "      <td>30.0</td>\n",
       "      <td>373.55</td>\n",
       "      <td>21.95</td>\n",
       "      <td>7.7</td>\n",
       "      <td>5415</td>\n",
       "      <td>[{'cast_id': 14, 'character': 'Woody (voice)',...</td>\n",
       "      <td>[{'credit_id': '52fe4284c3a36847f8024f49', 'de...</td>\n",
       "      <td>[{'id': 931, 'name': 'jealousy'}, {'id': 4290,...</td>\n",
       "    </tr>\n",
       "    <tr>\n",
       "      <th>1</th>\n",
       "      <td>8844</td>\n",
       "      <td>Jumanji</td>\n",
       "      <td>None</td>\n",
       "      <td>1995-12-15</td>\n",
       "      <td>104</td>\n",
       "      <td>Adventure, Family, Fantasy</td>\n",
       "      <td>65.0</td>\n",
       "      <td>262.80</td>\n",
       "      <td>17.02</td>\n",
       "      <td>6.9</td>\n",
       "      <td>2413</td>\n",
       "      <td>[{'cast_id': 1, 'character': 'Alan Parrish', '...</td>\n",
       "      <td>[{'credit_id': '52fe44bfc3a36847f80a7cd1', 'de...</td>\n",
       "      <td>[{'id': 10090, 'name': 'board game'}, {'id': 1...</td>\n",
       "    </tr>\n",
       "    <tr>\n",
       "      <th>2</th>\n",
       "      <td>15602</td>\n",
       "      <td>Grumpier Old Men</td>\n",
       "      <td>Grumpy Old Men</td>\n",
       "      <td>1995-12-22</td>\n",
       "      <td>101</td>\n",
       "      <td>Comedy, Romance</td>\n",
       "      <td>0.0</td>\n",
       "      <td>0.00</td>\n",
       "      <td>11.71</td>\n",
       "      <td>6.5</td>\n",
       "      <td>92</td>\n",
       "      <td>[{'cast_id': 2, 'character': 'Max Goldman', 'c...</td>\n",
       "      <td>[{'credit_id': '52fe466a9251416c75077a89', 'de...</td>\n",
       "      <td>[{'id': 1495, 'name': 'fishing'}, {'id': 12392...</td>\n",
       "    </tr>\n",
       "  </tbody>\n",
       "</table>\n",
       "</div>"
      ],
      "text/plain": [
       "      id             title       franchise release_date  runtime  \\\n",
       "0    862         Toy Story       Toy Story   1995-10-30       81   \n",
       "1   8844           Jumanji            None   1995-12-15      104   \n",
       "2  15602  Grumpier Old Men  Grumpy Old Men   1995-12-22      101   \n",
       "\n",
       "                       genres  budget  revenue  popularity  vote_average  \\\n",
       "0   Animation, Comedy, Family    30.0   373.55       21.95           7.7   \n",
       "1  Adventure, Family, Fantasy    65.0   262.80       17.02           6.9   \n",
       "2             Comedy, Romance     0.0     0.00       11.71           6.5   \n",
       "\n",
       "   vote_count                                               cast  \\\n",
       "0        5415  [{'cast_id': 14, 'character': 'Woody (voice)',...   \n",
       "1        2413  [{'cast_id': 1, 'character': 'Alan Parrish', '...   \n",
       "2          92  [{'cast_id': 2, 'character': 'Max Goldman', 'c...   \n",
       "\n",
       "                                                crew  \\\n",
       "0  [{'credit_id': '52fe4284c3a36847f8024f49', 'de...   \n",
       "1  [{'credit_id': '52fe44bfc3a36847f80a7cd1', 'de...   \n",
       "2  [{'credit_id': '52fe466a9251416c75077a89', 'de...   \n",
       "\n",
       "                                            keywords  \n",
       "0  [{'id': 931, 'name': 'jealousy'}, {'id': 4290,...  \n",
       "1  [{'id': 10090, 'name': 'board game'}, {'id': 1...  \n",
       "2  [{'id': 1495, 'name': 'fishing'}, {'id': 12392...  "
      ]
     },
     "execution_count": 29,
     "metadata": {},
     "output_type": "execute_result"
    }
   ],
   "source": [
    "df = df.merge(credits, on='id')\n",
    "df = df.merge(keywords, on='id')\n",
    "df.head(3)"
   ]
  },
  {
   "cell_type": "code",
   "execution_count": 30,
   "metadata": {},
   "outputs": [
    {
     "name": "stdout",
     "output_type": "stream",
     "text": [
      "<class 'pandas.core.frame.DataFrame'>\n",
      "RangeIndex: 10513 entries, 0 to 10512\n",
      "Data columns (total 14 columns):\n",
      " #   Column        Non-Null Count  Dtype         \n",
      "---  ------        --------------  -----         \n",
      " 0   id            10513 non-null  int32         \n",
      " 1   title         10513 non-null  object        \n",
      " 2   franchise     2157 non-null   object        \n",
      " 3   release_date  10513 non-null  datetime64[ns]\n",
      " 4   runtime       10513 non-null  int32         \n",
      " 5   genres        10495 non-null  object        \n",
      " 6   budget        10513 non-null  float64       \n",
      " 7   revenue       10513 non-null  float64       \n",
      " 8   popularity    10513 non-null  float64       \n",
      " 9   vote_average  10513 non-null  float64       \n",
      " 10  vote_count    10513 non-null  int32         \n",
      " 11  cast          10513 non-null  object        \n",
      " 12  crew          10513 non-null  object        \n",
      " 13  keywords      10513 non-null  object        \n",
      "dtypes: datetime64[ns](1), float64(4), int32(3), object(6)\n",
      "memory usage: 1.0+ MB\n"
     ]
    }
   ],
   "source": [
    "df.info()"
   ]
  },
  {
   "cell_type": "markdown",
   "metadata": {},
   "source": [
    "## Extracting director"
   ]
  },
  {
   "cell_type": "code",
   "execution_count": 31,
   "metadata": {},
   "outputs": [],
   "source": [
    "def extract_director(crew_list):\n",
    "    for crew_member in crew_list:\n",
    "        if crew_member[\"job\"] == \"Director\":\n",
    "            return crew_member[\"name\"]\n",
    "    return None\n",
    "\n",
    "# For function get_director to work, convert the string representations to actual dictionaries\n",
    "df[\"crew\"] = df[\"crew\"].apply(literal_eval)\n",
    "# Extract the director's name for each movie\n",
    "df[\"director\"] = df[\"crew\"].apply(extract_director)"
   ]
  },
  {
   "cell_type": "code",
   "execution_count": 32,
   "metadata": {},
   "outputs": [
    {
     "data": {
      "text/plain": [
       "director\n",
       "Woody Allen         47\n",
       "Alfred Hitchcock    36\n",
       "Clint Eastwood      33\n",
       "Steven Spielberg    31\n",
       "Martin Scorsese     25\n",
       "Ron Howard          24\n",
       "Ridley Scott        23\n",
       "Joel Schumacher     20\n",
       "Brian De Palma      20\n",
       "Tim Burton          20\n",
       "Name: count, dtype: int64"
      ]
     },
     "execution_count": 32,
     "metadata": {},
     "output_type": "execute_result"
    }
   ],
   "source": [
    "df[\"director\"].value_counts().head(10)"
   ]
  },
  {
   "cell_type": "code",
   "execution_count": 33,
   "metadata": {},
   "outputs": [
    {
     "data": {
      "text/html": [
       "<div>\n",
       "<style scoped>\n",
       "    .dataframe tbody tr th:only-of-type {\n",
       "        vertical-align: middle;\n",
       "    }\n",
       "\n",
       "    .dataframe tbody tr th {\n",
       "        vertical-align: top;\n",
       "    }\n",
       "\n",
       "    .dataframe thead th {\n",
       "        text-align: right;\n",
       "    }\n",
       "</style>\n",
       "<table border=\"1\" class=\"dataframe\">\n",
       "  <thead>\n",
       "    <tr style=\"text-align: right;\">\n",
       "      <th></th>\n",
       "      <th>title</th>\n",
       "      <th>release_date</th>\n",
       "      <th>runtime</th>\n",
       "      <th>genres</th>\n",
       "      <th>director</th>\n",
       "    </tr>\n",
       "  </thead>\n",
       "  <tbody>\n",
       "    <tr>\n",
       "      <th>14</th>\n",
       "      <td>Casino</td>\n",
       "      <td>1995-11-22</td>\n",
       "      <td>178</td>\n",
       "      <td>Crime, Drama</td>\n",
       "      <td>Martin Scorsese</td>\n",
       "    </tr>\n",
       "    <tr>\n",
       "      <th>70</th>\n",
       "      <td>Taxi Driver</td>\n",
       "      <td>1976-02-07</td>\n",
       "      <td>114</td>\n",
       "      <td>Crime, Drama</td>\n",
       "      <td>Martin Scorsese</td>\n",
       "    </tr>\n",
       "    <tr>\n",
       "      <th>233</th>\n",
       "      <td>The Age of Innocence</td>\n",
       "      <td>1993-09-17</td>\n",
       "      <td>139</td>\n",
       "      <td>Drama, Romance</td>\n",
       "      <td>Martin Scorsese</td>\n",
       "    </tr>\n",
       "    <tr>\n",
       "      <th>631</th>\n",
       "      <td>GoodFellas</td>\n",
       "      <td>1990-09-12</td>\n",
       "      <td>145</td>\n",
       "      <td>Crime, Drama</td>\n",
       "      <td>Martin Scorsese</td>\n",
       "    </tr>\n",
       "    <tr>\n",
       "      <th>646</th>\n",
       "      <td>Raging Bull</td>\n",
       "      <td>1980-11-14</td>\n",
       "      <td>129</td>\n",
       "      <td>Drama</td>\n",
       "      <td>Martin Scorsese</td>\n",
       "    </tr>\n",
       "    <tr>\n",
       "      <th>734</th>\n",
       "      <td>Cape Fear</td>\n",
       "      <td>1991-11-15</td>\n",
       "      <td>128</td>\n",
       "      <td>Crime, Thriller</td>\n",
       "      <td>Martin Scorsese</td>\n",
       "    </tr>\n",
       "    <tr>\n",
       "      <th>906</th>\n",
       "      <td>Kundun</td>\n",
       "      <td>1997-12-25</td>\n",
       "      <td>134</td>\n",
       "      <td>Drama</td>\n",
       "      <td>Martin Scorsese</td>\n",
       "    </tr>\n",
       "    <tr>\n",
       "      <th>1060</th>\n",
       "      <td>The Last Temptation of Christ</td>\n",
       "      <td>1988-08-12</td>\n",
       "      <td>164</td>\n",
       "      <td>Drama</td>\n",
       "      <td>Martin Scorsese</td>\n",
       "    </tr>\n",
       "    <tr>\n",
       "      <th>1354</th>\n",
       "      <td>The Color of Money</td>\n",
       "      <td>1986-10-07</td>\n",
       "      <td>119</td>\n",
       "      <td>Drama</td>\n",
       "      <td>Martin Scorsese</td>\n",
       "    </tr>\n",
       "    <tr>\n",
       "      <th>1629</th>\n",
       "      <td>Bringing Out the Dead</td>\n",
       "      <td>1999-10-22</td>\n",
       "      <td>121</td>\n",
       "      <td>Drama</td>\n",
       "      <td>Martin Scorsese</td>\n",
       "    </tr>\n",
       "  </tbody>\n",
       "</table>\n",
       "</div>"
      ],
      "text/plain": [
       "                              title release_date  runtime           genres  \\\n",
       "14                           Casino   1995-11-22      178     Crime, Drama   \n",
       "70                      Taxi Driver   1976-02-07      114     Crime, Drama   \n",
       "233            The Age of Innocence   1993-09-17      139   Drama, Romance   \n",
       "631                      GoodFellas   1990-09-12      145     Crime, Drama   \n",
       "646                     Raging Bull   1980-11-14      129            Drama   \n",
       "734                       Cape Fear   1991-11-15      128  Crime, Thriller   \n",
       "906                          Kundun   1997-12-25      134            Drama   \n",
       "1060  The Last Temptation of Christ   1988-08-12      164            Drama   \n",
       "1354             The Color of Money   1986-10-07      119            Drama   \n",
       "1629          Bringing Out the Dead   1999-10-22      121            Drama   \n",
       "\n",
       "             director  \n",
       "14    Martin Scorsese  \n",
       "70    Martin Scorsese  \n",
       "233   Martin Scorsese  \n",
       "631   Martin Scorsese  \n",
       "646   Martin Scorsese  \n",
       "734   Martin Scorsese  \n",
       "906   Martin Scorsese  \n",
       "1060  Martin Scorsese  \n",
       "1354  Martin Scorsese  \n",
       "1629  Martin Scorsese  "
      ]
     },
     "execution_count": 33,
     "metadata": {},
     "output_type": "execute_result"
    }
   ],
   "source": [
    "df[df[\"director\"] == \"Martin Scorsese\"][[\"title\", \"release_date\", \"runtime\", \"genres\", \"director\"]].head(10)"
   ]
  },
  {
   "cell_type": "markdown",
   "metadata": {},
   "source": [
    "## Extracting top actors"
   ]
  },
  {
   "cell_type": "code",
   "execution_count": 34,
   "metadata": {},
   "outputs": [],
   "source": [
    "def extract_actors(cast_list):\n",
    "    top_actors = []\n",
    "    for actor in cast_list[:3]:  # Select the top 3 actors\n",
    "        top_actors.append(actor[\"name\"])\n",
    "    return \", \".join(top_actors)\n",
    "\n",
    "# Convert the string representations to actual dictionaries\n",
    "df[\"cast\"] = df[\"cast\"].apply(literal_eval)\n",
    "# Extract the top 5 actor names for each movie\n",
    "df[\"top_actors\"] = df[\"cast\"].apply(extract_actors)"
   ]
  },
  {
   "cell_type": "code",
   "execution_count": 35,
   "metadata": {},
   "outputs": [
    {
     "data": {
      "text/html": [
       "<div>\n",
       "<style scoped>\n",
       "    .dataframe tbody tr th:only-of-type {\n",
       "        vertical-align: middle;\n",
       "    }\n",
       "\n",
       "    .dataframe tbody tr th {\n",
       "        vertical-align: top;\n",
       "    }\n",
       "\n",
       "    .dataframe thead th {\n",
       "        text-align: right;\n",
       "    }\n",
       "</style>\n",
       "<table border=\"1\" class=\"dataframe\">\n",
       "  <thead>\n",
       "    <tr style=\"text-align: right;\">\n",
       "      <th></th>\n",
       "      <th>title</th>\n",
       "      <th>release_date</th>\n",
       "      <th>runtime</th>\n",
       "      <th>genres</th>\n",
       "      <th>director</th>\n",
       "      <th>top_actors</th>\n",
       "    </tr>\n",
       "  </thead>\n",
       "  <tbody>\n",
       "    <tr>\n",
       "      <th>615</th>\n",
       "      <td>The Empire Strikes Back</td>\n",
       "      <td>1980-05-17</td>\n",
       "      <td>124</td>\n",
       "      <td>Action, Adventure, Science Fiction</td>\n",
       "      <td>Irvin Kershner</td>\n",
       "      <td>Mark Hamill, Harrison Ford, Carrie Fisher</td>\n",
       "    </tr>\n",
       "  </tbody>\n",
       "</table>\n",
       "</div>"
      ],
      "text/plain": [
       "                       title release_date  runtime  \\\n",
       "615  The Empire Strikes Back   1980-05-17      124   \n",
       "\n",
       "                                 genres        director  \\\n",
       "615  Action, Adventure, Science Fiction  Irvin Kershner   \n",
       "\n",
       "                                    top_actors  \n",
       "615  Mark Hamill, Harrison Ford, Carrie Fisher  "
      ]
     },
     "execution_count": 35,
     "metadata": {},
     "output_type": "execute_result"
    }
   ],
   "source": [
    "df[df[\"title\"] == \"The Empire Strikes Back\"][[\"title\", \"release_date\", \"runtime\", \"genres\", \"director\", \"top_actors\"]]"
   ]
  },
  {
   "cell_type": "markdown",
   "metadata": {},
   "source": [
    "## Extracting keywords"
   ]
  },
  {
   "cell_type": "code",
   "execution_count": 36,
   "metadata": {},
   "outputs": [
    {
     "name": "stdout",
     "output_type": "stream",
     "text": [
      "woman director: 655\n",
      "murder: 480\n",
      "independent film: 434\n",
      "based on novel: 387\n",
      "duringcreditsstinger: 385\n",
      "violence: 340\n",
      "revenge: 259\n",
      "sex: 252\n",
      "police: 232\n",
      "suspense: 230\n"
     ]
    }
   ],
   "source": [
    "from collections import Counter\n",
    "import pandas as pd\n",
    "\n",
    "# Convert the string representations to actual dictionaries\n",
    "df[\"keywords\"] = df[\"keywords\"].apply(literal_eval)\n",
    "# Flatten the list of dictionaries in the 'keywords' column\n",
    "keywords = [keyword[\"name\"] for sublist in df[\"keywords\"] for keyword in sublist]\n",
    "# Count the frequencies of each keyword\n",
    "keyword_counts = Counter(keywords)\n",
    "# Sort the keywords based on their frequencies in descending order\n",
    "sorted_keywords = sorted(keyword_counts.items(), key=lambda x: x[1], reverse=True)\n",
    "# Remove keywords that rarely occur\n",
    "sorted_keywords_filtered = [(keyword, count) for keyword, count in sorted_keywords if count > 9]\n",
    "# Create a set of keywords that appear in sorted_keywords_filtered\n",
    "filtered_keywords_set = set([keyword for keyword, _ in sorted_keywords_filtered])\n",
    "# Print the sorted and filtered keywords\n",
    "for keyword, count in sorted_keywords_filtered[:10]:\n",
    "    print(f\"{keyword}: {count}\")"
   ]
  },
  {
   "cell_type": "code",
   "execution_count": 37,
   "metadata": {},
   "outputs": [
    {
     "name": "stdout",
     "output_type": "stream",
     "text": [
      "Number of unique keywords before filtering: 13953\n",
      "Number of unique keywords after filtering: 1553\n"
     ]
    }
   ],
   "source": [
    "# Print the number of unique keywords\n",
    "num_unique_keywords_before = len(keyword_counts)\n",
    "print(f\"Number of unique keywords before filtering: {num_unique_keywords_before}\")\n",
    "num_unique_keywords_after = len(sorted_keywords_filtered)\n",
    "print(f\"Number of unique keywords after filtering: {num_unique_keywords_after}\")"
   ]
  },
  {
   "cell_type": "code",
   "execution_count": 39,
   "metadata": {},
   "outputs": [],
   "source": [
    "def filter_keywords(keywords_list):\n",
    "    filtered_keywords = []\n",
    "    for keyword in keywords_list:\n",
    "        if keyword[\"name\"] in filtered_keywords_set and len(filtered_keywords) < 5:\n",
    "            filtered_keywords.append(keyword[\"name\"])\n",
    "            if len(filtered_keywords) == 5:\n",
    "                break\n",
    "    return \", \".join(filtered_keywords)\n",
    "\n",
    "# Add a new column 'filtered_keywords' to the DataFrame\n",
    "df['filtered_keywords'] = df['keywords'].apply(filter_keywords)"
   ]
  },
  {
   "cell_type": "code",
   "execution_count": 40,
   "metadata": {},
   "outputs": [
    {
     "data": {
      "text/html": [
       "<div>\n",
       "<style scoped>\n",
       "    .dataframe tbody tr th:only-of-type {\n",
       "        vertical-align: middle;\n",
       "    }\n",
       "\n",
       "    .dataframe tbody tr th {\n",
       "        vertical-align: top;\n",
       "    }\n",
       "\n",
       "    .dataframe thead th {\n",
       "        text-align: right;\n",
       "    }\n",
       "</style>\n",
       "<table border=\"1\" class=\"dataframe\">\n",
       "  <thead>\n",
       "    <tr style=\"text-align: right;\">\n",
       "      <th></th>\n",
       "      <th>keywords</th>\n",
       "      <th>filtered_keywords</th>\n",
       "    </tr>\n",
       "  </thead>\n",
       "  <tbody>\n",
       "    <tr>\n",
       "      <th>0</th>\n",
       "      <td>[{'id': 931, 'name': 'jealousy'}, {'id': 4290,...</td>\n",
       "      <td>jealousy, toy, boy, friendship, friends</td>\n",
       "    </tr>\n",
       "    <tr>\n",
       "      <th>1</th>\n",
       "      <td>[{'id': 10090, 'name': 'board game'}, {'id': 1...</td>\n",
       "      <td>disappearance, based on children's book</td>\n",
       "    </tr>\n",
       "    <tr>\n",
       "      <th>2</th>\n",
       "      <td>[{'id': 1495, 'name': 'fishing'}, {'id': 12392...</td>\n",
       "      <td>fishing, best friend, duringcreditsstinger</td>\n",
       "    </tr>\n",
       "    <tr>\n",
       "      <th>3</th>\n",
       "      <td>[{'id': 1009, 'name': 'baby'}, {'id': 1599, 'n...</td>\n",
       "      <td>baby, midlife crisis, confidence, aging, daughter</td>\n",
       "    </tr>\n",
       "    <tr>\n",
       "      <th>4</th>\n",
       "      <td>[{'id': 642, 'name': 'robbery'}, {'id': 703, '...</td>\n",
       "      <td>robbery, detective, bank, obsession, chase</td>\n",
       "    </tr>\n",
       "    <tr>\n",
       "      <th>...</th>\n",
       "      <td>...</td>\n",
       "      <td>...</td>\n",
       "    </tr>\n",
       "    <tr>\n",
       "      <th>10508</th>\n",
       "      <td>[]</td>\n",
       "      <td></td>\n",
       "    </tr>\n",
       "    <tr>\n",
       "      <th>10509</th>\n",
       "      <td>[]</td>\n",
       "      <td></td>\n",
       "    </tr>\n",
       "    <tr>\n",
       "      <th>10510</th>\n",
       "      <td>[{'id': 2652, 'name': 'nazis'}, {'id': 3098, '...</td>\n",
       "      <td>nazis, castle, time travel</td>\n",
       "    </tr>\n",
       "    <tr>\n",
       "      <th>10511</th>\n",
       "      <td>[{'id': 9673, 'name': 'love'}, {'id': 13130, '...</td>\n",
       "      <td>love, teenager, lgbt, short</td>\n",
       "    </tr>\n",
       "    <tr>\n",
       "      <th>10512</th>\n",
       "      <td>[{'id': 171803, 'name': 'military school'}]</td>\n",
       "      <td></td>\n",
       "    </tr>\n",
       "  </tbody>\n",
       "</table>\n",
       "<p>10513 rows × 2 columns</p>\n",
       "</div>"
      ],
      "text/plain": [
       "                                                keywords  \\\n",
       "0      [{'id': 931, 'name': 'jealousy'}, {'id': 4290,...   \n",
       "1      [{'id': 10090, 'name': 'board game'}, {'id': 1...   \n",
       "2      [{'id': 1495, 'name': 'fishing'}, {'id': 12392...   \n",
       "3      [{'id': 1009, 'name': 'baby'}, {'id': 1599, 'n...   \n",
       "4      [{'id': 642, 'name': 'robbery'}, {'id': 703, '...   \n",
       "...                                                  ...   \n",
       "10508                                                 []   \n",
       "10509                                                 []   \n",
       "10510  [{'id': 2652, 'name': 'nazis'}, {'id': 3098, '...   \n",
       "10511  [{'id': 9673, 'name': 'love'}, {'id': 13130, '...   \n",
       "10512        [{'id': 171803, 'name': 'military school'}]   \n",
       "\n",
       "                                       filtered_keywords  \n",
       "0                jealousy, toy, boy, friendship, friends  \n",
       "1                disappearance, based on children's book  \n",
       "2             fishing, best friend, duringcreditsstinger  \n",
       "3      baby, midlife crisis, confidence, aging, daughter  \n",
       "4             robbery, detective, bank, obsession, chase  \n",
       "...                                                  ...  \n",
       "10508                                                     \n",
       "10509                                                     \n",
       "10510                         nazis, castle, time travel  \n",
       "10511                        love, teenager, lgbt, short  \n",
       "10512                                                     \n",
       "\n",
       "[10513 rows x 2 columns]"
      ]
     },
     "execution_count": 40,
     "metadata": {},
     "output_type": "execute_result"
    }
   ],
   "source": [
    "df[[\"keywords\", \"filtered_keywords\"]]"
   ]
  },
  {
   "cell_type": "markdown",
   "metadata": {},
   "source": [
    "## Final steps of data preparation with Pandas"
   ]
  },
  {
   "cell_type": "code",
   "execution_count": 41,
   "metadata": {},
   "outputs": [
    {
     "data": {
      "text/html": [
       "<div>\n",
       "<style scoped>\n",
       "    .dataframe tbody tr th:only-of-type {\n",
       "        vertical-align: middle;\n",
       "    }\n",
       "\n",
       "    .dataframe tbody tr th {\n",
       "        vertical-align: top;\n",
       "    }\n",
       "\n",
       "    .dataframe thead th {\n",
       "        text-align: right;\n",
       "    }\n",
       "</style>\n",
       "<table border=\"1\" class=\"dataframe\">\n",
       "  <thead>\n",
       "    <tr style=\"text-align: right;\">\n",
       "      <th></th>\n",
       "      <th>0</th>\n",
       "      <th>1</th>\n",
       "      <th>2</th>\n",
       "      <th>3</th>\n",
       "      <th>4</th>\n",
       "    </tr>\n",
       "  </thead>\n",
       "  <tbody>\n",
       "    <tr>\n",
       "      <th>id</th>\n",
       "      <td>1</td>\n",
       "      <td>2</td>\n",
       "      <td>3</td>\n",
       "      <td>4</td>\n",
       "      <td>5</td>\n",
       "    </tr>\n",
       "    <tr>\n",
       "      <th>title</th>\n",
       "      <td>Toy Story</td>\n",
       "      <td>Jumanji</td>\n",
       "      <td>Grumpier Old Men</td>\n",
       "      <td>Father of the Bride Part II</td>\n",
       "      <td>Heat</td>\n",
       "    </tr>\n",
       "    <tr>\n",
       "      <th>franchise</th>\n",
       "      <td>Toy Story</td>\n",
       "      <td>None</td>\n",
       "      <td>Grumpy Old Men</td>\n",
       "      <td>Father of the Bride</td>\n",
       "      <td>None</td>\n",
       "    </tr>\n",
       "    <tr>\n",
       "      <th>release_date</th>\n",
       "      <td>1995-10-30 00:00:00</td>\n",
       "      <td>1995-12-15 00:00:00</td>\n",
       "      <td>1995-12-22 00:00:00</td>\n",
       "      <td>1995-02-10 00:00:00</td>\n",
       "      <td>1995-12-15 00:00:00</td>\n",
       "    </tr>\n",
       "    <tr>\n",
       "      <th>runtime</th>\n",
       "      <td>81</td>\n",
       "      <td>104</td>\n",
       "      <td>101</td>\n",
       "      <td>106</td>\n",
       "      <td>170</td>\n",
       "    </tr>\n",
       "    <tr>\n",
       "      <th>genres</th>\n",
       "      <td>Animation, Comedy, Family</td>\n",
       "      <td>Adventure, Family, Fantasy</td>\n",
       "      <td>Comedy, Romance</td>\n",
       "      <td>Comedy</td>\n",
       "      <td>Action, Crime, Drama, Thriller</td>\n",
       "    </tr>\n",
       "    <tr>\n",
       "      <th>budget</th>\n",
       "      <td>30.0</td>\n",
       "      <td>65.0</td>\n",
       "      <td>0.0</td>\n",
       "      <td>0.0</td>\n",
       "      <td>60.0</td>\n",
       "    </tr>\n",
       "    <tr>\n",
       "      <th>revenue</th>\n",
       "      <td>373.55</td>\n",
       "      <td>262.8</td>\n",
       "      <td>0.0</td>\n",
       "      <td>76.58</td>\n",
       "      <td>187.44</td>\n",
       "    </tr>\n",
       "    <tr>\n",
       "      <th>popularity</th>\n",
       "      <td>21.95</td>\n",
       "      <td>17.02</td>\n",
       "      <td>11.71</td>\n",
       "      <td>8.39</td>\n",
       "      <td>17.92</td>\n",
       "    </tr>\n",
       "    <tr>\n",
       "      <th>vote_average</th>\n",
       "      <td>7.7</td>\n",
       "      <td>6.9</td>\n",
       "      <td>6.5</td>\n",
       "      <td>5.7</td>\n",
       "      <td>7.7</td>\n",
       "    </tr>\n",
       "    <tr>\n",
       "      <th>vote_count</th>\n",
       "      <td>5415</td>\n",
       "      <td>2413</td>\n",
       "      <td>92</td>\n",
       "      <td>173</td>\n",
       "      <td>1886</td>\n",
       "    </tr>\n",
       "    <tr>\n",
       "      <th>director</th>\n",
       "      <td>John Lasseter</td>\n",
       "      <td>Joe Johnston</td>\n",
       "      <td>Howard Deutch</td>\n",
       "      <td>Charles Shyer</td>\n",
       "      <td>Michael Mann</td>\n",
       "    </tr>\n",
       "    <tr>\n",
       "      <th>top_actors</th>\n",
       "      <td>Tom Hanks, Tim Allen, Don Rickles</td>\n",
       "      <td>Robin Williams, Jonathan Hyde, Kirsten Dunst</td>\n",
       "      <td>Walter Matthau, Jack Lemmon, Ann-Margret</td>\n",
       "      <td>Steve Martin, Diane Keaton, Martin Short</td>\n",
       "      <td>Al Pacino, Robert De Niro, Val Kilmer</td>\n",
       "    </tr>\n",
       "    <tr>\n",
       "      <th>keywords</th>\n",
       "      <td>jealousy, toy, boy, friendship, friends</td>\n",
       "      <td>disappearance, based on children's book</td>\n",
       "      <td>fishing, best friend, duringcreditsstinger</td>\n",
       "      <td>baby, midlife crisis, confidence, aging, daughter</td>\n",
       "      <td>robbery, detective, bank, obsession, chase</td>\n",
       "    </tr>\n",
       "  </tbody>\n",
       "</table>\n",
       "</div>"
      ],
      "text/plain": [
       "                                                    0  \\\n",
       "id                                                  1   \n",
       "title                                       Toy Story   \n",
       "franchise                                   Toy Story   \n",
       "release_date                      1995-10-30 00:00:00   \n",
       "runtime                                            81   \n",
       "genres                      Animation, Comedy, Family   \n",
       "budget                                           30.0   \n",
       "revenue                                        373.55   \n",
       "popularity                                      21.95   \n",
       "vote_average                                      7.7   \n",
       "vote_count                                       5415   \n",
       "director                                John Lasseter   \n",
       "top_actors          Tom Hanks, Tim Allen, Don Rickles   \n",
       "keywords      jealousy, toy, boy, friendship, friends   \n",
       "\n",
       "                                                         1  \\\n",
       "id                                                       2   \n",
       "title                                              Jumanji   \n",
       "franchise                                             None   \n",
       "release_date                           1995-12-15 00:00:00   \n",
       "runtime                                                104   \n",
       "genres                          Adventure, Family, Fantasy   \n",
       "budget                                                65.0   \n",
       "revenue                                              262.8   \n",
       "popularity                                           17.02   \n",
       "vote_average                                           6.9   \n",
       "vote_count                                            2413   \n",
       "director                                      Joe Johnston   \n",
       "top_actors    Robin Williams, Jonathan Hyde, Kirsten Dunst   \n",
       "keywords           disappearance, based on children's book   \n",
       "\n",
       "                                                       2  \\\n",
       "id                                                     3   \n",
       "title                                   Grumpier Old Men   \n",
       "franchise                                 Grumpy Old Men   \n",
       "release_date                         1995-12-22 00:00:00   \n",
       "runtime                                              101   \n",
       "genres                                   Comedy, Romance   \n",
       "budget                                               0.0   \n",
       "revenue                                              0.0   \n",
       "popularity                                         11.71   \n",
       "vote_average                                         6.5   \n",
       "vote_count                                            92   \n",
       "director                                   Howard Deutch   \n",
       "top_actors      Walter Matthau, Jack Lemmon, Ann-Margret   \n",
       "keywords      fishing, best friend, duringcreditsstinger   \n",
       "\n",
       "                                                              3  \\\n",
       "id                                                            4   \n",
       "title                               Father of the Bride Part II   \n",
       "franchise                                   Father of the Bride   \n",
       "release_date                                1995-02-10 00:00:00   \n",
       "runtime                                                     106   \n",
       "genres                                                   Comedy   \n",
       "budget                                                      0.0   \n",
       "revenue                                                   76.58   \n",
       "popularity                                                 8.39   \n",
       "vote_average                                                5.7   \n",
       "vote_count                                                  173   \n",
       "director                                          Charles Shyer   \n",
       "top_actors             Steve Martin, Diane Keaton, Martin Short   \n",
       "keywords      baby, midlife crisis, confidence, aging, daughter   \n",
       "\n",
       "                                                       4  \n",
       "id                                                     5  \n",
       "title                                               Heat  \n",
       "franchise                                           None  \n",
       "release_date                         1995-12-15 00:00:00  \n",
       "runtime                                              170  \n",
       "genres                    Action, Crime, Drama, Thriller  \n",
       "budget                                              60.0  \n",
       "revenue                                           187.44  \n",
       "popularity                                         17.92  \n",
       "vote_average                                         7.7  \n",
       "vote_count                                          1886  \n",
       "director                                    Michael Mann  \n",
       "top_actors         Al Pacino, Robert De Niro, Val Kilmer  \n",
       "keywords      robbery, detective, bank, obsession, chase  "
      ]
     },
     "execution_count": 41,
     "metadata": {},
     "output_type": "execute_result"
    }
   ],
   "source": [
    "# Drop columns 'id', 'cast', 'crew', and 'keywords'\n",
    "df = df.drop(columns=[\"id\", \"cast\", \"crew\", \"keywords\"])\n",
    "# Rename 'filtered_keywosrds' column to 'keywords'\n",
    "df = df.rename(columns={\"filtered_keywords\": \"keywords\"})\n",
    "# Add the new 'id' column as the first column\n",
    "df.insert(0, \"id\", range(1, 1 + len(df)))\n",
    "df.head().transpose()"
   ]
  },
  {
   "cell_type": "markdown",
   "metadata": {},
   "source": [
    "Columns explanation:\n",
    "- id - row id\n",
    "- title - official title of the movie\n",
    "- release_date - theatrical release date of the movie\n",
    "- runtime - movie duration/runtime in minutes\n",
    "- genres - genres associated with the movie, separated by a comma\n",
    "- budget - movie budget in millions of dollars\n",
    "- revenue - total movie revenue in millions of dollars\n",
    "- popularity - popularity score assigned by TMDB\n",
    "- vote_average - average movie rating\n",
    "- vote_count - number of votes by users, counted by TMDB\n",
    "- director - name of the movie director\n",
    "- top_actors - names of top 5 actors in the movie\n",
    "- keywords - keywords associated with the movie"
   ]
  },
  {
   "cell_type": "code",
   "execution_count": 42,
   "metadata": {},
   "outputs": [
    {
     "name": "stdout",
     "output_type": "stream",
     "text": [
      "<class 'pandas.core.frame.DataFrame'>\n",
      "RangeIndex: 10513 entries, 0 to 10512\n",
      "Data columns (total 14 columns):\n",
      " #   Column        Non-Null Count  Dtype         \n",
      "---  ------        --------------  -----         \n",
      " 0   id            10513 non-null  int64         \n",
      " 1   title         10513 non-null  object        \n",
      " 2   franchise     2157 non-null   object        \n",
      " 3   release_date  10513 non-null  datetime64[ns]\n",
      " 4   runtime       10513 non-null  int32         \n",
      " 5   genres        10495 non-null  object        \n",
      " 6   budget        10513 non-null  float64       \n",
      " 7   revenue       10513 non-null  float64       \n",
      " 8   popularity    10513 non-null  float64       \n",
      " 9   vote_average  10513 non-null  float64       \n",
      " 10  vote_count    10513 non-null  int32         \n",
      " 11  director      10496 non-null  object        \n",
      " 12  top_actors    10513 non-null  object        \n",
      " 13  keywords      10513 non-null  object        \n",
      "dtypes: datetime64[ns](1), float64(4), int32(2), int64(1), object(6)\n",
      "memory usage: 1.0+ MB\n"
     ]
    }
   ],
   "source": [
    "df.info()"
   ]
  },
  {
   "cell_type": "markdown",
   "metadata": {},
   "source": [
    "Let's save the cleaned up dataset, which we'll use in the next chapters"
   ]
  },
  {
   "cell_type": "code",
   "execution_count": 43,
   "metadata": {},
   "outputs": [],
   "source": [
    "# df.to_csv(\"data/recommender_data_v2.csv\", index=False)"
   ]
  },
  {
   "cell_type": "markdown",
   "metadata": {},
   "source": [
    "# 2. Content-based recommender"
   ]
  },
  {
   "cell_type": "code",
   "execution_count": 7,
   "metadata": {},
   "outputs": [],
   "source": [
    "import pandas as pd\n",
    "\n",
    "pd.set_option('display.max_colwidth', None)"
   ]
  },
  {
   "cell_type": "code",
   "execution_count": 8,
   "metadata": {},
   "outputs": [
    {
     "data": {
      "text/html": [
       "<div>\n",
       "<style scoped>\n",
       "    .dataframe tbody tr th:only-of-type {\n",
       "        vertical-align: middle;\n",
       "    }\n",
       "\n",
       "    .dataframe tbody tr th {\n",
       "        vertical-align: top;\n",
       "    }\n",
       "\n",
       "    .dataframe thead th {\n",
       "        text-align: right;\n",
       "    }\n",
       "</style>\n",
       "<table border=\"1\" class=\"dataframe\">\n",
       "  <thead>\n",
       "    <tr style=\"text-align: right;\">\n",
       "      <th></th>\n",
       "      <th>title</th>\n",
       "      <th>franchise</th>\n",
       "      <th>release_date</th>\n",
       "      <th>runtime</th>\n",
       "      <th>genres</th>\n",
       "      <th>budget</th>\n",
       "      <th>revenue</th>\n",
       "      <th>popularity</th>\n",
       "      <th>vote_average</th>\n",
       "      <th>vote_count</th>\n",
       "      <th>director</th>\n",
       "      <th>top_actors</th>\n",
       "      <th>keywords</th>\n",
       "    </tr>\n",
       "    <tr>\n",
       "      <th>id</th>\n",
       "      <th></th>\n",
       "      <th></th>\n",
       "      <th></th>\n",
       "      <th></th>\n",
       "      <th></th>\n",
       "      <th></th>\n",
       "      <th></th>\n",
       "      <th></th>\n",
       "      <th></th>\n",
       "      <th></th>\n",
       "      <th></th>\n",
       "      <th></th>\n",
       "      <th></th>\n",
       "    </tr>\n",
       "  </thead>\n",
       "  <tbody>\n",
       "    <tr>\n",
       "      <th>1</th>\n",
       "      <td>Toy Story</td>\n",
       "      <td>Toy Story</td>\n",
       "      <td>1995-10-30</td>\n",
       "      <td>81</td>\n",
       "      <td>Animation, Comedy, Family</td>\n",
       "      <td>30.0</td>\n",
       "      <td>373.55</td>\n",
       "      <td>21.95</td>\n",
       "      <td>7.7</td>\n",
       "      <td>5415</td>\n",
       "      <td>John Lasseter</td>\n",
       "      <td>Tom Hanks, Tim Allen, Don Rickles</td>\n",
       "      <td>jealousy, toy, boy, friendship, friends</td>\n",
       "    </tr>\n",
       "    <tr>\n",
       "      <th>2</th>\n",
       "      <td>Jumanji</td>\n",
       "      <td>NaN</td>\n",
       "      <td>1995-12-15</td>\n",
       "      <td>104</td>\n",
       "      <td>Adventure, Family, Fantasy</td>\n",
       "      <td>65.0</td>\n",
       "      <td>262.80</td>\n",
       "      <td>17.02</td>\n",
       "      <td>6.9</td>\n",
       "      <td>2413</td>\n",
       "      <td>Joe Johnston</td>\n",
       "      <td>Robin Williams, Jonathan Hyde, Kirsten Dunst</td>\n",
       "      <td>disappearance, based on children's book</td>\n",
       "    </tr>\n",
       "    <tr>\n",
       "      <th>3</th>\n",
       "      <td>Grumpier Old Men</td>\n",
       "      <td>Grumpy Old Men</td>\n",
       "      <td>1995-12-22</td>\n",
       "      <td>101</td>\n",
       "      <td>Comedy, Romance</td>\n",
       "      <td>0.0</td>\n",
       "      <td>0.00</td>\n",
       "      <td>11.71</td>\n",
       "      <td>6.5</td>\n",
       "      <td>92</td>\n",
       "      <td>Howard Deutch</td>\n",
       "      <td>Walter Matthau, Jack Lemmon, Ann-Margret</td>\n",
       "      <td>fishing, best friend, duringcreditsstinger</td>\n",
       "    </tr>\n",
       "  </tbody>\n",
       "</table>\n",
       "</div>"
      ],
      "text/plain": [
       "               title       franchise release_date  runtime  \\\n",
       "id                                                           \n",
       "1          Toy Story       Toy Story   1995-10-30       81   \n",
       "2            Jumanji             NaN   1995-12-15      104   \n",
       "3   Grumpier Old Men  Grumpy Old Men   1995-12-22      101   \n",
       "\n",
       "                        genres  budget  revenue  popularity  vote_average  \\\n",
       "id                                                                          \n",
       "1    Animation, Comedy, Family    30.0   373.55       21.95           7.7   \n",
       "2   Adventure, Family, Fantasy    65.0   262.80       17.02           6.9   \n",
       "3              Comedy, Romance     0.0     0.00       11.71           6.5   \n",
       "\n",
       "    vote_count       director                                    top_actors  \\\n",
       "id                                                                            \n",
       "1         5415  John Lasseter             Tom Hanks, Tim Allen, Don Rickles   \n",
       "2         2413   Joe Johnston  Robin Williams, Jonathan Hyde, Kirsten Dunst   \n",
       "3           92  Howard Deutch      Walter Matthau, Jack Lemmon, Ann-Margret   \n",
       "\n",
       "                                      keywords  \n",
       "id                                              \n",
       "1      jealousy, toy, boy, friendship, friends  \n",
       "2      disappearance, based on children's book  \n",
       "3   fishing, best friend, duringcreditsstinger  "
      ]
     },
     "execution_count": 8,
     "metadata": {},
     "output_type": "execute_result"
    }
   ],
   "source": [
    "df = pd.read_csv(\"data/recommender_data_v2.csv\", index_col=0)\n",
    "df.head(3)"
   ]
  },
  {
   "cell_type": "code",
   "execution_count": 3,
   "metadata": {},
   "outputs": [
    {
     "name": "stdout",
     "output_type": "stream",
     "text": [
      "<class 'pandas.core.frame.DataFrame'>\n",
      "Index: 10513 entries, 1 to 10513\n",
      "Data columns (total 13 columns):\n",
      " #   Column        Non-Null Count  Dtype  \n",
      "---  ------        --------------  -----  \n",
      " 0   title         10513 non-null  object \n",
      " 1   franchise     2157 non-null   object \n",
      " 2   release_date  10513 non-null  object \n",
      " 3   runtime       10513 non-null  int64  \n",
      " 4   genres        10495 non-null  object \n",
      " 5   budget        10513 non-null  float64\n",
      " 6   revenue       10513 non-null  float64\n",
      " 7   popularity    10513 non-null  float64\n",
      " 8   vote_average  10513 non-null  float64\n",
      " 9   vote_count    10513 non-null  int64  \n",
      " 10  director      10496 non-null  object \n",
      " 11  top_actors    10475 non-null  object \n",
      " 12  keywords      9174 non-null   object \n",
      "dtypes: float64(4), int64(2), object(7)\n",
      "memory usage: 1.1+ MB\n"
     ]
    }
   ],
   "source": [
    "df.info()"
   ]
  },
  {
   "cell_type": "markdown",
   "metadata": {},
   "source": [
    "## Handling movie title"
   ]
  },
  {
   "cell_type": "markdown",
   "metadata": {},
   "source": [
    "The idea behind this recommender is that you enter the title of the movie that you liked, and then you get a list of similar movies. However, first of all, you need to check whether the movie with the typed title exist in the database in the first place. Also, spelling problems may arise.\n",
    "\n",
    "To handle all these issues, the 'fuzzywuzzy' library comes to help"
   ]
  },
  {
   "cell_type": "code",
   "execution_count": 4,
   "metadata": {},
   "outputs": [
    {
     "data": {
      "text/plain": [
       "['Toy Story',\n",
       " 'Jumanji',\n",
       " 'Grumpier Old Men',\n",
       " 'Father of the Bride Part II',\n",
       " 'Heat',\n",
       " 'Sabrina',\n",
       " 'Tom and Huck',\n",
       " 'Sudden Death',\n",
       " 'GoldenEye',\n",
       " 'The American President']"
      ]
     },
     "execution_count": 4,
     "metadata": {},
     "output_type": "execute_result"
    }
   ],
   "source": [
    "all_titles = df['title'].tolist()\n",
    "all_titles[:10]"
   ]
  },
  {
   "cell_type": "code",
   "execution_count": 5,
   "metadata": {},
   "outputs": [
    {
     "data": {
      "text/plain": [
       "[('Toy Story', 88),\n",
       " ('Toy Story 2', 78),\n",
       " ('Tokyo Story', 78),\n",
       " ('Toy Story 3', 78),\n",
       " ('The Straight Story', 77),\n",
       " ('The Greatest Story Ever Told', 77),\n",
       " ('Troy', 77)]"
      ]
     },
     "execution_count": 5,
     "metadata": {},
     "output_type": "execute_result"
    }
   ],
   "source": [
    "from fuzzywuzzy import process\n",
    "\n",
    "def find_top_movies(title):\n",
    "    all_titles = df[\"title\"].tolist()\n",
    "    matches = process.extract(title, all_titles, limit=7)\n",
    "    return matches\n",
    "    matched_titles = [match[0] for match in matches]\n",
    "    return df[df['title'].isin(matched_titles)]\n",
    "\n",
    "# Example usage\n",
    "title = \"ty stry\"\n",
    "found_movies = find_top_movies(title)\n",
    "found_movies"
   ]
  },
  {
   "cell_type": "code",
   "execution_count": 9,
   "metadata": {},
   "outputs": [
    {
     "data": {
      "text/html": [
       "<div>\n",
       "<style scoped>\n",
       "    .dataframe tbody tr th:only-of-type {\n",
       "        vertical-align: middle;\n",
       "    }\n",
       "\n",
       "    .dataframe tbody tr th {\n",
       "        vertical-align: top;\n",
       "    }\n",
       "\n",
       "    .dataframe thead th {\n",
       "        text-align: right;\n",
       "    }\n",
       "</style>\n",
       "<table border=\"1\" class=\"dataframe\">\n",
       "  <thead>\n",
       "    <tr style=\"text-align: right;\">\n",
       "      <th></th>\n",
       "      <th>title</th>\n",
       "      <th>franchise</th>\n",
       "      <th>release_date</th>\n",
       "      <th>runtime</th>\n",
       "      <th>genres</th>\n",
       "      <th>budget</th>\n",
       "      <th>revenue</th>\n",
       "      <th>popularity</th>\n",
       "      <th>vote_average</th>\n",
       "      <th>vote_count</th>\n",
       "      <th>director</th>\n",
       "      <th>top_actors</th>\n",
       "      <th>keywords</th>\n",
       "    </tr>\n",
       "    <tr>\n",
       "      <th>id</th>\n",
       "      <th></th>\n",
       "      <th></th>\n",
       "      <th></th>\n",
       "      <th></th>\n",
       "      <th></th>\n",
       "      <th></th>\n",
       "      <th></th>\n",
       "      <th></th>\n",
       "      <th></th>\n",
       "      <th></th>\n",
       "      <th></th>\n",
       "      <th></th>\n",
       "      <th></th>\n",
       "    </tr>\n",
       "  </thead>\n",
       "  <tbody>\n",
       "    <tr>\n",
       "      <th>153</th>\n",
       "      <td>Star Wars</td>\n",
       "      <td>Star Wars</td>\n",
       "      <td>1977-05-25</td>\n",
       "      <td>121</td>\n",
       "      <td>Action, Adventure, Science Fiction</td>\n",
       "      <td>11.0</td>\n",
       "      <td>775.4</td>\n",
       "      <td>42.15</td>\n",
       "      <td>8.1</td>\n",
       "      <td>6778</td>\n",
       "      <td>George Lucas</td>\n",
       "      <td>Mark Hamill, Harrison Ford, Carrie Fisher</td>\n",
       "      <td>android, rescue mission, rebellion, planet, space opera</td>\n",
       "    </tr>\n",
       "  </tbody>\n",
       "</table>\n",
       "</div>"
      ],
      "text/plain": [
       "         title  franchise release_date  runtime  \\\n",
       "id                                                \n",
       "153  Star Wars  Star Wars   1977-05-25      121   \n",
       "\n",
       "                                 genres  budget  revenue  popularity  \\\n",
       "id                                                                     \n",
       "153  Action, Adventure, Science Fiction    11.0    775.4       42.15   \n",
       "\n",
       "     vote_average  vote_count      director  \\\n",
       "id                                            \n",
       "153           8.1        6778  George Lucas   \n",
       "\n",
       "                                    top_actors  \\\n",
       "id                                               \n",
       "153  Mark Hamill, Harrison Ford, Carrie Fisher   \n",
       "\n",
       "                                                    keywords  \n",
       "id                                                            \n",
       "153  android, rescue mission, rebellion, planet, space opera  "
      ]
     },
     "execution_count": 9,
     "metadata": {},
     "output_type": "execute_result"
    }
   ],
   "source": [
    "from fuzzywuzzy import process\n",
    "\n",
    "def find_movie(title):\n",
    "    all_titles = df[\"title\"].tolist()\n",
    "    closest_match = process.extractOne(title, all_titles)\n",
    "    matched_title = closest_match[0]\n",
    "    return df[df[\"title\"] == matched_title]\n",
    "\n",
    "find_movie(\"stare was\")"
   ]
  },
  {
   "cell_type": "markdown",
   "metadata": {},
   "source": [
    "## Preprocessing"
   ]
  },
  {
   "cell_type": "code",
   "execution_count": 14,
   "metadata": {},
   "outputs": [],
   "source": [
    "# repeat director 2, to get this column more weight\n",
    "df[\"combined\"] = (df[\"franchise\"].fillna(\"\") + \"; \" +\n",
    "                  df[\"director\"].fillna(\"\") + \"; \" +\n",
    "                  df[\"director\"].fillna(\"\") + \"; \" +\n",
    "                  df[\"franchise\"].fillna(\"\") + \"; \" +\n",
    "                  df[\"top_actors\"].fillna(\"\") + \"; \" +\n",
    "                  df[\"genres\"].fillna(\"\") + \"; \" +\n",
    "                  df[\"keywords\"].fillna(\"\"))"
   ]
  },
  {
   "cell_type": "code",
   "execution_count": 15,
   "metadata": {},
   "outputs": [
    {
     "data": {
      "text/html": [
       "<div>\n",
       "<style scoped>\n",
       "    .dataframe tbody tr th:only-of-type {\n",
       "        vertical-align: middle;\n",
       "    }\n",
       "\n",
       "    .dataframe tbody tr th {\n",
       "        vertical-align: top;\n",
       "    }\n",
       "\n",
       "    .dataframe thead th {\n",
       "        text-align: right;\n",
       "    }\n",
       "</style>\n",
       "<table border=\"1\" class=\"dataframe\">\n",
       "  <thead>\n",
       "    <tr style=\"text-align: right;\">\n",
       "      <th></th>\n",
       "      <th>title</th>\n",
       "      <th>release_date</th>\n",
       "      <th>combined</th>\n",
       "    </tr>\n",
       "    <tr>\n",
       "      <th>id</th>\n",
       "      <th></th>\n",
       "      <th></th>\n",
       "      <th></th>\n",
       "    </tr>\n",
       "  </thead>\n",
       "  <tbody>\n",
       "    <tr>\n",
       "      <th>1</th>\n",
       "      <td>Toy Story</td>\n",
       "      <td>1995-10-30</td>\n",
       "      <td>Toy Story; John Lasseter; John Lasseter; Toy Story; Tom Hanks, Tim Allen, Don Rickles; Animation, Comedy, Family; jealousy, toy, boy, friendship, friends</td>\n",
       "    </tr>\n",
       "    <tr>\n",
       "      <th>2</th>\n",
       "      <td>Jumanji</td>\n",
       "      <td>1995-12-15</td>\n",
       "      <td>; Joe Johnston; Joe Johnston; ; Robin Williams, Jonathan Hyde, Kirsten Dunst; Adventure, Family, Fantasy; disappearance, based on children's book</td>\n",
       "    </tr>\n",
       "    <tr>\n",
       "      <th>3</th>\n",
       "      <td>Grumpier Old Men</td>\n",
       "      <td>1995-12-22</td>\n",
       "      <td>Grumpy Old Men; Howard Deutch; Howard Deutch; Grumpy Old Men; Walter Matthau, Jack Lemmon, Ann-Margret; Comedy, Romance; fishing, best friend, duringcreditsstinger</td>\n",
       "    </tr>\n",
       "    <tr>\n",
       "      <th>4</th>\n",
       "      <td>Father of the Bride Part II</td>\n",
       "      <td>1995-02-10</td>\n",
       "      <td>Father of the Bride; Charles Shyer; Charles Shyer; Father of the Bride; Steve Martin, Diane Keaton, Martin Short; Comedy; baby, midlife crisis, confidence, aging, daughter</td>\n",
       "    </tr>\n",
       "    <tr>\n",
       "      <th>5</th>\n",
       "      <td>Heat</td>\n",
       "      <td>1995-12-15</td>\n",
       "      <td>; Michael Mann; Michael Mann; ; Al Pacino, Robert De Niro, Val Kilmer; Action, Crime, Drama, Thriller; robbery, detective, bank, obsession, chase</td>\n",
       "    </tr>\n",
       "    <tr>\n",
       "      <th>6</th>\n",
       "      <td>Sabrina</td>\n",
       "      <td>1995-12-15</td>\n",
       "      <td>; Sydney Pollack; Sydney Pollack; ; Harrison Ford, Julia Ormond, Greg Kinnear; Comedy, Romance; paris, brother brother relationship, millionaire</td>\n",
       "    </tr>\n",
       "    <tr>\n",
       "      <th>7</th>\n",
       "      <td>Tom and Huck</td>\n",
       "      <td>1995-12-22</td>\n",
       "      <td>; Peter Hewitt; Peter Hewitt; ; Jonathan Taylor Thomas, Brad Renfro, Rachael Leigh Cook; Action, Adventure, Drama, Family;</td>\n",
       "    </tr>\n",
       "    <tr>\n",
       "      <th>8</th>\n",
       "      <td>Sudden Death</td>\n",
       "      <td>1995-12-22</td>\n",
       "      <td>; Peter Hyams; Peter Hyams; ; Jean-Claude Van Damme, Powers Boothe, Dorian Harewood; Action, Adventure, Thriller; terrorist, hostage, explosive</td>\n",
       "    </tr>\n",
       "    <tr>\n",
       "      <th>9</th>\n",
       "      <td>GoldenEye</td>\n",
       "      <td>1995-11-16</td>\n",
       "      <td>James Bond; Martin Campbell; Martin Campbell; James Bond; Pierce Brosnan, Sean Bean, Izabella Scorupco; Action, Adventure, Thriller; cuba, falsely accused, secret identity, computer virus, secret intelligence service</td>\n",
       "    </tr>\n",
       "    <tr>\n",
       "      <th>10</th>\n",
       "      <td>The American President</td>\n",
       "      <td>1995-11-17</td>\n",
       "      <td>; Rob Reiner; Rob Reiner; ; Michael Douglas, Annette Bening, Michael J. Fox; Comedy, Drama, Romance; white house, usa president, new love, widower</td>\n",
       "    </tr>\n",
       "  </tbody>\n",
       "</table>\n",
       "</div>"
      ],
      "text/plain": [
       "                          title release_date  \\\n",
       "id                                             \n",
       "1                     Toy Story   1995-10-30   \n",
       "2                       Jumanji   1995-12-15   \n",
       "3              Grumpier Old Men   1995-12-22   \n",
       "4   Father of the Bride Part II   1995-02-10   \n",
       "5                          Heat   1995-12-15   \n",
       "6                       Sabrina   1995-12-15   \n",
       "7                  Tom and Huck   1995-12-22   \n",
       "8                  Sudden Death   1995-12-22   \n",
       "9                     GoldenEye   1995-11-16   \n",
       "10       The American President   1995-11-17   \n",
       "\n",
       "                                                                                                                                                                                                                    combined  \n",
       "id                                                                                                                                                                                                                            \n",
       "1                                                                  Toy Story; John Lasseter; John Lasseter; Toy Story; Tom Hanks, Tim Allen, Don Rickles; Animation, Comedy, Family; jealousy, toy, boy, friendship, friends  \n",
       "2                                                                          ; Joe Johnston; Joe Johnston; ; Robin Williams, Jonathan Hyde, Kirsten Dunst; Adventure, Family, Fantasy; disappearance, based on children's book  \n",
       "3                                                        Grumpy Old Men; Howard Deutch; Howard Deutch; Grumpy Old Men; Walter Matthau, Jack Lemmon, Ann-Margret; Comedy, Romance; fishing, best friend, duringcreditsstinger  \n",
       "4                                                Father of the Bride; Charles Shyer; Charles Shyer; Father of the Bride; Steve Martin, Diane Keaton, Martin Short; Comedy; baby, midlife crisis, confidence, aging, daughter  \n",
       "5                                                                          ; Michael Mann; Michael Mann; ; Al Pacino, Robert De Niro, Val Kilmer; Action, Crime, Drama, Thriller; robbery, detective, bank, obsession, chase  \n",
       "6                                                                           ; Sydney Pollack; Sydney Pollack; ; Harrison Ford, Julia Ormond, Greg Kinnear; Comedy, Romance; paris, brother brother relationship, millionaire  \n",
       "7                                                                                                ; Peter Hewitt; Peter Hewitt; ; Jonathan Taylor Thomas, Brad Renfro, Rachael Leigh Cook; Action, Adventure, Drama, Family;   \n",
       "8                                                                            ; Peter Hyams; Peter Hyams; ; Jean-Claude Van Damme, Powers Boothe, Dorian Harewood; Action, Adventure, Thriller; terrorist, hostage, explosive  \n",
       "9   James Bond; Martin Campbell; Martin Campbell; James Bond; Pierce Brosnan, Sean Bean, Izabella Scorupco; Action, Adventure, Thriller; cuba, falsely accused, secret identity, computer virus, secret intelligence service  \n",
       "10                                                                        ; Rob Reiner; Rob Reiner; ; Michael Douglas, Annette Bening, Michael J. Fox; Comedy, Drama, Romance; white house, usa president, new love, widower  "
      ]
     },
     "execution_count": 15,
     "metadata": {},
     "output_type": "execute_result"
    }
   ],
   "source": [
    "df[[\"title\", \"release_date\", \"combined\"]].head(10)"
   ]
  },
  {
   "cell_type": "code",
   "execution_count": 16,
   "metadata": {},
   "outputs": [],
   "source": [
    "import re\n",
    "import nltk\n",
    "\n",
    "def preprocess(text):\n",
    "    \"\"\"\n",
    "    Summary:\n",
    "        Preprocesses the input text by removing non-alphanumeric characters,\n",
    "        converting to lowercase, tokenizing, and filtering out stopwords.\n",
    "    Parameters:\n",
    "        text (str): Input text to be preprocessed.\n",
    "    Returns:\n",
    "        str: Preprocessed text\n",
    "    \"\"\"\n",
    "    # Handle NaN\n",
    "    if not isinstance(text, str):\n",
    "        return \"\"\n",
    "    # Remove non-alphanumeric characters, convert to lowercase, and \n",
    "    # strip leading/trailing whitespaces\n",
    "    text = re.sub(r\"[^0-9a-zA-Z\\s]\", \"\", text, re.I | re.A).lower().strip()\n",
    "    # Tokenize each sentence using WordPunctTokenizer from NLTK\n",
    "    wpt = nltk.WordPunctTokenizer() # Get the list of stopwords in English from NLTK\n",
    "    stop_words = nltk.corpus.stopwords.words(\"english\")\n",
    "    output = []\n",
    "    # Tokenize and filter out stopwords to create a new list of tokens\n",
    "    tokens = wpt.tokenize(text)\n",
    "    filtered_tokens = [token for token in tokens if token not in stop_words]\n",
    "    # Join the filtered tokens into a sentence. Then append it to the output list\n",
    "    output.append(\" \".join(filtered_tokens))\n",
    "    # Join all the processed sentences into a single text string\n",
    "    return \" \".join(output)\n",
    "\n",
    "df[\"preproc\"] = df[\"combined\"].apply(preprocess)"
   ]
  },
  {
   "cell_type": "code",
   "execution_count": 20,
   "metadata": {},
   "outputs": [
    {
     "data": {
      "text/plain": [
       "preproc\n",
       "pokmon kunihiko yuyama kunihiko yuyama pokmon veronica taylor rachael lillis maddie blaustein adventure animation family fantasy science fiction sequel pokmon                                       8\n",
       "jonathan frakes jonathan frakes jesse bradford paula garcs robin thomas adventure family science fiction thriller time airplane youth                                                                8\n",
       "jeanpierre melville jeanpierre melville alain delon franois prier nathalie delon crime drama thriller paris bar jazz hearing garage                                                                  8\n",
       "ruben stlund ruben stlund lisa loven kongsli johannes bah kuhnke clara wettergren comedy drama female nudity dark comedy family vacation avalanche running away                                      8\n",
       "ari folman ari folman robin wright harvey keitel jon hamm animation drama science fiction animation                                                                                                  8\n",
       "george clooney george clooney sam rockwell drew barrymore julia roberts comedy crime drama romance thriller biography silencer intrigue                                                              8\n",
       "apichatpong weerasethakul apichatpong weerasethakul jenjira pongpas banlop lomnoi jarinpattra rueangram drama fantasy cemetery river soldier illness sleeping                                        8\n",
       "pokmon michael haigney michael haigney pokmon veronica taylor rachael lillis eric stuart action adventure animation family fantasy mountain mountain village friendship based tv series young boy    8\n",
       "jeanjacques annaud jeanjacques annaud mark strong antonio banderas freida pinto adventure drama                                                                                                      8\n",
       "louis ck louis ck louis ck comedy standup comedy                                                                                                                                                     6\n",
       "massimo venier massimo venier aldo baglio giovanni storti giacomo poretti comedy                                                                                                                     4\n",
       "fantozzi neri parenti neri parenti fantozzi paolo villaggio milena vukotic plinio fernando comedy                                                                                                    3\n",
       "michael polish michael polish kate bosworth hayden christensen hudson meek drama hospital church                                                                                                     2\n",
       "yoav paz yoav paz tom graziani yael grobglas danielle jadelyn horror demon found footage                                                                                                             2\n",
       "william brent bell william brent bell lauren cohan rupert evans james russell horror mystery thriller suicide england fire country house shower                                                      2\n",
       "Name: count, dtype: int64"
      ]
     },
     "execution_count": 20,
     "metadata": {},
     "output_type": "execute_result"
    }
   ],
   "source": [
    "df[\"preproc\"].value_counts().head(15)"
   ]
  },
  {
   "cell_type": "code",
   "execution_count": 21,
   "metadata": {},
   "outputs": [
    {
     "data": {
      "text/plain": [
       "id\n",
       "1                                                                        toy story john lasseter john lasseter toy story tom hanks tim allen rickles animation comedy family jealousy toy boy friendship friends\n",
       "2                                                                               joe johnston joe johnston robin williams jonathan hyde kirsten dunst adventure family fantasy disappearance based childrens book\n",
       "3                                                        grumpy old men howard deutch howard deutch grumpy old men walter matthau jack lemmon annmargret comedy romance fishing best friend duringcreditsstinger\n",
       "4                                                              father bride charles shyer charles shyer father bride steve martin diane keaton martin short comedy baby midlife crisis confidence aging daughter\n",
       "5                                                                               michael mann michael mann al pacino robert de niro val kilmer action crime drama thriller robbery detective bank obsession chase\n",
       "6                                                                            sydney pollack sydney pollack harrison ford julia ormond greg kinnear comedy romance paris brother brother relationship millionaire\n",
       "7                                                                                                  peter hewitt peter hewitt jonathan taylor thomas brad renfro rachael leigh cook action adventure drama family\n",
       "8                                                                               peter hyams peter hyams jeanclaude van damme powers boothe dorian harewood action adventure thriller terrorist hostage explosive\n",
       "9     james bond martin campbell martin campbell james bond pierce brosnan sean bean izabella scorupco action adventure thriller cuba falsely accused secret identity computer virus secret intelligence service\n",
       "10                                                                            rob reiner rob reiner michael douglas annette bening michael j fox comedy drama romance white house usa president new love widower\n",
       "Name: preproc, dtype: object"
      ]
     },
     "execution_count": 21,
     "metadata": {},
     "output_type": "execute_result"
    }
   ],
   "source": [
    "df[\"preproc\"].head(10)"
   ]
  },
  {
   "cell_type": "code",
   "execution_count": null,
   "metadata": {},
   "outputs": [],
   "source": [
    "from sklearn.feature_extraction.text import CountVectorizer\n",
    "\n",
    "def get_matrix(df):\n",
    "    # repeat director 2, to get this column more weight\n",
    "    df[\"combined\"] = (df[\"franchise\"].fillna(\"\") + \"; \" +\n",
    "                    df[\"director\"].fillna(\"\") + \"; \" +\n",
    "                    df[\"director\"].fillna(\"\") + \"; \" +\n",
    "                    df[\"franchise\"].fillna(\"\") + \"; \" +\n",
    "                    df[\"top_actors\"].fillna(\"\") + \"; \" +\n",
    "                    df[\"genres\"].fillna(\"\") + \"; \" +\n",
    "                    df[\"keywords\"].fillna(\"\"))\n",
    "    df[\"preproc\"] = df[\"combined\"].apply(preprocess)\n",
    "    cv = CountVectorizer()\n",
    "    cv_matrix = cv.fit_transform(df[\"preproc\"])\n",
    "    return cv_matrix\n"
   ]
  },
  {
   "cell_type": "markdown",
   "metadata": {},
   "source": [
    "## Recommender"
   ]
  },
  {
   "cell_type": "code",
   "execution_count": 23,
   "metadata": {},
   "outputs": [],
   "source": [
    "from sklearn.feature_extraction.text import CountVectorizer\n",
    "\n",
    "cv = CountVectorizer()\n",
    "cv_matrix = cv.fit_transform(df[\"preproc\"])"
   ]
  },
  {
   "cell_type": "code",
   "execution_count": 24,
   "metadata": {},
   "outputs": [
    {
     "data": {
      "text/plain": [
       "<10513x16934 sparse matrix of type '<class 'numpy.int64'>'\n",
       "\twith 156466 stored elements in Compressed Sparse Row format>"
      ]
     },
     "execution_count": 24,
     "metadata": {},
     "output_type": "execute_result"
    }
   ],
   "source": [
    "cv_matrix"
   ]
  },
  {
   "cell_type": "code",
   "execution_count": 24,
   "metadata": {},
   "outputs": [
    {
     "data": {
      "text/plain": [
       "<15800x29604 sparse matrix of type '<class 'numpy.int64'>'\n",
       "\twith 304761 stored elements in Compressed Sparse Row format>"
      ]
     },
     "execution_count": 24,
     "metadata": {},
     "output_type": "execute_result"
    }
   ],
   "source": [
    "cv_matrix"
   ]
  },
  {
   "cell_type": "code",
   "execution_count": 25,
   "metadata": {},
   "outputs": [],
   "source": [
    "from sklearn.metrics.pairwise import cosine_similarity\n",
    "\n",
    "cosine_sim = cosine_similarity(cv_matrix, cv_matrix)"
   ]
  },
  {
   "cell_type": "code",
   "execution_count": 26,
   "metadata": {},
   "outputs": [
    {
     "data": {
      "text/plain": [
       "array([[1.        , 0.03798686, 0.03126527, ..., 0.0362977 , 0.13055824,\n",
       "        0.04351941],\n",
       "       [0.03798686, 1.        , 0.        , ..., 0.        , 0.05455447,\n",
       "        0.        ],\n",
       "       [0.03126527, 0.        , 1.        , ..., 0.03745029, 0.08980265,\n",
       "        0.04490133],\n",
       "       ...,\n",
       "       [0.0362977 , 0.        , 0.03745029, ..., 1.        , 0.0521286 ,\n",
       "        0.0521286 ],\n",
       "       [0.13055824, 0.05455447, 0.08980265, ..., 0.0521286 , 1.        ,\n",
       "        0.0625    ],\n",
       "       [0.04351941, 0.        , 0.04490133, ..., 0.0521286 , 0.0625    ,\n",
       "        1.        ]])"
      ]
     },
     "execution_count": 26,
     "metadata": {},
     "output_type": "execute_result"
    }
   ],
   "source": [
    "cosine_sim"
   ]
  },
  {
   "cell_type": "code",
   "execution_count": 32,
   "metadata": {},
   "outputs": [
    {
     "data": {
      "text/html": [
       "<div>\n",
       "<style scoped>\n",
       "    .dataframe tbody tr th:only-of-type {\n",
       "        vertical-align: middle;\n",
       "    }\n",
       "\n",
       "    .dataframe tbody tr th {\n",
       "        vertical-align: top;\n",
       "    }\n",
       "\n",
       "    .dataframe thead th {\n",
       "        text-align: right;\n",
       "    }\n",
       "</style>\n",
       "<table border=\"1\" class=\"dataframe\">\n",
       "  <thead>\n",
       "    <tr style=\"text-align: right;\">\n",
       "      <th></th>\n",
       "      <th>title</th>\n",
       "      <th>franchise</th>\n",
       "      <th>release_date</th>\n",
       "      <th>runtime</th>\n",
       "      <th>genres</th>\n",
       "      <th>budget</th>\n",
       "      <th>revenue</th>\n",
       "      <th>popularity</th>\n",
       "      <th>vote_average</th>\n",
       "      <th>vote_count</th>\n",
       "      <th>director</th>\n",
       "      <th>top_actors</th>\n",
       "      <th>keywords</th>\n",
       "      <th>combined</th>\n",
       "      <th>preproc</th>\n",
       "    </tr>\n",
       "    <tr>\n",
       "      <th>id</th>\n",
       "      <th></th>\n",
       "      <th></th>\n",
       "      <th></th>\n",
       "      <th></th>\n",
       "      <th></th>\n",
       "      <th></th>\n",
       "      <th></th>\n",
       "      <th></th>\n",
       "      <th></th>\n",
       "      <th></th>\n",
       "      <th></th>\n",
       "      <th></th>\n",
       "      <th></th>\n",
       "      <th></th>\n",
       "      <th></th>\n",
       "    </tr>\n",
       "  </thead>\n",
       "  <tbody>\n",
       "    <tr>\n",
       "      <th>153</th>\n",
       "      <td>Star Wars</td>\n",
       "      <td>Star Wars</td>\n",
       "      <td>1977-05-25</td>\n",
       "      <td>121</td>\n",
       "      <td>Action, Adventure, Science Fiction</td>\n",
       "      <td>11.0</td>\n",
       "      <td>775.4</td>\n",
       "      <td>42.15</td>\n",
       "      <td>8.1</td>\n",
       "      <td>6778</td>\n",
       "      <td>George Lucas</td>\n",
       "      <td>Mark Hamill, Harrison Ford, Carrie Fisher</td>\n",
       "      <td>android, rescue mission, rebellion, planet, space opera</td>\n",
       "      <td>Star Wars; George Lucas; George Lucas; Star Wars; Mark Hamill, Harrison Ford, Carrie Fisher; Action, Adventure, Science Fiction; android, rescue mission, rebellion, planet, space opera</td>\n",
       "      <td>star wars george lucas george lucas star wars mark hamill harrison ford carrie fisher action adventure science fiction android rescue mission rebellion planet space opera</td>\n",
       "    </tr>\n",
       "  </tbody>\n",
       "</table>\n",
       "</div>"
      ],
      "text/plain": [
       "         title  franchise release_date  runtime  \\\n",
       "id                                                \n",
       "153  Star Wars  Star Wars   1977-05-25      121   \n",
       "\n",
       "                                 genres  budget  revenue  popularity  \\\n",
       "id                                                                     \n",
       "153  Action, Adventure, Science Fiction    11.0    775.4       42.15   \n",
       "\n",
       "     vote_average  vote_count      director  \\\n",
       "id                                            \n",
       "153           8.1        6778  George Lucas   \n",
       "\n",
       "                                    top_actors  \\\n",
       "id                                               \n",
       "153  Mark Hamill, Harrison Ford, Carrie Fisher   \n",
       "\n",
       "                                                    keywords  \\\n",
       "id                                                             \n",
       "153  android, rescue mission, rebellion, planet, space opera   \n",
       "\n",
       "                                                                                                                                                                                     combined  \\\n",
       "id                                                                                                                                                                                              \n",
       "153  Star Wars; George Lucas; George Lucas; Star Wars; Mark Hamill, Harrison Ford, Carrie Fisher; Action, Adventure, Science Fiction; android, rescue mission, rebellion, planet, space opera   \n",
       "\n",
       "                                                                                                                                                                        preproc  \n",
       "id                                                                                                                                                                               \n",
       "153  star wars george lucas george lucas star wars mark hamill harrison ford carrie fisher action adventure science fiction android rescue mission rebellion planet space opera  "
      ]
     },
     "execution_count": 32,
     "metadata": {},
     "output_type": "execute_result"
    }
   ],
   "source": [
    "find_movie(\"stare was \")"
   ]
  },
  {
   "cell_type": "code",
   "execution_count": 33,
   "metadata": {},
   "outputs": [],
   "source": [
    "idx = 153-1 # I prepared my data for SQL database with index starting from 1 while in pandas dataframes index starts from 0. Thus, subtract 1\n",
    "n_recommendations = 7\n",
    "sim_scores = list(enumerate(cosine_sim[idx]))\n",
    "sim_scores = sorted(sim_scores, key=lambda x: x[1], reverse=True)\n",
    "sim_scores = sim_scores[1:(n_recommendations+1)]\n",
    "similar_movies = [i[0] for i in sim_scores]"
   ]
  },
  {
   "cell_type": "code",
   "execution_count": 34,
   "metadata": {},
   "outputs": [
    {
     "data": {
      "text/plain": [
       "title                                                                                                                                                                                          Star Wars\n",
       "franchise                                                                                                                                                                                      Star Wars\n",
       "release_date                                                                                                                                                                                  1977-05-25\n",
       "runtime                                                                                                                                                                                              121\n",
       "genres                                                                                                                                                                Action, Adventure, Science Fiction\n",
       "budget                                                                                                                                                                                              11.0\n",
       "revenue                                                                                                                                                                                            775.4\n",
       "popularity                                                                                                                                                                                         42.15\n",
       "vote_average                                                                                                                                                                                         8.1\n",
       "vote_count                                                                                                                                                                                          6778\n",
       "director                                                                                                                                                                                    George Lucas\n",
       "top_actors                                                                                                                                                     Mark Hamill, Harrison Ford, Carrie Fisher\n",
       "keywords                                                                                                                                         android, rescue mission, rebellion, planet, space opera\n",
       "combined        Star Wars; George Lucas; George Lucas; Star Wars; Mark Hamill, Harrison Ford, Carrie Fisher; Action, Adventure, Science Fiction; android, rescue mission, rebellion, planet, space opera\n",
       "preproc                       star wars george lucas george lucas star wars mark hamill harrison ford carrie fisher action adventure science fiction android rescue mission rebellion planet space opera\n",
       "Name: 153, dtype: object"
      ]
     },
     "execution_count": 34,
     "metadata": {},
     "output_type": "execute_result"
    }
   ],
   "source": [
    "df.iloc[idx]"
   ]
  },
  {
   "cell_type": "code",
   "execution_count": 35,
   "metadata": {},
   "outputs": [
    {
     "data": {
      "text/plain": [
       "[(1439, 0.699205898780101),\n",
       " (2804, 0.6770032003863301),\n",
       " (4416, 0.6770032003863301),\n",
       " (615, 0.6060606060606062),\n",
       " (628, 0.5296408977028497),\n",
       " (8508, 0.4545454545454546),\n",
       " (10153, 0.4000473456828314)]"
      ]
     },
     "execution_count": 35,
     "metadata": {},
     "output_type": "execute_result"
    }
   ],
   "source": [
    "sim_scores"
   ]
  },
  {
   "cell_type": "code",
   "execution_count": 73,
   "metadata": {},
   "outputs": [
    {
     "data": {
      "text/plain": [
       "[(3889, 0.6776439986371079),\n",
       " (4590, 0.6382847385042256),\n",
       " (10221, 0.5984437489312764),\n",
       " (10920, 0.5556623828915214),\n",
       " (11939, 0.5172935265326568),\n",
       " (814, 0.34694433324435536),\n",
       " (8447, 0.2974059387397313)]"
      ]
     },
     "execution_count": 73,
     "metadata": {},
     "output_type": "execute_result"
    }
   ],
   "source": [
    "sim_scores"
   ]
  },
  {
   "cell_type": "code",
   "execution_count": 68,
   "metadata": {},
   "outputs": [
    {
     "data": {
      "text/plain": [
       "[(7309, 0.3806934938134405),\n",
       " (597, 0.3651483716701107),\n",
       " (5351, 0.3651483716701107),\n",
       " (606, 0.3496029493900505),\n",
       " (2472, 0.34503277967117707),\n",
       " (1200, 0.29211869733608864),\n",
       " (15346, 0.271746488194703)]"
      ]
     },
     "execution_count": 68,
     "metadata": {},
     "output_type": "execute_result"
    }
   ],
   "source": [
    "sim_scores"
   ]
  },
  {
   "cell_type": "code",
   "execution_count": 36,
   "metadata": {},
   "outputs": [
    {
     "name": "stdout",
     "output_type": "stream",
     "text": [
      "Because you watched Star Wars:\n"
     ]
    },
    {
     "data": {
      "text/html": [
       "<div>\n",
       "<style scoped>\n",
       "    .dataframe tbody tr th:only-of-type {\n",
       "        vertical-align: middle;\n",
       "    }\n",
       "\n",
       "    .dataframe tbody tr th {\n",
       "        vertical-align: top;\n",
       "    }\n",
       "\n",
       "    .dataframe thead th {\n",
       "        text-align: right;\n",
       "    }\n",
       "</style>\n",
       "<table border=\"1\" class=\"dataframe\">\n",
       "  <thead>\n",
       "    <tr style=\"text-align: right;\">\n",
       "      <th></th>\n",
       "      <th>title</th>\n",
       "      <th>release_date</th>\n",
       "      <th>genres</th>\n",
       "      <th>popularity</th>\n",
       "      <th>vote_average</th>\n",
       "      <th>vote_count</th>\n",
       "      <th>director</th>\n",
       "      <th>top_actors</th>\n",
       "      <th>keywords</th>\n",
       "    </tr>\n",
       "    <tr>\n",
       "      <th>id</th>\n",
       "      <th></th>\n",
       "      <th></th>\n",
       "      <th></th>\n",
       "      <th></th>\n",
       "      <th></th>\n",
       "      <th></th>\n",
       "      <th></th>\n",
       "      <th></th>\n",
       "      <th></th>\n",
       "    </tr>\n",
       "  </thead>\n",
       "  <tbody>\n",
       "    <tr>\n",
       "      <th>1440</th>\n",
       "      <td>Star Wars: Episode I - The Phantom Menace</td>\n",
       "      <td>1999-05-19</td>\n",
       "      <td>Action, Adventure, Science Fiction</td>\n",
       "      <td>15.65</td>\n",
       "      <td>6.4</td>\n",
       "      <td>4526</td>\n",
       "      <td>George Lucas</td>\n",
       "      <td>Liam Neeson, Ewan McGregor, Natalie Portman</td>\n",
       "      <td>prophecy, queen, space opera</td>\n",
       "    </tr>\n",
       "    <tr>\n",
       "      <th>2805</th>\n",
       "      <td>Star Wars: Episode II - Attack of the Clones</td>\n",
       "      <td>2002-05-15</td>\n",
       "      <td>Action, Adventure, Science Fiction</td>\n",
       "      <td>14.07</td>\n",
       "      <td>6.4</td>\n",
       "      <td>4074</td>\n",
       "      <td>George Lucas</td>\n",
       "      <td>Ewan McGregor, Natalie Portman, Hayden Christensen</td>\n",
       "      <td>investigation, army, wedding, violence, space opera</td>\n",
       "    </tr>\n",
       "    <tr>\n",
       "      <th>4417</th>\n",
       "      <td>Star Wars: Episode III - Revenge of the Sith</td>\n",
       "      <td>2005-05-17</td>\n",
       "      <td>Action, Adventure, Science Fiction</td>\n",
       "      <td>13.17</td>\n",
       "      <td>7.1</td>\n",
       "      <td>4200</td>\n",
       "      <td>George Lucas</td>\n",
       "      <td>Ewan McGregor, Natalie Portman, Hayden Christensen</td>\n",
       "      <td>showdown, vision, dream sequence, space opera</td>\n",
       "    </tr>\n",
       "    <tr>\n",
       "      <th>616</th>\n",
       "      <td>The Empire Strikes Back</td>\n",
       "      <td>1980-05-17</td>\n",
       "      <td>Action, Adventure, Science Fiction</td>\n",
       "      <td>19.47</td>\n",
       "      <td>8.2</td>\n",
       "      <td>5998</td>\n",
       "      <td>Irvin Kershner</td>\n",
       "      <td>Mark Hamill, Harrison Ford, Carrie Fisher</td>\n",
       "      <td>rebel, android, spaceship, good vs evil, rebellion</td>\n",
       "    </tr>\n",
       "    <tr>\n",
       "      <th>629</th>\n",
       "      <td>Return of the Jedi</td>\n",
       "      <td>1983-05-23</td>\n",
       "      <td>Action, Adventure, Science Fiction</td>\n",
       "      <td>14.59</td>\n",
       "      <td>7.9</td>\n",
       "      <td>4763</td>\n",
       "      <td>Richard Marquand</td>\n",
       "      <td>Mark Hamill, Harrison Ford, Carrie Fisher</td>\n",
       "      <td>rebel, brother sister relationship, emperor, matter of life and death, spaceship</td>\n",
       "    </tr>\n",
       "    <tr>\n",
       "      <th>8509</th>\n",
       "      <td>Star Wars: The Force Awakens</td>\n",
       "      <td>2015-12-15</td>\n",
       "      <td>Action, Adventure, Fantasy, Science Fiction</td>\n",
       "      <td>31.63</td>\n",
       "      <td>7.5</td>\n",
       "      <td>7993</td>\n",
       "      <td>J.J. Abrams</td>\n",
       "      <td>Daisy Ridley, John Boyega, Adam Driver</td>\n",
       "      <td>android, spaceship, imax, space opera, 3d</td>\n",
       "    </tr>\n",
       "    <tr>\n",
       "      <th>10154</th>\n",
       "      <td>Rogue One: A Star Wars Story</td>\n",
       "      <td>2016-12-14</td>\n",
       "      <td>Action, Adventure, Science Fiction</td>\n",
       "      <td>36.57</td>\n",
       "      <td>7.4</td>\n",
       "      <td>5111</td>\n",
       "      <td>Gareth Edwards</td>\n",
       "      <td>Felicity Jones, Diego Luna, Ben Mendelsohn</td>\n",
       "      <td>rebel, space travel, war, prequel, spaceship</td>\n",
       "    </tr>\n",
       "  </tbody>\n",
       "</table>\n",
       "</div>"
      ],
      "text/plain": [
       "                                              title release_date  \\\n",
       "id                                                                 \n",
       "1440      Star Wars: Episode I - The Phantom Menace   1999-05-19   \n",
       "2805   Star Wars: Episode II - Attack of the Clones   2002-05-15   \n",
       "4417   Star Wars: Episode III - Revenge of the Sith   2005-05-17   \n",
       "616                         The Empire Strikes Back   1980-05-17   \n",
       "629                              Return of the Jedi   1983-05-23   \n",
       "8509                   Star Wars: The Force Awakens   2015-12-15   \n",
       "10154                  Rogue One: A Star Wars Story   2016-12-14   \n",
       "\n",
       "                                            genres  popularity  vote_average  \\\n",
       "id                                                                             \n",
       "1440            Action, Adventure, Science Fiction       15.65           6.4   \n",
       "2805            Action, Adventure, Science Fiction       14.07           6.4   \n",
       "4417            Action, Adventure, Science Fiction       13.17           7.1   \n",
       "616             Action, Adventure, Science Fiction       19.47           8.2   \n",
       "629             Action, Adventure, Science Fiction       14.59           7.9   \n",
       "8509   Action, Adventure, Fantasy, Science Fiction       31.63           7.5   \n",
       "10154           Action, Adventure, Science Fiction       36.57           7.4   \n",
       "\n",
       "       vote_count          director  \\\n",
       "id                                    \n",
       "1440         4526      George Lucas   \n",
       "2805         4074      George Lucas   \n",
       "4417         4200      George Lucas   \n",
       "616          5998    Irvin Kershner   \n",
       "629          4763  Richard Marquand   \n",
       "8509         7993       J.J. Abrams   \n",
       "10154        5111    Gareth Edwards   \n",
       "\n",
       "                                               top_actors  \\\n",
       "id                                                          \n",
       "1440          Liam Neeson, Ewan McGregor, Natalie Portman   \n",
       "2805   Ewan McGregor, Natalie Portman, Hayden Christensen   \n",
       "4417   Ewan McGregor, Natalie Portman, Hayden Christensen   \n",
       "616             Mark Hamill, Harrison Ford, Carrie Fisher   \n",
       "629             Mark Hamill, Harrison Ford, Carrie Fisher   \n",
       "8509               Daisy Ridley, John Boyega, Adam Driver   \n",
       "10154          Felicity Jones, Diego Luna, Ben Mendelsohn   \n",
       "\n",
       "                                                                               keywords  \n",
       "id                                                                                       \n",
       "1440                                                       prophecy, queen, space opera  \n",
       "2805                                investigation, army, wedding, violence, space opera  \n",
       "4417                                      showdown, vision, dream sequence, space opera  \n",
       "616                                  rebel, android, spaceship, good vs evil, rebellion  \n",
       "629    rebel, brother sister relationship, emperor, matter of life and death, spaceship  \n",
       "8509                                          android, spaceship, imax, space opera, 3d  \n",
       "10154                                      rebel, space travel, war, prequel, spaceship  "
      ]
     },
     "execution_count": 36,
     "metadata": {},
     "output_type": "execute_result"
    }
   ],
   "source": [
    "print(f\"Because you watched {df['title'].iloc[idx]}, you might like:\")\n",
    "df[[\"title\", \"release_date\", \"genres\", \"popularity\", \"vote_average\", \"vote_count\", \"director\", \"top_actors\", \"keywords\"]].iloc[similar_movies]"
   ]
  },
  {
   "cell_type": "code",
   "execution_count": 74,
   "metadata": {},
   "outputs": [
    {
     "name": "stdout",
     "output_type": "stream",
     "text": [
      "Because you watched The Lord of the Rings: The Fellowship of the Ring:\n"
     ]
    },
    {
     "data": {
      "text/html": [
       "<div>\n",
       "<style scoped>\n",
       "    .dataframe tbody tr th:only-of-type {\n",
       "        vertical-align: middle;\n",
       "    }\n",
       "\n",
       "    .dataframe tbody tr th {\n",
       "        vertical-align: top;\n",
       "    }\n",
       "\n",
       "    .dataframe thead th {\n",
       "        text-align: right;\n",
       "    }\n",
       "</style>\n",
       "<table border=\"1\" class=\"dataframe\">\n",
       "  <thead>\n",
       "    <tr style=\"text-align: right;\">\n",
       "      <th></th>\n",
       "      <th>title</th>\n",
       "      <th>release_date</th>\n",
       "      <th>genres</th>\n",
       "      <th>popularity</th>\n",
       "      <th>vote_average</th>\n",
       "      <th>vote_count</th>\n",
       "      <th>director</th>\n",
       "      <th>top_actors</th>\n",
       "      <th>keywords</th>\n",
       "    </tr>\n",
       "    <tr>\n",
       "      <th>id</th>\n",
       "      <th></th>\n",
       "      <th></th>\n",
       "      <th></th>\n",
       "      <th></th>\n",
       "      <th></th>\n",
       "      <th></th>\n",
       "      <th></th>\n",
       "      <th></th>\n",
       "      <th></th>\n",
       "    </tr>\n",
       "  </thead>\n",
       "  <tbody>\n",
       "    <tr>\n",
       "      <th>3890</th>\n",
       "      <td>The Lord of the Rings: The Two Towers</td>\n",
       "      <td>2002-12-18</td>\n",
       "      <td>Action, Adventure, Fantasy</td>\n",
       "      <td>29.42</td>\n",
       "      <td>8.0</td>\n",
       "      <td>7641</td>\n",
       "      <td>Peter Jackson</td>\n",
       "      <td>Elijah Wood, Ian McKellen, Viggo Mortensen, Liv Tyler, Orlando Bloom</td>\n",
       "      <td>elves, based on novel, explosive, cave, army, mission, attack, wizard, sword and sorcery</td>\n",
       "    </tr>\n",
       "    <tr>\n",
       "      <th>4591</th>\n",
       "      <td>The Lord of the Rings: The Return of the King</td>\n",
       "      <td>2003-12-01</td>\n",
       "      <td>Action, Adventure, Fantasy</td>\n",
       "      <td>29.32</td>\n",
       "      <td>8.1</td>\n",
       "      <td>8226</td>\n",
       "      <td>Peter Jackson</td>\n",
       "      <td>Elijah Wood, Ian McKellen, Viggo Mortensen, Liv Tyler, Orlando Bloom</td>\n",
       "      <td>elves, based on novel, suspicion, bravery, war, honor, brutality, violence, ghost, sword and sorcery</td>\n",
       "    </tr>\n",
       "    <tr>\n",
       "      <th>10222</th>\n",
       "      <td>The Hobbit: An Unexpected Journey</td>\n",
       "      <td>2012-11-26</td>\n",
       "      <td>Action, Adventure, Fantasy</td>\n",
       "      <td>23.25</td>\n",
       "      <td>7.0</td>\n",
       "      <td>8427</td>\n",
       "      <td>Peter Jackson</td>\n",
       "      <td>Ian McKellen, Martin Freeman, Richard Armitage, Andy Serkis, Cate Blanchett</td>\n",
       "      <td>riddle, elves, dwarves, mountain, wizard, journey, tunnel</td>\n",
       "    </tr>\n",
       "    <tr>\n",
       "      <th>10921</th>\n",
       "      <td>The Hobbit: The Desolation of Smaug</td>\n",
       "      <td>2013-12-11</td>\n",
       "      <td>Adventure, Fantasy</td>\n",
       "      <td>20.64</td>\n",
       "      <td>7.6</td>\n",
       "      <td>4633</td>\n",
       "      <td>Peter Jackson</td>\n",
       "      <td>Martin Freeman, Ian McKellen, Richard Armitage, Ken Stott, Graham McTavish</td>\n",
       "      <td>elves, dwarves, dragon, wizard, sword and sorcery</td>\n",
       "    </tr>\n",
       "    <tr>\n",
       "      <th>11940</th>\n",
       "      <td>The Hobbit: The Battle of the Five Armies</td>\n",
       "      <td>2014-12-10</td>\n",
       "      <td>Action, Adventure, Fantasy</td>\n",
       "      <td>31.72</td>\n",
       "      <td>7.1</td>\n",
       "      <td>4884</td>\n",
       "      <td>Peter Jackson</td>\n",
       "      <td>Martin Freeman, Ian McKellen, Richard Armitage, Ken Stott, Graham McTavish</td>\n",
       "      <td>corruption, elves, dwarves, dragon, battle, unlikely friendship, sword and sorcery</td>\n",
       "    </tr>\n",
       "    <tr>\n",
       "      <th>815</th>\n",
       "      <td>Bad Taste</td>\n",
       "      <td>1987-12-01</td>\n",
       "      <td>Action, Comedy, Horror, Science Fiction</td>\n",
       "      <td>7.41</td>\n",
       "      <td>6.4</td>\n",
       "      <td>196</td>\n",
       "      <td>Peter Jackson</td>\n",
       "      <td>Terry Potter, Pete O'Herne, Craig Smith, Mike Minett, Peter Jackson</td>\n",
       "      <td>new zealand, gore, cult favorite, chainsaw, axe murder</td>\n",
       "    </tr>\n",
       "    <tr>\n",
       "      <th>8448</th>\n",
       "      <td>The Lovely Bones</td>\n",
       "      <td>2009-12-26</td>\n",
       "      <td>Drama, Fantasy</td>\n",
       "      <td>12.74</td>\n",
       "      <td>6.6</td>\n",
       "      <td>1101</td>\n",
       "      <td>Peter Jackson</td>\n",
       "      <td>Rachel Weisz, Mark Wahlberg, Susan Sarandon, Saoirse Ronan, Stanley Tucci</td>\n",
       "      <td>rape, 1970s, evidence, tree, afterlife, loss of daughter, serial killer, corpse, pedophile, teenage love, grieving, based on young adult novel</td>\n",
       "    </tr>\n",
       "  </tbody>\n",
       "</table>\n",
       "</div>"
      ],
      "text/plain": [
       "                                               title release_date  \\\n",
       "id                                                                  \n",
       "3890           The Lord of the Rings: The Two Towers   2002-12-18   \n",
       "4591   The Lord of the Rings: The Return of the King   2003-12-01   \n",
       "10222              The Hobbit: An Unexpected Journey   2012-11-26   \n",
       "10921            The Hobbit: The Desolation of Smaug   2013-12-11   \n",
       "11940      The Hobbit: The Battle of the Five Armies   2014-12-10   \n",
       "815                                        Bad Taste   1987-12-01   \n",
       "8448                                The Lovely Bones   2009-12-26   \n",
       "\n",
       "                                        genres  popularity  vote_average  \\\n",
       "id                                                                         \n",
       "3890                Action, Adventure, Fantasy       29.42           8.0   \n",
       "4591                Action, Adventure, Fantasy       29.32           8.1   \n",
       "10222               Action, Adventure, Fantasy       23.25           7.0   \n",
       "10921                       Adventure, Fantasy       20.64           7.6   \n",
       "11940               Action, Adventure, Fantasy       31.72           7.1   \n",
       "815    Action, Comedy, Horror, Science Fiction        7.41           6.4   \n",
       "8448                            Drama, Fantasy       12.74           6.6   \n",
       "\n",
       "       vote_count       director  \\\n",
       "id                                 \n",
       "3890         7641  Peter Jackson   \n",
       "4591         8226  Peter Jackson   \n",
       "10222        8427  Peter Jackson   \n",
       "10921        4633  Peter Jackson   \n",
       "11940        4884  Peter Jackson   \n",
       "815           196  Peter Jackson   \n",
       "8448         1101  Peter Jackson   \n",
       "\n",
       "                                                                        top_actors  \\\n",
       "id                                                                                   \n",
       "3890          Elijah Wood, Ian McKellen, Viggo Mortensen, Liv Tyler, Orlando Bloom   \n",
       "4591          Elijah Wood, Ian McKellen, Viggo Mortensen, Liv Tyler, Orlando Bloom   \n",
       "10222  Ian McKellen, Martin Freeman, Richard Armitage, Andy Serkis, Cate Blanchett   \n",
       "10921   Martin Freeman, Ian McKellen, Richard Armitage, Ken Stott, Graham McTavish   \n",
       "11940   Martin Freeman, Ian McKellen, Richard Armitage, Ken Stott, Graham McTavish   \n",
       "815            Terry Potter, Pete O'Herne, Craig Smith, Mike Minett, Peter Jackson   \n",
       "8448     Rachel Weisz, Mark Wahlberg, Susan Sarandon, Saoirse Ronan, Stanley Tucci   \n",
       "\n",
       "                                                                                                                                             keywords  \n",
       "id                                                                                                                                                     \n",
       "3890                                                         elves, based on novel, explosive, cave, army, mission, attack, wizard, sword and sorcery  \n",
       "4591                                             elves, based on novel, suspicion, bravery, war, honor, brutality, violence, ghost, sword and sorcery  \n",
       "10222                                                                                       riddle, elves, dwarves, mountain, wizard, journey, tunnel  \n",
       "10921                                                                                               elves, dwarves, dragon, wizard, sword and sorcery  \n",
       "11940                                                              corruption, elves, dwarves, dragon, battle, unlikely friendship, sword and sorcery  \n",
       "815                                                                                            new zealand, gore, cult favorite, chainsaw, axe murder  \n",
       "8448   rape, 1970s, evidence, tree, afterlife, loss of daughter, serial killer, corpse, pedophile, teenage love, grieving, based on young adult novel  "
      ]
     },
     "execution_count": 74,
     "metadata": {},
     "output_type": "execute_result"
    }
   ],
   "source": [
    "print(f\"Because you watched {df['title'].iloc[idx]}:\")\n",
    "df[[\"title\", \"release_date\", \"genres\", \"popularity\", \"vote_average\", \"vote_count\", \"director\", \"top_actors\", \"keywords\"]].iloc[similar_movies]"
   ]
  }
 ],
 "metadata": {
  "kernelspec": {
   "display_name": "Python 3",
   "language": "python",
   "name": "python3"
  },
  "language_info": {
   "codemirror_mode": {
    "name": "ipython",
    "version": 3
   },
   "file_extension": ".py",
   "mimetype": "text/x-python",
   "name": "python",
   "nbconvert_exporter": "python",
   "pygments_lexer": "ipython3",
   "version": "3.10.2"
  },
  "orig_nbformat": 4,
  "vscode": {
   "interpreter": {
    "hash": "372546374ee67f23bce4863fdb45197b8301cd73a13a929f5ade301179cf3c81"
   }
  }
 },
 "nbformat": 4,
 "nbformat_minor": 2
}
